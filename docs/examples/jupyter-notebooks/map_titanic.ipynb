{
 "cells": [
  {
   "cell_type": "markdown",
   "metadata": {},
   "source": [
    "<em><sub>This page is available as an executable or viewable <strong>Jupyter Notebook</strong>:</sub></em>\n",
    "<br/><br/>\n",
    "<a href=\"https://mybinder.org/v2/gh/JetBrains/lets-plot/v1.5.0demos1?filepath=docs%2Fexamples%2Fjupyter-notebooks%2Fmap_titanic.ipynb\"\n",
    "   target=\"_parent\">\n",
    "   <img align=\"left\"\n",
    "        src=\"https://mybinder.org/badge_logo.svg\">\n",
    "</a>\n",
    "<a href=\"https://nbviewer.jupyter.org/github/JetBrains/lets-plot/blob/master/docs/examples/jupyter-notebooks/map_titanic.ipynb\"\n",
    "   target=\"_parent\">\n",
    "   <img align=\"right\"\n",
    "        src=\"https://raw.githubusercontent.com/jupyter/design/master/logos/Badges/nbviewer_badge.png\"\n",
    "        width=\"109\" height=\"20\">\n",
    "</a>\n",
    "<br/>\n",
    "<br/>"
   ]
  },
  {
   "cell_type": "markdown",
   "metadata": {},
   "source": [
    "## Visualization of Titanic's voyage using Lets-Plot geocoding package.\n",
    "\n",
    "Geocoding is the process of converting names of places into geographic coordinates.\n",
    "\n",
    "In this notebook we will geocode Titanic's ports of embarkation to to place markers on a map."
   ]
  },
  {
   "cell_type": "code",
   "execution_count": 1,
   "metadata": {},
   "outputs": [
    {
     "data": {
      "text/html": [
       "\n",
       "            <div id=\"Tuave4\"></div>\n",
       "            <script type=\"text/javascript\" data-lets-plot-script=\"library\">\n",
       "                if(!window.letsPlotCallQueue) {\n",
       "                    window.letsPlotCallQueue = [];\n",
       "                }; \n",
       "                window.letsPlotCall = function(f) {\n",
       "                    window.letsPlotCallQueue.push(f);\n",
       "                };\n",
       "                (function() {\n",
       "                    var script = document.createElement(\"script\");\n",
       "                    script.type = \"text/javascript\";\n",
       "                    script.src = \"https://dl.bintray.com/jetbrains/lets-plot/lets-plot-1.5.1.min.js\";\n",
       "                    script.onload = function() {\n",
       "                        window.letsPlotCall = function(f) {f();};\n",
       "                        window.letsPlotCallQueue.forEach(function(f) {f();});\n",
       "                        window.letsPlotCallQueue = [];\n",
       "                        \n",
       "                    };\n",
       "                    script.onerror = function(event) {\n",
       "                        window.letsPlotCall = function(f) {};    // noop\n",
       "                        window.letsPlotCallQueue = [];\n",
       "                        var div = document.createElement(\"div\");\n",
       "                        div.style.color = 'darkred';\n",
       "                        div.textContent = 'Error loading Lets-Plot JS';\n",
       "                        document.getElementById(\"Tuave4\").appendChild(div);\n",
       "                    };\n",
       "                    var e = document.getElementById(\"Tuave4\");\n",
       "                    e.appendChild(script);\n",
       "                })()\n",
       "            </script>\n",
       "            "
      ]
     },
     "metadata": {},
     "output_type": "display_data"
    }
   ],
   "source": [
    "import pandas as pd\n",
    "import geopandas as gpd\n",
    "from lets_plot import *\n",
    "\n",
    "LetsPlot.setup_html()"
   ]
  },
  {
   "cell_type": "markdown",
   "metadata": {},
   "source": [
    "## Titanic data\n",
    "\n",
    "Titanic dataset used in this demo is the \"Titanic: cleaned data\" dataset (train_clean.csv only) available at [kaggle](https://www.kaggle.com/jamesleslie/titanic-cleaned-data?select=train_clean.csv).\n",
    "\n",
    "Titanic dataset for this demo was downloaded from [\"Titanic: cleaned data\" dataset](https://www.kaggle.com/jamesleslie/titanic-cleaned-data?select=train_clean.csv) (train_clean.csv) available at [kaggle](https://www.kaggle.com)."
   ]
  },
  {
   "cell_type": "code",
   "execution_count": 2,
   "metadata": {},
   "outputs": [
    {
     "data": {
      "text/html": [
       "<div>\n",
       "<style scoped>\n",
       "    .dataframe tbody tr th:only-of-type {\n",
       "        vertical-align: middle;\n",
       "    }\n",
       "\n",
       "    .dataframe tbody tr th {\n",
       "        vertical-align: top;\n",
       "    }\n",
       "\n",
       "    .dataframe thead th {\n",
       "        text-align: right;\n",
       "    }\n",
       "</style>\n",
       "<table border=\"1\" class=\"dataframe\">\n",
       "  <thead>\n",
       "    <tr style=\"text-align: right;\">\n",
       "      <th></th>\n",
       "      <th>Age</th>\n",
       "      <th>Cabin</th>\n",
       "      <th>Embarked</th>\n",
       "      <th>Fare</th>\n",
       "      <th>Name</th>\n",
       "      <th>Parch</th>\n",
       "      <th>PassengerId</th>\n",
       "      <th>Pclass</th>\n",
       "      <th>Sex</th>\n",
       "      <th>SibSp</th>\n",
       "      <th>Survived</th>\n",
       "      <th>Ticket</th>\n",
       "      <th>Title</th>\n",
       "      <th>Family_Size</th>\n",
       "    </tr>\n",
       "  </thead>\n",
       "  <tbody>\n",
       "    <tr>\n",
       "      <th>0</th>\n",
       "      <td>22.0</td>\n",
       "      <td>NaN</td>\n",
       "      <td>S</td>\n",
       "      <td>7.2500</td>\n",
       "      <td>Braund, Mr. Owen Harris</td>\n",
       "      <td>0</td>\n",
       "      <td>1</td>\n",
       "      <td>3</td>\n",
       "      <td>male</td>\n",
       "      <td>1</td>\n",
       "      <td>0.0</td>\n",
       "      <td>A/5 21171</td>\n",
       "      <td>Mr</td>\n",
       "      <td>1</td>\n",
       "    </tr>\n",
       "    <tr>\n",
       "      <th>1</th>\n",
       "      <td>38.0</td>\n",
       "      <td>C85</td>\n",
       "      <td>C</td>\n",
       "      <td>71.2833</td>\n",
       "      <td>Cumings, Mrs. John Bradley (Florence Briggs Th...</td>\n",
       "      <td>0</td>\n",
       "      <td>2</td>\n",
       "      <td>1</td>\n",
       "      <td>female</td>\n",
       "      <td>1</td>\n",
       "      <td>1.0</td>\n",
       "      <td>PC 17599</td>\n",
       "      <td>Mrs</td>\n",
       "      <td>1</td>\n",
       "    </tr>\n",
       "    <tr>\n",
       "      <th>2</th>\n",
       "      <td>26.0</td>\n",
       "      <td>NaN</td>\n",
       "      <td>S</td>\n",
       "      <td>7.9250</td>\n",
       "      <td>Heikkinen, Miss. Laina</td>\n",
       "      <td>0</td>\n",
       "      <td>3</td>\n",
       "      <td>3</td>\n",
       "      <td>female</td>\n",
       "      <td>0</td>\n",
       "      <td>1.0</td>\n",
       "      <td>STON/O2. 3101282</td>\n",
       "      <td>Miss</td>\n",
       "      <td>0</td>\n",
       "    </tr>\n",
       "    <tr>\n",
       "      <th>3</th>\n",
       "      <td>35.0</td>\n",
       "      <td>C123</td>\n",
       "      <td>S</td>\n",
       "      <td>53.1000</td>\n",
       "      <td>Futrelle, Mrs. Jacques Heath (Lily May Peel)</td>\n",
       "      <td>0</td>\n",
       "      <td>4</td>\n",
       "      <td>1</td>\n",
       "      <td>female</td>\n",
       "      <td>1</td>\n",
       "      <td>1.0</td>\n",
       "      <td>113803</td>\n",
       "      <td>Mrs</td>\n",
       "      <td>1</td>\n",
       "    </tr>\n",
       "    <tr>\n",
       "      <th>4</th>\n",
       "      <td>35.0</td>\n",
       "      <td>NaN</td>\n",
       "      <td>S</td>\n",
       "      <td>8.0500</td>\n",
       "      <td>Allen, Mr. William Henry</td>\n",
       "      <td>0</td>\n",
       "      <td>5</td>\n",
       "      <td>3</td>\n",
       "      <td>male</td>\n",
       "      <td>0</td>\n",
       "      <td>0.0</td>\n",
       "      <td>373450</td>\n",
       "      <td>Mr</td>\n",
       "      <td>0</td>\n",
       "    </tr>\n",
       "  </tbody>\n",
       "</table>\n",
       "</div>"
      ],
      "text/plain": [
       "    Age Cabin Embarked     Fare  \\\n",
       "0  22.0   NaN        S   7.2500   \n",
       "1  38.0   C85        C  71.2833   \n",
       "2  26.0   NaN        S   7.9250   \n",
       "3  35.0  C123        S  53.1000   \n",
       "4  35.0   NaN        S   8.0500   \n",
       "\n",
       "                                                Name  Parch  PassengerId  \\\n",
       "0                            Braund, Mr. Owen Harris      0            1   \n",
       "1  Cumings, Mrs. John Bradley (Florence Briggs Th...      0            2   \n",
       "2                             Heikkinen, Miss. Laina      0            3   \n",
       "3       Futrelle, Mrs. Jacques Heath (Lily May Peel)      0            4   \n",
       "4                           Allen, Mr. William Henry      0            5   \n",
       "\n",
       "   Pclass     Sex  SibSp  Survived            Ticket Title  Family_Size  \n",
       "0       3    male      1       0.0         A/5 21171    Mr            1  \n",
       "1       1  female      1       1.0          PC 17599   Mrs            1  \n",
       "2       3  female      0       1.0  STON/O2. 3101282  Miss            0  \n",
       "3       1  female      1       1.0            113803   Mrs            1  \n",
       "4       3    male      0       0.0            373450    Mr            0  "
      ]
     },
     "execution_count": 2,
     "metadata": {},
     "output_type": "execute_result"
    }
   ],
   "source": [
    "df = pd.read_csv(\"../data/titanic.csv\")\n",
    "df.head()"
   ]
  },
  {
   "cell_type": "markdown",
   "metadata": {},
   "source": [
    "## Finding coordinates of the ports\n",
    "\n",
    "Column `Embarked`in this dataset contains a single-letter codes of Titanic's ports of embarkation:\n",
    "- S: Southampton (UK)\n",
    "- C: Cherbourg (France)\n",
    "- Q: Cobh (Ireland)\n",
    "\n",
    "Now let's try to find coordinates of these ports."
   ]
  },
  {
   "cell_type": "code",
   "execution_count": 3,
   "metadata": {},
   "outputs": [
    {
     "name": "stdout",
     "output_type": "stream",
     "text": [
      "The geodata is provided by © OpenStreetMap contributors and is made available here under the Open Database License (ODbL).\n"
     ]
    }
   ],
   "source": [
    "from lets_plot.geo_data import *\n",
    "\n",
    "ports_of_embarkation = ['Southampton', 'Cherbourg', 'Cobh']"
   ]
  },
  {
   "cell_type": "markdown",
   "metadata": {},
   "source": [
    "### 1. Using the `regions` function.\n",
    "\n",
    "To geocode our port cities we can try to call the `regions` function like this:\n",
    "\n",
    "    regions(level='city', request=ports_of_embarkation)\n",
    "or its equivalent:\n",
    "\n",
    "    regions_city(request=ports_of_embarkation)\n",
    "\n",
    "Unfortunately, this call results in a `ValueError`:\n",
    "\n",
    ">Multiple objects (6) were found for Southampton:\n",
    ">- Southampton (United Kingdom, England, South East)\n",
    ">- Southampton (United States of America, New York, Suffolk County)\n",
    ">- Southampton (United States of America, Massachusetts)\n",
    ">- Southampton Township (United States of America, New Jersey, Burlington County)\n",
    ">- Lower Southampton Township (United States of America, Pennsylvania, Bucks County)\n",
    ">- Upper Southampton Township (United States of America, Pennsylvania, Bucks County)\n",
    ">Multiple objects (2) were found for Cherbourg:\n",
    ">- Saint-Jean-de-Cherbourg (Canada, Québec, Bas-Saint-Laurent, La Matanie)\n",
    ">- Cherbourg-en-Cotentin (France, France métropolitaine, Normandie, Manche)\n"
   ]
  },
  {
   "cell_type": "code",
   "execution_count": 4,
   "metadata": {},
   "outputs": [],
   "source": [
    "#\n",
    "# This call will fail with an error shown above.\n",
    "#\n",
    "#regions_city(ports_of_embarkation)"
   ]
  },
  {
   "cell_type": "markdown",
   "metadata": {},
   "source": [
    "### 2. Resolving geocoding ambiguity using the `within` parameter.\n",
    "\n",
    "We can try to resolve ambiguity of the name \"Southampton\" (found in the United Kingdom and in the US)\n",
    "and the name \"Cherbourg\" (found in Canada and France) by narrowing the scope of search using \n",
    "parameter `within` and function `regions_country` like this:\n",
    "\n",
    "    regions_city(ports_of_embarkation, within=regions_country(['France', 'UK']))\n",
    "\n",
    "But this call results in another `ValueError`:\n",
    "\n",
    ">No objects were found for Cobh."
   ]
  },
  {
   "cell_type": "code",
   "execution_count": 5,
   "metadata": {},
   "outputs": [],
   "source": [
    "#\n",
    "# This call will fail with \"No objects were found for Cobh.\" error.\n",
    "#\n",
    "#regions_city(ports_of_embarkation, within=regions_country(['France', 'UK']))"
   ]
  },
  {
   "cell_type": "markdown",
   "metadata": {},
   "source": [
    "An alternative way of using parameter `within` is to specify\n",
    "an array of names of all the countries. \n",
    "\n",
    "The territory names must be in the same order \n",
    "as the names of the geocoded cities:"
   ]
  },
  {
   "cell_type": "code",
   "execution_count": 6,
   "metadata": {},
   "outputs": [
    {
     "data": {
      "text/plain": [
       "       request        id             found name\n",
       "0  Southampton    255729            Southampton\n",
       "1    Cherbourg  11624125  Cherbourg-en-Cotentin\n",
       "2         Cobh  14066915                   Cobh"
      ]
     },
     "execution_count": 6,
     "metadata": {},
     "output_type": "execute_result"
    }
   ],
   "source": [
    "regions_city(ports_of_embarkation, within=['UK', 'France', 'Ireland'])"
   ]
  },
  {
   "cell_type": "markdown",
   "metadata": {},
   "source": [
    "### 3. Using `regions_builder` for advanced geocoding.\n",
    "\n",
    "There are many situations where a simple call of the function `regions` \n",
    "will not resolve all geocoding ambiguities.\n",
    "\n",
    "In other cases, we might want to retrieve all objects matching a name and\n",
    "not to treat names ambiguity as an error.\n",
    "\n",
    "The `regions builder` object provides advanced capabilities in fine tuning of geocoding queries.\n",
    "\n",
    "Let's resolve ambiguity of names \"Southampton\" and \"Cherbourg\" with the help of `regions builder`."
   ]
  },
  {
   "cell_type": "code",
   "execution_count": 7,
   "metadata": {},
   "outputs": [
    {
     "data": {
      "text/plain": [
       "       request        id             found name\n",
       "0  Southampton    255729            Southampton\n",
       "1    Cherbourg  11624125  Cherbourg-en-Cotentin\n",
       "2         Cobh  14066915                   Cobh"
      ]
     },
     "execution_count": 7,
     "metadata": {},
     "output_type": "execute_result"
    }
   ],
   "source": [
    "ports_of_embarkation_geocoded = regions_builder(level='city', request=ports_of_embarkation) \\\n",
    "        .where('Cherbourg', within='France') \\\n",
    "        .where('Southampton', within='England') \\\n",
    "        .build()\n",
    "ports_of_embarkation_geocoded"
   ]
  },
  {
   "cell_type": "markdown",
   "metadata": {},
   "source": [
    "## Adding geocoded markers to map\n",
    "\n",
    "Simple markers (points) can be added to map either via `geom_point` layer\n",
    "or directly on the `livemap` base-layer.\n",
    "\n",
    "In this demo we will mark the ports of embarkation right on the `livemap` base-layer\n",
    "by passing geocoded names to the parameter `map`."
   ]
  },
  {
   "cell_type": "code",
   "execution_count": 8,
   "metadata": {},
   "outputs": [
    {
     "ename": "UnboundLocalError",
     "evalue": "local variable 'map_join' referenced before assignment",
     "output_type": "error",
     "traceback": [
      "\u001b[0;31m---------------------------------------------------------------------------\u001b[0m",
      "\u001b[0;31mUnboundLocalError\u001b[0m                         Traceback (most recent call last)",
      "\u001b[0;32m<ipython-input-8-ca8b3649ed1a>\u001b[0m in \u001b[0;36m<module>\u001b[0;34m\u001b[0m\n\u001b[1;32m      5\u001b[0m     + geom_livemap(map=ports_of_embarkation_geocoded,\n\u001b[1;32m      6\u001b[0m                    \u001b[0msize\u001b[0m\u001b[0;34m=\u001b[0m\u001b[0;36m7\u001b[0m\u001b[0;34m,\u001b[0m\u001b[0;34m\u001b[0m\u001b[0;34m\u001b[0m\u001b[0m\n\u001b[0;32m----> 7\u001b[0;31m                    shape=21, color='black', fill='yellow')\n\u001b[0m\u001b[1;32m      8\u001b[0m \u001b[0;34m\u001b[0m\u001b[0m\n\u001b[1;32m      9\u001b[0m \u001b[0mbasemap\u001b[0m\u001b[0;34m\u001b[0m\u001b[0;34m\u001b[0m\u001b[0m\n",
      "\u001b[0;32m/opt/anaconda3/envs/test-py37/lib/python3.7/site-packages/lets_plot/plot/geom_livemap_.py\u001b[0m in \u001b[0;36mgeom_livemap\u001b[0;34m(mapping, data, symbol, show_legend, sampling, location, zoom, projection, geodesic, tiles, map, **other_args)\u001b[0m\n\u001b[1;32m    107\u001b[0m     \u001b[0;32mif\u001b[0m \u001b[0mis_geo_data_regions\u001b[0m\u001b[0;34m(\u001b[0m\u001b[0mmap\u001b[0m\u001b[0;34m)\u001b[0m\u001b[0;34m:\u001b[0m\u001b[0;34m\u001b[0m\u001b[0;34m\u001b[0m\u001b[0m\n\u001b[1;32m    108\u001b[0m         \u001b[0mmap\u001b[0m \u001b[0;34m=\u001b[0m \u001b[0mmap\u001b[0m\u001b[0;34m.\u001b[0m\u001b[0mcentroids\u001b[0m\u001b[0;34m(\u001b[0m\u001b[0;34m)\u001b[0m\u001b[0;34m\u001b[0m\u001b[0;34m\u001b[0m\u001b[0m\n\u001b[0;32m--> 109\u001b[0;31m         \u001b[0mmap_join\u001b[0m \u001b[0;34m=\u001b[0m \u001b[0mmap_join_regions\u001b[0m\u001b[0;34m(\u001b[0m\u001b[0mmap_join\u001b[0m\u001b[0;34m)\u001b[0m\u001b[0;34m\u001b[0m\u001b[0;34m\u001b[0m\u001b[0m\n\u001b[0m\u001b[1;32m    110\u001b[0m \u001b[0;34m\u001b[0m\u001b[0m\n\u001b[1;32m    111\u001b[0m     return _geom('livemap', mapping, data, map=map, show_legend=show_legend, sampling=sampling,\n",
      "\u001b[0;31mUnboundLocalError\u001b[0m: local variable 'map_join' referenced before assignment"
     ]
    }
   ],
   "source": [
    "# For our map let's use raster tiles provided by Wikimedia Foundation.\n",
    "LetsPlot.set(maptiles_zxy(url='https://maps.wikimedia.org/osm-intl/{z}/{x}/{y}@2x.png'))\n",
    "\n",
    "basemap = ggplot() + ggsize(800, 300) \\\n",
    "    + geom_livemap(map=ports_of_embarkation_geocoded,\n",
    "                   size=7, \n",
    "                   shape=21, color='black', fill='yellow')\n",
    "\n",
    "basemap"
   ]
  },
  {
   "cell_type": "markdown",
   "metadata": {},
   "source": [
    "## The 'Titanic site' marker"
   ]
  },
  {
   "cell_type": "code",
   "execution_count": null,
   "metadata": {},
   "outputs": [],
   "source": [
    "from shapely.geometry import Point, LineString\n",
    "titanic_site = Point(-38.056641, 46.920255)\n",
    "\n",
    "titanic_site_marker = geom_point(x=titanic_site.x, y = titanic_site.y, size=10, shape=9, color='red')\n",
    "basemap + titanic_site_marker"
   ]
  },
  {
   "cell_type": "markdown",
   "metadata": {},
   "source": [
    "## Adding to map Titanic's path through geocoded ports\n",
    "\n",
    "The \"geocoded ports\" is an object of type `Regions`. \n",
    "\n",
    "Object `Regions`, if necessary, can be tranfrormed to `GeoDataFrame`\n",
    "by calling its `centroids()`, `boundaries()` or `limits()` method."
   ]
  },
  {
   "cell_type": "code",
   "execution_count": null,
   "metadata": {},
   "outputs": [],
   "source": [
    "from geopandas import GeoSeries\n",
    "\n",
    "# Transform geocoded ports to GeoDataFrame and retrieve a collection of points.\n",
    "embarkation_points = ports_of_embarkation_geocoded.centroids().geometry\n",
    "\n",
    "# Create a new GeoDataFrame containing a `LineString` geometry.\n",
    "titanic_journey_points = embarkation_points.append(GeoSeries(titanic_site), ignore_index=True)\n",
    "titanic_journey_gdf = gpd.GeoDataFrame(dict(geometry=[LineString(titanic_journey_points)]))\n",
    "\n",
    "titanic_path = geom_path(map=titanic_journey_gdf, color='dark-blue', linetype='dotted', size=1.2)\n",
    "\n",
    "basemap + titanic_path + titanic_site_marker"
   ]
  },
  {
   "cell_type": "markdown",
   "metadata": {},
   "source": [
    "## The last segment that Titanic didn't made."
   ]
  },
  {
   "cell_type": "code",
   "execution_count": null,
   "metadata": {},
   "outputs": [],
   "source": [
    "# Geocoding of The New York City is a trivial task.\n",
    "NYC = regions_city(['New York']).centroids().geometry[0]\n",
    "\n",
    "map_layers = titanic_path \\\n",
    "  + geom_segment(x=titanic_site.x, y=titanic_site.y, \n",
    "                 xend=NYC.x, yend=NYC.y, \n",
    "                 color='white', linetype='dotted', size=1.2) \\\n",
    "  + geom_point(x=NYC.x, y = NYC.y, size=7, shape=21, color='black', fill='white') \\\n",
    "  + titanic_site_marker\n",
    "\n",
    "basemap + map_layers"
   ]
  },
  {
   "cell_type": "markdown",
   "metadata": {},
   "source": [
    "## Survival figures by the port of embarkation"
   ]
  },
  {
   "cell_type": "code",
   "execution_count": null,
   "metadata": {},
   "outputs": [],
   "source": [
    "from lets_plot.mapping import as_discrete\n",
    "\n",
    "bars = ggplot(df) \\\n",
    "    + geom_bar(aes('Embarked', fill=as_discrete('Survived')), position='dodge') \\\n",
    "    + scale_fill_discrete(labels=['No', 'Yes']) \\\n",
    "    + scale_x_discrete(labels=['Southampton', 'Cobh', 'Cherbourg'], limits=['S', 'C', 'Q'])\n",
    "\n",
    "bars + ggsize(800, 250)"
   ]
  },
  {
   "cell_type": "code",
   "execution_count": null,
   "metadata": {},
   "outputs": [],
   "source": [
    "bars_settings = theme(axis_title='blank', \n",
    "                   axis_line='blank', \n",
    "                   axis_ticks_y='blank',\n",
    "                   axis_text_y='blank',\n",
    "                   legend_position=[1.12, 1.07],\n",
    "                   legend_justification=[1, 1]) + scale_x_discrete(expand=[0, 0.05])\n",
    "\n",
    "\n",
    "map = ggplot() + ggsize(800, 300) \\\n",
    "    + geom_livemap(map=ports_of_embarkation_geocoded.centroids(), \n",
    "                    size=8, \n",
    "                    shape=21, color='black', fill='yellow',\n",
    "                    zoom=4, location=[-12, 48])\n",
    "\n",
    "fig = GGBunch()\n",
    "fig.add_plot(map + map_layers, 0, 0)\n",
    "fig.add_plot(bars + bars_settings, 535, 135, 250, 150)\n",
    "fig"
   ]
  }
 ],
 "metadata": {
  "kernelspec": {
   "display_name": "Python 3",
   "language": "python",
   "name": "python3"
  },
  "language_info": {
   "codemirror_mode": {
    "name": "ipython",
    "version": 3
   },
   "file_extension": ".py",
   "mimetype": "text/x-python",
   "name": "python",
   "nbconvert_exporter": "python",
   "pygments_lexer": "ipython3",
   "version": "3.7.7"
  }
 },
 "nbformat": 4,
 "nbformat_minor": 2
}
