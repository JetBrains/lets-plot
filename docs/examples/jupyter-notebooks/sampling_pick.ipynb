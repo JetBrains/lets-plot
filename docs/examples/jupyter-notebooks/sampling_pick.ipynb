{
 "cells": [
  {
   "cell_type": "markdown",
   "metadata": {},
   "source": [
    "<em><sub>This page is available as an executable or viewable <strong>Jupyter Notebook</strong>:</sub></em>\n",
    "<br/><br/>\n",
    "<a href=\"https://mybinder.org/v2/gh/JetBrains/lets-plot/v2.0.0demos1?filepath=docs%2Fexamples%2Fjupyter-notebooks%2Fsampling_pick.ipynb\"\n",
    "   target=\"_parent\"> \n",
    "   <img align=\"left\" \n",
    "        src=\"https://mybinder.org/badge_logo.svg\">\n",
    "</a>\n",
    "<a href=\"https://nbviewer.jupyter.org/github/JetBrains/lets-plot/blob/master/docs/examples/jupyter-notebooks/sampling_pick.ipynb\" \n",
    "   target=\"_parent\"> \n",
    "   <img align=\"right\" \n",
    "        src=\"https://raw.githubusercontent.com/jupyter/design/master/logos/Badges/nbviewer_badge.png\" \n",
    "        width=\"109\" height=\"20\">\n",
    "</a>\n",
    "<br/>\n",
    "<br/>\n",
    "\n",
    "\n",
    "## Pick Sampling"
   ]
  },
  {
   "cell_type": "code",
   "execution_count": 1,
   "metadata": {},
   "outputs": [
    {
     "name": "stdout",
     "output_type": "stream",
     "text": [
      "The geodata is provided by © OpenStreetMap contributors and is made available here under the Open Database License (ODbL).\n"
     ]
    },
    {
     "data": {
      "text/html": [
       "\n",
       "            <div id=\"VotKM7\"></div>\n",
       "            <script type=\"text/javascript\" data-lets-plot-script=\"library\">\n",
       "                if(!window.letsPlotCallQueue) {\n",
       "                    window.letsPlotCallQueue = [];\n",
       "                }; \n",
       "                window.letsPlotCall = function(f) {\n",
       "                    window.letsPlotCallQueue.push(f);\n",
       "                };\n",
       "                (function() {\n",
       "                    var script = document.createElement(\"script\");\n",
       "                    script.type = \"text/javascript\";\n",
       "                    script.src = \"https://dl.bintray.com/jetbrains/lets-plot/lets-plot-2.0.0rc2.min.js\";\n",
       "                    script.onload = function() {\n",
       "                        window.letsPlotCall = function(f) {f();};\n",
       "                        window.letsPlotCallQueue.forEach(function(f) {f();});\n",
       "                        window.letsPlotCallQueue = [];\n",
       "                        \n",
       "                    };\n",
       "                    script.onerror = function(event) {\n",
       "                        window.letsPlotCall = function(f) {};    // noop\n",
       "                        window.letsPlotCallQueue = [];\n",
       "                        var div = document.createElement(\"div\");\n",
       "                        div.style.color = 'darkred';\n",
       "                        div.textContent = 'Error loading Lets-Plot JS';\n",
       "                        document.getElementById(\"VotKM7\").appendChild(div);\n",
       "                    };\n",
       "                    var e = document.getElementById(\"VotKM7\");\n",
       "                    e.appendChild(script);\n",
       "                })()\n",
       "            </script>\n",
       "            "
      ]
     },
     "metadata": {},
     "output_type": "display_data"
    }
   ],
   "source": [
    "import numpy as np\n",
    "from lets_plot import *\n",
    "import random, string\n",
    "\n",
    "LetsPlot.setup_html()"
   ]
  },
  {
   "cell_type": "code",
   "execution_count": 2,
   "metadata": {},
   "outputs": [],
   "source": [
    "def gen_word(length):\n",
    "    letters = string.ascii_lowercase\n",
    "    return ''.join(random.choice(letters) for _ in range(length))\n",
    "\n",
    "def gen_word_set(n):\n",
    "    random.seed(1)\n",
    "    word_set = set()\n",
    "    while len(word_set) < n:\n",
    "        word_set.add(gen_word(5))\n",
    "    return word_set\n",
    "\n",
    "def data(n, word_set):\n",
    "    word_choice = list(word_set)\n",
    "    words=[]\n",
    "    groups = []\n",
    "    for _ in range(n):\n",
    "        words.append(np.random.choice(word_choice))\n",
    "        groups.append(np.random.choice(['a','b','c']))\n",
    "\n",
    "    return dict(word=words, g=groups)"
   ]
  },
  {
   "cell_type": "code",
   "execution_count": 3,
   "metadata": {},
   "outputs": [],
   "source": [
    "# Number of unique words exceeds threshold (50) of default 'pick' sampling on bar chart.\n",
    "N = 500\n",
    "word_set = gen_word_set(N)\n",
    "dat = data(1000, word_set)\n",
    "p = ggplot(dat, aes(x='word'))"
   ]
  },
  {
   "cell_type": "code",
   "execution_count": 4,
   "metadata": {},
   "outputs": [
    {
     "data": {
      "text/html": [
       "   <div id=\"Udrjj8\"></div>\n",
       "   <script type=\"text/javascript\" data-lets-plot-script=\"plot\">\n",
       "       (function() {\n",
       "           var plotSpec={\n",
       "'data':{\n",
       "},\n",
       "'mapping':{\n",
       "'x':\"word\"\n",
       "},\n",
       "'data_meta':{\n",
       "},\n",
       "'kind':\"plot\",\n",
       "'scales':[],\n",
       "'layers':[{\n",
       "'geom':\"bar\",\n",
       "'mapping':{\n",
       "},\n",
       "'sampling':\"none\",\n",
       "'data_meta':{\n",
       "},\n",
       "'data':{\n",
       "'..count..':[3.0,2.0,2.0,1.0,4.0,3.0,5.0,2.0,4.0,1.0,3.0,2.0,2.0,4.0,4.0,1.0,4.0,3.0,3.0,3.0,3.0,2.0,3.0,4.0,3.0,1.0,1.0,4.0,2.0,3.0,5.0,3.0,4.0,2.0,3.0,2.0,1.0,4.0,1.0,4.0,3.0,3.0,2.0,2.0,3.0,3.0,1.0,3.0,2.0,2.0,4.0,4.0,1.0,2.0,3.0,4.0,2.0,2.0,4.0,2.0,4.0,6.0,5.0,3.0,6.0,2.0,4.0,2.0,1.0,2.0,2.0,3.0,3.0,2.0,1.0,4.0,3.0,2.0,1.0,2.0,3.0,7.0,3.0,2.0,3.0,1.0,3.0,5.0,2.0,4.0,1.0,5.0,5.0,4.0,5.0,4.0,3.0,1.0,2.0,3.0,4.0,2.0,1.0,4.0,3.0,2.0,2.0,4.0,1.0,4.0,3.0,4.0,1.0,2.0,2.0,1.0,2.0,3.0,2.0,3.0,2.0,4.0,3.0,2.0,3.0,3.0,5.0,4.0,3.0,4.0,2.0,2.0,2.0,2.0,2.0,2.0,2.0,2.0,3.0,2.0,3.0,4.0,3.0,3.0,2.0,3.0,5.0,5.0,4.0,5.0,4.0,3.0,2.0,2.0,1.0,1.0,3.0,5.0,1.0,3.0,2.0,2.0,1.0,1.0,3.0,5.0,4.0,2.0,2.0,1.0,2.0,1.0,3.0,1.0,6.0,2.0,2.0,2.0,2.0,2.0,4.0,1.0,4.0,3.0,5.0,4.0,4.0,3.0,8.0,2.0,2.0,1.0,2.0,2.0,2.0,3.0,3.0,2.0,3.0,4.0,3.0,3.0,3.0,2.0,2.0,4.0,2.0,3.0,1.0,2.0,4.0,1.0,1.0,3.0,5.0,4.0,2.0,3.0,2.0,2.0,3.0,2.0,3.0,1.0,1.0,2.0,2.0,4.0,3.0,2.0,2.0,1.0,2.0,3.0,3.0,1.0,4.0,2.0,1.0,3.0,5.0,2.0,4.0,4.0,2.0,2.0,1.0,3.0,1.0,2.0,4.0,2.0,3.0,2.0,3.0,4.0,4.0,1.0,2.0,2.0,2.0,2.0,2.0,1.0,1.0,1.0,5.0,5.0,2.0,1.0,1.0,1.0,1.0,1.0,3.0,2.0,2.0,1.0,2.0,4.0,2.0,2.0,2.0,2.0,1.0,2.0,1.0,1.0,2.0,1.0,1.0,2.0,4.0,3.0,2.0,2.0,2.0,1.0,2.0,5.0,2.0,1.0,2.0,1.0,2.0,1.0,2.0,4.0,1.0,3.0,1.0,3.0,2.0,2.0,3.0,2.0,1.0,1.0,2.0,3.0,2.0,1.0,2.0,1.0,3.0,2.0,1.0,2.0,1.0,2.0,3.0,2.0,3.0,2.0,2.0,1.0,1.0,2.0,2.0,3.0,1.0,2.0,1.0,4.0,1.0,2.0,2.0,4.0,2.0,2.0,1.0,1.0,2.0,1.0,2.0,1.0,1.0,1.0,2.0,2.0,2.0,2.0,4.0,1.0,1.0,3.0,2.0,1.0,2.0,1.0,2.0,1.0,5.0,2.0,1.0,1.0,2.0,2.0,1.0,1.0,1.0,1.0,1.0,2.0,2.0,2.0,1.0,1.0,1.0,1.0,2.0,1.0,2.0,2.0,1.0,1.0,2.0,1.0,1.0,2.0,2.0,1.0,1.0,2.0,1.0,1.0,2.0,1.0,1.0,2.0,2.0,1.0,2.0,1.0,1.0,1.0,1.0,1.0,1.0,1.0,1.0,1.0,1.0,1.0,1.0,1.0],\n",
       "'word':[\"whzth\",\"zylnm\",\"ezvba\",\"ueuym\",\"esesd\",\"yivoz\",\"xgwqw\",\"rbove\",\"xmcsz\",\"sabwl\",\"xawdz\",\"czrzi\",\"gsxyz\",\"firba\",\"doayn\",\"uwxzh\",\"dgcba\",\"tbbzk\",\"cxcau\",\"egbjc\",\"xbnog\",\"ybtnn\",\"rnrgw\",\"qilkk\",\"estev\",\"rrchm\",\"hyoja\",\"tphno\",\"ofvhf\",\"yrrff\",\"oxplp\",\"ziudi\",\"serom\",\"wwxot\",\"dseqq\",\"spiee\",\"zurkn\",\"rtztk\",\"nrudf\",\"lzxba\",\"zhnfv\",\"xeizm\",\"kdtsz\",\"sesee\",\"iriqi\",\"jipgp\",\"hdses\",\"jklik\",\"hcurw\",\"zkcjb\",\"ajmkn\",\"evsbl\",\"chhaz\",\"wikps\",\"qdxio\",\"nhzbq\",\"cejrx\",\"ixpbx\",\"kbaaz\",\"qmadk\",\"hycqf\",\"ahame\",\"ltphk\",\"ymvqz\",\"oixnf\",\"wpesr\",\"qzass\",\"dupbq\",\"sedfy\",\"vszkv\",\"ftqgq\",\"pgmxr\",\"riltx\",\"utara\",\"mlxfh\",\"giykt\",\"ndygs\",\"ftyfx\",\"mcmzq\",\"ydmux\",\"jovee\",\"yvnmi\",\"agqos\",\"ofywt\",\"pxcin\",\"brgrn\",\"srdoi\",\"lvrpy\",\"mfein\",\"dyfqm\",\"dwgmv\",\"lpxap\",\"bsqcs\",\"exivg\",\"egehx\",\"gztyr\",\"ppedq\",\"csevg\",\"srjqn\",\"vlrgz\",\"arjvy\",\"xmmnv\",\"dgsvn\",\"khiqb\",\"brtqe\",\"foqbi\",\"ejgvx\",\"kitlb\",\"xwjwf\",\"ktxlh\",\"bgnbb\",\"oipol\",\"dzbgh\",\"ccxdj\",\"afqwf\",\"zekng\",\"drviw\",\"czsrt\",\"ukhmj\",\"zdple\",\"ufrsf\",\"dkkly\",\"jfezm\",\"tyyaw\",\"xqici\",\"tvnil\",\"xqgtn\",\"dzbja\",\"mqlgh\",\"ixtxy\",\"rjriw\",\"sjgmf\",\"cwfin\",\"deewi\",\"dbsqa\",\"hmcir\",\"bwswv\",\"vjnka\",\"uzwqo\",\"terwk\",\"hneei\",\"xlcur\",\"fgkzs\",\"fkoet\",\"kzksc\",\"niipw\",\"rrhmq\",\"fkvhc\",\"cxhiv\",\"kvidt\",\"spdeu\",\"aucfo\",\"qkdlz\",\"zdvjd\",\"cjjxf\",\"pzzwb\",\"bkfkz\",\"mcsrh\",\"pgdnt\",\"rnvcw\",\"oljym\",\"qkdnl\",\"qtjeg\",\"xxqqa\",\"sjoje\",\"nrmjh\",\"cmzee\",\"lrrzx\",\"yzgjj\",\"nomrd\",\"iroro\",\"tkrqf\",\"rsmgo\",\"mywoa\",\"frgjg\",\"tlyoi\",\"rwyvx\",\"whitw\",\"wkppd\",\"qbmgl\",\"nsiea\",\"ihmxr\",\"hqiiw\",\"txqps\",\"uqnfg\",\"puzrg\",\"rcrkk\",\"qdekx\",\"wdsap\",\"etioq\",\"misoa\",\"nrfbw\",\"sdkaa\",\"lnlar\",\"rxbqc\",\"mzxqz\",\"jxtko\",\"zifyc\",\"naslp\",\"pilei\",\"fhhjo\",\"amkfi\",\"rtszt\",\"txxxq\",\"knxfr\",\"flntw\",\"bpvmw\",\"gzblo\",\"rndvj\",\"uovux\",\"nhqrg\",\"ktppk\",\"aauth\",\"adiep\",\"bjwts\",\"couja\",\"smuff\",\"oayyi\",\"otvqg\",\"uemxr\",\"sizhw\",\"rjcqj\",\"xfglm\",\"tpdem\",\"rhcxb\",\"gaxry\",\"rbsgs\",\"leszj\",\"idpyo\",\"ktmja\",\"afqkq\",\"rqntu\",\"xceyt\",\"khdcv\",\"neafi\",\"sxwxc\",\"wpvli\",\"graiu\",\"wgcuc\",\"hsgqs\",\"ghkic\",\"ldkbe\",\"pdvef\",\"qewsi\",\"eqyrg\",\"igcux\",\"hpomy\",\"pemwd\",\"pkdgu\",\"cwqvl\",\"lpbrp\",\"gysmv\",\"mkqnl\",\"dpybu\",\"rictz\",\"sgpdv\",\"fsosx\",\"vqpmd\",\"oqrxs\",\"ulmjo\",\"nbloa\",\"twgfq\",\"nmtob\",\"ktzvr\",\"lxuwh\",\"gnrut\",\"ckbob\",\"pzykl\",\"mjqpa\",\"knyhz\",\"gmufm\",\"dnush\",\"xgqqm\",\"jsztc\",\"vomku\",\"qhayg\",\"lcovq\",\"lwibr\",\"qjzzg\",\"tvacn\",\"bqkqw\",\"vgnxa\",\"pykmo\",\"uihgd\",\"gotqn\",\"mdvoj\",\"ivdmr\",\"sifyx\",\"niqjx\",\"qvgjj\",\"eszyc\",\"bsfvd\",\"pxhuu\",\"sulzp\",\"kzxvs\",\"hmrmf\",\"drlfd\",\"igfje\",\"dayxv\",\"wjrlf\",\"qvlyq\",\"raoyb\",\"erxby\",\"pazun\",\"ftchp\",\"uupky\",\"hdwgw\",\"fjuxw\",\"lacem\",\"vffye\",\"squcc\",\"inxrj\",\"yfiua\",\"ylriz\",\"mbxik\",\"vvwco\",\"zgvuc\",\"ktodi\",\"xkyru\",\"brbqe\",\"whdhk\",\"pzitk\",\"msaqg\",\"hhkpv\",\"eiiil\",\"wwazb\",\"xuecq\",\"snmkt\",\"zzlux\",\"zuxet\",\"rvnvx\",\"auram\",\"clcvo\",\"gwoaj\",\"bsmie\",\"ruqbl\",\"wzjhg\",\"pumzg\",\"fiqfv\",\"biydn\",\"yajth\",\"facnt\",\"bufvv\",\"wcyuh\",\"ygvbp\",\"qdxsn\",\"phwnk\",\"mkmcc\",\"imcvs\",\"qoser\",\"kadow\",\"yocus\",\"kzets\",\"ydkbn\",\"kxwqn\",\"lbudx\",\"uxjdx\",\"tcxlk\",\"prthi\",\"rqhni\",\"xdnmz\",\"lnmjv\",\"cgapu\",\"fljcf\",\"rgijs\",\"jeeqd\",\"djhty\",\"sxklz\",\"lszjn\",\"zgidi\",\"uojyd\",\"feyew\",\"ozwhu\",\"wqraj\",\"ajyzl\",\"divif\",\"ulmqf\",\"iuwjo\",\"zsnfd\",\"hbszs\",\"uaapb\",\"hvatm\",\"rbuls\",\"znrfw\",\"tqzss\",\"zgufq\",\"iiuuh\",\"ytali\",\"unbxj\",\"qulfq\",\"sujmi\",\"swore\",\"iaomz\",\"lediy\",\"eeihg\",\"cpucr\",\"bvcca\",\"mqpcm\",\"anjsx\",\"qhyop\",\"grnwh\",\"qvnrh\",\"rhlhv\",\"ucqpq\",\"ziymr\",\"ybwkn\",\"oqrxb\",\"nxtbz\",\"rwmar\",\"oljrm\",\"hlcic\",\"zadsx\",\"wqxto\",\"jwelp\",\"zwnvr\",\"mwncc\",\"euyzg\",\"gjwwu\",\"lsloi\",\"turch\",\"bphxz\",\"amioi\",\"pdumm\",\"kvhzv\",\"lqavm\",\"bebqp\"]\n",
       "}\n",
       "}]\n",
       "};\n",
       "           var plotContainer = document.getElementById(\"Udrjj8\");\n",
       "           window.letsPlotCall(function() {{\n",
       "               LetsPlot.buildPlotFromProcessedSpecs(plotSpec, -1, -1, plotContainer);\n",
       "           }});\n",
       "       })();    \n",
       "   </script>"
      ],
      "text/plain": [
       "<lets_plot.plot.core.PlotSpec at 0x7ff2489ae850>"
      ]
     },
     "execution_count": 4,
     "metadata": {},
     "output_type": "execute_result"
    }
   ],
   "source": [
    "# Disable sampling to see the overplotting.\n",
    "p + geom_bar(sampling='none')"
   ]
  },
  {
   "cell_type": "code",
   "execution_count": 5,
   "metadata": {},
   "outputs": [
    {
     "data": {
      "text/html": [
       "   <div id=\"MTulvR\"></div>\n",
       "   <script type=\"text/javascript\" data-lets-plot-script=\"plot\">\n",
       "       (function() {\n",
       "           var plotSpec={\n",
       "'data':{\n",
       "},\n",
       "'mapping':{\n",
       "'x':\"word\"\n",
       "},\n",
       "'data_meta':{\n",
       "},\n",
       "'kind':\"plot\",\n",
       "'scales':[],\n",
       "'layers':[{\n",
       "'geom':\"bar\",\n",
       "'mapping':{\n",
       "},\n",
       "'data_meta':{\n",
       "},\n",
       "'data':{\n",
       "'..count..':[3.0,2.0,2.0,1.0,4.0,3.0,5.0,2.0,4.0,1.0,3.0,2.0,2.0,4.0,4.0,1.0,4.0,3.0,3.0,3.0,3.0,2.0,3.0,4.0,3.0,1.0,1.0,4.0,2.0,3.0,5.0,3.0,4.0,2.0,3.0,2.0,1.0,4.0,1.0,4.0,3.0,3.0,2.0,2.0,3.0,3.0,1.0,3.0,2.0,2.0],\n",
       "'word':[\"whzth\",\"zylnm\",\"ezvba\",\"ueuym\",\"esesd\",\"yivoz\",\"xgwqw\",\"rbove\",\"xmcsz\",\"sabwl\",\"xawdz\",\"czrzi\",\"gsxyz\",\"firba\",\"doayn\",\"uwxzh\",\"dgcba\",\"tbbzk\",\"cxcau\",\"egbjc\",\"xbnog\",\"ybtnn\",\"rnrgw\",\"qilkk\",\"estev\",\"rrchm\",\"hyoja\",\"tphno\",\"ofvhf\",\"yrrff\",\"oxplp\",\"ziudi\",\"serom\",\"wwxot\",\"dseqq\",\"spiee\",\"zurkn\",\"rtztk\",\"nrudf\",\"lzxba\",\"zhnfv\",\"xeizm\",\"kdtsz\",\"sesee\",\"iriqi\",\"jipgp\",\"hdses\",\"jklik\",\"hcurw\",\"zkcjb\"]\n",
       "}\n",
       "}],\n",
       "'computation_messages':[\"sampling_pick(n=50) was applied to [bar/count stat] layer\"]\n",
       "};\n",
       "           var plotContainer = document.getElementById(\"MTulvR\");\n",
       "           window.letsPlotCall(function() {{\n",
       "               LetsPlot.buildPlotFromProcessedSpecs(plotSpec, -1, -1, plotContainer);\n",
       "           }});\n",
       "       })();    \n",
       "   </script>"
      ],
      "text/plain": [
       "<lets_plot.plot.core.PlotSpec at 0x7ff208c24b10>"
      ]
     },
     "execution_count": 5,
     "metadata": {},
     "output_type": "execute_result"
    }
   ],
   "source": [
    "# Draw plot with default sampling.\n",
    "p + geom_bar()"
   ]
  },
  {
   "cell_type": "code",
   "execution_count": 6,
   "metadata": {},
   "outputs": [
    {
     "data": {
      "text/html": [
       "   <div id=\"WUOz7D\"></div>\n",
       "   <script type=\"text/javascript\" data-lets-plot-script=\"plot\">\n",
       "       (function() {\n",
       "           var plotSpec={\n",
       "'data':{\n",
       "},\n",
       "'mapping':{\n",
       "'x':\"word\"\n",
       "},\n",
       "'data_meta':{\n",
       "},\n",
       "'kind':\"plot\",\n",
       "'scales':[],\n",
       "'layers':[{\n",
       "'geom':\"bar\",\n",
       "'mapping':{\n",
       "'fill':\"g\"\n",
       "},\n",
       "'data_meta':{\n",
       "},\n",
       "'data':{\n",
       "'..count..':[2.0,1.0,1.0,2.0,1.0,2.0,2.0,1.0,1.0,1.0,1.0,3.0,1.0,1.0,1.0,3.0,2.0,1.0,1.0,2.0,2.0,2.0,1.0,2.0,2.0,1.0,1.0,1.0,2.0,2.0,2.0,1.0,2.0,1.0,2.0,1.0,1.0,2.0,1.0,1.0,2.0,2.0,3.0,2.0,2.0,1.0,1.0,2.0,2.0,2.0,1.0,2.0,2.0,1.0,1.0,1.0,1.0,2.0,1.0,1.0,2.0,1.0,1.0,2.0,2.0,1.0,1.0,1.0,1.0,1.0,1.0,1.0,1.0,1.0,1.0,1.0,1.0,1.0,1.0,1.0,2.0,1.0,1.0,1.0,1.0,1.0,1.0,1.0,2.0,1.0,1.0,1.0,1.0,1.0,2.0,1.0,2.0,2.0,1.0,1.0,1.0,1.0,1.0],\n",
       "'word':[\"whzth\",\"czrzi\",\"gsxyz\",\"doayn\",\"uwxzh\",\"dgcba\",\"cxcau\",\"ofvhf\",\"ziudi\",\"wwxot\",\"spiee\",\"lzxba\",\"kdtsz\",\"sesee\",\"zkcjb\",\"ajmkn\",\"qdxio\",\"nhzbq\",\"cejrx\",\"kbaaz\",\"qmadk\",\"ymvqz\",\"sedfy\",\"ftqgq\",\"pgmxr\",\"ndygs\",\"ydmux\",\"jovee\",\"agqos\",\"ofywt\",\"srdoi\",\"dyfqm\",\"lpxap\",\"srjqn\",\"khiqb\",\"brtqe\",\"kitlb\",\"ktxlh\",\"ccxdj\",\"afqwf\",\"czsrt\",\"dkkly\",\"ixtxy\",\"rjriw\",\"vjnka\",\"uzwqo\",\"hneei\",\"fgkzs\",\"rtztk\",\"niipw\",\"dgcba\",\"doayn\",\"kbaaz\",\"srdoi\",\"gsxyz\",\"srjqn\",\"ziudi\",\"lpxap\",\"cxcau\",\"czsrt\",\"dyfqm\",\"rtztk\",\"dkkly\",\"jovee\",\"nhzbq\",\"niipw\",\"whzth\",\"afqwf\",\"sesee\",\"qdxio\",\"kdtsz\",\"ccxdj\",\"uzwqo\",\"wwxot\",\"ndygs\",\"lzxba\",\"ymvqz\",\"kitlb\",\"rtztk\",\"pgmxr\",\"kitlb\",\"spiee\",\"cejrx\",\"fgkzs\",\"dkkly\",\"lpxap\",\"dyfqm\",\"agqos\",\"brtqe\",\"ydmux\",\"ndygs\",\"uzwqo\",\"nhzbq\",\"dgcba\",\"khiqb\",\"ajmkn\",\"ktxlh\",\"hneei\",\"ziudi\",\"ofvhf\",\"ixtxy\",\"zkcjb\",\"czrzi\"],\n",
       "'g':[\"c\",\"c\",\"c\",\"c\",\"c\",\"c\",\"c\",\"c\",\"c\",\"c\",\"c\",\"c\",\"c\",\"c\",\"c\",\"c\",\"c\",\"c\",\"c\",\"c\",\"c\",\"c\",\"c\",\"c\",\"c\",\"c\",\"c\",\"c\",\"c\",\"c\",\"c\",\"c\",\"c\",\"c\",\"c\",\"c\",\"c\",\"c\",\"c\",\"c\",\"c\",\"c\",\"c\",\"c\",\"c\",\"c\",\"c\",\"c\",\"c\",\"c\",\"a\",\"a\",\"a\",\"a\",\"a\",\"a\",\"a\",\"a\",\"a\",\"a\",\"a\",\"a\",\"a\",\"a\",\"a\",\"a\",\"a\",\"a\",\"a\",\"a\",\"a\",\"a\",\"a\",\"a\",\"a\",\"a\",\"a\",\"a\",\"b\",\"b\",\"b\",\"b\",\"b\",\"b\",\"b\",\"b\",\"b\",\"b\",\"b\",\"b\",\"b\",\"b\",\"b\",\"b\",\"b\",\"b\",\"b\",\"b\",\"b\",\"b\",\"b\",\"b\",\"b\"]\n",
       "}\n",
       "}],\n",
       "'computation_messages':[\"sampling_pick(n=50) was applied to [bar/count stat] layer\"]\n",
       "};\n",
       "           var plotContainer = document.getElementById(\"WUOz7D\");\n",
       "           window.letsPlotCall(function() {{\n",
       "               LetsPlot.buildPlotFromProcessedSpecs(plotSpec, -1, -1, plotContainer);\n",
       "           }});\n",
       "       })();    \n",
       "   </script>"
      ],
      "text/plain": [
       "<lets_plot.plot.core.PlotSpec at 0x7ff2489c7110>"
      ]
     },
     "execution_count": 6,
     "metadata": {},
     "output_type": "execute_result"
    }
   ],
   "source": [
    "# 'pick' sampling preserves groups on bar chart.\n",
    "p + geom_bar(aes(fill='g'))"
   ]
  }
 ],
 "metadata": {
  "kernelspec": {
   "display_name": "Python 3",
   "language": "python",
   "name": "python3"
  },
  "language_info": {
   "codemirror_mode": {
    "name": "ipython",
    "version": 3
   },
   "file_extension": ".py",
   "mimetype": "text/x-python",
   "name": "python",
   "nbconvert_exporter": "python",
   "pygments_lexer": "ipython3",
   "version": "3.7.9"
  },
  "pycharm": {
   "stem_cell": {
    "cell_type": "raw",
    "metadata": {
     "collapsed": false
    },
    "source": []
   }
  }
 },
 "nbformat": 4,
 "nbformat_minor": 1
}
