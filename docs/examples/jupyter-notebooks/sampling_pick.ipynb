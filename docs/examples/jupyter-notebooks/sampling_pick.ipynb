{
 "cells": [
  {
   "cell_type": "markdown",
   "metadata": {},
   "source": [
    "<em><sub>This page is available as an executable or viewable <strong>Jupyter Notebook</strong>:</sub></em>\n",
    "<br/><br/>\n",
    "<a href=\"https://mybinder.org/v2/gh/JetBrains/lets-plot/v1.3.0demos1?filepath=docs%2Fexamples%2Fjupyter-notebooks%2Fsampling_pick.ipynb\"\n",
    "   target=\"_parent\"> \n",
    "   <img align=\"left\" \n",
    "        src=\"https://mybinder.org/badge_logo.svg\">\n",
    "</a>\n",
    "<a href=\"https://nbviewer.jupyter.org/github/JetBrains/lets-plot/blob/master/docs/examples/jupyter-notebooks/sampling_pick.ipynb\" \n",
    "   target=\"_parent\"> \n",
    "   <img align=\"right\" \n",
    "        src=\"https://raw.githubusercontent.com/jupyter/design/master/logos/Badges/nbviewer_badge.png\" \n",
    "        width=\"109\" height=\"20\">\n",
    "</a>\n",
    "<br/>\n",
    "<br/>\n",
    "\n",
    "\n",
    "## Pick Sampling"
   ]
  },
  {
   "cell_type": "code",
   "execution_count": 1,
   "metadata": {},
   "outputs": [
    {
     "data": {
      "text/html": [
       "\n",
       "            <div id=\"IPepso\"></div>\n",
       "            <script type=\"text/javascript\">\n",
       "                if(!window.letsPlotCallQueue) {\n",
       "                    window.letsPlotCallQueue = [];\n",
       "                }; \n",
       "                window.letsPlotCall = function(f) {\n",
       "                    window.letsPlotCallQueue.push(f);\n",
       "                };\n",
       "                (function() {\n",
       "                    var script = document.createElement(\"script\");\n",
       "                    script.type = \"text/javascript\";\n",
       "                    script.src = \"https://dl.bintray.com/jetbrains/lets-plot/lets-plot-1.3.0rc1.min.js\";\n",
       "                    script.onload = function() {\n",
       "                        window.letsPlotCall = function(f) {f();};\n",
       "                        window.letsPlotCallQueue.forEach(function(f) {f();});\n",
       "                        window.letsPlotCallQueue = [];\n",
       "                        \n",
       "            var div = document.createElement(\"div\");\n",
       "            div.style.color = 'darkblue';\n",
       "            div.textContent = 'Lets-Plot JS successfully loaded.';\n",
       "            document.getElementById(\"IPepso\").appendChild(div);\n",
       "        \n",
       "                    };\n",
       "                    script.onerror = function(event) {\n",
       "                        window.letsPlotCall = function(f) {};    // noop\n",
       "                        window.letsPlotCallQueue = [];\n",
       "                        var div = document.createElement(\"div\");\n",
       "                        div.style.color = 'darkred';\n",
       "                        div.textContent = 'Error loading Lets-Plot JS';\n",
       "                        document.getElementById(\"IPepso\").appendChild(div);\n",
       "                    };\n",
       "                    var e = document.getElementById(\"IPepso\");\n",
       "                    e.appendChild(script);\n",
       "                })()\n",
       "            </script>\n",
       "            "
      ]
     },
     "metadata": {},
     "output_type": "display_data"
    }
   ],
   "source": [
    "import numpy as np\n",
    "from lets_plot import *\n",
    "import random, string\n",
    "\n",
    "LetsPlot.setup_html()"
   ]
  },
  {
   "cell_type": "code",
   "execution_count": 2,
   "metadata": {},
   "outputs": [],
   "source": [
    "def gen_word(length):\n",
    "    letters = string.ascii_lowercase\n",
    "    return ''.join(random.choice(letters) for _ in range(length))\n",
    "\n",
    "def gen_word_set(n):\n",
    "    random.seed(1)\n",
    "    word_set = set()\n",
    "    while len(word_set) < n:\n",
    "        word_set.add(gen_word(5))\n",
    "    return word_set\n",
    "\n",
    "def data(n, word_set):\n",
    "    word_choice = list(word_set)\n",
    "    words=[]\n",
    "    groups = []\n",
    "    for _ in range(n):\n",
    "        words.append(np.random.choice(word_choice))\n",
    "        groups.append(np.random.choice(['a','b','c']))\n",
    "\n",
    "    return dict(word=words, g=groups)"
   ]
  },
  {
   "cell_type": "code",
   "execution_count": 3,
   "metadata": {},
   "outputs": [],
   "source": [
    "# Number of unique words exceeds threshold (50) of default 'pick' sampling on bar chart.\n",
    "N = 500\n",
    "word_set = gen_word_set(N)\n",
    "dat = data(1000, word_set)\n",
    "p = ggplot(dat, aes(x='word'))"
   ]
  },
  {
   "cell_type": "code",
   "execution_count": 4,
   "metadata": {},
   "outputs": [
    {
     "data": {
      "text/html": [
       "   <div id=\"Qmv3zd\"></div>\n",
       "   <script type=\"text/javascript\">\n",
       "       (function() {\n",
       "           var plotSpec={\n",
       "'data':{\n",
       "},\n",
       "'mapping':{\n",
       "'x':\"word\"\n",
       "},\n",
       "'data_meta':{\n",
       "},\n",
       "'kind':\"plot\",\n",
       "'scales':[],\n",
       "'layers':[{\n",
       "'geom':\"bar\",\n",
       "'mapping':{\n",
       "},\n",
       "'data_meta':{\n",
       "},\n",
       "'sampling':\"none\",\n",
       "'data':{\n",
       "'..count..':[3.0,4.0,1.0,3.0,1.0,4.0,2.0,5.0,2.0,2.0,2.0,2.0,3.0,4.0,3.0,4.0,3.0,2.0,5.0,3.0,4.0,6.0,3.0,7.0,2.0,3.0,3.0,2.0,3.0,3.0,2.0,6.0,2.0,3.0,2.0,1.0,4.0,4.0,5.0,3.0,3.0,3.0,3.0,1.0,2.0,2.0,2.0,4.0,2.0,2.0,3.0,3.0,1.0,4.0,1.0,1.0,2.0,2.0,3.0,2.0,3.0,4.0,3.0,1.0,5.0,2.0,4.0,3.0,5.0,2.0,4.0,4.0,4.0,3.0,2.0,2.0,2.0,3.0,2.0,3.0,2.0,3.0,4.0,4.0,3.0,5.0,3.0,2.0,2.0,1.0,1.0,2.0,2.0,3.0,1.0,2.0,2.0,2.0,2.0,1.0,3.0,2.0,2.0,3.0,3.0,1.0,4.0,2.0,1.0,3.0,3.0,2.0,1.0,2.0,3.0,3.0,6.0,3.0,3.0,1.0,4.0,7.0,1.0,2.0,3.0,1.0,4.0,6.0,1.0,2.0,2.0,1.0,3.0,3.0,1.0,6.0,3.0,1.0,2.0,4.0,2.0,3.0,3.0,1.0,2.0,5.0,2.0,3.0,2.0,2.0,3.0,4.0,2.0,2.0,2.0,4.0,7.0,4.0,3.0,3.0,5.0,2.0,4.0,1.0,2.0,6.0,2.0,2.0,2.0,4.0,4.0,1.0,3.0,2.0,2.0,1.0,1.0,3.0,2.0,4.0,2.0,4.0,2.0,2.0,4.0,4.0,3.0,2.0,3.0,2.0,2.0,2.0,3.0,1.0,2.0,1.0,3.0,3.0,3.0,1.0,1.0,4.0,2.0,3.0,1.0,3.0,3.0,2.0,1.0,1.0,1.0,4.0,3.0,1.0,2.0,4.0,4.0,3.0,1.0,4.0,2.0,1.0,3.0,4.0,1.0,2.0,2.0,3.0,2.0,1.0,2.0,1.0,2.0,2.0,3.0,2.0,1.0,3.0,2.0,1.0,2.0,3.0,3.0,2.0,3.0,1.0,3.0,2.0,2.0,3.0,2.0,1.0,2.0,1.0,1.0,2.0,4.0,1.0,3.0,2.0,2.0,1.0,4.0,3.0,2.0,2.0,1.0,2.0,4.0,1.0,3.0,1.0,1.0,3.0,1.0,1.0,2.0,1.0,3.0,1.0,1.0,2.0,3.0,1.0,4.0,3.0,2.0,3.0,3.0,2.0,2.0,1.0,2.0,1.0,1.0,3.0,2.0,2.0,1.0,2.0,2.0,2.0,2.0,1.0,2.0,2.0,3.0,3.0,1.0,1.0,3.0,1.0,3.0,1.0,2.0,1.0,2.0,1.0,1.0,3.0,2.0,4.0,1.0,1.0,1.0,1.0,2.0,3.0,1.0,3.0,2.0,3.0,2.0,2.0,1.0,3.0,2.0,1.0,2.0,2.0,3.0,2.0,2.0,3.0,1.0,1.0,3.0,3.0,2.0,2.0,2.0,2.0,3.0,1.0,1.0,1.0,2.0,1.0,1.0,2.0,2.0,1.0,1.0,3.0,2.0,3.0,3.0,2.0,1.0,2.0,4.0,1.0,2.0,2.0,4.0,1.0,3.0,1.0,3.0,1.0,2.0,2.0,2.0,2.0,2.0,3.0,1.0,3.0,1.0,2.0,2.0,2.0,1.0,1.0,1.0,2.0,2.0,2.0,1.0,2.0,3.0,3.0,2.0,2.0,1.0,2.0,1.0,1.0,2.0,1.0,2.0,1.0,1.0,1.0,1.0,1.0,1.0,1.0,2.0,1.0,2.0,1.0,1.0,1.0,1.0,2.0,2.0,1.0,1.0,1.0,1.0,1.0,1.0,1.0,1.0],\n",
       "'word':[\"amndz\",\"ytali\",\"twgfq\",\"lediy\",\"phwnk\",\"lbudx\",\"djhty\",\"hdses\",\"yzkcq\",\"gmufm\",\"mkpdf\",\"bgnbb\",\"yueza\",\"mbxik\",\"agqos\",\"xmmnv\",\"lsloi\",\"ghkic\",\"ymvqz\",\"xlcur\",\"cjjxf\",\"ftyfx\",\"kbaaz\",\"tqebk\",\"bxfow\",\"tvacn\",\"neafi\",\"sxklz\",\"xqgtn\",\"vgnxa\",\"igcux\",\"oljym\",\"ceffr\",\"jwelp\",\"lqavm\",\"hmcir\",\"amioi\",\"oljrm\",\"itjgq\",\"wdsap\",\"zhnfv\",\"uwxzh\",\"myods\",\"uzwqo\",\"fkoet\",\"mcsrh\",\"tfejp\",\"ofywt\",\"bvcca\",\"ardjq\",\"doayn\",\"whdhk\",\"qdxio\",\"yzgjj\",\"xbnog\",\"rvnvx\",\"hhkpv\",\"sujmi\",\"xfglm\",\"ltphk\",\"oixzh\",\"xlivu\",\"yruoq\",\"biydn\",\"nomrd\",\"qhayg\",\"ndygs\",\"bphxz\",\"hdwgw\",\"mwncc\",\"ybtnn\",\"qdekx\",\"mgjzd\",\"zzlux\",\"sgpdv\",\"tyyaw\",\"feyew\",\"rwyvx\",\"qkdnl\",\"dkkly\",\"puzrg\",\"gotqn\",\"nsiea\",\"vjcdh\",\"naslp\",\"euyzg\",\"gnrut\",\"leszj\",\"nbloa\",\"zwnvr\",\"kzksc\",\"couja\",\"jeeqd\",\"hyoja\",\"egehx\",\"qewsi\",\"qilkk\",\"pumzg\",\"zifyc\",\"sizhw\",\"sifyx\",\"qvlyq\",\"rgqnp\",\"firba\",\"erxby\",\"ajmkn\",\"vomku\",\"vszkv\",\"pzitk\",\"mywoa\",\"jsztc\",\"aeivh\",\"tvnil\",\"qtjeg\",\"whzth\",\"ldkbe\",\"ckbob\",\"nhzbq\",\"ujreb\",\"niqjx\",\"qvnrh\",\"kvidt\",\"rnvcw\",\"dvkia\",\"czrzi\",\"iuwjo\",\"spdeu\",\"wqxto\",\"pazun\",\"sjhkd\",\"wikps\",\"hneei\",\"eszyc\",\"fzeud\",\"hycqf\",\"otvqg\",\"wpvli\",\"lpxap\",\"hpomy\",\"cxcau\",\"nrmjh\",\"ypgwp\",\"spqms\",\"raoyb\",\"wfdhm\",\"riltx\",\"ktppk\",\"hmrmf\",\"gsxyz\",\"pkdgu\",\"ktmja\",\"gzblo\",\"rbuls\",\"ccxdj\",\"gjwwu\",\"dgcba\",\"hyaaj\",\"csevg\",\"kkqzm\",\"ygvbp\",\"kitlb\",\"utara\",\"dseqq\",\"chhaz\",\"iaomz\",\"rqhni\",\"cxhiv\",\"zdvjd\",\"wwazb\",\"pzykl\",\"wpesr\",\"txqps\",\"lwibr\",\"rictz\",\"ydmux\",\"ozwhu\",\"mzxqz\",\"rhlhv\",\"cgapu\",\"txxxq\",\"uaapb\",\"mqlgh\",\"wcmuw\",\"dgicu\",\"esesd\",\"rcrkk\",\"msaqg\",\"gnira\",\"rsmgo\",\"cwfin\",\"zztsd\",\"lnlar\",\"iimsm\",\"oixnf\",\"czsrt\",\"zytkp\",\"ezvba\",\"cpucr\",\"exivg\",\"lnmjv\",\"vvwco\",\"auram\",\"rbove\",\"brgrn\",\"dupbq\",\"mjqpa\",\"prthi\",\"dayxv\",\"turch\",\"rjcqj\",\"xuecq\",\"wqraj\",\"ktxlh\",\"kxwqn\",\"afklg\",\"knyhz\",\"gaxry\",\"rrhmq\",\"mlxfh\",\"uyvxg\",\"oipol\",\"ufrsf\",\"dpamn\",\"mkmcc\",\"grnwh\",\"rtszt\",\"inxrj\",\"whitw\",\"ylriz\",\"brtqe\",\"nwink\",\"bkfkz\",\"ijvvz\",\"afqkq\",\"wjrlf\",\"voznr\",\"rtxui\",\"nrudf\",\"lrrzx\",\"uxjdx\",\"ppedq\",\"xgqqm\",\"zfrlp\",\"dzbja\",\"ueuym\",\"uovux\",\"jqebo\",\"tphno\",\"cwqvl\",\"khdcv\",\"ulmqf\",\"xgwqw\",\"kzxvs\",\"facnt\",\"lvsyy\",\"hlcic\",\"sulzp\",\"swore\",\"ixtxy\",\"vlrgz\",\"serom\",\"amkfi\",\"oqrxb\",\"xeizm\",\"zylnm\",\"cifde\",\"hqiiw\",\"oqrxs\",\"kdtsz\",\"nxvsb\",\"lszjn\",\"estev\",\"ruqbl\",\"gwoaj\",\"qulfq\",\"xwjwf\",\"pilei\",\"tbbzk\",\"evsbl\",\"ihmxr\",\"qhyop\",\"pemwd\",\"otazh\",\"zgvuc\",\"zapkm\",\"hsgqs\",\"qvsat\",\"bpvmw\",\"rgijs\",\"uhbcy\",\"mkqnl\",\"eeihg\",\"pdumm\",\"jeoip\",\"oayyi\",\"ajyzl\",\"pdvef\",\"mnvfl\",\"xmcsz\",\"vrtxa\",\"giykt\",\"uqnfg\",\"wgcuc\",\"ftqgq\",\"nhqrg\",\"anjsx\",\"jxtko\",\"jipgp\",\"yajth\",\"xceyt\",\"bebqp\",\"oxplp\",\"squcc\",\"lvrpy\",\"eiiil\",\"qvgjj\",\"dzbgh\",\"snmkt\",\"pykmo\",\"hmznm\",\"aauth\",\"wkppd\",\"gztyr\",\"zsnfd\",\"nrfbw\",\"spiee\",\"uemxr\",\"vqpmd\",\"kzets\",\"rwmar\",\"bufvv\",\"aucfo\",\"ktzvr\",\"qdxsn\",\"sedfy\",\"zurkn\",\"iroro\",\"ofvhf\",\"tcxlk\",\"amevr\",\"egbjc\",\"dpybu\",\"rjriw\",\"mljyk\",\"foqbi\",\"qmadk\",\"ucqpq\",\"nxtbz\",\"iiuuh\",\"smuff\",\"tqdfh\",\"vjnka\",\"yrrff\",\"zgufq\",\"scilj\",\"zuxet\",\"fkvhc\",\"ixpbx\",\"rrchm\",\"frgjg\",\"zdple\",\"bjwts\",\"afqwf\",\"znrfw\",\"wzjhg\",\"uupky\",\"hbszs\",\"ziudi\",\"fiqfv\",\"divif\",\"ivdmr\",\"zkcjb\",\"rnrgw\",\"wcyuh\",\"wwxot\",\"ktodi\",\"niipw\",\"yfiua\",\"jklik\",\"srdoi\",\"dwgmv\",\"idpyo\",\"mqpcm\",\"gysmv\",\"igfje\",\"ukitx\",\"pzzwb\",\"fljcf\",\"lzxba\",\"sjoje\",\"qoser\",\"yocus\",\"fhhjo\",\"rhcxb\",\"okqzr\",\"eqyrg\",\"brbqe\",\"kadow\",\"pgmxr\",\"vffye\",\"iriqi\",\"yvnmi\",\"pxcin\",\"cejrx\",\"ftchp\",\"tqzss\",\"cdtqs\",\"cmzee\",\"xxqqa\",\"tlyoi\",\"escbj\",\"terwk\",\"lcovq\",\"drlfd\",\"rxbqc\",\"rtztk\",\"mfein\",\"ubmcr\",\"hquam\",\"flntw\",\"bsfvd\",\"sdkaa\",\"ejgvx\",\"xawdz\",\"ekjdw\",\"drviw\",\"fsosx\",\"ahame\",\"uihgd\",\"ulmjo\",\"dbsqa\",\"qjzzg\",\"qkdlz\",\"mcmzq\",\"kvhzv\"]\n",
       "}\n",
       "}]\n",
       "};\n",
       "           var plotContainer = document.getElementById(\"Qmv3zd\");\n",
       "           window.letsPlotCall(function() {{\n",
       "               LetsPlot.buildPlotFromProcessedSpecs(plotSpec, -1, -1, plotContainer);\n",
       "           }});\n",
       "       })();    \n",
       "   </script>"
      ],
      "text/plain": [
       "<lets_plot.plot.core.PlotSpec at 0x1157e6fd0>"
      ]
     },
     "execution_count": 4,
     "metadata": {},
     "output_type": "execute_result"
    }
   ],
   "source": [
    "# Disable sampling to see raw plot\n",
    "p + geom_bar(sampling='none')"
   ]
  },
  {
   "cell_type": "code",
   "execution_count": 5,
   "metadata": {},
   "outputs": [
    {
     "data": {
      "text/html": [
       "   <div id=\"sg3jXi\"></div>\n",
       "   <script type=\"text/javascript\">\n",
       "       (function() {\n",
       "           var plotSpec={\n",
       "'data':{\n",
       "},\n",
       "'mapping':{\n",
       "'x':\"word\"\n",
       "},\n",
       "'data_meta':{\n",
       "},\n",
       "'kind':\"plot\",\n",
       "'scales':[],\n",
       "'layers':[{\n",
       "'geom':\"bar\",\n",
       "'mapping':{\n",
       "},\n",
       "'data_meta':{\n",
       "},\n",
       "'data':{\n",
       "'..count..':[3.0,4.0,1.0,3.0,1.0,4.0,2.0,5.0,2.0,2.0,2.0,2.0,3.0,4.0,3.0,4.0,3.0,2.0,5.0,3.0,4.0,6.0,3.0,7.0,2.0,3.0,3.0,2.0,3.0,3.0,2.0,6.0,2.0,3.0,2.0,1.0,4.0,4.0,5.0,3.0,3.0,3.0,3.0,1.0,2.0,2.0,2.0,4.0,2.0,2.0],\n",
       "'word':[\"amndz\",\"ytali\",\"twgfq\",\"lediy\",\"phwnk\",\"lbudx\",\"djhty\",\"hdses\",\"yzkcq\",\"gmufm\",\"mkpdf\",\"bgnbb\",\"yueza\",\"mbxik\",\"agqos\",\"xmmnv\",\"lsloi\",\"ghkic\",\"ymvqz\",\"xlcur\",\"cjjxf\",\"ftyfx\",\"kbaaz\",\"tqebk\",\"bxfow\",\"tvacn\",\"neafi\",\"sxklz\",\"xqgtn\",\"vgnxa\",\"igcux\",\"oljym\",\"ceffr\",\"jwelp\",\"lqavm\",\"hmcir\",\"amioi\",\"oljrm\",\"itjgq\",\"wdsap\",\"zhnfv\",\"uwxzh\",\"myods\",\"uzwqo\",\"fkoet\",\"mcsrh\",\"tfejp\",\"ofywt\",\"bvcca\",\"ardjq\"]\n",
       "}\n",
       "}],\n",
       "'computation_messages':[\"sampling_pick(n=50) was applied to [bar/count stat] layer\"]\n",
       "};\n",
       "           var plotContainer = document.getElementById(\"sg3jXi\");\n",
       "           window.letsPlotCall(function() {{\n",
       "               LetsPlot.buildPlotFromProcessedSpecs(plotSpec, -1, -1, plotContainer);\n",
       "           }});\n",
       "       })();    \n",
       "   </script>"
      ],
      "text/plain": [
       "<lets_plot.plot.core.PlotSpec at 0x119154590>"
      ]
     },
     "execution_count": 5,
     "metadata": {},
     "output_type": "execute_result"
    }
   ],
   "source": [
    "# Draw plot with default sampling enabled\n",
    "p + geom_bar()"
   ]
  },
  {
   "cell_type": "code",
   "execution_count": 6,
   "metadata": {},
   "outputs": [
    {
     "data": {
      "text/html": [
       "   <div id=\"SZhGqh\"></div>\n",
       "   <script type=\"text/javascript\">\n",
       "       (function() {\n",
       "           var plotSpec={\n",
       "'data':{\n",
       "},\n",
       "'mapping':{\n",
       "'x':\"word\"\n",
       "},\n",
       "'data_meta':{\n",
       "},\n",
       "'kind':\"plot\",\n",
       "'scales':[],\n",
       "'layers':[{\n",
       "'geom':\"bar\",\n",
       "'mapping':{\n",
       "'fill':\"g\"\n",
       "},\n",
       "'data_meta':{\n",
       "},\n",
       "'data':{\n",
       "'..count..':[1.0,2.0,1.0,3.0,1.0,1.0,3.0,1.0,2.0,2.0,2.0,2.0,2.0,3.0,1.0,1.0,2.0,2.0,2.0,1.0,1.0,1.0,2.0,1.0,1.0,1.0,3.0,2.0,1.0,1.0,2.0,1.0,1.0,2.0,2.0,2.0,1.0,1.0,1.0,1.0,1.0,1.0,1.0,1.0,1.0,1.0,2.0,1.0,2.0,2.0,1.0,2.0,2.0,1.0,1.0,1.0,1.0,1.0,1.0,2.0,1.0,1.0,1.0,2.0,1.0,2.0,2.0,1.0,1.0,2.0,1.0,1.0,1.0,1.0,1.0,2.0,2.0,1.0,2.0,2.0,1.0,2.0,2.0,1.0,2.0,1.0,1.0,1.0,1.0,1.0,1.0,1.0,1.0,2.0,1.0,2.0,1.0],\n",
       "'word':[\"amndz\",\"ytali\",\"twgfq\",\"lediy\",\"lsloi\",\"ghkic\",\"ymvqz\",\"cjjxf\",\"ftyfx\",\"kbaaz\",\"bxfow\",\"tvacn\",\"vgnxa\",\"oljym\",\"lqavm\",\"amioi\",\"oljrm\",\"itjgq\",\"myods\",\"uzwqo\",\"fkoet\",\"tfejp\",\"whdhk\",\"qdxio\",\"rvnvx\",\"oixzh\",\"ndygs\",\"hdwgw\",\"zzlux\",\"sgpdv\",\"tyyaw\",\"mkpdf\",\"gotqn\",\"nsiea\",\"vjcdh\",\"leszj\",\"nbloa\",\"kzksc\",\"rwyvx\",\"jeeqd\",\"egehx\",\"qilkk\",\"rgqnp\",\"mwncc\",\"pzitk\",\"jsztc\",\"aeivh\",\"tvnil\",\"whzth\",\"qvnrh\",\"mkpdf\",\"ftyfx\",\"rwyvx\",\"rgqnp\",\"hdwgw\",\"qvnrh\",\"amioi\",\"nsiea\",\"lqavm\",\"cjjxf\",\"nbloa\",\"amndz\",\"jeeqd\",\"lsloi\",\"fkoet\",\"oljym\",\"ymvqz\",\"whdhk\",\"ndygs\",\"itjgq\",\"tfejp\",\"ytali\",\"vgnxa\",\"myods\",\"mwncc\",\"amioi\",\"hdwgw\",\"itjgq\",\"ftyfx\",\"oljrm\",\"kbaaz\",\"vjcdh\",\"jsztc\",\"tvacn\",\"zzlux\",\"sgpdv\",\"amndz\",\"cjjxf\",\"qilkk\",\"nsiea\",\"ghkic\",\"oljym\",\"whzth\",\"gotqn\",\"ytali\",\"oixzh\",\"qvnrh\"],\n",
       "'g':[\"c\",\"c\",\"c\",\"c\",\"c\",\"c\",\"c\",\"c\",\"c\",\"c\",\"c\",\"c\",\"c\",\"c\",\"c\",\"c\",\"c\",\"c\",\"c\",\"c\",\"c\",\"c\",\"c\",\"c\",\"c\",\"c\",\"c\",\"c\",\"c\",\"c\",\"c\",\"c\",\"c\",\"c\",\"c\",\"c\",\"c\",\"c\",\"c\",\"c\",\"c\",\"c\",\"c\",\"c\",\"c\",\"c\",\"c\",\"c\",\"c\",\"c\",\"b\",\"b\",\"b\",\"b\",\"b\",\"b\",\"b\",\"b\",\"b\",\"b\",\"b\",\"b\",\"b\",\"b\",\"b\",\"b\",\"b\",\"b\",\"b\",\"b\",\"b\",\"b\",\"b\",\"b\",\"a\",\"a\",\"a\",\"a\",\"a\",\"a\",\"a\",\"a\",\"a\",\"a\",\"a\",\"a\",\"a\",\"a\",\"a\",\"a\",\"a\",\"a\",\"a\",\"a\",\"a\",\"a\",\"a\"]\n",
       "}\n",
       "}],\n",
       "'computation_messages':[\"sampling_pick(n=50) was applied to [bar/count stat] layer\"]\n",
       "};\n",
       "           var plotContainer = document.getElementById(\"SZhGqh\");\n",
       "           window.letsPlotCall(function() {{\n",
       "               LetsPlot.buildPlotFromProcessedSpecs(plotSpec, -1, -1, plotContainer);\n",
       "           }});\n",
       "       })();    \n",
       "   </script>"
      ],
      "text/plain": [
       "<lets_plot.plot.core.PlotSpec at 0x119154d10>"
      ]
     },
     "execution_count": 6,
     "metadata": {},
     "output_type": "execute_result"
    }
   ],
   "source": [
    "# 'pick' sampling handles groups on bar chart correctly.\n",
    "p + geom_bar(aes(fill='g'))"
   ]
  }
 ],
 "metadata": {
  "kernelspec": {
   "display_name": "Python 3",
   "language": "python",
   "name": "python3"
  },
  "language_info": {
   "codemirror_mode": {
    "name": "ipython",
    "version": 3
   },
   "file_extension": ".py",
   "mimetype": "text/x-python",
   "name": "python",
   "nbconvert_exporter": "python",
   "pygments_lexer": "ipython3",
   "version": "3.7.6"
  },
  "pycharm": {
   "stem_cell": {
    "cell_type": "raw",
    "metadata": {
     "collapsed": false
    },
    "source": []
   }
  }
 },
 "nbformat": 4,
 "nbformat_minor": 1
}
