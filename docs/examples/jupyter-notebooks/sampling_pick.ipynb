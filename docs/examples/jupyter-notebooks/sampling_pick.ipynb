{
 "cells": [
  {
   "cell_type": "markdown",
   "metadata": {},
   "source": [
    "## Pick Sampling"
   ]
  },
  {
   "cell_type": "code",
   "execution_count": 1,
   "metadata": {},
   "outputs": [
    {
     "data": {
      "text/html": [
       "\n",
       "            <div id=\"YgZLiF\"></div>\n",
       "            <script type=\"text/javascript\" data-lets-plot-script=\"library\">\n",
       "                if(!window.letsPlotCallQueue) {\n",
       "                    window.letsPlotCallQueue = [];\n",
       "                }; \n",
       "                window.letsPlotCall = function(f) {\n",
       "                    window.letsPlotCallQueue.push(f);\n",
       "                };\n",
       "                (function() {\n",
       "                    var script = document.createElement(\"script\");\n",
       "                    script.type = \"text/javascript\";\n",
       "                    script.src = \"https://cdn.jsdelivr.net/gh/JetBrains/lets-plot@v2.1.0rc1/js-package/distr/lets-plot.min.js\";\n",
       "                    script.onload = function() {\n",
       "                        window.letsPlotCall = function(f) {f();};\n",
       "                        window.letsPlotCallQueue.forEach(function(f) {f();});\n",
       "                        window.letsPlotCallQueue = [];\n",
       "                        \n",
       "                    };\n",
       "                    script.onerror = function(event) {\n",
       "                        window.letsPlotCall = function(f) {};    // noop\n",
       "                        window.letsPlotCallQueue = [];\n",
       "                        var div = document.createElement(\"div\");\n",
       "                        div.style.color = 'darkred';\n",
       "                        div.textContent = 'Error loading Lets-Plot JS';\n",
       "                        document.getElementById(\"YgZLiF\").appendChild(div);\n",
       "                    };\n",
       "                    var e = document.getElementById(\"YgZLiF\");\n",
       "                    e.appendChild(script);\n",
       "                })()\n",
       "            </script>\n",
       "            "
      ]
     },
     "metadata": {},
     "output_type": "display_data"
    }
   ],
   "source": [
    "import numpy as np\n",
    "from lets_plot import *\n",
    "import random, string\n",
    "\n",
    "LetsPlot.setup_html()"
   ]
  },
  {
   "cell_type": "code",
   "execution_count": 2,
   "metadata": {},
   "outputs": [],
   "source": [
    "def gen_word(length):\n",
    "    letters = string.ascii_lowercase\n",
    "    return ''.join(random.choice(letters) for _ in range(length))\n",
    "\n",
    "def gen_word_set(n):\n",
    "    random.seed(1)\n",
    "    word_set = set()\n",
    "    while len(word_set) < n:\n",
    "        word_set.add(gen_word(5))\n",
    "    return word_set\n",
    "\n",
    "def data(n, word_set):\n",
    "    word_choice = list(word_set)\n",
    "    words=[]\n",
    "    groups = []\n",
    "    for _ in range(n):\n",
    "        words.append(np.random.choice(word_choice))\n",
    "        groups.append(np.random.choice(['a','b','c']))\n",
    "\n",
    "    return dict(word=words, g=groups)"
   ]
  },
  {
   "cell_type": "code",
   "execution_count": 3,
   "metadata": {},
   "outputs": [],
   "source": [
    "# Number of unique words exceeds threshold (50) of default 'pick' sampling on bar chart.\n",
    "N = 500\n",
    "word_set = gen_word_set(N)\n",
    "dat = data(1000, word_set)\n",
    "p = ggplot(dat, aes(x='word'))"
   ]
  },
  {
   "cell_type": "code",
   "execution_count": 4,
   "metadata": {},
   "outputs": [
    {
     "data": {
      "text/html": [
       "   <div id=\"Lu0fGl\"></div>\n",
       "   <script type=\"text/javascript\" data-lets-plot-script=\"plot\">\n",
       "       (function() {\n",
       "           var plotSpec={\n",
       "\"data\":{\n",
       "},\n",
       "\"mapping\":{\n",
       "\"x\":\"word\"\n",
       "},\n",
       "\"data_meta\":{\n",
       "},\n",
       "\"kind\":\"plot\",\n",
       "\"scales\":[],\n",
       "\"layers\":[{\n",
       "\"geom\":\"bar\",\n",
       "\"mapping\":{\n",
       "},\n",
       "\"sampling\":\"none\",\n",
       "\"data_meta\":{\n",
       "},\n",
       "\"data\":{\n",
       "\"..count..\":[4.0,1.0,5.0,2.0,2.0,1.0,3.0,2.0,3.0,1.0,2.0,2.0,3.0,3.0,3.0,4.0,5.0,2.0,5.0,2.0,4.0,1.0,5.0,2.0,2.0,5.0,5.0,3.0,2.0,2.0,7.0,3.0,5.0,5.0,1.0,2.0,2.0,1.0,3.0,2.0,2.0,2.0,3.0,2.0,2.0,1.0,2.0,4.0,2.0,3.0,5.0,1.0,3.0,3.0,2.0,1.0,3.0,2.0,1.0,3.0,4.0,2.0,3.0,1.0,3.0,3.0,1.0,4.0,2.0,3.0,3.0,3.0,5.0,2.0,2.0,5.0,3.0,4.0,2.0,5.0,3.0,1.0,1.0,3.0,3.0,5.0,2.0,3.0,4.0,3.0,3.0,5.0,3.0,1.0,2.0,3.0,3.0,3.0,1.0,3.0,2.0,2.0,5.0,4.0,3.0,3.0,3.0,3.0,2.0,4.0,2.0,3.0,2.0,5.0,5.0,4.0,5.0,2.0,3.0,1.0,2.0,3.0,4.0,3.0,1.0,1.0,5.0,4.0,2.0,2.0,2.0,2.0,2.0,3.0,2.0,5.0,2.0,3.0,2.0,2.0,2.0,1.0,1.0,3.0,4.0,1.0,2.0,2.0,2.0,2.0,3.0,1.0,1.0,2.0,4.0,2.0,4.0,3.0,3.0,1.0,4.0,1.0,2.0,3.0,2.0,1.0,1.0,4.0,2.0,2.0,1.0,1.0,2.0,3.0,2.0,2.0,3.0,3.0,1.0,2.0,1.0,2.0,2.0,2.0,4.0,2.0,3.0,1.0,2.0,7.0,3.0,2.0,3.0,3.0,2.0,3.0,3.0,2.0,4.0,5.0,1.0,2.0,3.0,3.0,1.0,5.0,1.0,2.0,2.0,2.0,2.0,2.0,4.0,2.0,4.0,2.0,1.0,4.0,1.0,4.0,1.0,2.0,4.0,5.0,1.0,2.0,1.0,4.0,3.0,2.0,2.0,2.0,3.0,2.0,1.0,2.0,1.0,2.0,4.0,3.0,4.0,3.0,3.0,2.0,2.0,2.0,2.0,1.0,3.0,4.0,2.0,3.0,3.0,2.0,4.0,3.0,1.0,3.0,1.0,1.0,2.0,2.0,1.0,3.0,1.0,1.0,1.0,1.0,3.0,3.0,3.0,2.0,2.0,3.0,2.0,3.0,3.0,1.0,1.0,1.0,4.0,2.0,2.0,1.0,1.0,2.0,1.0,3.0,2.0,2.0,2.0,2.0,1.0,2.0,1.0,4.0,2.0,2.0,3.0,2.0,3.0,2.0,2.0,1.0,1.0,2.0,1.0,1.0,2.0,2.0,2.0,2.0,3.0,3.0,3.0,1.0,1.0,2.0,1.0,2.0,2.0,1.0,3.0,3.0,3.0,1.0,1.0,2.0,1.0,3.0,2.0,2.0,2.0,1.0,2.0,2.0,2.0,1.0,2.0,3.0,1.0,2.0,2.0,1.0,1.0,4.0,3.0,1.0,4.0,2.0,1.0,1.0,2.0,2.0,2.0,1.0,2.0,1.0,4.0,1.0,1.0,3.0,3.0,3.0,2.0,1.0,3.0,2.0,2.0,1.0,3.0,2.0,1.0,3.0,2.0,1.0,1.0,1.0,3.0,2.0,1.0,1.0,1.0,2.0,1.0,1.0,3.0,1.0,3.0,1.0,2.0,1.0,1.0,1.0,2.0,1.0,2.0,1.0,1.0,1.0,1.0,1.0,1.0,1.0,1.0,1.0,2.0,1.0,1.0,1.0,1.0,2.0,1.0,3.0,3.0,2.0,2.0,2.0,1.0,1.0,2.0,2.0,1.0,1.0,1.0,1.0,1.0,1.0,1.0,1.0,2.0,1.0,1.0,1.0,1.0,1.0,1.0,1.0,1.0,1.0,1.0,1.0,1.0,1.0,1.0,1.0],\n",
       "\"word\":[\"zztsd\",\"wjrlf\",\"ylriz\",\"hneei\",\"qewsi\",\"ujreb\",\"hdses\",\"deewi\",\"tfejp\",\"wqraj\",\"kzxvs\",\"leszj\",\"zdvjd\",\"qoser\",\"vlrgz\",\"cmzee\",\"uyvxg\",\"cjjxf\",\"vjnka\",\"mqpcm\",\"ufrsf\",\"yvnmi\",\"lvsyy\",\"wwxot\",\"eszyc\",\"ulmjo\",\"auram\",\"pxcin\",\"qvnrh\",\"unbxj\",\"otvqg\",\"fsosx\",\"ofvhf\",\"qkdlz\",\"ruqbl\",\"lpbrp\",\"clcvo\",\"jsztc\",\"nxtbz\",\"sjoje\",\"pkdgu\",\"xmmnv\",\"ardjq\",\"euyzg\",\"rgijs\",\"vomku\",\"firba\",\"gjwwu\",\"twgfq\",\"kadow\",\"xkyru\",\"amndz\",\"graiu\",\"txqps\",\"wcmuw\",\"esesd\",\"zfrlp\",\"dzbgh\",\"nbpls\",\"xbnog\",\"hpomy\",\"dupbq\",\"hmznm\",\"qvgjj\",\"hidzt\",\"dgsvn\",\"arjvy\",\"cgapu\",\"egbjc\",\"uhbcy\",\"fkvhc\",\"xgwqw\",\"zytkp\",\"gzblo\",\"xwgfj\",\"zuxet\",\"uihgd\",\"sdkaa\",\"niqjx\",\"hvatm\",\"aeivh\",\"ubmcr\",\"gnira\",\"voznr\",\"uzwqo\",\"znrfw\",\"rqhni\",\"cdtqs\",\"qbmgl\",\"mdvoj\",\"rcrkk\",\"exivg\",\"zekng\",\"bxfow\",\"rwyvx\",\"inxrj\",\"ftyfx\",\"raoyb\",\"eeihg\",\"ezvba\",\"escbj\",\"hbszs\",\"ndygs\",\"mcmzq\",\"nrfbw\",\"xxqqa\",\"amioi\",\"ajmkn\",\"hlcic\",\"rtszt\",\"dgicu\",\"brbqe\",\"qulfq\",\"estev\",\"uxjdx\",\"couja\",\"jipgp\",\"drviw\",\"spiee\",\"misoa\",\"vjcdh\",\"ahame\",\"jeoip\",\"rtxui\",\"ckbob\",\"zgidi\",\"kkqzm\",\"qvsat\",\"nhqrg\",\"rrchm\",\"sizhw\",\"mbxik\",\"afklg\",\"hmrmf\",\"gmufm\",\"vhiyc\",\"rwmar\",\"hyaaj\",\"srdoi\",\"riltx\",\"sesee\",\"rjcqj\",\"fiqfv\",\"itjgq\",\"ktppk\",\"sxwxc\",\"iimsm\",\"uemxr\",\"oljrm\",\"qhayg\",\"nsiea\",\"lzxba\",\"drlfd\",\"knxfr\",\"kbaaz\",\"kzets\",\"yajth\",\"vffye\",\"oqrxb\",\"divif\",\"wdsap\",\"uaapb\",\"mqlgh\",\"bgnbb\",\"uovux\",\"ulmqf\",\"lqavm\",\"xqici\",\"gztyr\",\"lbudx\",\"tqdfh\",\"djhty\",\"zwnvr\",\"dwgmv\",\"sujmi\",\"oxplp\",\"doayn\",\"rrhmq\",\"mzxqz\",\"puzrg\",\"jklik\",\"sifyx\",\"cwqvl\",\"gaxry\",\"vrtxa\",\"pgdnt\",\"lwibr\",\"ukhmj\",\"swore\",\"zhnfv\",\"nxvsb\",\"zdple\",\"yueza\",\"utara\",\"rbuls\",\"eiiil\",\"rxbqc\",\"gsxyz\",\"xawdz\",\"qzass\",\"wikps\",\"spdeu\",\"sxklz\",\"brgrn\",\"cwfin\",\"mgjzd\",\"tcxlk\",\"mlxfh\",\"xlcur\",\"lszjn\",\"hquam\",\"foqbi\",\"pdvef\",\"uqnfg\",\"ukitx\",\"ybwkn\",\"jwelp\",\"iroro\",\"squcc\",\"prthi\",\"cpucr\",\"pilei\",\"ucqpq\",\"otazh\",\"khiqb\",\"kdtsz\",\"cejrx\",\"hqiiw\",\"khdcv\",\"hyoja\",\"mywoa\",\"zkcjb\",\"czrzi\",\"rjriw\",\"ktodi\",\"qjzzg\",\"rqntu\",\"oixzh\",\"bsfvd\",\"czsrt\",\"ktxlh\",\"zylnm\",\"scilj\",\"bpvmw\",\"yruoq\",\"qhyop\",\"xdnmz\",\"qdxio\",\"nmtob\",\"kxwqn\",\"snmkt\",\"ozwhu\",\"bbzta\",\"pzitk\",\"wwazb\",\"mkmcc\",\"xlivu\",\"tphno\",\"srjqn\",\"wcyuh\",\"iriqi\",\"rndvj\",\"yfiua\",\"dzbja\",\"feyew\",\"uojyd\",\"yzkcq\",\"zgvuc\",\"wkppd\",\"biydn\",\"oixnf\",\"fkoet\",\"hhkpv\",\"ltphk\",\"okqzr\",\"wpesr\",\"qkdnl\",\"afqwf\",\"xwjwf\",\"bufvv\",\"serom\",\"igfje\",\"wfdhm\",\"fljcf\",\"idpyo\",\"pdumm\",\"rhlhv\",\"rgqnp\",\"ppedq\",\"amevr\",\"mjqpa\",\"hsgqs\",\"igcux\",\"tbbzk\",\"evsbl\",\"amkfi\",\"sjhkd\",\"zapkm\",\"pgmxr\",\"ivdmr\",\"egehx\",\"lxuwh\",\"ymvqz\",\"whdhk\",\"ldkbe\",\"tpdem\",\"nwink\",\"qdxsn\",\"yrrff\",\"vvwco\",\"zifyc\",\"yvacc\",\"ixpbx\",\"bphxz\",\"sedfy\",\"phwnk\",\"rsmgo\",\"dnush\",\"lrrzx\",\"bkfkz\",\"ccxdj\",\"vszkv\",\"gwoaj\",\"mcsrh\",\"dkkly\",\"mkqnl\",\"oayyi\",\"myods\",\"terwk\",\"ejgvx\",\"nhzbq\",\"xgqqm\",\"naslp\",\"fzeud\",\"brtqe\",\"pemwd\",\"pxhuu\",\"knyhz\",\"pazun\",\"smuff\",\"gnrut\",\"lnlar\",\"ghkic\",\"ziudi\",\"turch\",\"hmcir\",\"xmcsz\",\"wqxto\",\"jqebo\",\"grnwh\",\"wpvli\",\"ofywt\",\"frgjg\",\"ekjdw\",\"ybtnn\",\"zurkn\",\"rhcxb\",\"yocus\",\"cxhiv\",\"rictz\",\"oqrxs\",\"wzjhg\",\"iuwjo\",\"rnvcw\",\"jovee\",\"adiep\",\"bqkqw\",\"ydkbn\",\"jxtko\",\"ktmja\",\"xeizm\",\"gotqn\",\"lnmjv\",\"fgkzs\",\"dyfqm\",\"cxcau\",\"zadsx\",\"lediy\",\"vdqfr\",\"lacem\",\"tkrqf\",\"dayxv\",\"ydmux\",\"etioq\",\"ixtxy\",\"tqebk\",\"neafi\",\"qtjeg\",\"rtztk\",\"ijvvz\",\"rbove\",\"oljym\",\"tyyaw\",\"qilkk\",\"lpxap\",\"facnt\",\"oipol\",\"nomrd\",\"uwxzh\",\"dgcba\",\"tlyoi\",\"mljyk\",\"zgufq\",\"csevg\",\"lvrpy\",\"tvacn\",\"dvkia\",\"yivoz\",\"gysmv\",\"iaomz\",\"hcurw\",\"bsqcs\",\"xceyt\",\"aucfo\",\"nrudf\",\"eqyrg\",\"afqkq\",\"rvnvx\",\"hdwgw\",\"dpybu\",\"iiuuh\",\"flntw\",\"ceffr\",\"pykmo\",\"bjwts\",\"ftqgq\",\"fhhjo\",\"pzykl\",\"xuecq\",\"fjuxw\",\"rnrgw\",\"agqos\",\"mnvfl\",\"sulzp\",\"ygvbp\",\"qdekx\",\"mkpdf\",\"hycqf\",\"spqms\",\"jeeqd\",\"dpamn\",\"sjgmf\",\"ajyzl\",\"ytali\",\"tqzss\",\"bwswv\"]\n",
       "}\n",
       "}]\n",
       "};\n",
       "           var plotContainer = document.getElementById(\"Lu0fGl\");\n",
       "           window.letsPlotCall(function() {{\n",
       "               LetsPlot.buildPlotFromProcessedSpecs(plotSpec, -1, -1, plotContainer);\n",
       "           }});\n",
       "       })();    \n",
       "   </script>"
      ],
      "text/plain": [
       "<lets_plot.plot.core.PlotSpec at 0x7f8e08083810>"
      ]
     },
     "execution_count": 4,
     "metadata": {},
     "output_type": "execute_result"
    }
   ],
   "source": [
    "# Disable sampling to see the overplotting.\n",
    "p + geom_bar(sampling='none')"
   ]
  },
  {
   "cell_type": "code",
   "execution_count": 5,
   "metadata": {},
   "outputs": [
    {
     "data": {
      "text/html": [
       "   <div id=\"obGaU8\"></div>\n",
       "   <script type=\"text/javascript\" data-lets-plot-script=\"plot\">\n",
       "       (function() {\n",
       "           var plotSpec={\n",
       "\"data\":{\n",
       "},\n",
       "\"mapping\":{\n",
       "\"x\":\"word\"\n",
       "},\n",
       "\"data_meta\":{\n",
       "},\n",
       "\"kind\":\"plot\",\n",
       "\"scales\":[],\n",
       "\"layers\":[{\n",
       "\"geom\":\"bar\",\n",
       "\"mapping\":{\n",
       "},\n",
       "\"data_meta\":{\n",
       "},\n",
       "\"data\":{\n",
       "\"..count..\":[4.0,1.0,5.0,2.0,2.0,1.0,3.0,2.0,3.0,1.0,2.0,2.0,3.0,3.0,3.0,4.0,5.0,2.0,5.0,2.0,4.0,1.0,5.0,2.0,2.0,5.0,5.0,3.0,2.0,2.0,7.0,3.0,5.0,5.0,1.0,2.0,2.0,1.0,3.0,2.0,2.0,2.0,3.0,2.0,2.0,1.0,2.0,4.0,2.0,3.0],\n",
       "\"word\":[\"zztsd\",\"wjrlf\",\"ylriz\",\"hneei\",\"qewsi\",\"ujreb\",\"hdses\",\"deewi\",\"tfejp\",\"wqraj\",\"kzxvs\",\"leszj\",\"zdvjd\",\"qoser\",\"vlrgz\",\"cmzee\",\"uyvxg\",\"cjjxf\",\"vjnka\",\"mqpcm\",\"ufrsf\",\"yvnmi\",\"lvsyy\",\"wwxot\",\"eszyc\",\"ulmjo\",\"auram\",\"pxcin\",\"qvnrh\",\"unbxj\",\"otvqg\",\"fsosx\",\"ofvhf\",\"qkdlz\",\"ruqbl\",\"lpbrp\",\"clcvo\",\"jsztc\",\"nxtbz\",\"sjoje\",\"pkdgu\",\"xmmnv\",\"ardjq\",\"euyzg\",\"rgijs\",\"vomku\",\"firba\",\"gjwwu\",\"twgfq\",\"kadow\"]\n",
       "}\n",
       "}],\n",
       "\"computation_messages\":[\"sampling_pick(n=50) was applied to [bar/count stat] layer\"]\n",
       "};\n",
       "           var plotContainer = document.getElementById(\"obGaU8\");\n",
       "           window.letsPlotCall(function() {{\n",
       "               LetsPlot.buildPlotFromProcessedSpecs(plotSpec, -1, -1, plotContainer);\n",
       "           }});\n",
       "       })();    \n",
       "   </script>"
      ],
      "text/plain": [
       "<lets_plot.plot.core.PlotSpec at 0x7f8e394dc8d0>"
      ]
     },
     "execution_count": 5,
     "metadata": {},
     "output_type": "execute_result"
    }
   ],
   "source": [
    "# Draw plot with default sampling.\n",
    "p + geom_bar()"
   ]
  },
  {
   "cell_type": "code",
   "execution_count": 6,
   "metadata": {},
   "outputs": [
    {
     "data": {
      "text/html": [
       "   <div id=\"U3jNBs\"></div>\n",
       "   <script type=\"text/javascript\" data-lets-plot-script=\"plot\">\n",
       "       (function() {\n",
       "           var plotSpec={\n",
       "\"data\":{\n",
       "},\n",
       "\"mapping\":{\n",
       "\"x\":\"word\"\n",
       "},\n",
       "\"data_meta\":{\n",
       "},\n",
       "\"kind\":\"plot\",\n",
       "\"scales\":[],\n",
       "\"layers\":[{\n",
       "\"geom\":\"bar\",\n",
       "\"mapping\":{\n",
       "\"fill\":\"g\"\n",
       "},\n",
       "\"data_meta\":{\n",
       "},\n",
       "\"data\":{\n",
       "\"..count..\":[3.0,1.0,1.0,1.0,1.0,2.0,2.0,1.0,2.0,3.0,3.0,1.0,1.0,2.0,2.0,2.0,1.0,2.0,1.0,2.0,1.0,1.0,1.0,1.0,2.0,2.0,1.0,1.0,3.0,2.0,2.0,1.0,2.0,1.0,1.0,1.0,1.0,3.0,1.0,1.0,1.0,1.0,2.0,1.0,3.0,1.0,1.0,1.0,1.0,4.0,2.0,1.0,1.0,1.0,3.0,1.0,1.0,1.0,1.0,3.0,1.0,2.0,1.0,1.0,1.0,1.0,1.0,1.0,1.0,1.0,1.0,1.0,1.0,1.0,1.0,1.0,1.0,1.0,1.0,1.0,3.0,3.0,1.0,2.0,1.0,1.0,1.0,1.0,3.0,1.0,1.0,2.0,2.0,1.0,3.0,1.0,1.0,1.0,1.0,1.0,1.0,1.0],\n",
       "\"word\":[\"zztsd\",\"ujreb\",\"hdses\",\"deewi\",\"kzxvs\",\"leszj\",\"qoser\",\"uyvxg\",\"lvsyy\",\"ulmjo\",\"auram\",\"qvnrh\",\"unbxj\",\"qkdlz\",\"sjoje\",\"gjwwu\",\"wcmuw\",\"dzbgh\",\"nbpls\",\"dupbq\",\"hmznm\",\"qvgjj\",\"arjvy\",\"cgapu\",\"fkvhc\",\"xwgfj\",\"zytkp\",\"gnira\",\"voznr\",\"uzwqo\",\"znrfw\",\"rqhni\",\"cdtqs\",\"rcrkk\",\"rwyvx\",\"ftyfx\",\"escbj\",\"ndygs\",\"ajmkn\",\"hlcic\",\"dgicu\",\"wwxot\",\"jeoip\",\"rtxui\",\"kkqzm\",\"nhqrg\",\"hvatm\",\"mbxik\",\"zfrlp\",\"vhiyc\",\"zfrlp\",\"zytkp\",\"ftyfx\",\"escbj\",\"znrfw\",\"hvatm\",\"hmznm\",\"auram\",\"kzxvs\",\"cgapu\",\"lvsyy\",\"ndygs\",\"ajmkn\",\"rcrkk\",\"rqhni\",\"uyvxg\",\"fkvhc\",\"kkqzm\",\"unbxj\",\"ulmjo\",\"uzwqo\",\"deewi\",\"hlcic\",\"qvnrh\",\"hdses\",\"qoser\",\"rwyvx\",\"wcmuw\",\"jeoip\",\"wwxot\",\"qkdlz\",\"hvatm\",\"dgicu\",\"lvsyy\",\"ftyfx\",\"zztsd\",\"cdtqs\",\"hmznm\",\"uyvxg\",\"vhiyc\",\"mbxik\",\"rtxui\",\"gjwwu\",\"ulmjo\",\"zytkp\",\"nhqrg\",\"rcrkk\",\"auram\",\"hdses\",\"jeoip\",\"kkqzm\",\"ajmkn\"],\n",
       "\"g\":[\"b\",\"b\",\"b\",\"b\",\"b\",\"b\",\"b\",\"b\",\"b\",\"b\",\"b\",\"b\",\"b\",\"b\",\"b\",\"b\",\"b\",\"b\",\"b\",\"b\",\"b\",\"b\",\"b\",\"b\",\"b\",\"b\",\"b\",\"b\",\"b\",\"b\",\"b\",\"b\",\"b\",\"b\",\"b\",\"b\",\"b\",\"b\",\"b\",\"b\",\"b\",\"b\",\"b\",\"b\",\"b\",\"b\",\"b\",\"b\",\"b\",\"b\",\"a\",\"a\",\"a\",\"a\",\"a\",\"a\",\"a\",\"a\",\"a\",\"a\",\"a\",\"a\",\"a\",\"a\",\"a\",\"a\",\"a\",\"a\",\"a\",\"a\",\"a\",\"a\",\"a\",\"a\",\"a\",\"a\",\"a\",\"a\",\"a\",\"c\",\"c\",\"c\",\"c\",\"c\",\"c\",\"c\",\"c\",\"c\",\"c\",\"c\",\"c\",\"c\",\"c\",\"c\",\"c\",\"c\",\"c\",\"c\",\"c\",\"c\",\"c\",\"c\"]\n",
       "}\n",
       "}],\n",
       "\"computation_messages\":[\"sampling_pick(n=50) was applied to [bar/count stat] layer\"]\n",
       "};\n",
       "           var plotContainer = document.getElementById(\"U3jNBs\");\n",
       "           window.letsPlotCall(function() {{\n",
       "               LetsPlot.buildPlotFromProcessedSpecs(plotSpec, -1, -1, plotContainer);\n",
       "           }});\n",
       "       })();    \n",
       "   </script>"
      ],
      "text/plain": [
       "<lets_plot.plot.core.PlotSpec at 0x7f8e394ed290>"
      ]
     },
     "execution_count": 6,
     "metadata": {},
     "output_type": "execute_result"
    }
   ],
   "source": [
    "# 'pick' sampling preserves groups on bar chart.\n",
    "p + geom_bar(aes(fill='g'))"
   ]
  },
  {
   "cell_type": "code",
   "execution_count": 7,
   "metadata": {},
   "outputs": [
    {
     "data": {
      "text/html": [
       "   <div id=\"Ey8ajG\"></div>\n",
       "   <script type=\"text/javascript\" data-lets-plot-script=\"plot\">\n",
       "       (function() {\n",
       "           var plotSpec={\n",
       "\"data\":{\n",
       "},\n",
       "\"mapping\":{\n",
       "\"x\":\"word\"\n",
       "},\n",
       "\"data_meta\":{\n",
       "},\n",
       "\"kind\":\"plot\",\n",
       "\"scales\":[],\n",
       "\"layers\":[{\n",
       "\"geom\":\"bar\",\n",
       "\"mapping\":{\n",
       "\"x\":\"@as_discrete@word\",\n",
       "\"fill\":\"g\"\n",
       "},\n",
       "\"data_meta\":{\n",
       "\"mapping_annotations\":[{\n",
       "\"aes\":\"x\",\n",
       "\"annotation\":\"as_discrete\",\n",
       "\"parameters\":{\n",
       "\"label\":\"word\",\n",
       "\"order_by\":\"..count..\"\n",
       "}\n",
       "}]\n",
       "},\n",
       "\"data\":{\n",
       "\"..count..\":[1.0,2.0,3.0,3.0,2.0,1.0,2.0,3.0,2.0,3.0,1.0,4.0,3.0,2.0,3.0,3.0,3.0,1.0,2.0,2.0,2.0,2.0,2.0,1.0,1.0,2.0,1.0,1.0,1.0,3.0,1.0,2.0,2.0,2.0,1.0,1.0,2.0,2.0,1.0,1.0,1.0,1.0,1.0,1.0,3.0,1.0,3.0,3.0,1.0,1.0,2.0,3.0,1.0,3.0,1.0,1.0,3.0,2.0,1.0,2.0,1.0,1.0,3.0,2.0,2.0,1.0,1.0,1.0,2.0,1.0,1.0,1.0,1.0,2.0,1.0,2.0,1.0,2.0,1.0,1.0,1.0,1.0,1.0,4.0,3.0,3.0,2.0,2.0,3.0,4.0,4.0,2.0,2.0,2.0,1.0,3.0,3.0,3.0,2.0,2.0,2.0,3.0,3.0,1.0,3.0,1.0,1.0,1.0,2.0,1.0,1.0,3.0,3.0,2.0,2.0,1.0,2.0,1.0,1.0,1.0,1.0,1.0,1.0,1.0,1.0,1.0],\n",
       "\"@as_discrete@word\":[\"uyvxg\",\"lvsyy\",\"ulmjo\",\"auram\",\"qkdlz\",\"zytkp\",\"znrfw\",\"ndygs\",\"jeoip\",\"kkqzm\",\"hvatm\",\"vhiyc\",\"kbaaz\",\"wdsap\",\"jipgp\",\"zuxet\",\"mgjzd\",\"ofvhf\",\"zhnfv\",\"pdvef\",\"qzass\",\"otvqg\",\"xawdz\",\"iroro\",\"ktxlh\",\"wwazb\",\"uxjdx\",\"hqiiw\",\"bsfvd\",\"otazh\",\"xqici\",\"amkfi\",\"jqebo\",\"serom\",\"exivg\",\"prthi\",\"ylriz\",\"hmcir\",\"xkyru\",\"vjnka\",\"cxhiv\",\"estev\",\"ukitx\",\"yajth\",\"otvqg\",\"zytkp\",\"znrfw\",\"estev\",\"uxjdx\",\"hvatm\",\"qvsat\",\"ktppk\",\"yajth\",\"xqici\",\"auram\",\"wdsap\",\"vrtxa\",\"zhnfv\",\"kbaaz\",\"ylriz\",\"otazh\",\"lvsyy\",\"kxwqn\",\"ndygs\",\"ucqpq\",\"pdvef\",\"serom\",\"prthi\",\"xkyru\",\"amkfi\",\"uyvxg\",\"xawdz\",\"wwazb\",\"hmcir\",\"iroro\",\"cxhiv\",\"kkqzm\",\"mgjzd\",\"ulmjo\",\"ofvhf\",\"ktxlh\",\"jeoip\",\"ylriz\",\"vjnka\",\"ofvhf\",\"qkdlz\",\"xkyru\",\"zuxet\",\"hvatm\",\"exivg\",\"couja\",\"jipgp\",\"otvqg\",\"lvsyy\",\"xawdz\",\"qzass\",\"uxjdx\",\"ukitx\",\"iroro\",\"prthi\",\"ucqpq\",\"hqiiw\",\"bsfvd\",\"estev\",\"uyvxg\",\"wdsap\",\"amkfi\",\"vhiyc\",\"yajth\",\"otazh\",\"ulmjo\",\"zytkp\",\"zhnfv\",\"jqebo\",\"ktxlh\",\"serom\",\"qvsat\",\"auram\",\"ktppk\",\"jeoip\",\"kkqzm\",\"cxhiv\",\"vrtxa\",\"wwazb\",\"kxwqn\",\"pdvef\"],\n",
       "\"g\":[\"b\",\"b\",\"b\",\"b\",\"b\",\"b\",\"b\",\"b\",\"b\",\"b\",\"b\",\"b\",\"b\",\"b\",\"b\",\"b\",\"b\",\"b\",\"b\",\"b\",\"b\",\"b\",\"b\",\"b\",\"b\",\"b\",\"b\",\"b\",\"b\",\"b\",\"b\",\"b\",\"b\",\"b\",\"b\",\"b\",\"b\",\"b\",\"b\",\"b\",\"b\",\"b\",\"b\",\"b\",\"a\",\"a\",\"a\",\"a\",\"a\",\"a\",\"a\",\"a\",\"a\",\"a\",\"a\",\"a\",\"a\",\"a\",\"a\",\"a\",\"a\",\"a\",\"a\",\"a\",\"a\",\"a\",\"a\",\"a\",\"a\",\"a\",\"a\",\"a\",\"a\",\"a\",\"a\",\"a\",\"a\",\"a\",\"a\",\"a\",\"a\",\"a\",\"c\",\"c\",\"c\",\"c\",\"c\",\"c\",\"c\",\"c\",\"c\",\"c\",\"c\",\"c\",\"c\",\"c\",\"c\",\"c\",\"c\",\"c\",\"c\",\"c\",\"c\",\"c\",\"c\",\"c\",\"c\",\"c\",\"c\",\"c\",\"c\",\"c\",\"c\",\"c\",\"c\",\"c\",\"c\",\"c\",\"c\",\"c\",\"c\",\"c\",\"c\",\"c\",\"c\",\"c\"]\n",
       "}\n",
       "}],\n",
       "\"computation_messages\":[\"sampling_pick(n=50) was applied to [bar/count stat] layer\"]\n",
       "};\n",
       "           var plotContainer = document.getElementById(\"Ey8ajG\");\n",
       "           window.letsPlotCall(function() {{\n",
       "               LetsPlot.buildPlotFromProcessedSpecs(plotSpec, -1, -1, plotContainer);\n",
       "           }});\n",
       "       })();    \n",
       "   </script>"
      ],
      "text/plain": [
       "<lets_plot.plot.core.PlotSpec at 0x7f8e394dc150>"
      ]
     },
     "execution_count": 7,
     "metadata": {},
     "output_type": "execute_result"
    }
   ],
   "source": [
    "# Also, to orger words by `count` might be a good idea.\n",
    "from lets_plot.mapping import as_discrete\n",
    "\n",
    "p + geom_bar(aes(x=as_discrete('word', order_by='..count..'), fill='g'))"
   ]
  }
 ],
 "metadata": {
  "kernelspec": {
   "display_name": "Python 3",
   "language": "python",
   "name": "python3"
  },
  "language_info": {
   "codemirror_mode": {
    "name": "ipython",
    "version": 3
   },
   "file_extension": ".py",
   "mimetype": "text/x-python",
   "name": "python",
   "nbconvert_exporter": "python",
   "pygments_lexer": "ipython3",
   "version": "3.7.10"
  }
 },
 "nbformat": 4,
 "nbformat_minor": 1
}
