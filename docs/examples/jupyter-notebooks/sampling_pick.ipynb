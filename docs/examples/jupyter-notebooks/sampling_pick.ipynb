{
 "cells": [
  {
   "cell_type": "markdown",
   "metadata": {},
   "source": [
    "<em><sub>This page is available as an executable or viewable <strong>Jupyter Notebook</strong>:</sub></em>\n",
    "<br/><br/>\n",
    "<a href=\"https://mybinder.org/v2/gh/JetBrains/lets-plot/v1.5.2demos1?filepath=docs%2Fexamples%2Fjupyter-notebooks%2Fsampling_pick.ipynb\"\n",
    "   target=\"_parent\"> \n",
    "   <img align=\"left\" \n",
    "        src=\"https://mybinder.org/badge_logo.svg\">\n",
    "</a>\n",
    "<a href=\"https://nbviewer.jupyter.org/github/JetBrains/lets-plot/blob/master/docs/examples/jupyter-notebooks/sampling_pick.ipynb\" \n",
    "   target=\"_parent\"> \n",
    "   <img align=\"right\" \n",
    "        src=\"https://raw.githubusercontent.com/jupyter/design/master/logos/Badges/nbviewer_badge.png\" \n",
    "        width=\"109\" height=\"20\">\n",
    "</a>\n",
    "<br/>\n",
    "<br/>\n",
    "\n",
    "\n",
    "## Pick Sampling"
   ]
  },
  {
   "cell_type": "code",
   "execution_count": 1,
   "metadata": {},
   "outputs": [
    {
     "data": {
      "text/html": [
       "\n",
       "            <div id=\"cIjfnu\"></div>\n",
       "            <script type=\"text/javascript\" data-lets-plot-script=\"library\">\n",
       "                if(!window.letsPlotCallQueue) {\n",
       "                    window.letsPlotCallQueue = [];\n",
       "                }; \n",
       "                window.letsPlotCall = function(f) {\n",
       "                    window.letsPlotCallQueue.push(f);\n",
       "                };\n",
       "                (function() {\n",
       "                    var script = document.createElement(\"script\");\n",
       "                    script.type = \"text/javascript\";\n",
       "                    script.src = \"https://dl.bintray.com/jetbrains/lets-plot/lets-plot-1.5.1.min.js\";\n",
       "                    script.onload = function() {\n",
       "                        window.letsPlotCall = function(f) {f();};\n",
       "                        window.letsPlotCallQueue.forEach(function(f) {f();});\n",
       "                        window.letsPlotCallQueue = [];\n",
       "                        \n",
       "                    };\n",
       "                    script.onerror = function(event) {\n",
       "                        window.letsPlotCall = function(f) {};    // noop\n",
       "                        window.letsPlotCallQueue = [];\n",
       "                        var div = document.createElement(\"div\");\n",
       "                        div.style.color = 'darkred';\n",
       "                        div.textContent = 'Error loading Lets-Plot JS';\n",
       "                        document.getElementById(\"cIjfnu\").appendChild(div);\n",
       "                    };\n",
       "                    var e = document.getElementById(\"cIjfnu\");\n",
       "                    e.appendChild(script);\n",
       "                })()\n",
       "            </script>\n",
       "            "
      ]
     },
     "metadata": {},
     "output_type": "display_data"
    }
   ],
   "source": [
    "import numpy as np\n",
    "from lets_plot import *\n",
    "import random, string\n",
    "\n",
    "LetsPlot.setup_html()"
   ]
  },
  {
   "cell_type": "code",
   "execution_count": 2,
   "metadata": {},
   "outputs": [],
   "source": [
    "def gen_word(length):\n",
    "    letters = string.ascii_lowercase\n",
    "    return ''.join(random.choice(letters) for _ in range(length))\n",
    "\n",
    "def gen_word_set(n):\n",
    "    random.seed(1)\n",
    "    word_set = set()\n",
    "    while len(word_set) < n:\n",
    "        word_set.add(gen_word(5))\n",
    "    return word_set\n",
    "\n",
    "def data(n, word_set):\n",
    "    word_choice = list(word_set)\n",
    "    words=[]\n",
    "    groups = []\n",
    "    for _ in range(n):\n",
    "        words.append(np.random.choice(word_choice))\n",
    "        groups.append(np.random.choice(['a','b','c']))\n",
    "\n",
    "    return dict(word=words, g=groups)"
   ]
  },
  {
   "cell_type": "code",
   "execution_count": 3,
   "metadata": {},
   "outputs": [],
   "source": [
    "# Number of unique words exceeds threshold (50) of default 'pick' sampling on bar chart.\n",
    "N = 500\n",
    "word_set = gen_word_set(N)\n",
    "dat = data(1000, word_set)\n",
    "p = ggplot(dat, aes(x='word'))"
   ]
  },
  {
   "cell_type": "code",
   "execution_count": 4,
   "metadata": {},
   "outputs": [
    {
     "data": {
      "text/html": [
       "   <div id=\"dwg0So\"></div>\n",
       "   <script type=\"text/javascript\" data-lets-plot-script=\"plot\">\n",
       "       (function() {\n",
       "           var plotSpec={\n",
       "'data':{\n",
       "},\n",
       "'mapping':{\n",
       "'x':\"word\"\n",
       "},\n",
       "'data_meta':{\n",
       "},\n",
       "'kind':\"plot\",\n",
       "'scales':[],\n",
       "'layers':[{\n",
       "'geom':\"bar\",\n",
       "'mapping':{\n",
       "},\n",
       "'data_meta':{\n",
       "},\n",
       "'sampling':\"none\",\n",
       "'data':{\n",
       "'..count..':[3.0,2.0,3.0,4.0,1.0,2.0,4.0,4.0,2.0,3.0,4.0,3.0,4.0,4.0,2.0,1.0,3.0,2.0,3.0,2.0,3.0,4.0,5.0,2.0,2.0,3.0,2.0,2.0,3.0,1.0,2.0,3.0,1.0,2.0,2.0,3.0,3.0,2.0,1.0,2.0,2.0,3.0,2.0,4.0,2.0,3.0,5.0,5.0,1.0,4.0,4.0,1.0,2.0,4.0,3.0,1.0,1.0,4.0,3.0,1.0,2.0,4.0,2.0,2.0,2.0,2.0,4.0,1.0,2.0,2.0,2.0,4.0,2.0,4.0,2.0,2.0,4.0,5.0,1.0,2.0,2.0,1.0,4.0,4.0,4.0,1.0,2.0,2.0,3.0,4.0,4.0,1.0,3.0,4.0,3.0,3.0,5.0,2.0,6.0,3.0,3.0,2.0,2.0,4.0,4.0,2.0,2.0,1.0,1.0,2.0,6.0,2.0,1.0,2.0,7.0,3.0,2.0,2.0,2.0,5.0,3.0,5.0,4.0,3.0,5.0,2.0,2.0,4.0,1.0,1.0,6.0,3.0,3.0,2.0,4.0,2.0,2.0,5.0,3.0,2.0,3.0,3.0,2.0,4.0,1.0,4.0,2.0,4.0,4.0,2.0,2.0,2.0,2.0,5.0,4.0,5.0,2.0,3.0,4.0,1.0,4.0,1.0,3.0,2.0,4.0,1.0,1.0,4.0,1.0,3.0,2.0,1.0,3.0,2.0,3.0,2.0,5.0,4.0,2.0,3.0,3.0,2.0,2.0,4.0,1.0,3.0,3.0,3.0,3.0,3.0,1.0,2.0,2.0,1.0,2.0,2.0,2.0,4.0,3.0,3.0,3.0,1.0,1.0,3.0,2.0,1.0,4.0,1.0,1.0,2.0,2.0,2.0,2.0,1.0,2.0,2.0,4.0,3.0,3.0,5.0,2.0,4.0,2.0,2.0,2.0,2.0,4.0,3.0,2.0,4.0,3.0,2.0,2.0,1.0,2.0,2.0,3.0,2.0,2.0,2.0,3.0,1.0,2.0,3.0,1.0,2.0,2.0,5.0,4.0,3.0,1.0,2.0,3.0,6.0,1.0,3.0,3.0,1.0,1.0,3.0,4.0,1.0,4.0,1.0,2.0,2.0,4.0,2.0,3.0,3.0,2.0,1.0,4.0,3.0,2.0,2.0,2.0,4.0,3.0,5.0,2.0,1.0,4.0,2.0,4.0,3.0,1.0,5.0,2.0,4.0,2.0,3.0,4.0,3.0,2.0,1.0,2.0,3.0,2.0,2.0,4.0,2.0,4.0,2.0,2.0,4.0,5.0,2.0,3.0,2.0,1.0,2.0,4.0,1.0,1.0,1.0,4.0,2.0,1.0,2.0,1.0,1.0,1.0,1.0,1.0,2.0,2.0,1.0,1.0,1.0,3.0,3.0,3.0,4.0,2.0,4.0,2.0,2.0,2.0,1.0,1.0,3.0,1.0,1.0,1.0,4.0,2.0,2.0,2.0,2.0,2.0,1.0,2.0,2.0,2.0,1.0,1.0,1.0,2.0,3.0,1.0,1.0,2.0,1.0,2.0,1.0,1.0,1.0,1.0,1.0,1.0,3.0,1.0,1.0,1.0,1.0,2.0,2.0,3.0,1.0,2.0,1.0,1.0,2.0,1.0,1.0,1.0,2.0,2.0,2.0,1.0,1.0,1.0,1.0,1.0,1.0,1.0,1.0,1.0,1.0,1.0,1.0,1.0,2.0,2.0,2.0,1.0,1.0,1.0,1.0,1.0,1.0,2.0,1.0,1.0,1.0,1.0,1.0,1.0,1.0,1.0,1.0,1.0,1.0],\n",
       "'word':[\"qdxsn\",\"zadsx\",\"uqnfg\",\"eszyc\",\"dgsvn\",\"yvacc\",\"wwxot\",\"uaapb\",\"ihmxr\",\"brbqe\",\"hsgqs\",\"pzykl\",\"dkkly\",\"eeihg\",\"bsfvd\",\"rbsgs\",\"ypgwp\",\"nwink\",\"gaxry\",\"xdnmz\",\"kdtsz\",\"raoyb\",\"whitw\",\"vjnka\",\"egbjc\",\"srdoi\",\"cifde\",\"bufvv\",\"omdte\",\"whzth\",\"xqgtn\",\"gztyr\",\"tkrqf\",\"zhnfv\",\"zgvuc\",\"fljcf\",\"czsrt\",\"ktppk\",\"lbudx\",\"ftqgq\",\"kxwqn\",\"ydmux\",\"eiiil\",\"iuwjo\",\"egehx\",\"kzxvs\",\"hbszs\",\"sizhw\",\"feyew\",\"vgnxa\",\"wdsap\",\"ahame\",\"evsbl\",\"qvlyq\",\"gotqn\",\"knxfr\",\"rwyvx\",\"arjvy\",\"cejrx\",\"couja\",\"etioq\",\"wcmuw\",\"tyyaw\",\"tvnil\",\"ardjq\",\"gjwwu\",\"rbuls\",\"jeeqd\",\"hqiiw\",\"dvkia\",\"dnush\",\"iiuuh\",\"rnvcw\",\"hpomy\",\"nomrd\",\"bjwts\",\"fgkzs\",\"auram\",\"mgjzd\",\"dbsqa\",\"tqebk\",\"kbaaz\",\"zztsd\",\"dpybu\",\"rjcqj\",\"qhyop\",\"lqavm\",\"ygvbp\",\"ftyfx\",\"yrrff\",\"lpbrp\",\"lvrpy\",\"spdeu\",\"pzitk\",\"myods\",\"lacem\",\"estev\",\"hdses\",\"clcvo\",\"rwmar\",\"rictz\",\"qzass\",\"rxbqc\",\"hmcir\",\"bpvmw\",\"pdumm\",\"bqkqw\",\"amevr\",\"kadow\",\"ucqpq\",\"sifyx\",\"jsztc\",\"dayxv\",\"wgcuc\",\"juanx\",\"gzblo\",\"xlcur\",\"mlxfh\",\"vomku\",\"bvcca\",\"dgicu\",\"ixtxy\",\"ktmja\",\"hidzt\",\"bsmie\",\"yueza\",\"nbloa\",\"hcurw\",\"pumzg\",\"tpdem\",\"yvnmi\",\"euyzg\",\"cwfin\",\"mnvfl\",\"ybwkn\",\"mwmzg\",\"cxcau\",\"gwoaj\",\"bbzta\",\"bphxz\",\"dzbgh\",\"zuxet\",\"tfejp\",\"xceyt\",\"cjjxf\",\"rsmgo\",\"afqkq\",\"lpxap\",\"esesd\",\"xawdz\",\"qdekx\",\"xwgfj\",\"yfiua\",\"wpesr\",\"wjrlf\",\"ivdmr\",\"jovee\",\"kzksc\",\"qtjeg\",\"pgmxr\",\"cmzee\",\"iroro\",\"jfezm\",\"ftchp\",\"jxtko\",\"wpvli\",\"oayyi\",\"pkdgu\",\"jwelp\",\"qvgjj\",\"mfein\",\"sjhkd\",\"ktxlh\",\"cgapu\",\"czrzi\",\"wfdhm\",\"twgfq\",\"escbj\",\"cdtqs\",\"oqrxb\",\"sxwxc\",\"idpyo\",\"mkqnl\",\"ufrsf\",\"nrudf\",\"oljrm\",\"divif\",\"rvnvx\",\"dwgmv\",\"sesee\",\"uupky\",\"kitlb\",\"jipgp\",\"lzxba\",\"smuff\",\"graiu\",\"zurkn\",\"mcmzq\",\"csevg\",\"fhhjo\",\"squcc\",\"vffye\",\"rgijs\",\"rrhmq\",\"txxxq\",\"amndz\",\"cwqvl\",\"wwazb\",\"lnmjv\",\"giykt\",\"qvnrh\",\"zapkm\",\"ymvqz\",\"ruqbl\",\"ukitx\",\"mzxqz\",\"exivg\",\"jeoip\",\"lediy\",\"amioi\",\"bxfow\",\"pykmo\",\"facnt\",\"ujreb\",\"pazun\",\"dseqq\",\"bebqp\",\"mdvoj\",\"ozwhu\",\"turch\",\"ldkbe\",\"puzrg\",\"ytali\",\"ghkic\",\"foqbi\",\"bwswv\",\"pilei\",\"ubmcr\",\"yruoq\",\"terwk\",\"nhqrg\",\"zwnvr\",\"gysmv\",\"yivoz\",\"kvidt\",\"otazh\",\"ofvhf\",\"zylnm\",\"niipw\",\"aauth\",\"ekjdw\",\"neafi\",\"gsxyz\",\"ktzvr\",\"rbove\",\"xwjwf\",\"uyvxg\",\"hquam\",\"msaqg\",\"uwxzh\",\"prthi\",\"aeivh\",\"niqjx\",\"hvatm\",\"mbxik\",\"ktodi\",\"amkfi\",\"uojyd\",\"yzkcq\",\"mljyk\",\"xuecq\",\"dzbja\",\"rqhni\",\"zsnfd\",\"xgqqm\",\"uhbcy\",\"zzlux\",\"voznr\",\"igfje\",\"iriqi\",\"grnwh\",\"rcrkk\",\"zdple\",\"tcxlk\",\"xeizm\",\"zkcjb\",\"sabwl\",\"biydn\",\"chhaz\",\"uzwqo\",\"afqwf\",\"qilkk\",\"khiqb\",\"tbbzk\",\"otvqg\",\"iimsm\",\"hlcic\",\"lnlar\",\"nhzbq\",\"spiee\",\"tphno\",\"kkqzm\",\"zgufq\",\"hdwgw\",\"kzets\",\"txqps\",\"wcyuh\",\"gnrut\",\"rrchm\",\"hmrmf\",\"ziymr\",\"eqyrg\",\"nxtbz\",\"sdkaa\",\"rtxui\",\"ybtnn\",\"ukhmj\",\"lvsyy\",\"nrfbw\",\"zfrlp\",\"ylriz\",\"zekng\",\"pgdnt\",\"spqms\",\"jklik\",\"doayn\",\"aucfo\",\"ulmjo\",\"nbpls\",\"mywoa\",\"cpucr\",\"xkyru\",\"zytkp\",\"uihgd\",\"wqxto\",\"hyoja\",\"rnrgw\",\"flntw\",\"okqzr\",\"ulmqf\",\"vrtxa\",\"ueuym\",\"srjqn\",\"riltx\",\"utara\",\"itjgq\",\"qbmgl\",\"qkdnl\",\"nmtob\",\"pzzwb\",\"ixpbx\",\"swore\",\"brtqe\",\"hhkpv\",\"ceffr\",\"xfglm\",\"sxklz\",\"lszjn\",\"hyaaj\",\"scilj\",\"xxqqa\",\"dupbq\",\"vlrgz\",\"wkppd\",\"dyfqm\",\"rhcxb\",\"hycqf\",\"rgqnp\",\"xlivu\",\"ofywt\",\"mcsrh\",\"agqos\",\"sedfy\",\"ndygs\",\"fiqfv\",\"pemwd\",\"ejgvx\",\"zgidi\",\"qvsat\",\"oljym\",\"khdcv\",\"unbxj\",\"mqlgh\",\"iaomz\",\"uemxr\",\"uovux\",\"lcovq\",\"pxhuu\",\"sjgmf\",\"xqici\",\"lxuwh\",\"cxhiv\",\"igcux\",\"yocus\",\"leszj\",\"vqpmd\",\"ajyzl\",\"drlfd\",\"sjoje\",\"ajmkn\",\"sulzp\",\"ezvba\",\"nsiea\",\"brgrn\",\"wqraj\",\"ziudi\",\"rtszt\",\"fkoet\",\"fzeud\",\"xbnog\",\"inxrj\",\"oixzh\",\"nrmjh\",\"wzjhg\",\"tqzss\",\"wikps\",\"frgjg\",\"ccxdj\",\"pxcin\",\"vhiyc\",\"ijvvz\",\"dpamn\",\"fjuxw\",\"zifyc\"]\n",
       "}\n",
       "}]\n",
       "};\n",
       "           var plotContainer = document.getElementById(\"dwg0So\");\n",
       "           window.letsPlotCall(function() {{\n",
       "               LetsPlot.buildPlotFromProcessedSpecs(plotSpec, -1, -1, plotContainer);\n",
       "           }});\n",
       "       })();    \n",
       "   </script>"
      ],
      "text/plain": [
       "<lets_plot.plot.core.PlotSpec at 0x108ce5f10>"
      ]
     },
     "execution_count": 4,
     "metadata": {},
     "output_type": "execute_result"
    }
   ],
   "source": [
    "# Disable sampling to see the overplotting.\n",
    "p + geom_bar(sampling='none')"
   ]
  },
  {
   "cell_type": "code",
   "execution_count": 5,
   "metadata": {},
   "outputs": [
    {
     "data": {
      "text/html": [
       "   <div id=\"v2H1sd\"></div>\n",
       "   <script type=\"text/javascript\" data-lets-plot-script=\"plot\">\n",
       "       (function() {\n",
       "           var plotSpec={\n",
       "'data':{\n",
       "},\n",
       "'mapping':{\n",
       "'x':\"word\"\n",
       "},\n",
       "'data_meta':{\n",
       "},\n",
       "'kind':\"plot\",\n",
       "'scales':[],\n",
       "'layers':[{\n",
       "'geom':\"bar\",\n",
       "'mapping':{\n",
       "},\n",
       "'data_meta':{\n",
       "},\n",
       "'data':{\n",
       "'..count..':[3.0,2.0,3.0,4.0,1.0,2.0,4.0,4.0,2.0,3.0,4.0,3.0,4.0,4.0,2.0,1.0,3.0,2.0,3.0,2.0,3.0,4.0,5.0,2.0,2.0,3.0,2.0,2.0,3.0,1.0,2.0,3.0,1.0,2.0,2.0,3.0,3.0,2.0,1.0,2.0,2.0,3.0,2.0,4.0,2.0,3.0,5.0,5.0,1.0,4.0],\n",
       "'word':[\"qdxsn\",\"zadsx\",\"uqnfg\",\"eszyc\",\"dgsvn\",\"yvacc\",\"wwxot\",\"uaapb\",\"ihmxr\",\"brbqe\",\"hsgqs\",\"pzykl\",\"dkkly\",\"eeihg\",\"bsfvd\",\"rbsgs\",\"ypgwp\",\"nwink\",\"gaxry\",\"xdnmz\",\"kdtsz\",\"raoyb\",\"whitw\",\"vjnka\",\"egbjc\",\"srdoi\",\"cifde\",\"bufvv\",\"omdte\",\"whzth\",\"xqgtn\",\"gztyr\",\"tkrqf\",\"zhnfv\",\"zgvuc\",\"fljcf\",\"czsrt\",\"ktppk\",\"lbudx\",\"ftqgq\",\"kxwqn\",\"ydmux\",\"eiiil\",\"iuwjo\",\"egehx\",\"kzxvs\",\"hbszs\",\"sizhw\",\"feyew\",\"vgnxa\"]\n",
       "}\n",
       "}],\n",
       "'computation_messages':[\"sampling_pick(n=50) was applied to [bar/count stat] layer\"]\n",
       "};\n",
       "           var plotContainer = document.getElementById(\"v2H1sd\");\n",
       "           window.letsPlotCall(function() {{\n",
       "               LetsPlot.buildPlotFromProcessedSpecs(plotSpec, -1, -1, plotContainer);\n",
       "           }});\n",
       "       })();    \n",
       "   </script>"
      ],
      "text/plain": [
       "<lets_plot.plot.core.PlotSpec at 0x1573db990>"
      ]
     },
     "execution_count": 5,
     "metadata": {},
     "output_type": "execute_result"
    }
   ],
   "source": [
    "# Draw plot with default sampling.\n",
    "p + geom_bar()"
   ]
  },
  {
   "cell_type": "code",
   "execution_count": 6,
   "metadata": {},
   "outputs": [
    {
     "data": {
      "text/html": [
       "   <div id=\"Ce0ODk\"></div>\n",
       "   <script type=\"text/javascript\" data-lets-plot-script=\"plot\">\n",
       "       (function() {\n",
       "           var plotSpec={\n",
       "'data':{\n",
       "},\n",
       "'mapping':{\n",
       "'x':\"word\"\n",
       "},\n",
       "'data_meta':{\n",
       "},\n",
       "'kind':\"plot\",\n",
       "'scales':[],\n",
       "'layers':[{\n",
       "'geom':\"bar\",\n",
       "'mapping':{\n",
       "'fill':\"g\"\n",
       "},\n",
       "'data_meta':{\n",
       "},\n",
       "'data':{\n",
       "'..count..':[1.0,1.0,1.0,1.0,3.0,2.0,1.0,1.0,1.0,2.0,1.0,1.0,2.0,1.0,2.0,2.0,2.0,1.0,2.0,1.0,1.0,1.0,3.0,1.0,1.0,1.0,2.0,1.0,1.0,2.0,1.0,2.0,1.0,2.0,1.0,3.0,2.0,1.0,4.0,2.0,1.0,2.0,3.0,1.0,2.0,1.0,1.0,3.0,1.0,3.0,2.0,3.0,2.0,1.0,3.0,2.0,1.0,1.0,1.0,1.0,1.0,1.0,1.0,1.0,1.0,1.0,2.0,2.0,1.0,2.0,1.0,1.0,1.0,1.0,1.0,2.0,1.0,2.0,3.0,2.0,2.0,1.0,2.0,1.0,3.0,1.0,1.0,2.0,1.0,2.0,1.0,1.0,1.0,1.0,1.0,1.0,2.0,1.0,1.0,1.0,1.0],\n",
       "'word':[\"qdxsn\",\"uqnfg\",\"wwxot\",\"uaapb\",\"hsgqs\",\"pzykl\",\"eeihg\",\"rbsgs\",\"vjnka\",\"srdoi\",\"whzth\",\"tkrqf\",\"czsrt\",\"ktppk\",\"ydmux\",\"hbszs\",\"sizhw\",\"feyew\",\"wdsap\",\"ypgwp\",\"cejrx\",\"etioq\",\"wcmuw\",\"tyyaw\",\"tvnil\",\"ardjq\",\"rbuls\",\"jeeqd\",\"hqiiw\",\"hpomy\",\"fgkzs\",\"tqebk\",\"raoyb\",\"zztsd\",\"lqavm\",\"yrrff\",\"iiuuh\",\"lpbrp\",\"pzitk\",\"hdses\",\"rictz\",\"hmcir\",\"bpvmw\",\"amevr\",\"arjvy\",\"qvlyq\",\"dayxv\",\"juanx\",\"gzblo\",\"dgicu\",\"ypgwp\",\"qvlyq\",\"iiuuh\",\"sizhw\",\"lpbrp\",\"rbuls\",\"hsgqs\",\"ktppk\",\"qdxsn\",\"wcmuw\",\"tvnil\",\"cejrx\",\"hqiiw\",\"hmcir\",\"hpomy\",\"raoyb\",\"juanx\",\"gzblo\",\"yrrff\",\"hbszs\",\"fgkzs\",\"ardjq\",\"rictz\",\"zztsd\",\"wwxot\",\"raoyb\",\"qdxsn\",\"arjvy\",\"eeihg\",\"fgkzs\",\"juanx\",\"etioq\",\"wdsap\",\"hbszs\",\"uaapb\",\"ydmux\",\"srdoi\",\"sizhw\",\"vjnka\",\"uqnfg\",\"cejrx\",\"lqavm\",\"tyyaw\",\"hpomy\",\"zztsd\",\"bpvmw\",\"wwxot\",\"pzykl\",\"hmcir\",\"rictz\",\"czsrt\"],\n",
       "'g':[\"a\",\"a\",\"a\",\"a\",\"a\",\"a\",\"a\",\"a\",\"a\",\"a\",\"a\",\"a\",\"a\",\"a\",\"a\",\"a\",\"a\",\"a\",\"a\",\"a\",\"a\",\"a\",\"a\",\"a\",\"a\",\"a\",\"a\",\"a\",\"a\",\"a\",\"a\",\"a\",\"a\",\"a\",\"a\",\"a\",\"a\",\"a\",\"a\",\"a\",\"a\",\"a\",\"a\",\"a\",\"a\",\"a\",\"a\",\"a\",\"a\",\"a\",\"c\",\"c\",\"c\",\"c\",\"c\",\"c\",\"c\",\"c\",\"c\",\"c\",\"c\",\"c\",\"c\",\"c\",\"c\",\"c\",\"c\",\"c\",\"c\",\"c\",\"c\",\"c\",\"c\",\"c\",\"c\",\"b\",\"b\",\"b\",\"b\",\"b\",\"b\",\"b\",\"b\",\"b\",\"b\",\"b\",\"b\",\"b\",\"b\",\"b\",\"b\",\"b\",\"b\",\"b\",\"b\",\"b\",\"b\",\"b\",\"b\",\"b\",\"b\"]\n",
       "}\n",
       "}],\n",
       "'computation_messages':[\"sampling_pick(n=50) was applied to [bar/count stat] layer\"]\n",
       "};\n",
       "           var plotContainer = document.getElementById(\"Ce0ODk\");\n",
       "           window.letsPlotCall(function() {{\n",
       "               LetsPlot.buildPlotFromProcessedSpecs(plotSpec, -1, -1, plotContainer);\n",
       "           }});\n",
       "       })();    \n",
       "   </script>"
      ],
      "text/plain": [
       "<lets_plot.plot.core.PlotSpec at 0x1573db4d0>"
      ]
     },
     "execution_count": 6,
     "metadata": {},
     "output_type": "execute_result"
    }
   ],
   "source": [
    "# 'pick' sampling preserves groups on bar chart.\n",
    "p + geom_bar(aes(fill='g'))"
   ]
  }
 ],
 "metadata": {
  "kernelspec": {
   "display_name": "Python 3",
   "language": "python",
   "name": "python3"
  },
  "language_info": {
   "codemirror_mode": {
    "name": "ipython",
    "version": 3
   },
   "file_extension": ".py",
   "mimetype": "text/x-python",
   "name": "python",
   "nbconvert_exporter": "python",
   "pygments_lexer": "ipython3",
   "version": "3.7.7"
  },
  "pycharm": {
   "stem_cell": {
    "cell_type": "raw",
    "metadata": {
     "collapsed": false
    },
    "source": []
   }
  }
 },
 "nbformat": 4,
 "nbformat_minor": 1
}
