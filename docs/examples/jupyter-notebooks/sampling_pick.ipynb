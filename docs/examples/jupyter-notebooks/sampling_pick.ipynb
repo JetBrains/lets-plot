{
 "cells": [
  {
   "cell_type": "markdown",
   "metadata": {},
   "source": [
    "<em><sub>This page is available as an executable or viewable <strong>Jupyter Notebook</strong>:</sub></em>\n",
    "<br/><br/>\n",
    "<a href=\"https://mybinder.org/v2/gh/JetBrains/lets-plot/v1.5.3demos1?filepath=docs%2Fexamples%2Fjupyter-notebooks%2Fsampling_pick.ipynb\"\n",
    "   target=\"_parent\"> \n",
    "   <img align=\"left\" \n",
    "        src=\"https://mybinder.org/badge_logo.svg\">\n",
    "</a>\n",
    "<a href=\"https://nbviewer.jupyter.org/github/JetBrains/lets-plot/blob/master/docs/examples/jupyter-notebooks/sampling_pick.ipynb\" \n",
    "   target=\"_parent\"> \n",
    "   <img align=\"right\" \n",
    "        src=\"https://raw.githubusercontent.com/jupyter/design/master/logos/Badges/nbviewer_badge.png\" \n",
    "        width=\"109\" height=\"20\">\n",
    "</a>\n",
    "<br/>\n",
    "<br/>\n",
    "\n",
    "\n",
    "## Pick Sampling"
   ]
  },
  {
   "cell_type": "code",
   "execution_count": 1,
   "metadata": {},
   "outputs": [
    {
     "data": {
      "text/html": [
       "\n",
       "            <div id=\"fHGaEt\"></div>\n",
       "            <script type=\"text/javascript\" data-lets-plot-script=\"library\">\n",
       "                if(!window.letsPlotCallQueue) {\n",
       "                    window.letsPlotCallQueue = [];\n",
       "                }; \n",
       "                window.letsPlotCall = function(f) {\n",
       "                    window.letsPlotCallQueue.push(f);\n",
       "                };\n",
       "                (function() {\n",
       "                    var script = document.createElement(\"script\");\n",
       "                    script.type = \"text/javascript\";\n",
       "                    script.src = \"https://dl.bintray.com/jetbrains/lets-plot/lets-plot-1.5.3rc1.min.js\";\n",
       "                    script.onload = function() {\n",
       "                        window.letsPlotCall = function(f) {f();};\n",
       "                        window.letsPlotCallQueue.forEach(function(f) {f();});\n",
       "                        window.letsPlotCallQueue = [];\n",
       "                        \n",
       "                    };\n",
       "                    script.onerror = function(event) {\n",
       "                        window.letsPlotCall = function(f) {};    // noop\n",
       "                        window.letsPlotCallQueue = [];\n",
       "                        var div = document.createElement(\"div\");\n",
       "                        div.style.color = 'darkred';\n",
       "                        div.textContent = 'Error loading Lets-Plot JS';\n",
       "                        document.getElementById(\"fHGaEt\").appendChild(div);\n",
       "                    };\n",
       "                    var e = document.getElementById(\"fHGaEt\");\n",
       "                    e.appendChild(script);\n",
       "                })()\n",
       "            </script>\n",
       "            "
      ]
     },
     "metadata": {},
     "output_type": "display_data"
    }
   ],
   "source": [
    "import numpy as np\n",
    "from lets_plot import *\n",
    "import random, string\n",
    "\n",
    "LetsPlot.setup_html()"
   ]
  },
  {
   "cell_type": "code",
   "execution_count": 2,
   "metadata": {},
   "outputs": [],
   "source": [
    "def gen_word(length):\n",
    "    letters = string.ascii_lowercase\n",
    "    return ''.join(random.choice(letters) for _ in range(length))\n",
    "\n",
    "def gen_word_set(n):\n",
    "    random.seed(1)\n",
    "    word_set = set()\n",
    "    while len(word_set) < n:\n",
    "        word_set.add(gen_word(5))\n",
    "    return word_set\n",
    "\n",
    "def data(n, word_set):\n",
    "    word_choice = list(word_set)\n",
    "    words=[]\n",
    "    groups = []\n",
    "    for _ in range(n):\n",
    "        words.append(np.random.choice(word_choice))\n",
    "        groups.append(np.random.choice(['a','b','c']))\n",
    "\n",
    "    return dict(word=words, g=groups)"
   ]
  },
  {
   "cell_type": "code",
   "execution_count": 3,
   "metadata": {},
   "outputs": [],
   "source": [
    "# Number of unique words exceeds threshold (50) of default 'pick' sampling on bar chart.\n",
    "N = 500\n",
    "word_set = gen_word_set(N)\n",
    "dat = data(1000, word_set)\n",
    "p = ggplot(dat, aes(x='word'))"
   ]
  },
  {
   "cell_type": "code",
   "execution_count": 4,
   "metadata": {},
   "outputs": [
    {
     "data": {
      "text/html": [
       "   <div id=\"fkunx9\"></div>\n",
       "   <script type=\"text/javascript\" data-lets-plot-script=\"plot\">\n",
       "       (function() {\n",
       "           var plotSpec={\n",
       "'data':{\n",
       "},\n",
       "'mapping':{\n",
       "'x':\"word\"\n",
       "},\n",
       "'data_meta':{\n",
       "},\n",
       "'kind':\"plot\",\n",
       "'scales':[],\n",
       "'layers':[{\n",
       "'geom':\"bar\",\n",
       "'mapping':{\n",
       "},\n",
       "'data_meta':{\n",
       "},\n",
       "'sampling':\"none\",\n",
       "'data':{\n",
       "'..count..':[2.0,5.0,3.0,2.0,3.0,2.0,2.0,2.0,1.0,3.0,2.0,3.0,2.0,5.0,3.0,2.0,4.0,3.0,2.0,2.0,4.0,2.0,5.0,5.0,3.0,4.0,2.0,2.0,6.0,2.0,3.0,3.0,4.0,2.0,3.0,5.0,3.0,1.0,3.0,3.0,5.0,6.0,3.0,2.0,4.0,1.0,1.0,2.0,2.0,1.0,3.0,4.0,4.0,2.0,4.0,3.0,2.0,3.0,1.0,2.0,1.0,3.0,3.0,3.0,2.0,3.0,1.0,3.0,1.0,3.0,3.0,1.0,3.0,7.0,2.0,2.0,3.0,2.0,4.0,6.0,3.0,2.0,4.0,1.0,3.0,3.0,1.0,3.0,2.0,2.0,4.0,5.0,3.0,6.0,1.0,1.0,2.0,2.0,4.0,4.0,4.0,3.0,4.0,3.0,1.0,3.0,3.0,3.0,2.0,3.0,1.0,2.0,1.0,2.0,1.0,3.0,4.0,3.0,1.0,3.0,2.0,3.0,2.0,3.0,1.0,3.0,3.0,7.0,1.0,3.0,3.0,5.0,2.0,4.0,1.0,6.0,2.0,1.0,3.0,2.0,2.0,2.0,4.0,3.0,1.0,3.0,3.0,1.0,3.0,4.0,1.0,2.0,1.0,3.0,1.0,2.0,3.0,1.0,5.0,2.0,1.0,3.0,4.0,3.0,4.0,2.0,2.0,1.0,2.0,2.0,3.0,4.0,4.0,4.0,2.0,1.0,3.0,6.0,2.0,2.0,4.0,3.0,2.0,3.0,1.0,2.0,1.0,4.0,3.0,6.0,5.0,2.0,3.0,4.0,3.0,2.0,3.0,3.0,3.0,3.0,3.0,1.0,1.0,1.0,2.0,3.0,5.0,3.0,3.0,3.0,2.0,2.0,4.0,1.0,1.0,2.0,2.0,2.0,2.0,4.0,2.0,4.0,2.0,2.0,2.0,3.0,3.0,3.0,2.0,3.0,2.0,3.0,1.0,3.0,2.0,2.0,3.0,4.0,3.0,4.0,3.0,1.0,4.0,3.0,2.0,1.0,4.0,1.0,3.0,3.0,2.0,2.0,2.0,2.0,2.0,3.0,1.0,5.0,2.0,2.0,5.0,2.0,2.0,1.0,1.0,4.0,3.0,2.0,1.0,1.0,1.0,2.0,3.0,1.0,2.0,2.0,2.0,1.0,1.0,1.0,2.0,1.0,2.0,2.0,2.0,4.0,1.0,4.0,3.0,3.0,1.0,3.0,2.0,2.0,1.0,4.0,2.0,2.0,2.0,2.0,1.0,3.0,3.0,2.0,3.0,1.0,3.0,5.0,1.0,2.0,1.0,1.0,2.0,2.0,1.0,1.0,5.0,3.0,3.0,1.0,2.0,2.0,1.0,1.0,5.0,2.0,1.0,3.0,2.0,1.0,2.0,1.0,1.0,1.0,2.0,3.0,2.0,2.0,3.0,3.0,1.0,2.0,1.0,1.0,2.0,1.0,1.0,1.0,3.0,3.0,2.0,2.0,1.0,1.0,2.0,2.0,2.0,2.0,1.0,1.0,1.0,1.0,2.0,1.0,1.0,2.0,3.0,2.0,2.0,3.0,1.0,3.0,3.0,2.0,1.0,2.0,3.0,1.0,3.0,4.0,2.0,1.0,1.0,1.0,2.0,1.0,1.0,1.0,3.0,1.0,1.0,1.0,1.0,2.0,3.0,1.0,1.0,1.0,1.0,1.0,1.0,1.0,1.0,2.0,1.0,1.0,1.0,1.0,1.0,2.0,1.0,1.0,1.0,1.0,1.0,2.0,1.0,1.0,1.0,1.0,1.0,1.0,1.0,1.0,1.0,1.0,1.0,1.0],\n",
       "'word':[\"nrmjh\",\"zzlux\",\"vhiyc\",\"wqraj\",\"qdekx\",\"ftqgq\",\"rqhni\",\"yrrff\",\"xeizm\",\"qtjeg\",\"nrudf\",\"giykt\",\"ypgwp\",\"uupky\",\"xxqqa\",\"foqbi\",\"uaapb\",\"itjgq\",\"fiqfv\",\"qmadk\",\"bphxz\",\"ejgvx\",\"yzkcq\",\"rgqnp\",\"tqdfh\",\"sjgmf\",\"pumzg\",\"ivdmr\",\"khiqb\",\"rbuls\",\"otazh\",\"adiep\",\"prthi\",\"rjriw\",\"jovee\",\"sgpdv\",\"ufrsf\",\"ubmcr\",\"hmznm\",\"zylnm\",\"rtszt\",\"ujreb\",\"swore\",\"zwnvr\",\"cxcau\",\"rrhmq\",\"zifyc\",\"sulzp\",\"imcvs\",\"rrchm\",\"eszyc\",\"hsgqs\",\"uqnfg\",\"kzksc\",\"vrtxa\",\"drviw\",\"kadow\",\"whdhk\",\"mkqnl\",\"dnush\",\"zztsd\",\"snmkt\",\"amkfi\",\"brtqe\",\"sujmi\",\"qbmgl\",\"tphno\",\"iaomz\",\"lpbrp\",\"jeoip\",\"hhkpv\",\"amevr\",\"xqgtn\",\"mdvoj\",\"gotqn\",\"vdqfr\",\"vvwco\",\"hyoja\",\"vqpmd\",\"tcxlk\",\"uzwqo\",\"zekng\",\"ktmja\",\"srdoi\",\"ajmkn\",\"qvnrh\",\"scilj\",\"amioi\",\"eqyrg\",\"mbxik\",\"oipol\",\"mjqpa\",\"niqjx\",\"phwnk\",\"uhbcy\",\"rictz\",\"znrfw\",\"zgidi\",\"egehx\",\"hlcic\",\"ixtxy\",\"ldkbe\",\"dzbja\",\"knxfr\",\"ghkic\",\"tkrqf\",\"divif\",\"zgufq\",\"spiee\",\"afqwf\",\"ppedq\",\"rhcxb\",\"rjcqj\",\"lvrpy\",\"dupbq\",\"xlivu\",\"sxwxc\",\"dgcba\",\"xgwqw\",\"zhnfv\",\"euyzg\",\"rhlhv\",\"bpvmw\",\"wfdhm\",\"zapkm\",\"erxby\",\"pzitk\",\"pkdgu\",\"tbbzk\",\"sifyx\",\"fkoet\",\"gysmv\",\"rnvcw\",\"nrfbw\",\"pgdnt\",\"nomrd\",\"tqebk\",\"djhty\",\"fsosx\",\"xdnmz\",\"ruqbl\",\"pdvef\",\"gaxry\",\"hdses\",\"nmtob\",\"hqiiw\",\"puzrg\",\"afklg\",\"smuff\",\"pzykl\",\"arjvy\",\"evsbl\",\"uemxr\",\"bsmie\",\"sjhkd\",\"cmzee\",\"dbsqa\",\"iimsm\",\"nxtbz\",\"ktzvr\",\"qoser\",\"nsiea\",\"turch\",\"wpvli\",\"oixnf\",\"bxfow\",\"dpamn\",\"auram\",\"gmufm\",\"ydmux\",\"raoyb\",\"wdsap\",\"qvsat\",\"ftchp\",\"qhyop\",\"ardjq\",\"dayxv\",\"sizhw\",\"dseqq\",\"mcsrh\",\"brbqe\",\"facnt\",\"lvsyy\",\"mwmzg\",\"oljym\",\"jsztc\",\"hquam\",\"drlfd\",\"vffye\",\"lacem\",\"fkvhc\",\"igfje\",\"pemwd\",\"vgnxa\",\"nhqrg\",\"czrzi\",\"jipgp\",\"zkcjb\",\"vjnka\",\"wikps\",\"rwmar\",\"qdxsn\",\"hneei\",\"mfein\",\"rndvj\",\"gnrut\",\"xmmnv\",\"ylriz\",\"gnira\",\"exivg\",\"clcvo\",\"ymvqz\",\"ybtnn\",\"rxbqc\",\"kzxvs\",\"ulmqf\",\"lxuwh\",\"ijvvz\",\"ziymr\",\"ccxdj\",\"afqkq\",\"juanx\",\"terwk\",\"lrrzx\",\"uxjdx\",\"wpesr\",\"amndz\",\"kxwqn\",\"oqrxb\",\"xbnog\",\"spdeu\",\"ahame\",\"gsxyz\",\"idpyo\",\"ceffr\",\"deewi\",\"dpybu\",\"mwncc\",\"yvnmi\",\"ucqpq\",\"oljrm\",\"pzzwb\",\"lnmjv\",\"ktppk\",\"rtxui\",\"yueza\",\"rbove\",\"xkyru\",\"tpdem\",\"ndygs\",\"rnrgw\",\"chhaz\",\"qulfq\",\"kitlb\",\"cxhiv\",\"knyhz\",\"dwgmv\",\"ajyzl\",\"czsrt\",\"ukitx\",\"mnvfl\",\"rtztk\",\"nbpls\",\"qvgjj\",\"xqici\",\"whzth\",\"sedfy\",\"oxplp\",\"ezvba\",\"neafi\",\"hycqf\",\"biydn\",\"spqms\",\"jeeqd\",\"tqzss\",\"mlxfh\",\"wgcuc\",\"kdtsz\",\"xfglm\",\"hyaaj\",\"cjjxf\",\"zsnfd\",\"zfrlp\",\"hmrmf\",\"zgvuc\",\"iuwjo\",\"serom\",\"lcovq\",\"uwxzh\",\"ygvbp\",\"lwibr\",\"txqps\",\"txxxq\",\"jqebo\",\"gztyr\",\"uojyd\",\"zuxet\",\"kvidt\",\"cwqvl\",\"hmcir\",\"ihmxr\",\"qjzzg\",\"riltx\",\"cwfin\",\"rqntu\",\"srjqn\",\"xwgfj\",\"graiu\",\"rgijs\",\"fhhjo\",\"zytkp\",\"pxhuu\",\"ckbob\",\"wwxot\",\"lbudx\",\"vlrgz\",\"tlyoi\",\"ltphk\",\"etioq\",\"squcc\",\"feyew\",\"pdumm\",\"yruoq\",\"zdvjd\",\"brgrn\",\"bjwts\",\"bsqcs\",\"yocus\",\"misoa\",\"omdte\",\"cifde\",\"vjcdh\",\"qzass\",\"iroro\",\"oixzh\",\"iiuuh\",\"lsloi\",\"fljcf\",\"dkkly\",\"wjrlf\",\"frgjg\",\"ixpbx\",\"eeihg\",\"xawdz\",\"nhzbq\",\"dgicu\",\"ziudi\",\"myods\",\"mkmcc\",\"wzjhg\",\"bgnbb\",\"grnwh\",\"jxtko\",\"uihgd\",\"cpucr\",\"niipw\",\"sesee\",\"hpomy\",\"bsfvd\",\"escbj\",\"aauth\",\"cgapu\",\"wkppd\",\"oayyi\",\"sdkaa\",\"bqkqw\",\"khdcv\",\"rsmgo\",\"ueuym\",\"dzbgh\",\"msaqg\",\"dyfqm\",\"ofywt\",\"kbaaz\",\"xmcsz\",\"ktodi\",\"pxcin\",\"sxklz\",\"gzblo\",\"yfiua\",\"lnlar\",\"inxrj\",\"lzxba\",\"sabwl\",\"qdxio\",\"unbxj\",\"ekjdw\",\"aeivh\",\"yvacc\",\"couja\",\"esesd\",\"xgqqm\",\"mqlgh\",\"qewsi\",\"lqavm\",\"kzets\",\"qilkk\",\"ydkbn\",\"qkdnl\",\"qkdlz\",\"wcmuw\",\"dvkia\",\"tvacn\",\"wwazb\",\"hdwgw\",\"iriqi\",\"uovux\",\"voznr\",\"xlcur\",\"ftyfx\",\"csevg\",\"kvhzv\",\"mgjzd\",\"gjwwu\",\"xceyt\",\"egbjc\",\"pgmxr\",\"tfejp\",\"pykmo\",\"zadsx\",\"otvqg\",\"lszjn\",\"lpxap\",\"hbszs\",\"tvnil\",\"utara\",\"eiiil\",\"dgsvn\"]\n",
       "}\n",
       "}]\n",
       "};\n",
       "           var plotContainer = document.getElementById(\"fkunx9\");\n",
       "           window.letsPlotCall(function() {{\n",
       "               LetsPlot.buildPlotFromProcessedSpecs(plotSpec, -1, -1, plotContainer);\n",
       "           }});\n",
       "       })();    \n",
       "   </script>"
      ],
      "text/plain": [
       "<lets_plot.plot.core.PlotSpec at 0x7fb855029d90>"
      ]
     },
     "execution_count": 4,
     "metadata": {},
     "output_type": "execute_result"
    }
   ],
   "source": [
    "# Disable sampling to see the overplotting.\n",
    "p + geom_bar(sampling='none')"
   ]
  },
  {
   "cell_type": "code",
   "execution_count": 5,
   "metadata": {},
   "outputs": [
    {
     "data": {
      "text/html": [
       "   <div id=\"La8bKy\"></div>\n",
       "   <script type=\"text/javascript\" data-lets-plot-script=\"plot\">\n",
       "       (function() {\n",
       "           var plotSpec={\n",
       "'data':{\n",
       "},\n",
       "'mapping':{\n",
       "'x':\"word\"\n",
       "},\n",
       "'data_meta':{\n",
       "},\n",
       "'kind':\"plot\",\n",
       "'scales':[],\n",
       "'layers':[{\n",
       "'geom':\"bar\",\n",
       "'mapping':{\n",
       "},\n",
       "'data_meta':{\n",
       "},\n",
       "'data':{\n",
       "'..count..':[2.0,5.0,3.0,2.0,3.0,2.0,2.0,2.0,1.0,3.0,2.0,3.0,2.0,5.0,3.0,2.0,4.0,3.0,2.0,2.0,4.0,2.0,5.0,5.0,3.0,4.0,2.0,2.0,6.0,2.0,3.0,3.0,4.0,2.0,3.0,5.0,3.0,1.0,3.0,3.0,5.0,6.0,3.0,2.0,4.0,1.0,1.0,2.0,2.0,1.0],\n",
       "'word':[\"nrmjh\",\"zzlux\",\"vhiyc\",\"wqraj\",\"qdekx\",\"ftqgq\",\"rqhni\",\"yrrff\",\"xeizm\",\"qtjeg\",\"nrudf\",\"giykt\",\"ypgwp\",\"uupky\",\"xxqqa\",\"foqbi\",\"uaapb\",\"itjgq\",\"fiqfv\",\"qmadk\",\"bphxz\",\"ejgvx\",\"yzkcq\",\"rgqnp\",\"tqdfh\",\"sjgmf\",\"pumzg\",\"ivdmr\",\"khiqb\",\"rbuls\",\"otazh\",\"adiep\",\"prthi\",\"rjriw\",\"jovee\",\"sgpdv\",\"ufrsf\",\"ubmcr\",\"hmznm\",\"zylnm\",\"rtszt\",\"ujreb\",\"swore\",\"zwnvr\",\"cxcau\",\"rrhmq\",\"zifyc\",\"sulzp\",\"imcvs\",\"rrchm\"]\n",
       "}\n",
       "}],\n",
       "'computation_messages':[\"sampling_pick(n=50) was applied to [bar/count stat] layer\"]\n",
       "};\n",
       "           var plotContainer = document.getElementById(\"La8bKy\");\n",
       "           window.letsPlotCall(function() {{\n",
       "               LetsPlot.buildPlotFromProcessedSpecs(plotSpec, -1, -1, plotContainer);\n",
       "           }});\n",
       "       })();    \n",
       "   </script>"
      ],
      "text/plain": [
       "<lets_plot.plot.core.PlotSpec at 0x7fb85502d8d0>"
      ]
     },
     "execution_count": 5,
     "metadata": {},
     "output_type": "execute_result"
    }
   ],
   "source": [
    "# Draw plot with default sampling.\n",
    "p + geom_bar()"
   ]
  },
  {
   "cell_type": "code",
   "execution_count": 6,
   "metadata": {},
   "outputs": [
    {
     "data": {
      "text/html": [
       "   <div id=\"NqHfzu\"></div>\n",
       "   <script type=\"text/javascript\" data-lets-plot-script=\"plot\">\n",
       "       (function() {\n",
       "           var plotSpec={\n",
       "'data':{\n",
       "},\n",
       "'mapping':{\n",
       "'x':\"word\"\n",
       "},\n",
       "'data_meta':{\n",
       "},\n",
       "'kind':\"plot\",\n",
       "'scales':[],\n",
       "'layers':[{\n",
       "'geom':\"bar\",\n",
       "'mapping':{\n",
       "'fill':\"g\"\n",
       "},\n",
       "'data_meta':{\n",
       "},\n",
       "'data':{\n",
       "'..count..':[1.0,1.0,1.0,1.0,1.0,1.0,2.0,3.0,1.0,2.0,2.0,2.0,1.0,2.0,2.0,1.0,1.0,2.0,1.0,2.0,2.0,1.0,2.0,1.0,4.0,1.0,1.0,1.0,1.0,1.0,1.0,2.0,1.0,2.0,1.0,3.0,2.0,2.0,1.0,1.0,2.0,3.0,1.0,1.0,1.0,5.0,1.0,1.0,1.0,1.0,1.0,1.0,3.0,1.0,1.0,1.0,1.0,1.0,1.0,2.0,1.0,1.0,1.0,2.0,1.0,1.0,1.0,1.0,1.0,1.0,1.0,2.0,1.0,1.0,1.0,3.0,1.0,2.0,1.0,1.0,1.0,1.0,2.0,1.0,1.0,1.0,1.0,2.0,1.0,1.0,1.0,1.0,1.0],\n",
       "'word':[\"nrmjh\",\"vhiyc\",\"rqhni\",\"yrrff\",\"nrudf\",\"giykt\",\"itjgq\",\"rgqnp\",\"pumzg\",\"otazh\",\"prthi\",\"ufrsf\",\"ubmcr\",\"rtszt\",\"swore\",\"zwnvr\",\"zifyc\",\"hsgqs\",\"kzksc\",\"drviw\",\"whdhk\",\"dnush\",\"snmkt\",\"amevr\",\"vqpmd\",\"kadow\",\"zekng\",\"srdoi\",\"ajmkn\",\"bphxz\",\"oipol\",\"niqjx\",\"uhbcy\",\"zgidi\",\"qbmgl\",\"hlcic\",\"ixtxy\",\"ldkbe\",\"ghkic\",\"sujmi\",\"zhnfv\",\"rhlhv\",\"zapkm\",\"pzitk\",\"pgdnt\",\"nomrd\",\"dzbja\",\"djhty\",\"nmtob\",\"afklg\",\"giykt\",\"kadow\",\"dzbja\",\"zwnvr\",\"prthi\",\"ajmkn\",\"ufrsf\",\"itjgq\",\"ldkbe\",\"hsgqs\",\"dnush\",\"pzitk\",\"oipol\",\"rgqnp\",\"rtszt\",\"nrudf\",\"pumzg\",\"zhnfv\",\"niqjx\",\"hlcic\",\"kzksc\",\"vhiyc\",\"ixtxy\",\"rqhni\",\"swore\",\"bphxz\",\"sujmi\",\"qbmgl\",\"zekng\",\"prthi\",\"whdhk\",\"snmkt\",\"rtszt\",\"otazh\",\"nomrd\",\"giykt\",\"yrrff\",\"oipol\",\"ajmkn\",\"drviw\",\"nrmjh\",\"pzitk\",\"ixtxy\"],\n",
       "'g':[\"c\",\"c\",\"c\",\"c\",\"c\",\"c\",\"c\",\"c\",\"c\",\"c\",\"c\",\"c\",\"c\",\"c\",\"c\",\"c\",\"c\",\"c\",\"c\",\"c\",\"c\",\"c\",\"c\",\"c\",\"c\",\"c\",\"c\",\"c\",\"c\",\"c\",\"c\",\"c\",\"c\",\"c\",\"c\",\"c\",\"c\",\"c\",\"c\",\"c\",\"c\",\"c\",\"c\",\"c\",\"c\",\"c\",\"c\",\"c\",\"c\",\"c\",\"a\",\"a\",\"a\",\"a\",\"a\",\"a\",\"a\",\"a\",\"a\",\"a\",\"a\",\"a\",\"a\",\"a\",\"a\",\"a\",\"a\",\"a\",\"a\",\"a\",\"a\",\"a\",\"a\",\"a\",\"a\",\"b\",\"b\",\"b\",\"b\",\"b\",\"b\",\"b\",\"b\",\"b\",\"b\",\"b\",\"b\",\"b\",\"b\",\"b\",\"b\",\"b\",\"b\"]\n",
       "}\n",
       "}],\n",
       "'computation_messages':[\"sampling_pick(n=50) was applied to [bar/count stat] layer\"]\n",
       "};\n",
       "           var plotContainer = document.getElementById(\"NqHfzu\");\n",
       "           window.letsPlotCall(function() {{\n",
       "               LetsPlot.buildPlotFromProcessedSpecs(plotSpec, -1, -1, plotContainer);\n",
       "           }});\n",
       "       })();    \n",
       "   </script>"
      ],
      "text/plain": [
       "<lets_plot.plot.core.PlotSpec at 0x7fb854b70c90>"
      ]
     },
     "execution_count": 6,
     "metadata": {},
     "output_type": "execute_result"
    }
   ],
   "source": [
    "# 'pick' sampling preserves groups on bar chart.\n",
    "p + geom_bar(aes(fill='g'))"
   ]
  }
 ],
 "metadata": {
  "kernelspec": {
   "display_name": "Python 3",
   "language": "python",
   "name": "python3"
  },
  "language_info": {
   "codemirror_mode": {
    "name": "ipython",
    "version": 3
   },
   "file_extension": ".py",
   "mimetype": "text/x-python",
   "name": "python",
   "nbconvert_exporter": "python",
   "pygments_lexer": "ipython3",
   "version": "3.7.8"
  },
  "pycharm": {
   "stem_cell": {
    "cell_type": "raw",
    "metadata": {
     "collapsed": false
    },
    "source": []
   }
  }
 },
 "nbformat": 4,
 "nbformat_minor": 1
}
