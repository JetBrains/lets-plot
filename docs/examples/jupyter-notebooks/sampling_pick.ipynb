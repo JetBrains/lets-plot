{
 "cells": [
  {
   "cell_type": "markdown",
   "metadata": {},
   "source": [
    "<em><sub>This page is available as an executable or viewable <strong>Jupyter Notebook</strong>:</sub></em>\n",
    "<br/><br/>\n",
    "<a href=\"https://mybinder.org/v2/gh/JetBrains/lets-plot/v1.5.5demos1?filepath=docs%2Fexamples%2Fjupyter-notebooks%2Fsampling_pick.ipynb\"\n",
    "   target=\"_parent\"> \n",
    "   <img align=\"left\" \n",
    "        src=\"https://mybinder.org/badge_logo.svg\">\n",
    "</a>\n",
    "<a href=\"https://nbviewer.jupyter.org/github/JetBrains/lets-plot/blob/master/docs/examples/jupyter-notebooks/sampling_pick.ipynb\" \n",
    "   target=\"_parent\"> \n",
    "   <img align=\"right\" \n",
    "        src=\"https://raw.githubusercontent.com/jupyter/design/master/logos/Badges/nbviewer_badge.png\" \n",
    "        width=\"109\" height=\"20\">\n",
    "</a>\n",
    "<br/>\n",
    "<br/>\n",
    "\n",
    "\n",
    "## Pick Sampling"
   ]
  },
  {
   "cell_type": "code",
   "execution_count": 1,
   "metadata": {},
   "outputs": [
    {
     "data": {
      "text/html": [
       "\n",
       "            <div id=\"RBJfD6\"></div>\n",
       "            <script type=\"text/javascript\" data-lets-plot-script=\"library\">\n",
       "                if(!window.letsPlotCallQueue) {\n",
       "                    window.letsPlotCallQueue = [];\n",
       "                }; \n",
       "                window.letsPlotCall = function(f) {\n",
       "                    window.letsPlotCallQueue.push(f);\n",
       "                };\n",
       "                (function() {\n",
       "                    var script = document.createElement(\"script\");\n",
       "                    script.type = \"text/javascript\";\n",
       "                    script.src = \"https://dl.bintray.com/jetbrains/lets-plot/lets-plot-1.5.5rc1.min.js\";\n",
       "                    script.onload = function() {\n",
       "                        window.letsPlotCall = function(f) {f();};\n",
       "                        window.letsPlotCallQueue.forEach(function(f) {f();});\n",
       "                        window.letsPlotCallQueue = [];\n",
       "                        \n",
       "                    };\n",
       "                    script.onerror = function(event) {\n",
       "                        window.letsPlotCall = function(f) {};    // noop\n",
       "                        window.letsPlotCallQueue = [];\n",
       "                        var div = document.createElement(\"div\");\n",
       "                        div.style.color = 'darkred';\n",
       "                        div.textContent = 'Error loading Lets-Plot JS';\n",
       "                        document.getElementById(\"RBJfD6\").appendChild(div);\n",
       "                    };\n",
       "                    var e = document.getElementById(\"RBJfD6\");\n",
       "                    e.appendChild(script);\n",
       "                })()\n",
       "            </script>\n",
       "            "
      ]
     },
     "metadata": {},
     "output_type": "display_data"
    }
   ],
   "source": [
    "import numpy as np\n",
    "from lets_plot import *\n",
    "import random, string\n",
    "\n",
    "LetsPlot.setup_html()"
   ]
  },
  {
   "cell_type": "code",
   "execution_count": 2,
   "metadata": {},
   "outputs": [],
   "source": [
    "def gen_word(length):\n",
    "    letters = string.ascii_lowercase\n",
    "    return ''.join(random.choice(letters) for _ in range(length))\n",
    "\n",
    "def gen_word_set(n):\n",
    "    random.seed(1)\n",
    "    word_set = set()\n",
    "    while len(word_set) < n:\n",
    "        word_set.add(gen_word(5))\n",
    "    return word_set\n",
    "\n",
    "def data(n, word_set):\n",
    "    word_choice = list(word_set)\n",
    "    words=[]\n",
    "    groups = []\n",
    "    for _ in range(n):\n",
    "        words.append(np.random.choice(word_choice))\n",
    "        groups.append(np.random.choice(['a','b','c']))\n",
    "\n",
    "    return dict(word=words, g=groups)"
   ]
  },
  {
   "cell_type": "code",
   "execution_count": 3,
   "metadata": {},
   "outputs": [],
   "source": [
    "# Number of unique words exceeds threshold (50) of default 'pick' sampling on bar chart.\n",
    "N = 500\n",
    "word_set = gen_word_set(N)\n",
    "dat = data(1000, word_set)\n",
    "p = ggplot(dat, aes(x='word'))"
   ]
  },
  {
   "cell_type": "code",
   "execution_count": 4,
   "metadata": {},
   "outputs": [
    {
     "data": {
      "text/html": [
       "   <div id=\"himYgx\"></div>\n",
       "   <script type=\"text/javascript\" data-lets-plot-script=\"plot\">\n",
       "       (function() {\n",
       "           var plotSpec={\n",
       "'data':{\n",
       "},\n",
       "'mapping':{\n",
       "'x':\"word\"\n",
       "},\n",
       "'data_meta':{\n",
       "},\n",
       "'kind':\"plot\",\n",
       "'scales':[],\n",
       "'layers':[{\n",
       "'geom':\"bar\",\n",
       "'mapping':{\n",
       "},\n",
       "'sampling':\"none\",\n",
       "'data_meta':{\n",
       "},\n",
       "'data':{\n",
       "'..count..':[3.0,4.0,5.0,3.0,1.0,2.0,2.0,5.0,5.0,3.0,3.0,4.0,3.0,2.0,4.0,3.0,4.0,2.0,3.0,2.0,2.0,4.0,3.0,3.0,3.0,2.0,3.0,5.0,1.0,3.0,1.0,4.0,4.0,2.0,3.0,3.0,6.0,3.0,2.0,5.0,4.0,1.0,2.0,5.0,3.0,2.0,5.0,2.0,3.0,3.0,1.0,3.0,2.0,2.0,5.0,2.0,5.0,3.0,1.0,3.0,2.0,2.0,4.0,2.0,5.0,5.0,3.0,2.0,2.0,3.0,2.0,2.0,3.0,1.0,5.0,3.0,3.0,2.0,2.0,1.0,5.0,3.0,2.0,4.0,1.0,1.0,3.0,2.0,1.0,3.0,1.0,2.0,3.0,5.0,4.0,1.0,2.0,2.0,1.0,3.0,1.0,4.0,1.0,5.0,4.0,3.0,5.0,3.0,3.0,6.0,4.0,2.0,4.0,4.0,2.0,2.0,4.0,5.0,1.0,3.0,3.0,5.0,5.0,4.0,3.0,2.0,3.0,4.0,3.0,4.0,2.0,1.0,2.0,4.0,2.0,1.0,1.0,2.0,4.0,5.0,4.0,2.0,2.0,3.0,2.0,3.0,2.0,2.0,2.0,6.0,1.0,2.0,2.0,3.0,2.0,2.0,2.0,2.0,1.0,4.0,3.0,4.0,2.0,3.0,2.0,4.0,3.0,4.0,2.0,2.0,3.0,2.0,1.0,3.0,3.0,3.0,3.0,2.0,1.0,1.0,2.0,4.0,5.0,2.0,3.0,2.0,3.0,2.0,2.0,4.0,2.0,1.0,5.0,2.0,2.0,3.0,3.0,4.0,3.0,3.0,3.0,3.0,5.0,3.0,4.0,4.0,2.0,1.0,1.0,1.0,2.0,5.0,5.0,3.0,5.0,2.0,3.0,2.0,2.0,2.0,2.0,2.0,4.0,2.0,3.0,1.0,2.0,5.0,3.0,2.0,2.0,2.0,3.0,3.0,2.0,3.0,2.0,3.0,2.0,3.0,1.0,1.0,2.0,1.0,2.0,3.0,2.0,2.0,2.0,3.0,1.0,1.0,1.0,3.0,2.0,4.0,1.0,2.0,3.0,4.0,1.0,2.0,2.0,3.0,1.0,1.0,2.0,1.0,2.0,1.0,4.0,1.0,3.0,2.0,4.0,1.0,2.0,1.0,2.0,2.0,3.0,3.0,2.0,4.0,1.0,1.0,1.0,3.0,2.0,1.0,2.0,3.0,2.0,4.0,4.0,2.0,3.0,1.0,2.0,2.0,1.0,3.0,3.0,3.0,1.0,1.0,2.0,1.0,1.0,3.0,2.0,2.0,2.0,3.0,2.0,1.0,1.0,3.0,4.0,1.0,2.0,3.0,3.0,3.0,2.0,1.0,2.0,1.0,1.0,2.0,1.0,1.0,5.0,2.0,1.0,1.0,1.0,1.0,2.0,1.0,4.0,2.0,3.0,1.0,3.0,4.0,1.0,5.0,1.0,2.0,1.0,1.0,1.0,1.0,2.0,2.0,5.0,1.0,2.0,1.0,1.0,2.0,1.0,1.0,2.0,1.0,1.0,2.0,1.0,1.0,2.0,2.0,1.0,1.0,1.0,1.0,1.0,1.0,1.0,2.0,1.0,1.0,2.0,1.0,1.0,1.0,1.0,2.0,1.0,1.0,1.0,1.0,1.0,1.0,2.0,1.0,2.0,1.0,2.0,2.0,1.0,2.0,1.0,1.0,1.0,1.0,1.0,1.0,2.0,1.0,1.0,1.0,1.0,1.0,2.0,1.0,1.0,1.0,1.0,1.0,1.0,1.0,1.0,1.0],\n",
       "'word':[\"twgfq\",\"xlcur\",\"ozwhu\",\"yvnmi\",\"hyaaj\",\"xqici\",\"ktzvr\",\"ldkbe\",\"wpvli\",\"ujreb\",\"yvacc\",\"exivg\",\"omdte\",\"bkfkz\",\"xlivu\",\"ftqgq\",\"giykt\",\"uupky\",\"nxtbz\",\"amndz\",\"mqlgh\",\"couja\",\"hidzt\",\"ziymr\",\"unbxj\",\"eeihg\",\"tqebk\",\"sxwxc\",\"wfdhm\",\"dvkia\",\"iaomz\",\"rrchm\",\"uxjdx\",\"qvlyq\",\"hquam\",\"qmadk\",\"vhiyc\",\"yueza\",\"yajth\",\"dyfqm\",\"fgkzs\",\"ltphk\",\"hqiiw\",\"oxplp\",\"pgdnt\",\"gaxry\",\"ulmqf\",\"srdoi\",\"cpucr\",\"ghkic\",\"jqebo\",\"smuff\",\"znrfw\",\"cxcau\",\"rcrkk\",\"uovux\",\"mqpcm\",\"erxby\",\"bpvmw\",\"qjzzg\",\"wikps\",\"aucfo\",\"yrrff\",\"rsmgo\",\"mkqnl\",\"rwyvx\",\"wqraj\",\"tvacn\",\"uzwqo\",\"pazun\",\"tyyaw\",\"nbpls\",\"uihgd\",\"ylriz\",\"gmufm\",\"ihmxr\",\"ukhmj\",\"deewi\",\"dseqq\",\"lsloi\",\"qoser\",\"hcurw\",\"grnwh\",\"zgufq\",\"rgqnp\",\"fsosx\",\"ytali\",\"ktmja\",\"ukitx\",\"ubmcr\",\"mnvfl\",\"rbuls\",\"squcc\",\"vrtxa\",\"bufvv\",\"sujmi\",\"drviw\",\"imcvs\",\"tbbzk\",\"cxhiv\",\"pdvef\",\"sjgmf\",\"amioi\",\"cjjxf\",\"oljym\",\"rrhmq\",\"oqrxs\",\"wpesr\",\"niipw\",\"ekjdw\",\"iiuuh\",\"xxqqa\",\"zdple\",\"iroro\",\"snmkt\",\"hneei\",\"fzeud\",\"rqntu\",\"ndygs\",\"vvwco\",\"xfglm\",\"sulzp\",\"gzblo\",\"rtxui\",\"wdsap\",\"jklik\",\"bphxz\",\"pzitk\",\"mfein\",\"czrzi\",\"divif\",\"jxtko\",\"mgjzd\",\"afqwf\",\"tlyoi\",\"qhyop\",\"euyzg\",\"vqpmd\",\"mljyk\",\"vjcdh\",\"amkfi\",\"ulmjo\",\"doayn\",\"ofvhf\",\"mbxik\",\"nhqrg\",\"gnrut\",\"tpdem\",\"cmzee\",\"sjoje\",\"nrudf\",\"tvnil\",\"nmtob\",\"anjsx\",\"bqkqw\",\"xdnmz\",\"bsmie\",\"uqnfg\",\"igcux\",\"xbnog\",\"zylnm\",\"zekng\",\"mcmzq\",\"dzbja\",\"vdqfr\",\"dkkly\",\"qzass\",\"mkmcc\",\"pzzwb\",\"jwelp\",\"lvrpy\",\"qhayg\",\"hdses\",\"fkvhc\",\"zzlux\",\"ymvqz\",\"kitlb\",\"qulfq\",\"kvidt\",\"hyoja\",\"nrfbw\",\"knxfr\",\"pgmxr\",\"hycqf\",\"ygvbp\",\"yfiua\",\"tfejp\",\"brtqe\",\"clcvo\",\"xeizm\",\"naslp\",\"hmcir\",\"kzxvs\",\"ruqbl\",\"tqzss\",\"turch\",\"zifyc\",\"rbsgs\",\"qdxsn\",\"kadow\",\"lxuwh\",\"hlcic\",\"czsrt\",\"qtjeg\",\"sgpdv\",\"agqos\",\"bbzta\",\"jfezm\",\"brbqe\",\"eqyrg\",\"dnush\",\"lcovq\",\"nbloa\",\"dzbgh\",\"ixpbx\",\"xwjwf\",\"pkdgu\",\"idpyo\",\"sedfy\",\"nrmjh\",\"khdcv\",\"ktxlh\",\"qvsat\",\"ziudi\",\"niqjx\",\"riltx\",\"tcxlk\",\"kbaaz\",\"estev\",\"zapkm\",\"raoyb\",\"scilj\",\"yzgjj\",\"rjriw\",\"vffye\",\"ajyzl\",\"yzkcq\",\"rhlhv\",\"mzxqz\",\"ypgwp\",\"jovee\",\"zwnvr\",\"wzjhg\",\"pilei\",\"fhhjo\",\"wjrlf\",\"zztsd\",\"eszyc\",\"amevr\",\"xqgtn\",\"mwmzg\",\"cwqvl\",\"rnrgw\",\"zfrlp\",\"mywoa\",\"tphno\",\"hmrmf\",\"wkppd\",\"rnvcw\",\"nxvsb\",\"egbjc\",\"ufrsf\",\"zadsx\",\"ftyfx\",\"hhkpv\",\"srjqn\",\"cwfin\",\"zuxet\",\"sdkaa\",\"juanx\",\"esesd\",\"qkdlz\",\"lediy\",\"graiu\",\"cejrx\",\"khiqb\",\"uwxzh\",\"qbmgl\",\"hvatm\",\"wcmuw\",\"dbsqa\",\"spqms\",\"oipol\",\"yocus\",\"wwazb\",\"qilkk\",\"hbszs\",\"fljcf\",\"tqdfh\",\"rbove\",\"kzets\",\"etioq\",\"hmznm\",\"xwgfj\",\"ixtxy\",\"dayxv\",\"dgsvn\",\"oixnf\",\"qdekx\",\"ejgvx\",\"lwibr\",\"jeoip\",\"fjuxw\",\"xceyt\",\"rtszt\",\"qvnrh\",\"fiqfv\",\"bwswv\",\"bxfow\",\"bsfvd\",\"ajmkn\",\"dgicu\",\"bebqp\",\"terwk\",\"ijvvz\",\"oqrxb\",\"qkdnl\",\"sesee\",\"ppedq\",\"xmmnv\",\"hpomy\",\"xgqqm\",\"xgwqw\",\"zurkn\",\"spdeu\",\"vlrgz\",\"vgnxa\",\"rtztk\",\"swore\",\"txqps\",\"cdtqs\",\"gjwwu\",\"drlfd\",\"auram\",\"aeivh\",\"jeeqd\",\"rhcxb\",\"bgnbb\",\"qvgjj\",\"sabwl\",\"myods\",\"rvnvx\",\"lqavm\",\"fkoet\",\"zytkp\",\"jipgp\",\"xkyru\",\"rgijs\",\"whitw\",\"wcyuh\",\"yruoq\",\"sjhkd\",\"gwoaj\",\"iimsm\",\"kzksc\",\"ofywt\",\"mlxfh\",\"afqkq\",\"wqxto\",\"mwncc\",\"lpxap\",\"egehx\",\"voznr\",\"dgcba\",\"foqbi\",\"dpybu\",\"ardjq\",\"djhty\",\"aauth\",\"uemxr\",\"dupbq\",\"iriqi\",\"frgjg\",\"cifde\",\"escbj\",\"vomku\",\"rwmar\",\"pykmo\",\"spiee\",\"zgvuc\",\"serom\",\"pemwd\",\"ceffr\",\"pumzg\",\"evsbl\",\"mcsrh\",\"xmcsz\",\"uojyd\",\"xuecq\",\"phwnk\",\"bjwts\",\"ccxdj\",\"lpbrp\",\"kkqzm\",\"inxrj\",\"jsztc\",\"ucqpq\",\"dpamn\",\"gysmv\",\"uaapb\",\"zsnfd\",\"rndvj\",\"rxbqc\",\"ezvba\",\"vszkv\",\"pxcin\",\"oayyi\",\"gztyr\",\"eiiil\",\"lacem\",\"whzth\",\"neafi\",\"ktppk\",\"chhaz\",\"afklg\",\"leszj\",\"hsgqs\",\"misoa\",\"rictz\",\"zgidi\",\"adiep\",\"sxklz\",\"mkpdf\",\"rjcqj\"]\n",
       "}\n",
       "}]\n",
       "};\n",
       "           var plotContainer = document.getElementById(\"himYgx\");\n",
       "           window.letsPlotCall(function() {{\n",
       "               LetsPlot.buildPlotFromProcessedSpecs(plotSpec, -1, -1, plotContainer);\n",
       "           }});\n",
       "       })();    \n",
       "   </script>"
      ],
      "text/plain": [
       "<lets_plot.plot.core.PlotSpec at 0x7f8740bb6bd0>"
      ]
     },
     "execution_count": 4,
     "metadata": {},
     "output_type": "execute_result"
    }
   ],
   "source": [
    "# Disable sampling to see the overplotting.\n",
    "p + geom_bar(sampling='none')"
   ]
  },
  {
   "cell_type": "code",
   "execution_count": 5,
   "metadata": {},
   "outputs": [
    {
     "data": {
      "text/html": [
       "   <div id=\"Amq1of\"></div>\n",
       "   <script type=\"text/javascript\" data-lets-plot-script=\"plot\">\n",
       "       (function() {\n",
       "           var plotSpec={\n",
       "'data':{\n",
       "},\n",
       "'mapping':{\n",
       "'x':\"word\"\n",
       "},\n",
       "'data_meta':{\n",
       "},\n",
       "'kind':\"plot\",\n",
       "'scales':[],\n",
       "'layers':[{\n",
       "'geom':\"bar\",\n",
       "'mapping':{\n",
       "},\n",
       "'data_meta':{\n",
       "},\n",
       "'data':{\n",
       "'..count..':[3.0,4.0,5.0,3.0,1.0,2.0,2.0,5.0,5.0,3.0,3.0,4.0,3.0,2.0,4.0,3.0,4.0,2.0,3.0,2.0,2.0,4.0,3.0,3.0,3.0,2.0,3.0,5.0,1.0,3.0,1.0,4.0,4.0,2.0,3.0,3.0,6.0,3.0,2.0,5.0,4.0,1.0,2.0,5.0,3.0,2.0,5.0,2.0,3.0,3.0],\n",
       "'word':[\"twgfq\",\"xlcur\",\"ozwhu\",\"yvnmi\",\"hyaaj\",\"xqici\",\"ktzvr\",\"ldkbe\",\"wpvli\",\"ujreb\",\"yvacc\",\"exivg\",\"omdte\",\"bkfkz\",\"xlivu\",\"ftqgq\",\"giykt\",\"uupky\",\"nxtbz\",\"amndz\",\"mqlgh\",\"couja\",\"hidzt\",\"ziymr\",\"unbxj\",\"eeihg\",\"tqebk\",\"sxwxc\",\"wfdhm\",\"dvkia\",\"iaomz\",\"rrchm\",\"uxjdx\",\"qvlyq\",\"hquam\",\"qmadk\",\"vhiyc\",\"yueza\",\"yajth\",\"dyfqm\",\"fgkzs\",\"ltphk\",\"hqiiw\",\"oxplp\",\"pgdnt\",\"gaxry\",\"ulmqf\",\"srdoi\",\"cpucr\",\"ghkic\"]\n",
       "}\n",
       "}],\n",
       "'computation_messages':[\"sampling_pick(n=50) was applied to [bar/count stat] layer\"]\n",
       "};\n",
       "           var plotContainer = document.getElementById(\"Amq1of\");\n",
       "           window.letsPlotCall(function() {{\n",
       "               LetsPlot.buildPlotFromProcessedSpecs(plotSpec, -1, -1, plotContainer);\n",
       "           }});\n",
       "       })();    \n",
       "   </script>"
      ],
      "text/plain": [
       "<lets_plot.plot.core.PlotSpec at 0x7f8740b90450>"
      ]
     },
     "execution_count": 5,
     "metadata": {},
     "output_type": "execute_result"
    }
   ],
   "source": [
    "# Draw plot with default sampling.\n",
    "p + geom_bar()"
   ]
  },
  {
   "cell_type": "code",
   "execution_count": 6,
   "metadata": {},
   "outputs": [
    {
     "data": {
      "text/html": [
       "   <div id=\"PznkQS\"></div>\n",
       "   <script type=\"text/javascript\" data-lets-plot-script=\"plot\">\n",
       "       (function() {\n",
       "           var plotSpec={\n",
       "'data':{\n",
       "},\n",
       "'mapping':{\n",
       "'x':\"word\"\n",
       "},\n",
       "'data_meta':{\n",
       "},\n",
       "'kind':\"plot\",\n",
       "'scales':[],\n",
       "'layers':[{\n",
       "'geom':\"bar\",\n",
       "'mapping':{\n",
       "'fill':\"g\"\n",
       "},\n",
       "'data_meta':{\n",
       "},\n",
       "'data':{\n",
       "'..count..':[1.0,1.0,1.0,1.0,1.0,1.0,3.0,1.0,2.0,2.0,2.0,1.0,1.0,1.0,2.0,2.0,2.0,3.0,1.0,2.0,1.0,1.0,2.0,1.0,3.0,2.0,1.0,2.0,2.0,1.0,2.0,1.0,2.0,1.0,3.0,2.0,1.0,1.0,1.0,1.0,1.0,1.0,1.0,1.0,1.0,1.0,4.0,1.0,1.0,3.0,1.0,2.0,1.0,2.0,1.0,1.0,2.0,1.0,1.0,1.0,1.0,1.0,1.0,1.0,2.0,1.0,1.0,1.0,1.0,1.0,1.0,1.0,1.0,1.0,2.0,2.0,1.0,1.0,3.0,2.0,1.0,1.0,1.0,2.0,3.0,2.0,1.0,1.0,1.0,2.0,1.0,1.0,1.0,1.0,1.0,1.0,1.0,2.0,1.0,1.0,1.0,1.0,1.0,1.0,1.0],\n",
       "'word':[\"twgfq\",\"hyaaj\",\"xqici\",\"ktzvr\",\"ujreb\",\"xlivu\",\"couja\",\"unbxj\",\"eeihg\",\"tqebk\",\"dvkia\",\"iaomz\",\"rrchm\",\"qvlyq\",\"vhiyc\",\"hqiiw\",\"oxplp\",\"pgdnt\",\"uupky\",\"erxby\",\"qjzzg\",\"wikps\",\"aucfo\",\"rsmgo\",\"mkqnl\",\"pazun\",\"tyyaw\",\"ukhmj\",\"dseqq\",\"fsosx\",\"ytali\",\"ktmja\",\"ozwhu\",\"squcc\",\"vrtxa\",\"drviw\",\"imcvs\",\"tbbzk\",\"uihgd\",\"sjgmf\",\"amioi\",\"niipw\",\"ekjdw\",\"xxqqa\",\"iroro\",\"hneei\",\"rqntu\",\"vvwco\",\"ihmxr\",\"gzblo\",\"ozwhu\",\"xlivu\",\"uupky\",\"twgfq\",\"ihmxr\",\"erxby\",\"vhiyc\",\"dvkia\",\"gzblo\",\"uihgd\",\"mkqnl\",\"ujreb\",\"rrchm\",\"vvwco\",\"ekjdw\",\"iroro\",\"niipw\",\"xxqqa\",\"sjgmf\",\"hneei\",\"qjzzg\",\"squcc\",\"qvlyq\",\"ujreb\",\"ozwhu\",\"unbxj\",\"uihgd\",\"qjzzg\",\"ekjdw\",\"sjgmf\",\"ihmxr\",\"ktzvr\",\"couja\",\"rrchm\",\"oxplp\",\"vhiyc\",\"rqntu\",\"ktmja\",\"tyyaw\",\"iroro\",\"tqebk\",\"imcvs\",\"wikps\",\"ukhmj\",\"niipw\",\"ytali\",\"mkqnl\",\"vrtxa\",\"xlivu\",\"vvwco\",\"pazun\",\"xqici\",\"gzblo\",\"squcc\",\"rsmgo\"],\n",
       "'g':[\"b\",\"b\",\"b\",\"b\",\"b\",\"b\",\"b\",\"b\",\"b\",\"b\",\"b\",\"b\",\"b\",\"b\",\"b\",\"b\",\"b\",\"b\",\"b\",\"b\",\"b\",\"b\",\"b\",\"b\",\"b\",\"b\",\"b\",\"b\",\"b\",\"b\",\"b\",\"b\",\"b\",\"b\",\"b\",\"b\",\"b\",\"b\",\"b\",\"b\",\"b\",\"b\",\"b\",\"b\",\"b\",\"b\",\"b\",\"b\",\"b\",\"b\",\"c\",\"c\",\"c\",\"c\",\"c\",\"c\",\"c\",\"c\",\"c\",\"c\",\"c\",\"c\",\"c\",\"c\",\"c\",\"c\",\"c\",\"c\",\"c\",\"c\",\"c\",\"c\",\"c\",\"a\",\"a\",\"a\",\"a\",\"a\",\"a\",\"a\",\"a\",\"a\",\"a\",\"a\",\"a\",\"a\",\"a\",\"a\",\"a\",\"a\",\"a\",\"a\",\"a\",\"a\",\"a\",\"a\",\"a\",\"a\",\"a\",\"a\",\"a\",\"a\",\"a\",\"a\",\"a\"]\n",
       "}\n",
       "}],\n",
       "'computation_messages':[\"sampling_pick(n=50) was applied to [bar/count stat] layer\"]\n",
       "};\n",
       "           var plotContainer = document.getElementById(\"PznkQS\");\n",
       "           window.letsPlotCall(function() {{\n",
       "               LetsPlot.buildPlotFromProcessedSpecs(plotSpec, -1, -1, plotContainer);\n",
       "           }});\n",
       "       })();    \n",
       "   </script>"
      ],
      "text/plain": [
       "<lets_plot.plot.core.PlotSpec at 0x7f874118bb90>"
      ]
     },
     "execution_count": 6,
     "metadata": {},
     "output_type": "execute_result"
    }
   ],
   "source": [
    "# 'pick' sampling preserves groups on bar chart.\n",
    "p + geom_bar(aes(fill='g'))"
   ]
  }
 ],
 "metadata": {
  "kernelspec": {
   "display_name": "Python 3",
   "language": "python",
   "name": "python3"
  },
  "language_info": {
   "codemirror_mode": {
    "name": "ipython",
    "version": 3
   },
   "file_extension": ".py",
   "mimetype": "text/x-python",
   "name": "python",
   "nbconvert_exporter": "python",
   "pygments_lexer": "ipython3",
   "version": "3.7.9"
  },
  "pycharm": {
   "stem_cell": {
    "cell_type": "raw",
    "metadata": {
     "collapsed": false
    },
    "source": []
   }
  }
 },
 "nbformat": 4,
 "nbformat_minor": 1
}
