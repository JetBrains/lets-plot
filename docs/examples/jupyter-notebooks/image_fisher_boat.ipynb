{
 "cells": [
  {
   "cell_type": "code",
   "execution_count": null,
   "metadata": {},
   "outputs": [],
   "source": [
    "import matplotlib.pyplot as plt\n",
    "import matplotlib.image as mpimg\n",
    "import numpy as np\n",
    "import pandas as pd\n",
    "from lets_plot import *\n",
    "from lets_plot.plot import geom_image\n",
    "\n",
    "load_lets_plot_js()"
   ]
  },
  {
   "cell_type": "markdown",
   "metadata": {},
   "source": [
    "Load 225x225 color image"
   ]
  },
  {
   "cell_type": "code",
   "execution_count": null,
   "metadata": {},
   "outputs": [],
   "source": [
    "img=mpimg.imread('https://raw.githubusercontent.com/JetBrains/lets-plot/master/docs/examples/images/sample_image.png')\n",
    "print(img.shape)\n",
    "\n",
    "plt.imshow(img, interpolation=None)"
   ]
  },
  {
   "cell_type": "markdown",
   "metadata": {},
   "source": [
    "_geom\\_image_ will render color (RGB) image if shape of input array is (n, m, 3)"
   ]
  },
  {
   "cell_type": "code",
   "execution_count": null,
   "metadata": {},
   "outputs": [],
   "source": [
    "ggplot() + geom_image(image_data=img)\\\n",
    "        + ggtitle('geom_image (RGB)')"
   ]
  },
  {
   "cell_type": "markdown",
   "metadata": {},
   "source": [
    "For array shapes (n, m, 4) and (n, m) _geom\\_image_ will render respecively\n",
    "color RGBA image and gray-scale image."
   ]
  },
  {
   "cell_type": "markdown",
   "metadata": {},
   "source": [
    "Let's use just red channel to render gray-scale image:"
   ]
  },
  {
   "cell_type": "code",
   "execution_count": null,
   "metadata": {},
   "outputs": [],
   "source": [
    "img_gs = img[:,:,0]\n",
    "ggplot() + geom_image(image_data=img_gs)\\\n",
    "        + ggtitle('geom_image (gray scale)')\n"
   ]
  },
  {
   "cell_type": "markdown",
   "metadata": {},
   "source": [
    "_geom\\_image_ is lot more efficient than _geom\\_raster_ or _geom\\_tile_\n",
    "in rendering of such kind of data.  "
   ]
  },
  {
   "cell_type": "markdown",
   "metadata": {},
   "source": [
    "On the other hand _geom\\_image_ doesn't support aesthetics or scales and\n",
    "therefore lacks flexibility of the other two geoms. Check out this picture \n",
    "with pseudo colors created using _geom\\_raster_: "
   ]
  },
  {
   "cell_type": "code",
   "execution_count": null,
   "metadata": {},
   "outputs": [],
   "source": [
    "# Transform image data to a form suitable for geom_raster.\n",
    "\n",
    "# reshape 3-dimentional ndarray to 2-dimentional long-form ndarray\n",
    "# and then to data frame with columns x,y,r,g,b\n",
    "cols, rows, _ = img.shape\n",
    "img_lf = img.reshape(cols * rows, -1)\n",
    "img_df = pd.DataFrame(img_lf,columns=['r','g','b'])\n",
    "X_mesh, Y_mesh = np.meshgrid(np.arange(rows), np.arange(cols))\n",
    "img_df['x'] = X_mesh.reshape(-1)\n",
    "img_df['y'] = Y_mesh.reshape(-1)[::-1]\n"
   ]
  },
  {
   "cell_type": "code",
   "execution_count": null,
   "metadata": {},
   "outputs": [],
   "source": [
    "# Pack color components values to 24-bit RGB values \n",
    "c_fill = img_df.apply(lambda row: ((int(row['r'] * 255) << 16) + \n",
    "                                   (int(row['g'] * 255) << 8) +\n",
    "                                   int(row['b'] * 255)),\n",
    "                      axis=1)"
   ]
  },
  {
   "cell_type": "code",
   "execution_count": null,
   "metadata": {},
   "outputs": [],
   "source": [
    "ggplot(img_df) + geom_raster(aes('x', 'y', fill=c_fill))\\\n",
    "        + scale_fill_brewer()\\\n",
    "        + ggtitle('geom_raster (with brewer palette)')"
   ]
  }
 ],
 "metadata": {
  "kernelspec": {
   "display_name": "Python 3",
   "language": "python",
   "name": "python3"
  },
  "language_info": {
   "codemirror_mode": {
    "name": "ipython",
    "version": 3
   },
   "file_extension": ".py",
   "mimetype": "text/x-python",
   "name": "python",
   "nbconvert_exporter": "python",
   "pygments_lexer": "ipython3",
   "version": "3.7.3"
  },
  "pycharm": {
   "stem_cell": {
    "cell_type": "raw",
    "source": [],
    "metadata": {
     "collapsed": false
    }
   }
  }
 },
 "nbformat": 4,
 "nbformat_minor": 1
}