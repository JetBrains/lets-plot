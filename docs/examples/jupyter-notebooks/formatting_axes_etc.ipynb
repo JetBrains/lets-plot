{
 "cells": [
  {
   "cell_type": "markdown",
   "source": [
    "<em><sub>This page is available as an executable or viewable <strong>Jupyter Notebook</strong>:</sub></em>\n",
    "<br/><br/>\n",
    "<a href=\"https://mybinder.org/v2/gh/JetBrains/lets-plot/v2.0.0demos1?filepath=docs%2Fexamples%2Fjupyter-notebooks%2Fformatting_axes_etc.ipynb\"\n",
    "   target=\"_parent\">\n",
    "   <img align=\"left\"\n",
    "        src=\"https://mybinder.org/badge_logo.svg\">\n",
    "</a>\n",
    "<a href=\"https://nbviewer.jupyter.org/github/JetBrains/lets-plot/blob/master/docs/examples/jupyter-notebooks/formatting_axes_etc.ipynb\"\n",
    "   target=\"_parent\">\n",
    "   <img align=\"right\"\n",
    "        src=\"https://raw.githubusercontent.com/jupyter/design/master/logos/Badges/nbviewer_badge.png\"\n",
    "        width=\"109\" height=\"20\">\n",
    "</a>\n",
    "<br/>\n",
    "<br/>"
   ],
   "metadata": {
    "collapsed": false
   }
  },
  {
   "cell_type": "markdown",
   "metadata": {},
   "source": [
    "### Formatting labels on plots.\n",
    "\n",
    "In Lets-Plot you can apply a formatting to:\n",
    "\n",
    "- axis break values.\n",
    "- labels displayed by `geom_text()`.\n",
    "- tooltip text.\n",
    "- facet labels.\n",
    "\n",
    "Using format string you can format values of numeric and date-time types.\n",
    "\n",
    "In addition, you can use a *string template*.\n",
    "\n",
    "In *string template* the value's format string is surrounded by curly braces: `\"... {.2f} ...\"`.\n",
    "\n",
    "An empty placeholder `{}` is also allowed. In this case a default string representation will be shown. This is also applicable to categorical values."
   ]
  },
  {
   "cell_type": "code",
   "execution_count": 1,
   "metadata": {},
   "outputs": [
    {
     "name": "stdout",
     "output_type": "stream",
     "text": [
      "The geodata is provided by © OpenStreetMap contributors and is made available here under the Open Database License (ODbL).\n"
     ]
    }
   ],
   "source": [
    "import numpy as np\n",
    "import pandas as pd\n",
    "from datetime import datetime\n",
    "from lets_plot import *"
   ]
  },
  {
   "cell_type": "code",
   "execution_count": 2,
   "metadata": {},
   "outputs": [
    {
     "data": {
      "text/html": [
       "\n",
       "            <div id=\"mX0Wb0\"></div>\n",
       "            <script type=\"text/javascript\" data-lets-plot-script=\"library\">\n",
       "                if(!window.letsPlotCallQueue) {\n",
       "                    window.letsPlotCallQueue = [];\n",
       "                }; \n",
       "                window.letsPlotCall = function(f) {\n",
       "                    window.letsPlotCallQueue.push(f);\n",
       "                };\n",
       "                (function() {\n",
       "                    var script = document.createElement(\"script\");\n",
       "                    script.type = \"text/javascript\";\n",
       "                    script.src = \"https://dl.bintray.com/jetbrains/lets-plot/lets-plot-2.0.0rc2.min.js\";\n",
       "                    script.onload = function() {\n",
       "                        window.letsPlotCall = function(f) {f();};\n",
       "                        window.letsPlotCallQueue.forEach(function(f) {f();});\n",
       "                        window.letsPlotCallQueue = [];\n",
       "                        \n",
       "                    };\n",
       "                    script.onerror = function(event) {\n",
       "                        window.letsPlotCall = function(f) {};    // noop\n",
       "                        window.letsPlotCallQueue = [];\n",
       "                        var div = document.createElement(\"div\");\n",
       "                        div.style.color = 'darkred';\n",
       "                        div.textContent = 'Error loading Lets-Plot JS';\n",
       "                        document.getElementById(\"mX0Wb0\").appendChild(div);\n",
       "                    };\n",
       "                    var e = document.getElementById(\"mX0Wb0\");\n",
       "                    e.appendChild(script);\n",
       "                })()\n",
       "            </script>\n",
       "            "
      ]
     },
     "metadata": {},
     "output_type": "display_data"
    }
   ],
   "source": [
    "LetsPlot.setup_html()"
   ]
  },
  {
   "cell_type": "markdown",
   "metadata": {},
   "source": [
    "### The US Unemployment Rates 2000-2016"
   ]
  },
  {
   "cell_type": "code",
   "execution_count": 3,
   "metadata": {},
   "outputs": [
    {
     "data": {
      "text/html": [
       "<div>\n",
       "<style scoped>\n",
       "    .dataframe tbody tr th:only-of-type {\n",
       "        vertical-align: middle;\n",
       "    }\n",
       "\n",
       "    .dataframe tbody tr th {\n",
       "        vertical-align: top;\n",
       "    }\n",
       "\n",
       "    .dataframe thead th {\n",
       "        text-align: right;\n",
       "    }\n",
       "</style>\n",
       "<table border=\"1\" class=\"dataframe\">\n",
       "  <thead>\n",
       "    <tr style=\"text-align: right;\">\n",
       "      <th></th>\n",
       "      <th>Unnamed: 0</th>\n",
       "      <th>date</th>\n",
       "      <th>pce</th>\n",
       "      <th>pop</th>\n",
       "      <th>psavert</th>\n",
       "      <th>uempmed</th>\n",
       "      <th>unemploy</th>\n",
       "    </tr>\n",
       "  </thead>\n",
       "  <tbody>\n",
       "    <tr>\n",
       "      <th>390</th>\n",
       "      <td>391</td>\n",
       "      <td>2000-01-01</td>\n",
       "      <td>6535.3</td>\n",
       "      <td>280976.0</td>\n",
       "      <td>5.4</td>\n",
       "      <td>5.8</td>\n",
       "      <td>5708</td>\n",
       "    </tr>\n",
       "    <tr>\n",
       "      <th>391</th>\n",
       "      <td>392</td>\n",
       "      <td>2000-02-01</td>\n",
       "      <td>6619.7</td>\n",
       "      <td>281190.0</td>\n",
       "      <td>4.8</td>\n",
       "      <td>6.1</td>\n",
       "      <td>5858</td>\n",
       "    </tr>\n",
       "    <tr>\n",
       "      <th>392</th>\n",
       "      <td>393</td>\n",
       "      <td>2000-03-01</td>\n",
       "      <td>6685.8</td>\n",
       "      <td>281409.0</td>\n",
       "      <td>4.5</td>\n",
       "      <td>6.0</td>\n",
       "      <td>5733</td>\n",
       "    </tr>\n",
       "  </tbody>\n",
       "</table>\n",
       "</div>"
      ],
      "text/plain": [
       "     Unnamed: 0       date     pce       pop  psavert  uempmed  unemploy\n",
       "390         391 2000-01-01  6535.3  280976.0      5.4      5.8      5708\n",
       "391         392 2000-02-01  6619.7  281190.0      4.8      6.1      5858\n",
       "392         393 2000-03-01  6685.8  281409.0      4.5      6.0      5733"
      ]
     },
     "execution_count": 3,
     "metadata": {},
     "output_type": "execute_result"
    }
   ],
   "source": [
    "economics_url = 'https://vincentarelbundock.github.io/Rdatasets/csv/ggplot2/economics.csv'\n",
    "economics = pd.read_csv(economics_url)\n",
    "economics['date'] = pd.to_datetime(economics['date'])\n",
    "start_date = datetime(2000, 1, 1)\n",
    "economics = economics.loc[economics['date'] >= start_date]\n",
    "economics.head(3)"
   ]
  },
  {
   "cell_type": "markdown",
   "metadata": {},
   "source": [
    "#### Default plot (no formatting)"
   ]
  },
  {
   "cell_type": "code",
   "execution_count": 4,
   "metadata": {},
   "outputs": [
    {
     "data": {
      "text/html": [
       "   <div id=\"R8q2uH\"></div>\n",
       "   <script type=\"text/javascript\" data-lets-plot-script=\"plot\">\n",
       "       (function() {\n",
       "           var plotSpec={\n",
       "'data':{\n",
       "'date':[9.466848E11,9.493632E11,9.518688E11,9.545472E11,9.571392E11,9.598176E11,9.624096E11,9.65088E11,9.677664E11,9.703584E11,9.730368E11,9.756288E11,9.783072E11,9.809856E11,9.834048E11,9.860832E11,9.886752E11,9.913536E11,9.939456E11,9.96624E11,9.993024E11,1.0018944E12,1.0045728E12,1.0071648E12,1.0098432E12,1.0125216E12,1.0149408E12,1.0176192E12,1.0202112E12,1.0228896E12,1.0254816E12,1.02816E12,1.0308384E12,1.0334304E12,1.0361088E12,1.0387008E12,1.0413792E12,1.0440576E12,1.0464768E12,1.0491552E12,1.0517472E12,1.0544256E12,1.0570176E12,1.059696E12,1.0623744E12,1.0649664E12,1.0676448E12,1.0702368E12,1.0729152E12,1.0755936E12,1.0780992E12,1.0807776E12,1.0833696E12,1.086048E12,1.08864E12,1.0913184E12,1.0939968E12,1.0965888E12,1.0992672E12,1.1018592E12,1.1045376E12,1.107216E12,1.1096352E12,1.1123136E12,1.1149056E12,1.117584E12,1.120176E12,1.1228544E12,1.1255328E12,1.1281248E12,1.1308032E12,1.1333952E12,1.1360736E12,1.138752E12,1.1411712E12,1.1438496E12,1.1464416E12,1.14912E12,1.151712E12,1.1543904E12,1.1570688E12,1.1596608E12,1.1623392E12,1.1649312E12,1.1676096E12,1.170288E12,1.1727072E12,1.1753856E12,1.1779776E12,1.180656E12,1.183248E12,1.1859264E12,1.1886048E12,1.1911968E12,1.1938752E12,1.1964672E12,1.1991456E12,1.201824E12,1.2043296E12,1.207008E12,1.2096E12,1.2122784E12,1.2148704E12,1.2175488E12,1.2202272E12,1.2228192E12,1.2254976E12,1.2280896E12,1.230768E12,1.2334464E12,1.2358656E12,1.238544E12,1.241136E12,1.2438144E12,1.2464064E12,1.2490848E12,1.2517632E12,1.2543552E12,1.2570336E12,1.2596256E12,1.262304E12,1.2649824E12,1.2674016E12,1.27008E12,1.272672E12,1.2753504E12,1.2779424E12,1.2806208E12,1.2832992E12,1.2858912E12,1.2885696E12,1.2911616E12,1.29384E12,1.2965184E12,1.2989376E12,1.301616E12,1.304208E12,1.3068864E12,1.3094784E12,1.3121568E12,1.3148352E12,1.3174272E12,1.3201056E12,1.3226976E12,1.325376E12,1.3280544E12,1.33056E12,1.3332384E12,1.3358304E12,1.3385088E12,1.3411008E12,1.3437792E12,1.3464576E12,1.3490496E12,1.351728E12,1.35432E12,1.3569984E12,1.3596768E12,1.362096E12,1.3647744E12,1.3673664E12,1.3700448E12,1.3726368E12,1.3753152E12,1.3779936E12,1.3805856E12,1.383264E12,1.385856E12,1.3885344E12,1.3912128E12,1.393632E12,1.3963104E12,1.3989024E12,1.4015808E12,1.4041728E12,1.4068512E12,1.4095296E12,1.4121216E12,1.4148E12,1.417392E12,1.4200704E12,1.4227488E12,1.425168E12,1.4278464E12],\n",
       "'uempmed':[5.8,6.1,6.0,6.1,5.8,5.7,6.0,6.3,5.2,6.1,6.1,6.0,5.8,6.1,6.6,5.9,6.3,6.0,6.8,6.9,7.2,7.3,7.7,8.2,8.4,8.3,8.4,8.9,9.5,11.0,8.9,9.0,9.5,9.6,9.3,9.6,9.6,9.5,9.7,10.2,9.9,11.5,10.3,10.1,10.2,10.4,10.3,10.4,10.6,10.2,10.2,9.5,9.9,11.0,8.9,9.2,9.6,9.5,9.7,9.5,9.4,9.2,9.3,9.0,9.1,9.0,8.8,9.2,8.4,8.6,8.5,8.7,8.6,9.1,8.7,8.4,8.5,7.3,8.0,8.4,8.0,7.9,8.3,7.5,8.3,8.5,9.1,8.6,8.2,7.7,8.7,8.8,8.7,8.4,8.6,8.4,9.0,8.7,8.7,9.4,7.9,9.0,9.7,9.7,10.2,10.4,9.8,10.5,10.7,11.7,12.3,13.1,14.2,17.2,16.0,16.3,17.8,18.9,19.8,20.1,20.0,19.9,20.4,22.1,22.3,25.2,22.3,21.0,20.3,21.2,21.0,21.9,21.5,21.1,21.5,20.9,21.6,22.4,22.0,22.4,22.0,20.6,20.8,20.5,20.8,19.7,19.2,19.1,19.9,20.4,17.5,18.4,18.8,19.9,18.6,17.7,15.8,17.2,17.6,17.1,17.1,17.0,16.2,16.5,16.5,16.3,17.1,17.3,15.4,15.9,15.8,15.7,14.6,13.8,13.1,12.9,13.4,13.6,13.0,12.9,13.2,12.9,12.0,11.5]\n",
       "},\n",
       "'mapping':{\n",
       "'x':\"date\",\n",
       "'y':\"uempmed\"\n",
       "},\n",
       "'data_meta':{\n",
       "},\n",
       "'ggsize':{\n",
       "'width':900,\n",
       "'height':400\n",
       "},\n",
       "'kind':\"plot\",\n",
       "'scales':[{\n",
       "'aesthetic':\"x\",\n",
       "'datetime':true\n",
       "}],\n",
       "'layers':[{\n",
       "'geom':\"line\",\n",
       "'mapping':{\n",
       "},\n",
       "'data_meta':{\n",
       "},\n",
       "'data':{\n",
       "}\n",
       "}]\n",
       "};\n",
       "           var plotContainer = document.getElementById(\"R8q2uH\");\n",
       "           window.letsPlotCall(function() {{\n",
       "               LetsPlot.buildPlotFromProcessedSpecs(plotSpec, -1, -1, plotContainer);\n",
       "           }});\n",
       "       })();    \n",
       "   </script>"
      ],
      "text/plain": [
       "<lets_plot.plot.core.PlotSpec at 0x7fcc00710ad0>"
      ]
     },
     "execution_count": 4,
     "metadata": {},
     "output_type": "execute_result"
    }
   ],
   "source": [
    "(ggplot(economics, aes('date', 'uempmed')) + \n",
    " geom_line() + \n",
    " scale_x_datetime() + \n",
    " ggsize(900, 400))"
   ]
  },
  {
   "cell_type": "markdown",
   "metadata": {},
   "source": [
    "#### Apply formatting to X and Y axis labels.\n",
    "\n",
    "Use the `format` parameter in `scale_xxx()`.\n",
    "\n",
    "Note that the text in tooltips is now also formatted."
   ]
  },
  {
   "cell_type": "code",
   "execution_count": 5,
   "metadata": {},
   "outputs": [
    {
     "data": {
      "text/html": [
       "   <div id=\"W7ARF1\"></div>\n",
       "   <script type=\"text/javascript\" data-lets-plot-script=\"plot\">\n",
       "       (function() {\n",
       "           var plotSpec={\n",
       "'data':{\n",
       "'date':[9.466848E11,9.493632E11,9.518688E11,9.545472E11,9.571392E11,9.598176E11,9.624096E11,9.65088E11,9.677664E11,9.703584E11,9.730368E11,9.756288E11,9.783072E11,9.809856E11,9.834048E11,9.860832E11,9.886752E11,9.913536E11,9.939456E11,9.96624E11,9.993024E11,1.0018944E12,1.0045728E12,1.0071648E12,1.0098432E12,1.0125216E12,1.0149408E12,1.0176192E12,1.0202112E12,1.0228896E12,1.0254816E12,1.02816E12,1.0308384E12,1.0334304E12,1.0361088E12,1.0387008E12,1.0413792E12,1.0440576E12,1.0464768E12,1.0491552E12,1.0517472E12,1.0544256E12,1.0570176E12,1.059696E12,1.0623744E12,1.0649664E12,1.0676448E12,1.0702368E12,1.0729152E12,1.0755936E12,1.0780992E12,1.0807776E12,1.0833696E12,1.086048E12,1.08864E12,1.0913184E12,1.0939968E12,1.0965888E12,1.0992672E12,1.1018592E12,1.1045376E12,1.107216E12,1.1096352E12,1.1123136E12,1.1149056E12,1.117584E12,1.120176E12,1.1228544E12,1.1255328E12,1.1281248E12,1.1308032E12,1.1333952E12,1.1360736E12,1.138752E12,1.1411712E12,1.1438496E12,1.1464416E12,1.14912E12,1.151712E12,1.1543904E12,1.1570688E12,1.1596608E12,1.1623392E12,1.1649312E12,1.1676096E12,1.170288E12,1.1727072E12,1.1753856E12,1.1779776E12,1.180656E12,1.183248E12,1.1859264E12,1.1886048E12,1.1911968E12,1.1938752E12,1.1964672E12,1.1991456E12,1.201824E12,1.2043296E12,1.207008E12,1.2096E12,1.2122784E12,1.2148704E12,1.2175488E12,1.2202272E12,1.2228192E12,1.2254976E12,1.2280896E12,1.230768E12,1.2334464E12,1.2358656E12,1.238544E12,1.241136E12,1.2438144E12,1.2464064E12,1.2490848E12,1.2517632E12,1.2543552E12,1.2570336E12,1.2596256E12,1.262304E12,1.2649824E12,1.2674016E12,1.27008E12,1.272672E12,1.2753504E12,1.2779424E12,1.2806208E12,1.2832992E12,1.2858912E12,1.2885696E12,1.2911616E12,1.29384E12,1.2965184E12,1.2989376E12,1.301616E12,1.304208E12,1.3068864E12,1.3094784E12,1.3121568E12,1.3148352E12,1.3174272E12,1.3201056E12,1.3226976E12,1.325376E12,1.3280544E12,1.33056E12,1.3332384E12,1.3358304E12,1.3385088E12,1.3411008E12,1.3437792E12,1.3464576E12,1.3490496E12,1.351728E12,1.35432E12,1.3569984E12,1.3596768E12,1.362096E12,1.3647744E12,1.3673664E12,1.3700448E12,1.3726368E12,1.3753152E12,1.3779936E12,1.3805856E12,1.383264E12,1.385856E12,1.3885344E12,1.3912128E12,1.393632E12,1.3963104E12,1.3989024E12,1.4015808E12,1.4041728E12,1.4068512E12,1.4095296E12,1.4121216E12,1.4148E12,1.417392E12,1.4200704E12,1.4227488E12,1.425168E12,1.4278464E12],\n",
       "'uempmed':[5.8,6.1,6.0,6.1,5.8,5.7,6.0,6.3,5.2,6.1,6.1,6.0,5.8,6.1,6.6,5.9,6.3,6.0,6.8,6.9,7.2,7.3,7.7,8.2,8.4,8.3,8.4,8.9,9.5,11.0,8.9,9.0,9.5,9.6,9.3,9.6,9.6,9.5,9.7,10.2,9.9,11.5,10.3,10.1,10.2,10.4,10.3,10.4,10.6,10.2,10.2,9.5,9.9,11.0,8.9,9.2,9.6,9.5,9.7,9.5,9.4,9.2,9.3,9.0,9.1,9.0,8.8,9.2,8.4,8.6,8.5,8.7,8.6,9.1,8.7,8.4,8.5,7.3,8.0,8.4,8.0,7.9,8.3,7.5,8.3,8.5,9.1,8.6,8.2,7.7,8.7,8.8,8.7,8.4,8.6,8.4,9.0,8.7,8.7,9.4,7.9,9.0,9.7,9.7,10.2,10.4,9.8,10.5,10.7,11.7,12.3,13.1,14.2,17.2,16.0,16.3,17.8,18.9,19.8,20.1,20.0,19.9,20.4,22.1,22.3,25.2,22.3,21.0,20.3,21.2,21.0,21.9,21.5,21.1,21.5,20.9,21.6,22.4,22.0,22.4,22.0,20.6,20.8,20.5,20.8,19.7,19.2,19.1,19.9,20.4,17.5,18.4,18.8,19.9,18.6,17.7,15.8,17.2,17.6,17.1,17.1,17.0,16.2,16.5,16.5,16.3,17.1,17.3,15.4,15.9,15.8,15.7,14.6,13.8,13.1,12.9,13.4,13.6,13.0,12.9,13.2,12.9,12.0,11.5]\n",
       "},\n",
       "'mapping':{\n",
       "'x':\"date\",\n",
       "'y':\"uempmed\"\n",
       "},\n",
       "'data_meta':{\n",
       "},\n",
       "'ggsize':{\n",
       "'width':900,\n",
       "'height':400\n",
       "},\n",
       "'kind':\"plot\",\n",
       "'scales':[{\n",
       "'aesthetic':\"x\",\n",
       "'format':\"%b %Y\",\n",
       "'datetime':true\n",
       "},{\n",
       "'aesthetic':\"y\",\n",
       "'format':\"{} %\"\n",
       "},{\n",
       "'name':\"unemployment rate\",\n",
       "'aesthetic':\"y\"\n",
       "}],\n",
       "'layers':[{\n",
       "'geom':\"line\",\n",
       "'mapping':{\n",
       "},\n",
       "'data_meta':{\n",
       "},\n",
       "'data':{\n",
       "}\n",
       "}]\n",
       "};\n",
       "           var plotContainer = document.getElementById(\"W7ARF1\");\n",
       "           window.letsPlotCall(function() {{\n",
       "               LetsPlot.buildPlotFromProcessedSpecs(plotSpec, -1, -1, plotContainer);\n",
       "           }});\n",
       "       })();    \n",
       "   </script>"
      ],
      "text/plain": [
       "<lets_plot.plot.core.PlotSpec at 0x7fcc011834d0>"
      ]
     },
     "execution_count": 5,
     "metadata": {},
     "output_type": "execute_result"
    }
   ],
   "source": [
    "(ggplot(economics, aes('date', 'uempmed')) + \n",
    " geom_line() + \n",
    " scale_x_datetime(format=\"%b %Y\") + \n",
    " scale_y_continuous(format=\"{} %\") + \n",
    " ylab(\"unemployment rate\") +\n",
    " ggsize(900, 400))"
   ]
  },
  {
   "cell_type": "markdown",
   "metadata": {},
   "source": [
    "#### Configure tooltip's text and location."
   ]
  },
  {
   "cell_type": "code",
   "execution_count": 6,
   "metadata": {},
   "outputs": [
    {
     "data": {
      "text/html": [
       "   <div id=\"eTOQbF\"></div>\n",
       "   <script type=\"text/javascript\" data-lets-plot-script=\"plot\">\n",
       "       (function() {\n",
       "           var plotSpec={\n",
       "'data':{\n",
       "'date':[9.466848E11,9.493632E11,9.518688E11,9.545472E11,9.571392E11,9.598176E11,9.624096E11,9.65088E11,9.677664E11,9.703584E11,9.730368E11,9.756288E11,9.783072E11,9.809856E11,9.834048E11,9.860832E11,9.886752E11,9.913536E11,9.939456E11,9.96624E11,9.993024E11,1.0018944E12,1.0045728E12,1.0071648E12,1.0098432E12,1.0125216E12,1.0149408E12,1.0176192E12,1.0202112E12,1.0228896E12,1.0254816E12,1.02816E12,1.0308384E12,1.0334304E12,1.0361088E12,1.0387008E12,1.0413792E12,1.0440576E12,1.0464768E12,1.0491552E12,1.0517472E12,1.0544256E12,1.0570176E12,1.059696E12,1.0623744E12,1.0649664E12,1.0676448E12,1.0702368E12,1.0729152E12,1.0755936E12,1.0780992E12,1.0807776E12,1.0833696E12,1.086048E12,1.08864E12,1.0913184E12,1.0939968E12,1.0965888E12,1.0992672E12,1.1018592E12,1.1045376E12,1.107216E12,1.1096352E12,1.1123136E12,1.1149056E12,1.117584E12,1.120176E12,1.1228544E12,1.1255328E12,1.1281248E12,1.1308032E12,1.1333952E12,1.1360736E12,1.138752E12,1.1411712E12,1.1438496E12,1.1464416E12,1.14912E12,1.151712E12,1.1543904E12,1.1570688E12,1.1596608E12,1.1623392E12,1.1649312E12,1.1676096E12,1.170288E12,1.1727072E12,1.1753856E12,1.1779776E12,1.180656E12,1.183248E12,1.1859264E12,1.1886048E12,1.1911968E12,1.1938752E12,1.1964672E12,1.1991456E12,1.201824E12,1.2043296E12,1.207008E12,1.2096E12,1.2122784E12,1.2148704E12,1.2175488E12,1.2202272E12,1.2228192E12,1.2254976E12,1.2280896E12,1.230768E12,1.2334464E12,1.2358656E12,1.238544E12,1.241136E12,1.2438144E12,1.2464064E12,1.2490848E12,1.2517632E12,1.2543552E12,1.2570336E12,1.2596256E12,1.262304E12,1.2649824E12,1.2674016E12,1.27008E12,1.272672E12,1.2753504E12,1.2779424E12,1.2806208E12,1.2832992E12,1.2858912E12,1.2885696E12,1.2911616E12,1.29384E12,1.2965184E12,1.2989376E12,1.301616E12,1.304208E12,1.3068864E12,1.3094784E12,1.3121568E12,1.3148352E12,1.3174272E12,1.3201056E12,1.3226976E12,1.325376E12,1.3280544E12,1.33056E12,1.3332384E12,1.3358304E12,1.3385088E12,1.3411008E12,1.3437792E12,1.3464576E12,1.3490496E12,1.351728E12,1.35432E12,1.3569984E12,1.3596768E12,1.362096E12,1.3647744E12,1.3673664E12,1.3700448E12,1.3726368E12,1.3753152E12,1.3779936E12,1.3805856E12,1.383264E12,1.385856E12,1.3885344E12,1.3912128E12,1.393632E12,1.3963104E12,1.3989024E12,1.4015808E12,1.4041728E12,1.4068512E12,1.4095296E12,1.4121216E12,1.4148E12,1.417392E12,1.4200704E12,1.4227488E12,1.425168E12,1.4278464E12],\n",
       "'uempmed':[5.8,6.1,6.0,6.1,5.8,5.7,6.0,6.3,5.2,6.1,6.1,6.0,5.8,6.1,6.6,5.9,6.3,6.0,6.8,6.9,7.2,7.3,7.7,8.2,8.4,8.3,8.4,8.9,9.5,11.0,8.9,9.0,9.5,9.6,9.3,9.6,9.6,9.5,9.7,10.2,9.9,11.5,10.3,10.1,10.2,10.4,10.3,10.4,10.6,10.2,10.2,9.5,9.9,11.0,8.9,9.2,9.6,9.5,9.7,9.5,9.4,9.2,9.3,9.0,9.1,9.0,8.8,9.2,8.4,8.6,8.5,8.7,8.6,9.1,8.7,8.4,8.5,7.3,8.0,8.4,8.0,7.9,8.3,7.5,8.3,8.5,9.1,8.6,8.2,7.7,8.7,8.8,8.7,8.4,8.6,8.4,9.0,8.7,8.7,9.4,7.9,9.0,9.7,9.7,10.2,10.4,9.8,10.5,10.7,11.7,12.3,13.1,14.2,17.2,16.0,16.3,17.8,18.9,19.8,20.1,20.0,19.9,20.4,22.1,22.3,25.2,22.3,21.0,20.3,21.2,21.0,21.9,21.5,21.1,21.5,20.9,21.6,22.4,22.0,22.4,22.0,20.6,20.8,20.5,20.8,19.7,19.2,19.1,19.9,20.4,17.5,18.4,18.8,19.9,18.6,17.7,15.8,17.2,17.6,17.1,17.1,17.0,16.2,16.5,16.5,16.3,17.1,17.3,15.4,15.9,15.8,15.7,14.6,13.8,13.1,12.9,13.4,13.6,13.0,12.9,13.2,12.9,12.0,11.5]\n",
       "},\n",
       "'mapping':{\n",
       "'x':\"date\",\n",
       "'y':\"uempmed\"\n",
       "},\n",
       "'data_meta':{\n",
       "},\n",
       "'ggsize':{\n",
       "'width':900,\n",
       "'height':400\n",
       "},\n",
       "'kind':\"plot\",\n",
       "'scales':[{\n",
       "'aesthetic':\"x\",\n",
       "'format':\"%b %Y\",\n",
       "'datetime':true\n",
       "},{\n",
       "'aesthetic':\"y\",\n",
       "'format':\"{} %\"\n",
       "},{\n",
       "'name':\"unemployment rate\",\n",
       "'aesthetic':\"y\"\n",
       "}],\n",
       "'layers':[{\n",
       "'geom':\"line\",\n",
       "'mapping':{\n",
       "},\n",
       "'tooltips':{\n",
       "'tooltip_formats':[],\n",
       "'tooltip_lines':[\"Unemployment rate:|^y\"],\n",
       "'tooltip_anchor':\"top_center\",\n",
       "'tooltip_min_width':170,\n",
       "'tooltip_color':\"black\"\n",
       "},\n",
       "'data_meta':{\n",
       "},\n",
       "'data':{\n",
       "}\n",
       "}]\n",
       "};\n",
       "           var plotContainer = document.getElementById(\"eTOQbF\");\n",
       "           window.letsPlotCall(function() {{\n",
       "               LetsPlot.buildPlotFromProcessedSpecs(plotSpec, -1, -1, plotContainer);\n",
       "           }});\n",
       "       })();    \n",
       "   </script>"
      ],
      "text/plain": [
       "<lets_plot.plot.core.PlotSpec at 0x7fcc01194590>"
      ]
     },
     "execution_count": 6,
     "metadata": {},
     "output_type": "execute_result"
    }
   ],
   "source": [
    "(ggplot(economics, aes('date', 'uempmed')) + \n",
    " geom_line(tooltips=layer_tooltips()\n",
    "           .line(\"Unemployment rate:|^y\")\n",
    "          .color(\"black\")\n",
    "          .anchor(\"top_center\")\n",
    "          .min_width(170)) + \n",
    " scale_x_datetime(format=\"%b %Y\") + \n",
    " scale_y_continuous(format=\"{} %\") + \n",
    " ylab(\"unemployment rate\") +\n",
    " ggsize(900, 400))"
   ]
  },
  {
   "cell_type": "markdown",
   "metadata": {},
   "source": [
    "#### Add the unemployment rate mean.\n",
    "\n",
    "The `geom_text` label is formatted using the `label_format` parameter."
   ]
  },
  {
   "cell_type": "code",
   "execution_count": 7,
   "metadata": {},
   "outputs": [
    {
     "data": {
      "text/html": [
       "   <div id=\"pv42O5\"></div>\n",
       "   <script type=\"text/javascript\" data-lets-plot-script=\"plot\">\n",
       "       (function() {\n",
       "           var plotSpec={\n",
       "'data':{\n",
       "'date':[9.466848E11,9.493632E11,9.518688E11,9.545472E11,9.571392E11,9.598176E11,9.624096E11,9.65088E11,9.677664E11,9.703584E11,9.730368E11,9.756288E11,9.783072E11,9.809856E11,9.834048E11,9.860832E11,9.886752E11,9.913536E11,9.939456E11,9.96624E11,9.993024E11,1.0018944E12,1.0045728E12,1.0071648E12,1.0098432E12,1.0125216E12,1.0149408E12,1.0176192E12,1.0202112E12,1.0228896E12,1.0254816E12,1.02816E12,1.0308384E12,1.0334304E12,1.0361088E12,1.0387008E12,1.0413792E12,1.0440576E12,1.0464768E12,1.0491552E12,1.0517472E12,1.0544256E12,1.0570176E12,1.059696E12,1.0623744E12,1.0649664E12,1.0676448E12,1.0702368E12,1.0729152E12,1.0755936E12,1.0780992E12,1.0807776E12,1.0833696E12,1.086048E12,1.08864E12,1.0913184E12,1.0939968E12,1.0965888E12,1.0992672E12,1.1018592E12,1.1045376E12,1.107216E12,1.1096352E12,1.1123136E12,1.1149056E12,1.117584E12,1.120176E12,1.1228544E12,1.1255328E12,1.1281248E12,1.1308032E12,1.1333952E12,1.1360736E12,1.138752E12,1.1411712E12,1.1438496E12,1.1464416E12,1.14912E12,1.151712E12,1.1543904E12,1.1570688E12,1.1596608E12,1.1623392E12,1.1649312E12,1.1676096E12,1.170288E12,1.1727072E12,1.1753856E12,1.1779776E12,1.180656E12,1.183248E12,1.1859264E12,1.1886048E12,1.1911968E12,1.1938752E12,1.1964672E12,1.1991456E12,1.201824E12,1.2043296E12,1.207008E12,1.2096E12,1.2122784E12,1.2148704E12,1.2175488E12,1.2202272E12,1.2228192E12,1.2254976E12,1.2280896E12,1.230768E12,1.2334464E12,1.2358656E12,1.238544E12,1.241136E12,1.2438144E12,1.2464064E12,1.2490848E12,1.2517632E12,1.2543552E12,1.2570336E12,1.2596256E12,1.262304E12,1.2649824E12,1.2674016E12,1.27008E12,1.272672E12,1.2753504E12,1.2779424E12,1.2806208E12,1.2832992E12,1.2858912E12,1.2885696E12,1.2911616E12,1.29384E12,1.2965184E12,1.2989376E12,1.301616E12,1.304208E12,1.3068864E12,1.3094784E12,1.3121568E12,1.3148352E12,1.3174272E12,1.3201056E12,1.3226976E12,1.325376E12,1.3280544E12,1.33056E12,1.3332384E12,1.3358304E12,1.3385088E12,1.3411008E12,1.3437792E12,1.3464576E12,1.3490496E12,1.351728E12,1.35432E12,1.3569984E12,1.3596768E12,1.362096E12,1.3647744E12,1.3673664E12,1.3700448E12,1.3726368E12,1.3753152E12,1.3779936E12,1.3805856E12,1.383264E12,1.385856E12,1.3885344E12,1.3912128E12,1.393632E12,1.3963104E12,1.3989024E12,1.4015808E12,1.4041728E12,1.4068512E12,1.4095296E12,1.4121216E12,1.4148E12,1.417392E12,1.4200704E12,1.4227488E12,1.425168E12,1.4278464E12],\n",
       "'uempmed':[5.8,6.1,6.0,6.1,5.8,5.7,6.0,6.3,5.2,6.1,6.1,6.0,5.8,6.1,6.6,5.9,6.3,6.0,6.8,6.9,7.2,7.3,7.7,8.2,8.4,8.3,8.4,8.9,9.5,11.0,8.9,9.0,9.5,9.6,9.3,9.6,9.6,9.5,9.7,10.2,9.9,11.5,10.3,10.1,10.2,10.4,10.3,10.4,10.6,10.2,10.2,9.5,9.9,11.0,8.9,9.2,9.6,9.5,9.7,9.5,9.4,9.2,9.3,9.0,9.1,9.0,8.8,9.2,8.4,8.6,8.5,8.7,8.6,9.1,8.7,8.4,8.5,7.3,8.0,8.4,8.0,7.9,8.3,7.5,8.3,8.5,9.1,8.6,8.2,7.7,8.7,8.8,8.7,8.4,8.6,8.4,9.0,8.7,8.7,9.4,7.9,9.0,9.7,9.7,10.2,10.4,9.8,10.5,10.7,11.7,12.3,13.1,14.2,17.2,16.0,16.3,17.8,18.9,19.8,20.1,20.0,19.9,20.4,22.1,22.3,25.2,22.3,21.0,20.3,21.2,21.0,21.9,21.5,21.1,21.5,20.9,21.6,22.4,22.0,22.4,22.0,20.6,20.8,20.5,20.8,19.7,19.2,19.1,19.9,20.4,17.5,18.4,18.8,19.9,18.6,17.7,15.8,17.2,17.6,17.1,17.1,17.0,16.2,16.5,16.5,16.3,17.1,17.3,15.4,15.9,15.8,15.7,14.6,13.8,13.1,12.9,13.4,13.6,13.0,12.9,13.2,12.9,12.0,11.5]\n",
       "},\n",
       "'mapping':{\n",
       "'x':\"date\",\n",
       "'y':\"uempmed\"\n",
       "},\n",
       "'data_meta':{\n",
       "},\n",
       "'ggtitle':{\n",
       "'text':\"The US Unemployment Rates 2000-2016.\"\n",
       "},\n",
       "'ggsize':{\n",
       "'width':900,\n",
       "'height':400\n",
       "},\n",
       "'kind':\"plot\",\n",
       "'scales':[{\n",
       "'aesthetic':\"x\",\n",
       "'format':\"%b %Y\",\n",
       "'datetime':true\n",
       "},{\n",
       "'aesthetic':\"y\",\n",
       "'format':\"{} %\"\n",
       "},{\n",
       "'name':\"unemployment rate\",\n",
       "'aesthetic':\"y\"\n",
       "}],\n",
       "'layers':[{\n",
       "'geom':\"line\",\n",
       "'mapping':{\n",
       "},\n",
       "'tooltips':{\n",
       "'tooltip_formats':[],\n",
       "'tooltip_lines':[\"Unemployment rate:|^y\"],\n",
       "'tooltip_anchor':\"top_center\",\n",
       "'tooltip_min_width':170,\n",
       "'tooltip_color':\"black\"\n",
       "},\n",
       "'data_meta':{\n",
       "},\n",
       "'data':{\n",
       "}\n",
       "},{\n",
       "'geom':\"hline\",\n",
       "'mapping':{\n",
       "},\n",
       "'data_meta':{\n",
       "},\n",
       "'yintercept':12.378260869565219,\n",
       "'color':\"red\",\n",
       "'linetype':\"dashed\",\n",
       "'data':{\n",
       "}\n",
       "},{\n",
       "'geom':\"text\",\n",
       "'mapping':{\n",
       "},\n",
       "'data_meta':{\n",
       "},\n",
       "'label_format':\"{.2f} %\",\n",
       "'label':12.378260869565219,\n",
       "'x':9.467028E11,\n",
       "'y':12.878260869565219,\n",
       "'color':\"red\",\n",
       "'data':{\n",
       "}\n",
       "}]\n",
       "};\n",
       "           var plotContainer = document.getElementById(\"pv42O5\");\n",
       "           window.letsPlotCall(function() {{\n",
       "               LetsPlot.buildPlotFromProcessedSpecs(plotSpec, -1, -1, plotContainer);\n",
       "           }});\n",
       "       })();    \n",
       "   </script>"
      ],
      "text/plain": [
       "<lets_plot.plot.core.PlotSpec at 0x7fcc011a32d0>"
      ]
     },
     "execution_count": 7,
     "metadata": {},
     "output_type": "execute_result"
    }
   ],
   "source": [
    "unemployment_mean = economics[\"uempmed\"].mean()\n",
    "\n",
    "(ggplot(economics, aes('date', 'uempmed')) + \n",
    " geom_line(tooltips=layer_tooltips()\n",
    "           .line(\"Unemployment rate:|^y\")\n",
    "          .color(\"black\")\n",
    "          .anchor(\"top_center\")\n",
    "          .min_width(170)) + \n",
    " geom_hline(yintercept=unemployment_mean, color=\"red\", linetype=\"dashed\") +\n",
    " geom_text(label=unemployment_mean, \n",
    "           label_format=\"{.2f} %\",\n",
    "           x=start_date, y=unemployment_mean+.5, \n",
    "           color=\"red\") +\n",
    " scale_x_datetime(format=\"%b %Y\") + \n",
    " scale_y_continuous(format=\"{} %\") + \n",
    " ylab(\"unemployment rate\") +\n",
    " ggtitle(\"The US Unemployment Rates 2000-2016.\") +\n",
    " ggsize(900, 400))"
   ]
  }
 ],
 "metadata": {
  "kernelspec": {
   "display_name": "Python 3",
   "language": "python",
   "name": "python3"
  },
  "language_info": {
   "codemirror_mode": {
    "name": "ipython",
    "version": 3
   },
   "file_extension": ".py",
   "mimetype": "text/x-python",
   "name": "python",
   "nbconvert_exporter": "python",
   "pygments_lexer": "ipython3",
   "version": "3.7.9"
  }
 },
 "nbformat": 4,
 "nbformat_minor": 4
}