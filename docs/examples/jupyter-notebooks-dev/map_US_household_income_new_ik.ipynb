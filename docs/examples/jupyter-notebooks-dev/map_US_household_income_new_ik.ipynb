{
 "cells": [
  {
   "cell_type": "code",
   "execution_count": null,
   "metadata": {},
   "outputs": [],
   "source": [
    "from lets_plot import *\n",
    "from lets_plot.geo_data import *\n",
    "\n",
    "import pandas as pd\n",
    "\n",
    "LetsPlot.setup_html()"
   ]
  },
  {
   "cell_type": "code",
   "execution_count": null,
   "metadata": {},
   "outputs": [],
   "source": [
    "income_all = pd.read_csv('../data/US_household_income_2017.csv', encoding='latin-1')\n",
    "income_all.head(3)"
   ]
  },
  {
   "cell_type": "code",
   "execution_count": null,
   "metadata": {},
   "outputs": [],
   "source": [
    "income_by_state = income_all.groupby(\"State_Name\", as_index=False)[\"Mean\"].mean()\n",
    "income_by_state.head(3)"
   ]
  },
  {
   "cell_type": "code",
   "execution_count": null,
   "metadata": {},
   "outputs": [],
   "source": [
    "# load coordinates of US states in low resolution\n",
    "states = regions_state('US-48').boundaries(resolution=4)\n",
    "states.head(3)"
   ]
  },
  {
   "cell_type": "markdown",
   "metadata": {},
   "source": [
    "#### Blank map"
   ]
  },
  {
   "cell_type": "code",
   "execution_count": null,
   "metadata": {},
   "outputs": [],
   "source": [
    "map_theme = theme(axis_line=\"blank\", axis_text=\"blank\", axis_title=\"blank\", axis_ticks=\"blank\") + ggsize(900, 400)\n",
    "ggplot() + geom_map(map=states) + map_theme"
   ]
  },
  {
   "cell_type": "code",
   "execution_count": null,
   "metadata": {},
   "outputs": [],
   "source": [
    "ggplot(income_by_state) + geom_map(aes(fill=\"Mean\"), map=states, map_join=[\"State_Name\", \"request\"]) + map_theme \\\n",
    "    + scale_fill_gradient(low=\"#007BCD\", high=\"#FE0968\", name=\"Mean income\")"
   ]
  },
  {
   "cell_type": "code",
   "execution_count": null,
   "metadata": {},
   "outputs": [],
   "source": [
    "scale_fill_gradient2?"
   ]
  },
  {
   "cell_type": "code",
   "execution_count": null,
   "metadata": {},
   "outputs": [],
   "source": [
    "# Issue: 'request' in the result is empty.\n",
    "counties = regions_county(within=\"US-48\").boundaries(resolution=4)\n",
    "counties.head(3)"
   ]
  },
  {
   "cell_type": "code",
   "execution_count": null,
   "metadata": {
    "scrolled": false
   },
   "outputs": [],
   "source": [
    "ggplot() + geom_map(map=counties) + map_theme"
   ]
  },
  {
   "cell_type": "code",
   "execution_count": null,
   "metadata": {},
   "outputs": [],
   "source": [
    "income_by_county = income_all.groupby([\"State_Name\",\"County\"], as_index=False)[\"Mean\"].mean()\n",
    "income_by_county.head(3)"
   ]
  },
  {
   "cell_type": "code",
   "execution_count": null,
   "metadata": {},
   "outputs": [],
   "source": [
    "# Issue: 'Internal error', message uninformative\n",
    "ggplot(income_by_county) + geom_map(aes(fill=\"Mean\"), map=counties, map_join=[\"County\", \"request\"]) + map_theme \\\n",
    "    + scale_fill_gradient(low=\"#007BCD\", high=\"#FE0968\", name=\"Mean income\", na_value=\"white\")"
   ]
  },
  {
   "cell_type": "code",
   "execution_count": null,
   "metadata": {},
   "outputs": [],
   "source": [
    "# Issue: 'map_join' can't join tables just by county name, without state name. \n",
    "ggplot(income_by_county) + geom_map(aes(fill=\"Mean\"), map=counties, map_join=[\"County\", \"found name\"]) + map_theme \\\n",
    "    + scale_fill_gradient(low=\"#007BCD\", high=\"#FE0968\", name=\"Mean income\", na_value=\"white\")"
   ]
  },
  {
   "cell_type": "code",
   "execution_count": null,
   "metadata": {},
   "outputs": [],
   "source": [
    "# Issue: batch query takes a lot of time and results with an error. The message is misleading:\n",
    "# ValueError: Error: Service is down for maintenance\n",
    "#regions_county(income_by_county[\"County\"].tolist(), within=income_by_county[\"State_Name\"].tolist())"
   ]
  },
  {
   "cell_type": "code",
   "execution_count": null,
   "metadata": {},
   "outputs": [],
   "source": [
    "# Geocode USA only once\n",
    "usa = regions_country('usa')"
   ]
  },
  {
   "cell_type": "code",
   "execution_count": null,
   "metadata": {},
   "outputs": [],
   "source": [
    "def display_progress(i, n):\n",
    "    def display(s):\n",
    "        from IPython.display import display, clear_output, HTML\n",
    "        if s:\n",
    "            clear_output(wait=True)\n",
    "            display(HTML(\"<font color='green'>{}</font>\".format(s)))\n",
    "        else:\n",
    "            clear_output()\n",
    "        \n",
    "    if i != n:\n",
    "        display('Geocoding progress: {}%'.format(round(i / n * 100, 1)))\n",
    "    if i == n:\n",
    "        display(None)"
   ]
  },
  {
   "cell_type": "code",
   "execution_count": null,
   "metadata": {},
   "outputs": [],
   "source": [
    "# Search states once for faster counties geocoding. \n",
    "# States are duplicated but geocoding at level 'state' is pretty fast - dedup gives only 2x speed-up.\n",
    "states = regions_builder('state', income_by_county[\"State_Name\"].tolist(), within=usa)\\\n",
    "    .chunk_request(display_progress) \\\n",
    "    .build()"
   ]
  },
  {
   "cell_type": "code",
   "execution_count": null,
   "metadata": {},
   "outputs": [],
   "source": [
    "# Geocode counties with already geocoded states for better performance.\n",
    "counties = regions_builder('county', income_by_county[\"County\"].tolist(), within=states)\\\n",
    "    .chunk_request(display_progress) \\\n",
    "    .build()"
   ]
  }
 ],
 "metadata": {
  "kernelspec": {
   "display_name": "Python 3",
   "language": "python",
   "name": "python3"
  },
  "language_info": {
   "codemirror_mode": {
    "name": "ipython",
    "version": 3
   },
   "file_extension": ".py",
   "mimetype": "text/x-python",
   "name": "python",
   "nbconvert_exporter": "python",
   "pygments_lexer": "ipython3",
   "version": "3.7.6"
  }
 },
 "nbformat": 4,
 "nbformat_minor": 1
}
