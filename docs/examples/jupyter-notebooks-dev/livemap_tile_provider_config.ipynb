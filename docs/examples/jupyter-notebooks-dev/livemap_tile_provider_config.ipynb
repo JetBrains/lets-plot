{
 "cells": [
  {
   "cell_type": "code",
   "execution_count": 1,
   "metadata": {},
   "outputs": [],
   "source": [
    "from lets_plot import *\n",
    "from lets_plot.settings_utils import *"
   ]
  },
  {
   "cell_type": "code",
   "execution_count": 2,
   "metadata": {},
   "outputs": [],
   "source": [
    "LetsPlot.setup_html(isolated_frame=True, offline=False)"
   ]
  },
  {
   "cell_type": "code",
   "execution_count": 3,
   "metadata": {},
   "outputs": [
    {
     "data": {
      "text/html": [
       "<html lang=\"en\">\n",
       "   <head>\n",
       "       <script type=\"text/javascript\" data-lets-plot-script=\"library\" src=\"https://dl.bintray.com/jetbrains/lets-plot/lets-plot-latest.min.js\"></script>\n",
       "   </head>\n",
       "   <body>\n",
       "          <div id=\"Cq9v7h\"></div>\n",
       "   <script type=\"text/javascript\" data-lets-plot-script=\"plot\">\n",
       "       var plotSpec={\n",
       "'mapping':{\n",
       "},\n",
       "'data_meta':{\n",
       "},\n",
       "'kind':\"plot\",\n",
       "'scales':[],\n",
       "'layers':[{\n",
       "'geom':\"livemap\",\n",
       "'mapping':{\n",
       "},\n",
       "'data_meta':{\n",
       "},\n",
       "'tiles':{\n",
       "'kind':\"vector_lets_plot\",\n",
       "'url':\"wss://tiles.datalore.jetbrains.com\",\n",
       "'theme':\"color\",\n",
       "'attribution':\"Map data <a href=\\\"https://www.openstreetmap.org/copyright\\\">© OpenStreetMap</a> contributors\"\n",
       "},\n",
       "'geocoding':{\n",
       "'url':\"http://127.0.0.1:3012\"\n",
       "},\n",
       "'data':{\n",
       "}\n",
       "}]\n",
       "};\n",
       "       var plotContainer = document.getElementById(\"Cq9v7h\");\n",
       "       LetsPlot.buildPlotFromProcessedSpecs(plotSpec, -1, -1, plotContainer);\n",
       "   </script>\n",
       "   </body>\n",
       "</html>"
      ],
      "text/plain": [
       "<lets_plot.plot.core.PlotSpec at 0x1210d89d0>"
      ]
     },
     "execution_count": 3,
     "metadata": {},
     "output_type": "execute_result"
    }
   ],
   "source": [
    "# vector tiles by default without any setup\n",
    "ggplot() + geom_livemap()"
   ]
  },
  {
   "cell_type": "code",
   "execution_count": 4,
   "metadata": {},
   "outputs": [
    {
     "data": {
      "text/html": [
       "<html lang=\"en\">\n",
       "   <head>\n",
       "       <script type=\"text/javascript\" data-lets-plot-script=\"library\" src=\"https://dl.bintray.com/jetbrains/lets-plot/lets-plot-latest.min.js\"></script>\n",
       "   </head>\n",
       "   <body>\n",
       "          <div id=\"1BaJEu\"></div>\n",
       "   <script type=\"text/javascript\" data-lets-plot-script=\"plot\">\n",
       "       var plotSpec={\n",
       "'mapping':{\n",
       "},\n",
       "'data_meta':{\n",
       "},\n",
       "'kind':\"plot\",\n",
       "'scales':[],\n",
       "'layers':[{\n",
       "'geom':\"livemap\",\n",
       "'mapping':{\n",
       "},\n",
       "'data_meta':{\n",
       "},\n",
       "'tiles':{\n",
       "'kind':\"vector_lets_plot\",\n",
       "'url':\"wss://tiles.datalore.jetbrains.com\",\n",
       "'theme':\"dark\",\n",
       "'attribution':\"Map data <a href=\\\"https://www.openstreetmap.org/copyright\\\">© OpenStreetMap</a> contributors\"\n",
       "},\n",
       "'geocoding':{\n",
       "'url':\"http://127.0.0.1:3012\"\n",
       "},\n",
       "'data':{\n",
       "}\n",
       "}]\n",
       "};\n",
       "       var plotContainer = document.getElementById(\"1BaJEu\");\n",
       "       LetsPlot.buildPlotFromProcessedSpecs(plotSpec, -1, -1, plotContainer);\n",
       "   </script>\n",
       "   </body>\n",
       "</html>"
      ],
      "text/plain": [
       "<lets_plot.plot.core.PlotSpec at 0x1235542d0>"
      ]
     },
     "execution_count": 4,
     "metadata": {},
     "output_type": "execute_result"
    }
   ],
   "source": [
    "# dark theme - changed without url\n",
    "LetsPlot.set(maptiles_lets_plot(theme='dark'))\n",
    "ggplot() + geom_livemap()"
   ]
  },
  {
   "cell_type": "code",
   "execution_count": 5,
   "metadata": {},
   "outputs": [
    {
     "data": {
      "text/html": [
       "<html lang=\"en\">\n",
       "   <head>\n",
       "       <script type=\"text/javascript\" data-lets-plot-script=\"library\" src=\"https://dl.bintray.com/jetbrains/lets-plot/lets-plot-latest.min.js\"></script>\n",
       "   </head>\n",
       "   <body>\n",
       "          <div id=\"ms7txK\"></div>\n",
       "   <script type=\"text/javascript\" data-lets-plot-script=\"plot\">\n",
       "       var plotSpec={\n",
       "'mapping':{\n",
       "},\n",
       "'data_meta':{\n",
       "},\n",
       "'kind':\"plot\",\n",
       "'scales':[],\n",
       "'layers':[{\n",
       "'geom':\"livemap\",\n",
       "'mapping':{\n",
       "},\n",
       "'data_meta':{\n",
       "},\n",
       "'tiles':{\n",
       "'kind':\"vector_lets_plot\",\n",
       "'url':\"wss://tiles.datalore.jetbrains.com\",\n",
       "'theme':\"light\",\n",
       "'attribution':\"Map data <a href=\\\"https://www.openstreetmap.org/copyright\\\">© OpenStreetMap</a> contributors\"\n",
       "},\n",
       "'geocoding':{\n",
       "'url':\"http://127.0.0.1:3012\"\n",
       "},\n",
       "'data':{\n",
       "}\n",
       "}]\n",
       "};\n",
       "       var plotContainer = document.getElementById(\"ms7txK\");\n",
       "       LetsPlot.buildPlotFromProcessedSpecs(plotSpec, -1, -1, plotContainer);\n",
       "   </script>\n",
       "   </body>\n",
       "</html>"
      ],
      "text/plain": [
       "<lets_plot.plot.core.PlotSpec at 0x123554cd0>"
      ]
     },
     "execution_count": 5,
     "metadata": {},
     "output_type": "execute_result"
    }
   ],
   "source": [
    "# light theme - changed witout url\n",
    "LetsPlot.set(maptiles_lets_plot(theme='light'))\n",
    "ggplot() + geom_livemap()"
   ]
  },
  {
   "cell_type": "code",
   "execution_count": 6,
   "metadata": {},
   "outputs": [
    {
     "data": {
      "text/html": [
       "<html lang=\"en\">\n",
       "   <head>\n",
       "       <script type=\"text/javascript\" data-lets-plot-script=\"library\" src=\"https://dl.bintray.com/jetbrains/lets-plot/lets-plot-latest.min.js\"></script>\n",
       "   </head>\n",
       "   <body>\n",
       "          <div id=\"BFPrNi\"></div>\n",
       "   <script type=\"text/javascript\" data-lets-plot-script=\"plot\">\n",
       "       var plotSpec={\n",
       "'mapping':{\n",
       "},\n",
       "'data_meta':{\n",
       "},\n",
       "'kind':\"plot\",\n",
       "'scales':[],\n",
       "'layers':[{\n",
       "'geom':\"livemap\",\n",
       "'mapping':{\n",
       "},\n",
       "'data_meta':{\n",
       "},\n",
       "'tiles':{\n",
       "'kind':\"raster_zxy\",\n",
       "'url':\"https://maps.wikimedia.org/osm-intl/{z}/{x}/{y}@2x.png\"\n",
       "},\n",
       "'geocoding':{\n",
       "'url':\"http://127.0.0.1:3012\"\n",
       "},\n",
       "'data':{\n",
       "}\n",
       "}]\n",
       "};\n",
       "       var plotContainer = document.getElementById(\"BFPrNi\");\n",
       "       LetsPlot.buildPlotFromProcessedSpecs(plotSpec, -1, -1, plotContainer);\n",
       "   </script>\n",
       "   </body>\n",
       "</html>"
      ],
      "text/plain": [
       "<lets_plot.plot.core.PlotSpec at 0x12355f690>"
      ]
     },
     "execution_count": 6,
     "metadata": {},
     "output_type": "execute_result"
    }
   ],
   "source": [
    "# raster tiles to global settings\n",
    "LetsPlot.set(maptiles_zxy(url='https://maps.wikimedia.org/osm-intl/{z}/{x}/{y}@2x.png'))\n",
    "ggplot() + geom_livemap()"
   ]
  },
  {
   "cell_type": "code",
   "execution_count": 7,
   "metadata": {},
   "outputs": [],
   "source": [
    "# This won't work - vector tiles server URL is not in settings anymore\n",
    "#LetsPlot.set(maptiles_lets_plot(theme='light'))"
   ]
  },
  {
   "cell_type": "code",
   "execution_count": 8,
   "metadata": {},
   "outputs": [
    {
     "data": {
      "text/html": [
       "<html lang=\"en\">\n",
       "   <head>\n",
       "       <script type=\"text/javascript\" data-lets-plot-script=\"library\" src=\"https://dl.bintray.com/jetbrains/lets-plot/lets-plot-latest.min.js\"></script>\n",
       "   </head>\n",
       "   <body>\n",
       "          <div id=\"xbeEBp\"></div>\n",
       "   <script type=\"text/javascript\" data-lets-plot-script=\"plot\">\n",
       "       var plotSpec={\n",
       "'mapping':{\n",
       "},\n",
       "'data_meta':{\n",
       "},\n",
       "'kind':\"plot\",\n",
       "'scales':[],\n",
       "'layers':[{\n",
       "'geom':\"livemap\",\n",
       "'mapping':{\n",
       "},\n",
       "'data_meta':{\n",
       "},\n",
       "'tiles':{\n",
       "'kind':\"vector_lets_plot\",\n",
       "'url':\"wss://tiles.datalore.jetbrains.com\",\n",
       "'theme':\"light\",\n",
       "'attribution':\"Map data <a href=\\\"https://www.openstreetmap.org/copyright\\\">© OpenStreetMap</a> contributors\"\n",
       "},\n",
       "'geocoding':{\n",
       "'url':\"http://127.0.0.1:3012\"\n",
       "},\n",
       "'data':{\n",
       "}\n",
       "}]\n",
       "};\n",
       "       var plotContainer = document.getElementById(\"xbeEBp\");\n",
       "       LetsPlot.buildPlotFromProcessedSpecs(plotSpec, -1, -1, plotContainer);\n",
       "   </script>\n",
       "   </body>\n",
       "</html>"
      ],
      "text/plain": [
       "<lets_plot.plot.core.PlotSpec at 0x12355ff50>"
      ]
     },
     "execution_count": 8,
     "metadata": {},
     "output_type": "execute_result"
    }
   ],
   "source": [
    "# pass vector tiles config directly to the livemap while raster tiles are in settings\n",
    "ggplot() + geom_livemap(tiles=maptiles_lets_plot(url='wss://tiles.datalore.jetbrains.com', theme='light'))"
   ]
  },
  {
   "cell_type": "code",
   "execution_count": 9,
   "metadata": {},
   "outputs": [
    {
     "data": {
      "text/html": [
       "<html lang=\"en\">\n",
       "   <head>\n",
       "       <script type=\"text/javascript\" data-lets-plot-script=\"library\" src=\"https://dl.bintray.com/jetbrains/lets-plot/lets-plot-latest.min.js\"></script>\n",
       "   </head>\n",
       "   <body>\n",
       "          <div id=\"qpwNPq\"></div>\n",
       "   <script type=\"text/javascript\" data-lets-plot-script=\"plot\">\n",
       "       var plotSpec={\n",
       "'mapping':{\n",
       "},\n",
       "'data_meta':{\n",
       "},\n",
       "'kind':\"plot\",\n",
       "'scales':[],\n",
       "'layers':[{\n",
       "'geom':\"livemap\",\n",
       "'mapping':{\n",
       "},\n",
       "'data_meta':{\n",
       "},\n",
       "'tiles':{\n",
       "'kind':\"vector_lets_plot\",\n",
       "'url':\"wss://tiles.datalore.jetbrains.com\",\n",
       "'theme':\"dark\",\n",
       "'attribution':\"Map data <a href=\\\"https://www.openstreetmap.org/copyright\\\">© OpenStreetMap</a> contributors\"\n",
       "},\n",
       "'geocoding':{\n",
       "'url':\"http://127.0.0.1:3012\"\n",
       "},\n",
       "'data':{\n",
       "}\n",
       "}]\n",
       "};\n",
       "       var plotContainer = document.getElementById(\"qpwNPq\");\n",
       "       LetsPlot.buildPlotFromProcessedSpecs(plotSpec, -1, -1, plotContainer);\n",
       "   </script>\n",
       "   </body>\n",
       "</html>"
      ],
      "text/plain": [
       "<lets_plot.plot.core.PlotSpec at 0x123564410>"
      ]
     },
     "execution_count": 9,
     "metadata": {},
     "output_type": "execute_result"
    }
   ],
   "source": [
    "# Set vector tiles config with theme globally\n",
    "LetsPlot.set(maptiles_lets_plot(url='wss://tiles.datalore.jetbrains.com', theme='dark'))\n",
    "ggplot() + geom_livemap()"
   ]
  },
  {
   "cell_type": "code",
   "execution_count": 10,
   "metadata": {},
   "outputs": [
    {
     "data": {
      "text/html": [
       "<html lang=\"en\">\n",
       "   <head>\n",
       "       <script type=\"text/javascript\" data-lets-plot-script=\"library\" src=\"https://dl.bintray.com/jetbrains/lets-plot/lets-plot-latest.min.js\"></script>\n",
       "   </head>\n",
       "   <body>\n",
       "          <div id=\"IvlJQ4\"></div>\n",
       "   <script type=\"text/javascript\" data-lets-plot-script=\"plot\">\n",
       "       var plotSpec={\n",
       "'mapping':{\n",
       "},\n",
       "'data_meta':{\n",
       "},\n",
       "'kind':\"plot\",\n",
       "'scales':[],\n",
       "'layers':[{\n",
       "'geom':\"livemap\",\n",
       "'mapping':{\n",
       "},\n",
       "'data_meta':{\n",
       "},\n",
       "'tiles':{\n",
       "'kind':\"raster_zxy\",\n",
       "'url':\"https://maps.wikimedia.org/osm-intl/{z}/{x}/{y}@2x.png\"\n",
       "},\n",
       "'geocoding':{\n",
       "'url':\"http://127.0.0.1:3012\"\n",
       "},\n",
       "'data':{\n",
       "}\n",
       "}]\n",
       "};\n",
       "       var plotContainer = document.getElementById(\"IvlJQ4\");\n",
       "       LetsPlot.buildPlotFromProcessedSpecs(plotSpec, -1, -1, plotContainer);\n",
       "   </script>\n",
       "   </body>\n",
       "</html>"
      ],
      "text/plain": [
       "<lets_plot.plot.core.PlotSpec at 0x123564890>"
      ]
     },
     "execution_count": 10,
     "metadata": {},
     "output_type": "execute_result"
    }
   ],
   "source": [
    "# raster tiles config directly to the livemap while vector tiles are in global settings\n",
    "ggplot() + geom_livemap(tiles='https://maps.wikimedia.org/osm-intl/{z}/{x}/{y}@2x.png')"
   ]
  }
 ],
 "metadata": {
  "kernelspec": {
   "display_name": "Python 3",
   "language": "python",
   "name": "python3"
  },
  "language_info": {
   "codemirror_mode": {
    "name": "ipython",
    "version": 3
   },
   "file_extension": ".py",
   "mimetype": "text/x-python",
   "name": "python",
   "nbconvert_exporter": "python",
   "pygments_lexer": "ipython3",
   "version": "3.7.6"
  }
 },
 "nbformat": 4,
 "nbformat_minor": 4
}
