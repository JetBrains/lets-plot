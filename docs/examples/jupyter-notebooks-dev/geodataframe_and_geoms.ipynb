{
 "cells": [
  {
   "cell_type": "code",
   "execution_count": null,
   "metadata": {},
   "outputs": [],
   "source": [
    "from lets_plot import *\n",
    "import pandas as pd\n",
    "import requests\n",
    "import json\n",
    "from shapely.geometry import Point\n",
    "from shapely.geometry import MultiPolygon, Polygon, LinearRing, Point, mapping\n",
    "import geopandas as gpd\n",
    "import fiona\n"
   ]
  },
  {
   "cell_type": "code",
   "execution_count": null,
   "metadata": {},
   "outputs": [],
   "source": [
    "LetsPlot.setup_html()"
   ]
  },
  {
   "cell_type": "code",
   "execution_count": null,
   "metadata": {},
   "outputs": [],
   "source": [
    "votes=dict(state=['California','Nevada','Utah', 'Arizona'],\\\n",
    "           vote=['Clinton','Clinton','Trump','Trump'])"
   ]
  },
  {
   "cell_type": "code",
   "execution_count": null,
   "metadata": {},
   "outputs": [],
   "source": [
    "centroids = gpd.GeoDataFrame(\n",
    "    data={'key': ['California', 'Nevada', 'Utah', 'Arizona'],\n",
    "          'coord': [\n",
    "              Point(-119.99411, 37.27734), \n",
    "              Point(-116.66696, 38.50308),\n",
    "              Point(-111.54916, 39.49887),\n",
    "              Point(-111.66859, 34.16854)]},\n",
    "    geometry='coord')\n",
    "centroids"
   ]
  },
  {
   "cell_type": "code",
   "execution_count": null,
   "metadata": {},
   "outputs": [],
   "source": [
    "def download_geometry(osm_id, key_value):\n",
    "    response = requests.get('http://polygons.openstreetmap.fr/get_geojson.py?id={0}&params=0'.format(osm_id))\n",
    "    with fiona.BytesCollection(bytes(str.encode(json.dumps(response.json()['geometries'][0])))) as f:\n",
    "        frame = gpd.GeoDataFrame.from_features(f, crs=f.crs)\n",
    "       # frame['geometry'] = frame.simplify(0.1)\n",
    "        frame['key'] = key_value\n",
    "        return frame"
   ]
  },
  {
   "cell_type": "code",
   "execution_count": null,
   "metadata": {},
   "outputs": [],
   "source": [
    "nv = download_geometry(165473, 'Nevada')\n",
    "ca = download_geometry(165475, 'California')\n",
    "ut = download_geometry(161993, 'Utah')\n",
    "ar = download_geometry(162018, 'Arizona')"
   ]
  },
  {
   "cell_type": "code",
   "execution_count": null,
   "metadata": {},
   "outputs": [],
   "source": [
    "boundaries = ar\n",
    "boundaries = pd.concat([boundaries, ca], ignore_index=True)\n",
    "boundaries = pd.concat([boundaries, ut], ignore_index=True)\n",
    "boundaries = pd.concat([boundaries, nv], ignore_index=True)\n",
    "boundaries['geometry'] = boundaries.simplify(0.1) \n",
    "boundaries"
   ]
  },
  {
   "cell_type": "code",
   "execution_count": null,
   "metadata": {},
   "outputs": [],
   "source": [
    "polygon = gpd.GeoDataFrame(\n",
    "    data={'key': ['Polygon'],\n",
    "          'coord': [Polygon(LinearRing([(-123, 34), (-120, 35), (-118, 32)]))]},\n",
    "    geometry='coord')\n",
    "polygon\n"
   ]
  },
  {
   "cell_type": "markdown",
   "metadata": {},
   "source": [
    "### GeoDataFrame in the map parameter using map_id\n",
    "The data specified in the *data* and *map* parameters is merged by a key value from the *map_id* aesthetic. "
   ]
  },
  {
   "cell_type": "code",
   "execution_count": null,
   "metadata": {},
   "outputs": [],
   "source": [
    "ggplot() + geom_polygon(aes(fill='vote'), data = votes, map = boundaries, map_join=('state', 'key'), color='gray', alpha=0.4)"
   ]
  },
  {
   "cell_type": "markdown",
   "metadata": {},
   "source": [
    "### GeoDataFrame in data parameter\n",
    "GeoDataFrame is supported natively in the *data* parameter. It works without *map_id.*  \n",
    "Geometries are automatically taken from GeoDataFrame."
   ]
  },
  {
   "cell_type": "code",
   "execution_count": null,
   "metadata": {},
   "outputs": [],
   "source": [
    "p = ggplot() \n",
    "p += geom_polygon(aes(fill='key'), boundaries, alpha=1) + scale_fill_hue(h = (0, 90))\n",
    "p += geom_path(map=centroids, color='red', linetype=2, size =1)\n",
    "p += geom_point(aes(fill='key'), data = centroids, color='gray', size = 10)\n",
    "p += geom_rect(aes(fill='key'), polygon, color='gray', size=2)\n",
    "p"
   ]
  },
  {
   "cell_type": "markdown",
   "metadata": {},
   "source": [
    "#### Combining layers from the data and map parameters"
   ]
  },
  {
   "cell_type": "code",
   "execution_count": null,
   "metadata": {},
   "outputs": [],
   "source": [
    "ggplot() + geom_map(aes(fill='key'), boundaries,  alpha=0.4) + geom_point(aes(color='vote'), votes, map=centroids, map_join=('state', 'key'), size=10)+ scale_fill_hue()"
   ]
  },
  {
   "cell_type": "code",
   "execution_count": null,
   "metadata": {},
   "outputs": [],
   "source": []
  }
 ],
 "metadata": {
  "kernelspec": {
   "display_name": "Python 3",
   "language": "python",
   "name": "python3"
  },
  "language_info": {
   "codemirror_mode": {
    "name": "ipython",
    "version": 3
   },
   "file_extension": ".py",
   "mimetype": "text/x-python",
   "name": "python",
   "nbconvert_exporter": "python",
   "pygments_lexer": "ipython3",
   "version": "3.7.6"
  }
 },
 "nbformat": 4,
 "nbformat_minor": 2
}
