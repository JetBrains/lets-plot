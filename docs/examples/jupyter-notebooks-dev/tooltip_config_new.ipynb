{
 "cells": [
  {
   "cell_type": "code",
   "execution_count": null,
   "metadata": {},
   "outputs": [],
   "source": [
    "import numpy as np\n",
    "import pandas as pd\n",
    "\n",
    "from lets_plot import *\n",
    "\n",
    "LetsPlot.setup_html() "
   ]
  },
  {
   "cell_type": "code",
   "execution_count": null,
   "metadata": {},
   "outputs": [],
   "source": [
    "# Load mpg dataset\n",
    "mpg_df = pd.read_csv (\"https://jetbrains.bintray.com/lets-plot/mpg.csv\")"
   ]
  },
  {
   "cell_type": "code",
   "execution_count": null,
   "metadata": {},
   "outputs": [],
   "source": [
    "p = ggplot(mpg_df, aes(x='displ', y='hwy', color='manufacturer')) + theme(legend_position='none') "
   ]
  },
  {
   "cell_type": "code",
   "execution_count": null,
   "metadata": {},
   "outputs": [],
   "source": [
    "# Default tooltips\n",
    "p + geom_point(size=5)"
   ]
  },
  {
   "cell_type": "code",
   "execution_count": null,
   "metadata": {},
   "outputs": [],
   "source": [
    "# Hide tooltips\n",
    "p + geom_point(size=5, tooltips=\"none\")"
   ]
  },
  {
   "cell_type": "code",
   "execution_count": null,
   "metadata": {},
   "outputs": [],
   "source": [
    "# Change format for the default tooltip\n",
    "p + geom_point(size=5, tooltips=layer_tooltips().format('color', 'it is {}'))"
   ]
  },
  {
   "cell_type": "code",
   "execution_count": null,
   "metadata": {},
   "outputs": [],
   "source": [
    "# Set numeric format for non-numeric value (the format will be ignored)\n",
    "p + geom_point(size=5, tooltips=layer_tooltips().format('color', '.3f'))"
   ]
  },
  {
   "cell_type": "code",
   "execution_count": null,
   "metadata": {},
   "outputs": [],
   "source": [
    "# Config tooltips\n",
    "p + geom_point(size=5,\n",
    "               tooltips=layer_tooltips()\\\n",
    "                          .format('var@cty', '.1f')\n",
    "                          .format('var@hwy',  '.1f')\n",
    "                          .line('$color $var@model')\n",
    "                          .line('cty/hwy|$var@cty/$var@hwy')\n",
    "                          .line('@|$var@class')\n",
    "                          .line('@|$var@year')\n",
    "                          .line('--[mpg dataset] --'))"
   ]
  },
  {
   "cell_type": "code",
   "execution_count": null,
   "metadata": {},
   "outputs": [],
   "source": [
    "p2 = ggplot(mpg_df, aes('class','hwy')) + theme(legend_position='none')\n",
    "\n",
    "# Default tooltips\n",
    "p2 + geom_boxplot()"
   ]
  },
  {
   "cell_type": "code",
   "execution_count": null,
   "metadata": {},
   "outputs": [],
   "source": [
    "# Config outliers: use new formatting\n",
    "p2 + geom_boxplot(tooltips=layer_tooltips()\n",
    "                        .format('$Y', '.2f')          # all positionals\n",
    "                        .format('ymax' , '.3f')       # use number format --> \"ymax: value\"\n",
    "                        .format('middle' , '{.3f}')   # use line format --> \"value\"\n",
    "                        .format('ymin' , 'ymin is {.3f}'))"
   ]
  },
  {
   "cell_type": "code",
   "execution_count": null,
   "metadata": {},
   "outputs": [],
   "source": [
    "# Move outliers to the general tooltip\n",
    "p2 + geom_boxplot(tooltips=layer_tooltips()\n",
    "                  .line('y min/max|$ymin, $ymax')\n",
    "                  .line('lower/upper|$lower, $upper')\n",
    "                  .line('@|$middle'))"
   ]
  },
  {
   "cell_type": "code",
   "execution_count": null,
   "metadata": {},
   "outputs": [],
   "source": [
    "# Example with calculated variable \n",
    "data1 = {\n",
    "    'country': ['country A', 'country B', 'country C'],\n",
    "    'cases': [153200, 1360, 51],\n",
    "    'd': [243, 32, 0],\n",
    "    'x': [1, 2, 3],\n",
    "    'y': [1, 1, 1],\n",
    "}\n",
    "\n",
    "df = pd.DataFrame(data1)\n",
    "df['cases log'] = np.log(df.cases + 1)\n",
    "\n",
    "# data values are too different - use log as aes and add original value to the tooltip\n",
    "ggplot(df, aes(x='x', y='y')) \\\n",
    "  + theme(legend_position='none', axis_title='blank', axis_text='blank', axis_ticks='blank', axis_tooltip='blank') \\\n",
    "  + geom_point(aes(fill='cases log', color='country'), data=df, size=4, \\\n",
    "               tooltips=layer_tooltips()\n",
    "                            .format('var@cases log', '.1f')\n",
    "                            .line('cases log = ${var@cases log} ($var@cases)')\n",
    "                            .line('number of d|$var@d')\n",
    "                            .line('$var@country'))"
   ]
  },
  {
   "cell_type": "code",
   "execution_count": null,
   "metadata": {},
   "outputs": [],
   "source": [
    "# Example with constant in tooltip\n",
    "data= {}\n",
    "data['x'] = np.append(np.random.normal(0,1,100), np.random.normal(3,1,100))\n",
    "data['y'] = np.append(np.random.normal(0,1,100), np.random.normal(3,1,100))\n",
    "\n",
    "ggplot(data, aes('x', 'y')) \\\n",
    "  + geom_point() \\\n",
    "  + geom_vline(xintercept=np.mean(data['x']), color=\"red\", linetype=\"dashed\", size=1,\n",
    "               tooltips=layer_tooltips()\n",
    "                   .format('xintercept', '.4f')\n",
    "                   .line('mean = $xintercept'))"
   ]
  },
  {
   "cell_type": "code",
   "execution_count": null,
   "metadata": {},
   "outputs": [],
   "source": [
    "# Move to the tooltip to the plot corner\n",
    "p + geom_point(size=5) + theme(legend_position='bottom', tooltip_anchor='top_right')"
   ]
  },
  {
   "cell_type": "code",
   "execution_count": null,
   "metadata": {},
   "outputs": [],
   "source": [
    "# Load iris dataset\n",
    "iris_df = pd.read_csv('https://jetbrains.bintray.com/lets-plot/iris.csv')"
   ]
  },
  {
   "cell_type": "code",
   "execution_count": null,
   "metadata": {},
   "outputs": [],
   "source": [
    "# Default\n",
    "ggplot(iris_df) + geom_area(aes(x='sepal_length', color='sepal_width', fill='species'), stat='density')\n"
   ]
  },
  {
   "cell_type": "code",
   "execution_count": null,
   "metadata": {},
   "outputs": [],
   "source": [
    "# Change tooltips content and move to the corner\n",
    "ggplot(iris_df) + theme(legend_position='none', tooltip_anchor='top_right')\\\n",
    "+ geom_area(aes(x='sepal_length', color='sepal_width', fill='species'), stat='density',\\\n",
    "    tooltips=layer_tooltips()\n",
    "                .line('$fill')\n",
    "                .line('length|$x')\n",
    "                .line('density|$y'))"
   ]
  }
 ],
 "metadata": {
  "kernelspec": {
   "display_name": "Python 3",
   "language": "python",
   "name": "python3"
  },
  "language_info": {
   "codemirror_mode": {
    "name": "ipython",
    "version": 3
   },
   "file_extension": ".py",
   "mimetype": "text/x-python",
   "name": "python",
   "nbconvert_exporter": "python",
   "pygments_lexer": "ipython3",
   "version": "3.7.4"
  }
 },
 "nbformat": 4,
 "nbformat_minor": 4
}
