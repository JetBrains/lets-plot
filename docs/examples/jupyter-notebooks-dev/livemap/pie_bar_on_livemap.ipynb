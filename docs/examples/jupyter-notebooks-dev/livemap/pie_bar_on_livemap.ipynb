{
 "cells": [
  {
   "cell_type": "code",
   "execution_count": null,
   "metadata": {},
   "outputs": [],
   "source": [
    "from lets_plot import *"
   ]
  },
  {
   "cell_type": "code",
   "execution_count": null,
   "metadata": {},
   "outputs": [],
   "source": [
    "LetsPlot.setup_html()"
   ]
  },
  {
   "cell_type": "code",
   "execution_count": null,
   "metadata": {},
   "outputs": [],
   "source": [
    "from lets_plot.settings_utils import maptiles_lets_plot\n",
    "LetsPlot.set(maptiles_lets_plot(url='ws://10.0.0.127:3933'))"
   ]
  },
  {
   "cell_type": "code",
   "execution_count": null,
   "metadata": {},
   "outputs": [],
   "source": [
    "data = {'val': [3000, 0,  -2000, 1500, 1000, 2500], \\\n",
    "        'order': [1, 2, 3, 1, 2, 3], \\\n",
    "        'lat': [31, 31, 31, 42, 42, 42],\\\n",
    "        'lng': [-100, -100, -100, -93, -93, -93],\\\n",
    "        'lnglat': [\"-100,31\",\"-100,31\",\"-100,31\",\"-93,42\",\"-93,42\",\"-93,42\"]}"
   ]
  },
  {
   "cell_type": "code",
   "execution_count": null,
   "metadata": {
    "scrolled": false
   },
   "outputs": [],
   "source": [
    "ggplot(data) + geom_livemap(aes(x='lng', y='lat', sym_y='val', fill = 'val'), symbol='bar', size = 30)"
   ]
  },
  {
   "cell_type": "code",
   "execution_count": null,
   "metadata": {},
   "outputs": [],
   "source": [
    "ggplot(data) \\\n",
    "    + geom_livemap(aes(x='lng', y='lat', sym_y='val', fill='val'), symbol='pie', size=60) \\\n",
    "    + scale_fill_hue(h = [0.,120.], name = 'order')"
   ]
  },
  {
   "cell_type": "code",
   "execution_count": null,
   "metadata": {},
   "outputs": [],
   "source": [
    "ggplot(data) \\\n",
    "    + geom_livemap(aes(x='lng', y='lat', sym_x='order', sym_y= 'val', fill='val'), symbol='bar', size=50) \\\n",
    "    + scale_fill_hue(h = [0.,120.], name = 'order')"
   ]
  }
 ],
 "metadata": {
  "kernelspec": {
   "display_name": "Python 3",
   "language": "python",
   "name": "python3"
  },
  "language_info": {
   "codemirror_mode": {
    "name": "ipython",
    "version": 3
   },
   "file_extension": ".py",
   "mimetype": "text/x-python",
   "name": "python",
   "nbconvert_exporter": "python",
   "pygments_lexer": "ipython3",
   "version": "3.7.6"
  }
 },
 "nbformat": 4,
 "nbformat_minor": 1
}
