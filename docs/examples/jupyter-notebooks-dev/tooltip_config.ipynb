{
 "cells": [
  {
   "cell_type": "code",
   "execution_count": null,
   "metadata": {},
   "outputs": [],
   "source": [
    "import numpy as np\n",
    "import pandas as pd\n",
    "\n",
    "from lets_plot import *\n",
    "\n",
    "LetsPlot.setup_html() "
   ]
  },
  {
   "cell_type": "code",
   "execution_count": null,
   "metadata": {},
   "outputs": [],
   "source": [
    "# Load MPG dataset\n",
    "mpg = pd.read_csv (\"https://jetbrains.bintray.com/lets-plot/mpg.csv\")"
   ]
  },
  {
   "cell_type": "code",
   "execution_count": null,
   "metadata": {},
   "outputs": [],
   "source": [
    "# Default tooltips: color='cty' and shape='drv'\n",
    "p1 = ggplot(mpg, aes(x='displ', y='hwy')) + geom_point(aes(color='cty', shape='drv'), size=5)\n",
    "p1"
   ]
  },
  {
   "cell_type": "code",
   "execution_count": null,
   "metadata": {},
   "outputs": [],
   "source": [
    "# Set tooltip list: static text, list of variables, aes 'color'\n",
    "p1 = ggplot(mpg, aes(x='displ', y='hwy')) + \\\n",
    "     geom_point(aes(color='cty', shape='drv'), size=5, \\\n",
    "                tooltips=layer_tooltips([tooltip_line('-- [mpg dataset] --'), \\\n",
    "                                         tooltip_line(['$var@manufacturer','$var@model','$var@year'], format='{} {} ({})'), \\\n",
    "                                         '$var@class', \\\n",
    "                                         tooltip_line('$color', label = '', format='{.1f} (miles per gallon)')]))\n",
    "p1"
   ]
  },
  {
   "cell_type": "code",
   "execution_count": null,
   "metadata": {},
   "outputs": [],
   "source": [
    "# New config (result is the same)\n",
    "p1 = ggplot(mpg, aes(x='displ', y='hwy')) \\\n",
    "   + geom_point(aes(color='cty', shape='drv'), size=5,\\\n",
    "                    tooltip_formats={'$color': '.1f'},\\\n",
    "                    tooltip_lines=['-- [mpg dataset] --',\\\n",
    "                                   '${var@manufacturer} $var@model ($var@year)',\\\n",
    "                                   '@|$var@class',\\\n",
    "                                   '$color (miles per gallon)'])\n",
    "p1"
   ]
  },
  {
   "cell_type": "code",
   "execution_count": null,
   "metadata": {},
   "outputs": [],
   "source": [
    "# Set empty tooltip aes list: no tooltips\n",
    "p1 = ggplot(mpg, aes(x='displ', y='hwy')) \\\n",
    "   + geom_point(aes(color='cty', shape='drv'), size=5, tooltips=layer_tooltips(lines=[]))\n",
    "p1"
   ]
  },
  {
   "cell_type": "code",
   "execution_count": null,
   "metadata": {},
   "outputs": [],
   "source": [
    "# Set empty tooltip aes list: no tooltips\n",
    "# New config (result is the same)\n",
    "p1 = ggplot(mpg, aes(x='displ', y='hwy')) \\\n",
    "   + geom_point(aes(color='cty', shape='drv'), size=5, tooltip_lines=[])\n",
    "p1"
   ]
  },
  {
   "cell_type": "code",
   "execution_count": null,
   "metadata": {},
   "outputs": [],
   "source": [
    "# Example with calculated variable \n",
    "data1 = {\n",
    "    'country': ['country A', 'country B', 'country C'],\n",
    "    'cases': [153200, 1360, 51],\n",
    "    'd': [243, 32, 0],\n",
    "    'x': [1, 2, 3],\n",
    "    'y': [1, 1, 1],\n",
    "}\n",
    "\n",
    "df = pd.DataFrame(data1)\n",
    "df['cases log'] = np.log(df.cases + 1)\n",
    "\n",
    "# data values are too different - use log as aes and add original value to the tooltip\n",
    "p = ggplot(df, aes(x='x', y='y')) \\\n",
    "  + theme(legend_position='none', axis_title='blank', axis_text='blank', axis_ticks='blank', axis_tooltip='blank') \\\n",
    "  + geom_point(aes(fill='cases log', color='country'), data=df, size=4, \\\n",
    "                     tooltips=layer_tooltips([tooltip_line(['${var@cases log}','$var@cases'], format='cases log = {.1f}  ({})'),\\\n",
    "                                              tooltip_line('$var@d', label='number of d'),\\\n",
    "                                              tooltip_line('$var@country', label='')]))\n",
    "p"
   ]
  },
  {
   "cell_type": "code",
   "execution_count": null,
   "metadata": {},
   "outputs": [],
   "source": [
    "# data values are too different - use log as aes and add original value to the tooltip ()\n",
    "# New config (result is the same)\n",
    "p = ggplot(df, aes(x='x', y='y')) \\\n",
    "  + theme(legend_position='none', axis_title='blank', axis_text='blank', axis_ticks='blank', axis_tooltip='blank') \\\n",
    "  + geom_point(aes(fill='cases log', color='country'), data=df, size=4, \\\n",
    "               tooltip_formats={'${var@cases log}': '.1f'},\\\n",
    "               tooltip_lines=['cases log = ${var@cases log} ($var@cases)',\\\n",
    "                              'number of d|$var@d',\\\n",
    "                              '|$var@country'])\n",
    "p"
   ]
  },
  {
   "cell_type": "code",
   "execution_count": null,
   "metadata": {},
   "outputs": [],
   "source": [
    "# Example with constant in tooltip\n",
    "data= {}\n",
    "data['x'] = np.append(np.random.normal(0,1,100), np.random.normal(3,1,100))\n",
    "data['y'] = np.append(np.random.normal(0,1,100), np.random.normal(3,1,100))\n",
    "\n",
    "p = ggplot(data, aes('x', 'y')) \\\n",
    "  + geom_point() \\\n",
    "  + geom_vline(xintercept=np.mean(data['x']), color=\"red\", linetype=\"dashed\", size=1,\n",
    "                         tooltips=layer_tooltips(lines=[tooltip_line('$xintercept', format='mean = {.4f}')]))\n",
    "p"
   ]
  },
  {
   "cell_type": "code",
   "execution_count": null,
   "metadata": {},
   "outputs": [],
   "source": [
    "# Example with constant in tooltip\n",
    "# New config (result is the same)\n",
    "\n",
    "p = ggplot(data, aes('x', 'y')) \\\n",
    "  + geom_point() \\\n",
    "  + geom_vline(xintercept=np.mean(data['x']), color=\"red\", linetype=\"dashed\", size=1,\n",
    "               tooltip_formats={'$xintercept': '.4f'},\\\n",
    "               tooltip_lines=['mean = $xintercept'])\n",
    "p"
   ]
  },
  {
   "cell_type": "code",
   "execution_count": null,
   "metadata": {},
   "outputs": [],
   "source": [
    "# Config outliers\n",
    "ggplot(mpg, aes('class','hwy')) \\\n",
    "  + geom_boxplot(tooltips=layer_tooltips(lines=[tooltip_line('$middle', label='', format='{.3f}'),\\\n",
    "                                              tooltip_line('$ymin', label='min', format='{.2f}'),\\\n",
    "                                              tooltip_line('$ymax', label='max', format='{.2f}')]))"
   ]
  },
  {
   "cell_type": "code",
   "execution_count": null,
   "metadata": {},
   "outputs": [],
   "source": [
    "# New config outliers\n",
    "ggplot(mpg, aes('class','hwy')) \\\n",
    "  + geom_boxplot(tooltip_formats={'$middle':'.3f', '$ymin':'.2f', '$ymax':'.2f'},\\\n",
    "               tooltip_lines=['$middle', 'min|$ymin', 'max|$ymax'])\n"
   ]
  }
 ],
 "metadata": {
  "kernelspec": {
   "display_name": "Python 3",
   "language": "python",
   "name": "python3"
  },
  "language_info": {
   "codemirror_mode": {
    "name": "ipython",
    "version": 3
   },
   "file_extension": ".py",
   "mimetype": "text/x-python",
   "name": "python",
   "nbconvert_exporter": "python",
   "pygments_lexer": "ipython3",
   "version": "3.7.4"
  }
 },
 "nbformat": 4,
 "nbformat_minor": 4
}
