{
 "cells": [
  {
   "cell_type": "code",
   "execution_count": null,
   "metadata": {},
   "outputs": [],
   "source": [
    "import numpy as np\n",
    "import pandas as pd\n",
    "\n",
    "from lets_plot import *\n",
    "\n",
    "LetsPlot.setup_html() "
   ]
  },
  {
   "cell_type": "code",
   "execution_count": null,
   "metadata": {},
   "outputs": [],
   "source": [
    "# Load MPG dataset\n",
    "mpg = pd.read_csv (\"https://jetbrains.bintray.com/lets-plot/mpg.csv\")"
   ]
  },
  {
   "cell_type": "code",
   "execution_count": null,
   "metadata": {},
   "outputs": [],
   "source": [
    "# Default tooltips: color='cty' and shape='drv'\n",
    "p1 = ggplot(mpg, aes(x='displ', y='hwy')) + geom_point(aes(color='cty', shape='drv'), size=5)\n",
    "p1"
   ]
  },
  {
   "cell_type": "code",
   "execution_count": null,
   "metadata": {},
   "outputs": [],
   "source": [
    "# Set tooltip list: static text, list of variables, aes 'color'\n",
    "p1 = ggplot(mpg, aes(x='displ', y='hwy')) + \\\n",
    "     geom_point(aes(color='cty', shape='drv'), size=5, \\\n",
    "                tooltips=layer_tooltips([tooltip_line('text@-- [mpg dataset] --'), \\\n",
    "                                         tooltip_line(['manufacturer','model','year'], format='{} {} ({})'), \\\n",
    "                                         'class', \\\n",
    "                                         tooltip_line('aes@color', label = '', format='{.1f} (miles per gallon)')]))\n",
    "p1"
   ]
  },
  {
   "cell_type": "code",
   "execution_count": null,
   "metadata": {},
   "outputs": [],
   "source": [
    "# Set empty tooltip aes list: no tooltips\n",
    "p1 = ggplot(mpg, aes(x='displ', y='hwy')) \\\n",
    "   + geom_point(aes(color='cty', shape='drv'), size=5, tooltips=layer_tooltips(lines=[]))\n",
    "p1"
   ]
  },
  {
   "cell_type": "code",
   "execution_count": null,
   "metadata": {},
   "outputs": [],
   "source": [
    "# Example with calculated variable \n",
    "data = {\n",
    "    'country': ['country A', 'country B', 'country C'],\n",
    "    'cases': [153200, 1360, 51],\n",
    "    'd': [243, 32, 0],\n",
    "    'x': [1, 2, 3],\n",
    "    'y': [1, 1, 1],\n",
    "}\n",
    "\n",
    "df = pd.DataFrame(data)\n",
    "df['cases_log'] = np.log(df.cases + 1)\n",
    "\n",
    "# data values are too different - use log as aes and add original value to the tooltip\n",
    "p = ggplot(df, aes(x='x', y='y')) + \\\n",
    "    theme(legend_position='none', axis_title='blank', axis_text='blank', axis_ticks='blank', axis_tooltip='blank') + \\\n",
    "    geom_point(aes(fill='cases_log', color='country'), data=df, size=4, \\\n",
    "                     tooltips=layer_tooltips([tooltip_line(['cases_log','cases'], format='cases_log = {.1f}  ({})'),\\\n",
    "                                              tooltip_line('d', label='number of d'),\\\n",
    "                                              'country']))\n",
    "p"
   ]
  },
  {
   "cell_type": "code",
   "execution_count": null,
   "metadata": {},
   "outputs": [],
   "source": [
    "# Example with constant in tooltip\n",
    "data= {}\n",
    "data['x'] = np.append(np.random.normal(0,1,100), np.random.normal(3,1,100))\n",
    "data['y'] = np.append(np.random.normal(0,1,100), np.random.normal(3,1,100))\n",
    "\n",
    "p = ggplot(data, aes('x', 'y')) + \\\n",
    "    geom_point() + \\\n",
    "    geom_vline(xintercept=np.mean(data['x']), color=\"red\", linetype=\"dashed\", size=1,\n",
    "                         tooltips=layer_tooltips(lines=[tooltip_line('aes@xintercept', format='mean = {.4f}')]))\n",
    "p"
   ]
  }
 ],
 "metadata": {
  "kernelspec": {
   "display_name": "Python 3",
   "language": "python",
   "name": "python3"
  },
  "language_info": {
   "codemirror_mode": {
    "name": "ipython",
    "version": 3
   },
   "file_extension": ".py",
   "mimetype": "text/x-python",
   "name": "python",
   "nbconvert_exporter": "python",
   "pygments_lexer": "ipython3",
   "version": "3.7.4"
  }
 },
 "nbformat": 4,
 "nbformat_minor": 4
}
