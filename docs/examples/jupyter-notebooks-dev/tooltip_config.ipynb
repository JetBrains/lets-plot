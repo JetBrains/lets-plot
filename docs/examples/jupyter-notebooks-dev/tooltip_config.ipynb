{
 "cells": [
  {
   "cell_type": "code",
   "execution_count": null,
   "metadata": {},
   "outputs": [],
   "source": [
    "import numpy as np\n",
    "import pandas as pd\n",
    "\n",
    "from lets_plot import *\n",
    "\n",
    "LetsPlot.setup_html() "
   ]
  },
  {
   "cell_type": "code",
   "execution_count": null,
   "metadata": {},
   "outputs": [],
   "source": [
    "# Load MPG dataset\n",
    "mpg = pd.read_csv (\"https://jetbrains.bintray.com/lets-plot/mpg.csv\")"
   ]
  },
  {
   "cell_type": "code",
   "execution_count": null,
   "metadata": {},
   "outputs": [],
   "source": [
    "# Default tooltips: color='cty' and shape='drv'\n",
    "p1 = ggplot(mpg, aes(x='displ', y='hwy')) + geom_point(aes(color='cty', shape='drv'), size=5)\n",
    "p1"
   ]
  },
  {
   "cell_type": "code",
   "execution_count": null,
   "metadata": {},
   "outputs": [],
   "source": [
    "# Set tooltip list: static text, list of variables, aes 'color'\n",
    "p1 = ggplot(mpg, aes(x='displ', y='hwy')) \\\n",
    "   + geom_point(aes(color='cty', shape='drv'), size=5,\\\n",
    "                    tooltips=layer_tooltips()\\\n",
    "                        .format('color', '.1f')\n",
    "                        .line('--[mpg dataset] --')\\\n",
    "                        .line('${var@manufacturer} $var@model ($var@year)')\\\n",
    "                        .line('@|$var@class')\\\n",
    "                        .line('$color (miles per gallon)'))\n",
    "p1"
   ]
  },
  {
   "cell_type": "code",
   "execution_count": null,
   "metadata": {},
   "outputs": [],
   "source": [
    "# Change format for the default tooltip\n",
    "p1 = ggplot(mpg, aes(x='displ', y='hwy')) +\\\n",
    "    geom_point(aes(color='cty', shape='drv'), size=5, \\\n",
    "               tooltips=layer_tooltips().format('color', '{.3f} (mpg)'))\n",
    "p1"
   ]
  },
  {
   "cell_type": "code",
   "execution_count": null,
   "metadata": {},
   "outputs": [],
   "source": [
    "# Set numeric format for non-numeric value (the format will be ignored)\n",
    "p1 = ggplot(mpg, aes(x='displ', y='hwy')) +\\\n",
    "    geom_point(aes(color='cty', shape='drv'), size=5, \\\n",
    "               tooltips=layer_tooltips()\n",
    "                   .format('var@class', '.3f')\n",
    "                   .line('$var@class'))\n",
    "p1"
   ]
  },
  {
   "cell_type": "code",
   "execution_count": null,
   "metadata": {},
   "outputs": [],
   "source": [
    "# No tooltips\n",
    "p1 = ggplot(mpg, aes(x='displ', y='hwy')) \\\n",
    "   + geom_point(aes(color='cty', shape='drv'), size=5, tooltips=\"none\")\n",
    "p1"
   ]
  },
  {
   "cell_type": "code",
   "execution_count": null,
   "metadata": {},
   "outputs": [],
   "source": [
    "# Example with calculated variable \n",
    "data1 = {\n",
    "    'country': ['country A', 'country B', 'country C'],\n",
    "    'cases': [153200, 1360, 51],\n",
    "    'd': [243, 32, 0],\n",
    "    'x': [1, 2, 3],\n",
    "    'y': [1, 1, 1],\n",
    "}\n",
    "\n",
    "df = pd.DataFrame(data1)\n",
    "df['cases log'] = np.log(df.cases + 1)\n",
    "\n",
    "# data values are too different - use log as aes and add original value to the tooltip\n",
    "p = ggplot(df, aes(x='x', y='y')) \\\n",
    "  + theme(legend_position='none', axis_title='blank', axis_text='blank', axis_ticks='blank', axis_tooltip='blank') \\\n",
    "  + geom_point(aes(fill='cases log', color='country'), data=df, size=4, \\\n",
    "               tooltips=layer_tooltips()\n",
    "                            .format('var@cases log', '.1f')\n",
    "                            .line('cases log = ${var@cases log} ($var@cases)')\n",
    "                            .line('number of d|$var@d')\n",
    "                            .line('$var@country'))\n",
    "p"
   ]
  },
  {
   "cell_type": "code",
   "execution_count": null,
   "metadata": {},
   "outputs": [],
   "source": [
    "# Example with constant in tooltip\n",
    "data= {}\n",
    "data['x'] = np.append(np.random.normal(0,1,100), np.random.normal(3,1,100))\n",
    "data['y'] = np.append(np.random.normal(0,1,100), np.random.normal(3,1,100))\n",
    "\n",
    "p = ggplot(data, aes('x', 'y')) \\\n",
    "  + geom_point() \\\n",
    "  + geom_vline(xintercept=np.mean(data['x']), color=\"red\", linetype=\"dashed\", size=1,\n",
    "               tooltips=layer_tooltips()\n",
    "                   .format('xintercept', '.4f')\n",
    "                   .line('mean = $xintercept'))\n",
    "p"
   ]
  },
  {
   "cell_type": "code",
   "execution_count": null,
   "metadata": {},
   "outputs": [],
   "source": [
    "# Config outliers - formatting\n",
    "ggplot(mpg, aes('class','hwy')) \\\n",
    "  + geom_boxplot(tooltips=layer_tooltips()\n",
    "                        .format('$Y', '.1f')          # all positionals\n",
    "                        .format('ymax' , '.2f')       # use number format\n",
    "                        .format('middle' , '{.3f}')   # use line format\n",
    "                        .format('ymin' , 'ymin is {.2f}'))\n",
    "                       "
   ]
  },
  {
   "cell_type": "code",
   "execution_count": null,
   "metadata": {},
   "outputs": [],
   "source": [
    "# Move outliers to the general tooltip\n",
    "ggplot(mpg, aes('class','hwy')) \\\n",
    "  + geom_boxplot(tooltips=layer_tooltips()\n",
    "                            .line('lower/upper|$lower, $upper'))"
   ]
  }
 ],
 "metadata": {
  "kernelspec": {
   "display_name": "Python 3",
   "language": "python",
   "name": "python3"
  },
  "language_info": {
   "codemirror_mode": {
    "name": "ipython",
    "version": 3
   },
   "file_extension": ".py",
   "mimetype": "text/x-python",
   "name": "python",
   "nbconvert_exporter": "python",
   "pygments_lexer": "ipython3",
   "version": "3.7.4"
  }
 },
 "nbformat": 4,
 "nbformat_minor": 4
}
