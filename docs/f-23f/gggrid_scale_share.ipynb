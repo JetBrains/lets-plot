{
 "cells": [
  {
   "cell_type": "markdown",
   "id": "cf9a1628",
   "metadata": {},
   "source": [
    "# Sharing X,Y-axis Scale Limits\n",
    "Use `sharex`, `sharey` parameters in the `gggrid()` function \n",
    "to control sharing of axis scale limits among plots in grid:\n",
    "\n",
    "- \"all\" or `True` - share limits between all subplots\n",
    "- \"none\" or `False` - do not share limits between subplots\n",
    "- \"row\" - share limits between subplots in the same row\n",
    "- \"col\" - share limits between subplots in the same column\n"
   ]
  },
  {
   "cell_type": "code",
   "execution_count": 1,
   "id": "a46ceb17",
   "metadata": {},
   "outputs": [],
   "source": [
    "from lets_plot import *\n",
    "import numpy as np"
   ]
  },
  {
   "cell_type": "code",
   "execution_count": 2,
   "id": "40380e4b",
   "metadata": {},
   "outputs": [
    {
     "data": {
      "text/html": [
       "\n",
       "            <div id=\"M927wa\"></div>\n",
       "            <script type=\"text/javascript\" data-lets-plot-script=\"library\">\n",
       "                if(!window.letsPlotCallQueue) {\n",
       "                    window.letsPlotCallQueue = [];\n",
       "                }; \n",
       "                window.letsPlotCall = function(f) {\n",
       "                    window.letsPlotCallQueue.push(f);\n",
       "                };\n",
       "                (function() {\n",
       "                    var script = document.createElement(\"script\");\n",
       "                    script.type = \"text/javascript\";\n",
       "                    script.src = \"https://cdn.jsdelivr.net/gh/JetBrains/lets-plot@v4.2.0rc1/js-package/distr/lets-plot.min.js\";\n",
       "                    script.onload = function() {\n",
       "                        window.letsPlotCall = function(f) {f();};\n",
       "                        window.letsPlotCallQueue.forEach(function(f) {f();});\n",
       "                        window.letsPlotCallQueue = [];\n",
       "                        \n",
       "                    };\n",
       "                    script.onerror = function(event) {\n",
       "                        window.letsPlotCall = function(f) {};    // noop\n",
       "                        window.letsPlotCallQueue = [];\n",
       "                        var div = document.createElement(\"div\");\n",
       "                        div.style.color = 'darkred';\n",
       "                        div.textContent = 'Error loading Lets-Plot JS';\n",
       "                        document.getElementById(\"M927wa\").appendChild(div);\n",
       "                    };\n",
       "                    var e = document.getElementById(\"M927wa\");\n",
       "                    e.appendChild(script);\n",
       "                })()\n",
       "            </script>\n",
       "            "
      ]
     },
     "metadata": {},
     "output_type": "display_data"
    }
   ],
   "source": [
    "LetsPlot.setup_html()"
   ]
  },
  {
   "cell_type": "code",
   "execution_count": 3,
   "id": "d45ce9e7",
   "metadata": {},
   "outputs": [],
   "source": [
    "np.random.seed(37)\n",
    "dat1 = {'x': np.random.normal(size=1000)}\n",
    "dat2 = {'x': np.random.normal(size=200)}\n",
    "\n",
    "p1 = ggplot(dat1, aes(x='x')) + geom_histogram()\n",
    "p2 = ggplot(dat2, aes(x='x')) + geom_histogram()"
   ]
  },
  {
   "cell_type": "markdown",
   "id": "89d899a4",
   "metadata": {},
   "source": [
    "#### 1. Two Independent Charts in Grid"
   ]
  },
  {
   "cell_type": "code",
   "execution_count": 4,
   "id": "48b26e36",
   "metadata": {},
   "outputs": [
    {
     "data": {
      "text/html": [
       "   <div id=\"NOmRTj\"></div>\n",
       "   <script type=\"text/javascript\" data-lets-plot-script=\"plot\">\n",
       "       (function() {\n",
       "           var plotSpec={\n",
       "\"kind\":\"subplots\",\n",
       "\"layout\":{\n",
       "\"ncol\":2.0,\n",
       "\"nrow\":1.0,\n",
       "\"name\":\"grid\"\n",
       "},\n",
       "\"figures\":[{\n",
       "\"data\":{\n",
       "},\n",
       "\"mapping\":{\n",
       "\"x\":\"x\"\n",
       "},\n",
       "\"data_meta\":{\n",
       "},\n",
       "\"kind\":\"plot\",\n",
       "\"scales\":[],\n",
       "\"layers\":[{\n",
       "\"geom\":\"histogram\",\n",
       "\"mapping\":{\n",
       "},\n",
       "\"data_meta\":{\n",
       "},\n",
       "\"data\":{\n",
       "\"..count..\":[1.0,1.0,1.0,1.0,3.0,4.0,12.0,19.0,20.0,32.0,44.0,57.0,60.0,79.0,83.0,91.0,83.0,91.0,81.0,61.0,47.0,34.0,25.0,34.0,14.0,11.0,6.0,2.0,1.0,2.0],\n",
       "\"x\":[-3.3475448547322615,-3.129838463214477,-2.912132071696692,-2.6944256801789073,-2.4767192886611222,-2.2590128971433376,-2.0413065056255526,-1.823600114107768,-1.6058937225899832,-1.3881873310721984,-1.1704809395544138,-0.9527745480366288,-0.7350681565188442,-0.5173617650010591,-0.29965537348327453,-0.0819489819654895,0.1357574095522951,0.3534638010700797,0.5711701925878647,0.7888765841056498,1.006582975623434,1.224289367141219,1.441995758659004,1.659702150176789,1.8774085416945732,2.095114933212358,2.3128213247301432,2.5305277162479274,2.7482341077657124,2.9659404992834975]\n",
       "}\n",
       "}],\n",
       "\"metainfo_list\":[]\n",
       "},{\n",
       "\"data\":{\n",
       "},\n",
       "\"mapping\":{\n",
       "\"x\":\"x\"\n",
       "},\n",
       "\"data_meta\":{\n",
       "},\n",
       "\"kind\":\"plot\",\n",
       "\"scales\":[],\n",
       "\"layers\":[{\n",
       "\"geom\":\"histogram\",\n",
       "\"mapping\":{\n",
       "},\n",
       "\"data_meta\":{\n",
       "},\n",
       "\"data\":{\n",
       "\"..count..\":[1.0,1.0,2.0,0.0,6.0,1.0,3.0,7.0,7.0,7.0,14.0,10.0,11.0,9.0,19.0,15.0,9.0,9.0,13.0,9.0,9.0,9.0,11.0,5.0,1.0,5.0,1.0,4.0,1.0,1.0],\n",
       "\"x\":[-2.6195572813047776,-2.4436113774093977,-2.2676654735140174,-2.0917195696186375,-1.9157736657232571,-1.7398277618278772,-1.5638818579324971,-1.387935954037117,-1.2119900501417369,-1.0360441462463568,-0.8600982423509766,-0.6841523384555965,-0.5082064345602166,-0.3322605306648363,-0.1563146267694564,0.01963127712592394,0.19557718102130384,0.37152308491668373,0.5474689888120641,0.723414892707444,0.8993607966028243,1.0753067004982042,1.2512526043935845,1.4271985082889649,1.6031444121843443,1.7790903160797247,1.955036219975105,2.1309821238704845,2.306928027765865,2.482873931661245]\n",
       "}\n",
       "}],\n",
       "\"metainfo_list\":[]\n",
       "}]\n",
       "};\n",
       "           var plotContainer = document.getElementById(\"NOmRTj\");\n",
       "           window.letsPlotCall(function() {{\n",
       "               LetsPlot.buildPlotFromProcessedSpecs(plotSpec, -1, -1, plotContainer);\n",
       "           }});\n",
       "       })();    \n",
       "   </script>"
      ],
      "text/plain": [
       "<lets_plot.plot.subplots.SupPlotsSpec at 0x7fbc50b5abe0>"
      ]
     },
     "execution_count": 4,
     "metadata": {},
     "output_type": "execute_result"
    }
   ],
   "source": [
    "gggrid([p1, p2])"
   ]
  },
  {
   "cell_type": "markdown",
   "id": "51039f1e",
   "metadata": {},
   "source": [
    "#### 2. Share Scale Limits of the Y-axis"
   ]
  },
  {
   "cell_type": "code",
   "execution_count": 5,
   "id": "95b4eb28",
   "metadata": {},
   "outputs": [
    {
     "data": {
      "text/html": [
       "   <div id=\"p1Xyx7\"></div>\n",
       "   <script type=\"text/javascript\" data-lets-plot-script=\"plot\">\n",
       "       (function() {\n",
       "           var plotSpec={\n",
       "\"kind\":\"subplots\",\n",
       "\"layout\":{\n",
       "\"ncol\":2.0,\n",
       "\"nrow\":1.0,\n",
       "\"sharey\":\"all\",\n",
       "\"name\":\"grid\"\n",
       "},\n",
       "\"figures\":[{\n",
       "\"data\":{\n",
       "},\n",
       "\"mapping\":{\n",
       "\"x\":\"x\"\n",
       "},\n",
       "\"data_meta\":{\n",
       "},\n",
       "\"kind\":\"plot\",\n",
       "\"scales\":[],\n",
       "\"layers\":[{\n",
       "\"geom\":\"histogram\",\n",
       "\"mapping\":{\n",
       "},\n",
       "\"data_meta\":{\n",
       "},\n",
       "\"data\":{\n",
       "\"..count..\":[1.0,1.0,1.0,1.0,3.0,4.0,12.0,19.0,20.0,32.0,44.0,57.0,60.0,79.0,83.0,91.0,83.0,91.0,81.0,61.0,47.0,34.0,25.0,34.0,14.0,11.0,6.0,2.0,1.0,2.0],\n",
       "\"x\":[-3.3475448547322615,-3.129838463214477,-2.912132071696692,-2.6944256801789073,-2.4767192886611222,-2.2590128971433376,-2.0413065056255526,-1.823600114107768,-1.6058937225899832,-1.3881873310721984,-1.1704809395544138,-0.9527745480366288,-0.7350681565188442,-0.5173617650010591,-0.29965537348327453,-0.0819489819654895,0.1357574095522951,0.3534638010700797,0.5711701925878647,0.7888765841056498,1.006582975623434,1.224289367141219,1.441995758659004,1.659702150176789,1.8774085416945732,2.095114933212358,2.3128213247301432,2.5305277162479274,2.7482341077657124,2.9659404992834975]\n",
       "}\n",
       "}],\n",
       "\"metainfo_list\":[]\n",
       "},{\n",
       "\"data\":{\n",
       "},\n",
       "\"mapping\":{\n",
       "\"x\":\"x\"\n",
       "},\n",
       "\"data_meta\":{\n",
       "},\n",
       "\"kind\":\"plot\",\n",
       "\"scales\":[],\n",
       "\"layers\":[{\n",
       "\"geom\":\"histogram\",\n",
       "\"mapping\":{\n",
       "},\n",
       "\"data_meta\":{\n",
       "},\n",
       "\"data\":{\n",
       "\"..count..\":[1.0,1.0,2.0,0.0,6.0,1.0,3.0,7.0,7.0,7.0,14.0,10.0,11.0,9.0,19.0,15.0,9.0,9.0,13.0,9.0,9.0,9.0,11.0,5.0,1.0,5.0,1.0,4.0,1.0,1.0],\n",
       "\"x\":[-2.6195572813047776,-2.4436113774093977,-2.2676654735140174,-2.0917195696186375,-1.9157736657232571,-1.7398277618278772,-1.5638818579324971,-1.387935954037117,-1.2119900501417369,-1.0360441462463568,-0.8600982423509766,-0.6841523384555965,-0.5082064345602166,-0.3322605306648363,-0.1563146267694564,0.01963127712592394,0.19557718102130384,0.37152308491668373,0.5474689888120641,0.723414892707444,0.8993607966028243,1.0753067004982042,1.2512526043935845,1.4271985082889649,1.6031444121843443,1.7790903160797247,1.955036219975105,2.1309821238704845,2.306928027765865,2.482873931661245]\n",
       "}\n",
       "}],\n",
       "\"metainfo_list\":[]\n",
       "}]\n",
       "};\n",
       "           var plotContainer = document.getElementById(\"p1Xyx7\");\n",
       "           window.letsPlotCall(function() {{\n",
       "               LetsPlot.buildPlotFromProcessedSpecs(plotSpec, -1, -1, plotContainer);\n",
       "           }});\n",
       "       })();    \n",
       "   </script>"
      ],
      "text/plain": [
       "<lets_plot.plot.subplots.SupPlotsSpec at 0x7fbc40891f10>"
      ]
     },
     "execution_count": 5,
     "metadata": {},
     "output_type": "execute_result"
    }
   ],
   "source": [
    "gggrid([p1, p2], sharey=True)"
   ]
  },
  {
   "cell_type": "markdown",
   "id": "f24d2598",
   "metadata": {},
   "source": [
    "#### 3. Share Scale Limits of both, X and Y-axis"
   ]
  },
  {
   "cell_type": "code",
   "execution_count": 6,
   "id": "11ca7b66",
   "metadata": {},
   "outputs": [
    {
     "data": {
      "text/html": [
       "   <div id=\"LgAi4I\"></div>\n",
       "   <script type=\"text/javascript\" data-lets-plot-script=\"plot\">\n",
       "       (function() {\n",
       "           var plotSpec={\n",
       "\"kind\":\"subplots\",\n",
       "\"layout\":{\n",
       "\"ncol\":2.0,\n",
       "\"nrow\":1.0,\n",
       "\"sharex\":\"all\",\n",
       "\"sharey\":\"all\",\n",
       "\"name\":\"grid\"\n",
       "},\n",
       "\"figures\":[{\n",
       "\"data\":{\n",
       "},\n",
       "\"mapping\":{\n",
       "\"x\":\"x\"\n",
       "},\n",
       "\"data_meta\":{\n",
       "},\n",
       "\"kind\":\"plot\",\n",
       "\"scales\":[],\n",
       "\"layers\":[{\n",
       "\"geom\":\"histogram\",\n",
       "\"mapping\":{\n",
       "},\n",
       "\"data_meta\":{\n",
       "},\n",
       "\"data\":{\n",
       "\"..count..\":[1.0,1.0,1.0,1.0,3.0,4.0,12.0,19.0,20.0,32.0,44.0,57.0,60.0,79.0,83.0,91.0,83.0,91.0,81.0,61.0,47.0,34.0,25.0,34.0,14.0,11.0,6.0,2.0,1.0,2.0],\n",
       "\"x\":[-3.3475448547322615,-3.129838463214477,-2.912132071696692,-2.6944256801789073,-2.4767192886611222,-2.2590128971433376,-2.0413065056255526,-1.823600114107768,-1.6058937225899832,-1.3881873310721984,-1.1704809395544138,-0.9527745480366288,-0.7350681565188442,-0.5173617650010591,-0.29965537348327453,-0.0819489819654895,0.1357574095522951,0.3534638010700797,0.5711701925878647,0.7888765841056498,1.006582975623434,1.224289367141219,1.441995758659004,1.659702150176789,1.8774085416945732,2.095114933212358,2.3128213247301432,2.5305277162479274,2.7482341077657124,2.9659404992834975]\n",
       "}\n",
       "}],\n",
       "\"metainfo_list\":[]\n",
       "},{\n",
       "\"data\":{\n",
       "},\n",
       "\"mapping\":{\n",
       "\"x\":\"x\"\n",
       "},\n",
       "\"data_meta\":{\n",
       "},\n",
       "\"kind\":\"plot\",\n",
       "\"scales\":[],\n",
       "\"layers\":[{\n",
       "\"geom\":\"histogram\",\n",
       "\"mapping\":{\n",
       "},\n",
       "\"data_meta\":{\n",
       "},\n",
       "\"data\":{\n",
       "\"..count..\":[1.0,1.0,2.0,0.0,6.0,1.0,3.0,7.0,7.0,7.0,14.0,10.0,11.0,9.0,19.0,15.0,9.0,9.0,13.0,9.0,9.0,9.0,11.0,5.0,1.0,5.0,1.0,4.0,1.0,1.0],\n",
       "\"x\":[-2.6195572813047776,-2.4436113774093977,-2.2676654735140174,-2.0917195696186375,-1.9157736657232571,-1.7398277618278772,-1.5638818579324971,-1.387935954037117,-1.2119900501417369,-1.0360441462463568,-0.8600982423509766,-0.6841523384555965,-0.5082064345602166,-0.3322605306648363,-0.1563146267694564,0.01963127712592394,0.19557718102130384,0.37152308491668373,0.5474689888120641,0.723414892707444,0.8993607966028243,1.0753067004982042,1.2512526043935845,1.4271985082889649,1.6031444121843443,1.7790903160797247,1.955036219975105,2.1309821238704845,2.306928027765865,2.482873931661245]\n",
       "}\n",
       "}],\n",
       "\"metainfo_list\":[]\n",
       "}]\n",
       "};\n",
       "           var plotContainer = document.getElementById(\"LgAi4I\");\n",
       "           window.letsPlotCall(function() {{\n",
       "               LetsPlot.buildPlotFromProcessedSpecs(plotSpec, -1, -1, plotContainer);\n",
       "           }});\n",
       "       })();    \n",
       "   </script>"
      ],
      "text/plain": [
       "<lets_plot.plot.subplots.SupPlotsSpec at 0x7fbc408b48b0>"
      ]
     },
     "execution_count": 6,
     "metadata": {},
     "output_type": "execute_result"
    }
   ],
   "source": [
    "gggrid([p1, p2], sharex=True, sharey=True)"
   ]
  }
 ],
 "metadata": {
  "kernelspec": {
   "display_name": "Python 3 (ipykernel)",
   "language": "python",
   "name": "python3"
  },
  "language_info": {
   "codemirror_mode": {
    "name": "ipython",
    "version": 3
   },
   "file_extension": ".py",
   "mimetype": "text/x-python",
   "name": "python",
   "nbconvert_exporter": "python",
   "pygments_lexer": "ipython3",
   "version": "3.8.18"
  }
 },
 "nbformat": 4,
 "nbformat_minor": 5
}
