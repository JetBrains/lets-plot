{
 "cells": [
  {
   "cell_type": "markdown",
   "id": "disciplinary-circuit",
   "metadata": {},
   "source": [
    "# _Categorical_ Data Type\n",
    "\n",
    "\n",
    "`Categoricals` can only take on a limited number of possible values (categories) and <br>\n",
    "can be sorted according to the custom order of the categories.\n",
    "\n",
    "To harness `Categorical` data type in Lets-Plot you can either add a `pandas.Categotical` variable to <br>\n",
    "your `pandas.DataFrame` or annotate any variable in your dataset as `Categorical` using <br>\n",
    "Lets-Plot `as_discrete()` function and the `levels` parameter.\n"
   ]
  },
  {
   "cell_type": "code",
   "execution_count": 1,
   "id": "entire-rapid",
   "metadata": {},
   "outputs": [],
   "source": [
    "import pandas as pd\n",
    "\n",
    "from lets_plot import *\n",
    "from lets_plot.mapping import as_discrete"
   ]
  },
  {
   "cell_type": "code",
   "execution_count": 2,
   "id": "southwest-newcastle",
   "metadata": {},
   "outputs": [
    {
     "data": {
      "text/html": [
       "\n",
       "            <div id=\"Cd7zce\"></div>\n",
       "            <script type=\"text/javascript\" data-lets-plot-script=\"library\">\n",
       "                if(!window.letsPlotCallQueue) {\n",
       "                    window.letsPlotCallQueue = [];\n",
       "                }; \n",
       "                window.letsPlotCall = function(f) {\n",
       "                    window.letsPlotCallQueue.push(f);\n",
       "                };\n",
       "                (function() {\n",
       "                    var script = document.createElement(\"script\");\n",
       "                    script.type = \"text/javascript\";\n",
       "                    script.src = \"https://cdn.jsdelivr.net/gh/JetBrains/lets-plot@v4.2.0/js-package/distr/lets-plot.min.js\";\n",
       "                    script.onload = function() {\n",
       "                        window.letsPlotCall = function(f) {f();};\n",
       "                        window.letsPlotCallQueue.forEach(function(f) {f();});\n",
       "                        window.letsPlotCallQueue = [];\n",
       "                        \n",
       "                    };\n",
       "                    script.onerror = function(event) {\n",
       "                        window.letsPlotCall = function(f) {};    // noop\n",
       "                        window.letsPlotCallQueue = [];\n",
       "                        var div = document.createElement(\"div\");\n",
       "                        div.style.color = 'darkred';\n",
       "                        div.textContent = 'Error loading Lets-Plot JS';\n",
       "                        document.getElementById(\"Cd7zce\").appendChild(div);\n",
       "                    };\n",
       "                    var e = document.getElementById(\"Cd7zce\");\n",
       "                    e.appendChild(script);\n",
       "                })()\n",
       "            </script>\n",
       "            "
      ]
     },
     "metadata": {},
     "output_type": "display_data"
    }
   ],
   "source": [
    "LetsPlot.setup_html()"
   ]
  },
  {
   "cell_type": "code",
   "execution_count": 3,
   "id": "beautiful-closer",
   "metadata": {},
   "outputs": [
    {
     "data": {
      "text/html": [
       "<div>\n",
       "<style scoped>\n",
       "    .dataframe tbody tr th:only-of-type {\n",
       "        vertical-align: middle;\n",
       "    }\n",
       "\n",
       "    .dataframe tbody tr th {\n",
       "        vertical-align: top;\n",
       "    }\n",
       "\n",
       "    .dataframe thead th {\n",
       "        text-align: right;\n",
       "    }\n",
       "</style>\n",
       "<table border=\"1\" class=\"dataframe\">\n",
       "  <thead>\n",
       "    <tr style=\"text-align: right;\">\n",
       "      <th></th>\n",
       "      <th>Unnamed: 0</th>\n",
       "      <th>manufacturer</th>\n",
       "      <th>model</th>\n",
       "      <th>displ</th>\n",
       "      <th>year</th>\n",
       "      <th>cyl</th>\n",
       "      <th>trans</th>\n",
       "      <th>drv</th>\n",
       "      <th>cty</th>\n",
       "      <th>hwy</th>\n",
       "      <th>fl</th>\n",
       "      <th>class</th>\n",
       "    </tr>\n",
       "  </thead>\n",
       "  <tbody>\n",
       "    <tr>\n",
       "      <th>0</th>\n",
       "      <td>1</td>\n",
       "      <td>audi</td>\n",
       "      <td>a4</td>\n",
       "      <td>1.8</td>\n",
       "      <td>1999</td>\n",
       "      <td>4</td>\n",
       "      <td>auto(l5)</td>\n",
       "      <td>f</td>\n",
       "      <td>18</td>\n",
       "      <td>29</td>\n",
       "      <td>p</td>\n",
       "      <td>compact</td>\n",
       "    </tr>\n",
       "    <tr>\n",
       "      <th>1</th>\n",
       "      <td>2</td>\n",
       "      <td>audi</td>\n",
       "      <td>a4</td>\n",
       "      <td>1.8</td>\n",
       "      <td>1999</td>\n",
       "      <td>4</td>\n",
       "      <td>manual(m5)</td>\n",
       "      <td>f</td>\n",
       "      <td>21</td>\n",
       "      <td>29</td>\n",
       "      <td>p</td>\n",
       "      <td>compact</td>\n",
       "    </tr>\n",
       "    <tr>\n",
       "      <th>2</th>\n",
       "      <td>3</td>\n",
       "      <td>audi</td>\n",
       "      <td>a4</td>\n",
       "      <td>2.0</td>\n",
       "      <td>2008</td>\n",
       "      <td>4</td>\n",
       "      <td>manual(m6)</td>\n",
       "      <td>f</td>\n",
       "      <td>20</td>\n",
       "      <td>31</td>\n",
       "      <td>p</td>\n",
       "      <td>compact</td>\n",
       "    </tr>\n",
       "    <tr>\n",
       "      <th>3</th>\n",
       "      <td>4</td>\n",
       "      <td>audi</td>\n",
       "      <td>a4</td>\n",
       "      <td>2.0</td>\n",
       "      <td>2008</td>\n",
       "      <td>4</td>\n",
       "      <td>auto(av)</td>\n",
       "      <td>f</td>\n",
       "      <td>21</td>\n",
       "      <td>30</td>\n",
       "      <td>p</td>\n",
       "      <td>compact</td>\n",
       "    </tr>\n",
       "  </tbody>\n",
       "</table>\n",
       "</div>"
      ],
      "text/plain": [
       "   Unnamed: 0 manufacturer model  displ  year  cyl       trans drv  cty  hwy  \\\n",
       "0           1         audi    a4    1.8  1999    4    auto(l5)   f   18   29   \n",
       "1           2         audi    a4    1.8  1999    4  manual(m5)   f   21   29   \n",
       "2           3         audi    a4    2.0  2008    4  manual(m6)   f   20   31   \n",
       "3           4         audi    a4    2.0  2008    4    auto(av)   f   21   30   \n",
       "\n",
       "  fl    class  \n",
       "0  p  compact  \n",
       "1  p  compact  \n",
       "2  p  compact  \n",
       "3  p  compact  "
      ]
     },
     "execution_count": 3,
     "metadata": {},
     "output_type": "execute_result"
    }
   ],
   "source": [
    "mpg_df = pd.read_csv (\"https://raw.githubusercontent.com/JetBrains/lets-plot-docs/master/data/mpg.csv\")\n",
    "mpg_df.head(4)"
   ]
  },
  {
   "cell_type": "markdown",
   "id": "714414b3",
   "metadata": {},
   "source": [
    "#### 1. Data Type of the \"manufacturer\" is `Unordered Discrete` by Default ."
   ]
  },
  {
   "cell_type": "code",
   "execution_count": 4,
   "id": "drawn-canadian",
   "metadata": {},
   "outputs": [
    {
     "data": {
      "text/html": [
       "   <div id=\"4UYNtD\"></div>\n",
       "   <script type=\"text/javascript\" data-lets-plot-script=\"plot\">\n",
       "       (function() {\n",
       "           var plotSpec={\n",
       "\"data\":{\n",
       "},\n",
       "\"mapping\":{\n",
       "},\n",
       "\"data_meta\":{\n",
       "},\n",
       "\"coord\":{\n",
       "\"name\":\"flip\",\n",
       "\"flip\":true\n",
       "},\n",
       "\"kind\":\"plot\",\n",
       "\"scales\":[],\n",
       "\"layers\":[{\n",
       "\"geom\":\"bar\",\n",
       "\"mapping\":{\n",
       "\"x\":\"manufacturer\"\n",
       "},\n",
       "\"data_meta\":{\n",
       "},\n",
       "\"data\":{\n",
       "\"..count..\":[18.0,19.0,37.0,25.0,9.0,14.0,8.0,4.0,3.0,4.0,13.0,5.0,14.0,34.0,27.0],\n",
       "\"manufacturer\":[\"audi\",\"chevrolet\",\"dodge\",\"ford\",\"honda\",\"hyundai\",\"jeep\",\"land rover\",\"lincoln\",\"mercury\",\"nissan\",\"pontiac\",\"subaru\",\"toyota\",\"volkswagen\"]\n",
       "}\n",
       "}],\n",
       "\"metainfo_list\":[]\n",
       "};\n",
       "           var plotContainer = document.getElementById(\"4UYNtD\");\n",
       "           window.letsPlotCall(function() {{\n",
       "               LetsPlot.buildPlotFromProcessedSpecs(plotSpec, -1, -1, plotContainer);\n",
       "           }});\n",
       "       })();    \n",
       "   </script>"
      ],
      "text/plain": [
       "<lets_plot.plot.core.PlotSpec at 0x7fc7f0c77640>"
      ]
     },
     "execution_count": 4,
     "metadata": {},
     "output_type": "execute_result"
    }
   ],
   "source": [
    "ggplot(mpg_df) + geom_bar(aes(x='manufacturer')) + coord_flip()"
   ]
  },
  {
   "cell_type": "code",
   "execution_count": 5,
   "id": "civilian-stuff",
   "metadata": {},
   "outputs": [
    {
     "data": {
      "text/plain": [
       "['dodge',\n",
       " 'toyota',\n",
       " 'volkswagen',\n",
       " 'ford',\n",
       " 'chevrolet',\n",
       " 'audi',\n",
       " 'hyundai',\n",
       " 'subaru',\n",
       " 'nissan',\n",
       " 'honda',\n",
       " 'jeep',\n",
       " 'pontiac',\n",
       " 'land rover',\n",
       " 'mercury',\n",
       " 'lincoln']"
      ]
     },
     "execution_count": 5,
     "metadata": {},
     "output_type": "execute_result"
    }
   ],
   "source": [
    "# \n",
    "# Create a list of categories sorted according to a num. of vehicles in the dataset.\n",
    "# \n",
    "\n",
    "brands_by_count = mpg_df['manufacturer'].value_counts().index.tolist()\n",
    "brands_by_count"
   ]
  },
  {
   "cell_type": "markdown",
   "id": "eleven-plumbing",
   "metadata": {},
   "source": [
    "#### 2. First Option: Add a `pandas.Categorical` Variable"
   ]
  },
  {
   "cell_type": "code",
   "execution_count": 6,
   "id": "coordinate-omaha",
   "metadata": {},
   "outputs": [],
   "source": [
    "manufacturer_cat = pd.Categorical(mpg_df['manufacturer'], categories=brands_by_count, ordered=True)\n",
    "mpg_df['manufacturer_cat'] = manufacturer_cat"
   ]
  },
  {
   "cell_type": "code",
   "execution_count": 7,
   "id": "published-wagner",
   "metadata": {},
   "outputs": [
    {
     "data": {
      "text/html": [
       "   <div id=\"Z0AUs6\"></div>\n",
       "   <script type=\"text/javascript\" data-lets-plot-script=\"plot\">\n",
       "       (function() {\n",
       "           var plotSpec={\n",
       "\"data\":{\n",
       "},\n",
       "\"mapping\":{\n",
       "},\n",
       "\"data_meta\":{\n",
       "\"series_annotations\":[{\n",
       "\"column\":\"manufacturer_cat\",\n",
       "\"factor_levels\":[\"dodge\",\"toyota\",\"volkswagen\",\"ford\",\"chevrolet\",\"audi\",\"hyundai\",\"subaru\",\"nissan\",\"honda\",\"jeep\",\"pontiac\",\"land rover\",\"mercury\",\"lincoln\"]\n",
       "}]\n",
       "},\n",
       "\"coord\":{\n",
       "\"name\":\"flip\",\n",
       "\"flip\":true\n",
       "},\n",
       "\"kind\":\"plot\",\n",
       "\"scales\":[],\n",
       "\"layers\":[{\n",
       "\"geom\":\"bar\",\n",
       "\"mapping\":{\n",
       "\"x\":\"manufacturer_cat\"\n",
       "},\n",
       "\"tooltips\":\"none\",\n",
       "\"data_meta\":{\n",
       "\"series_annotations\":[{\n",
       "\"column\":\"manufacturer_cat\",\n",
       "\"factor_levels\":[\"dodge\",\"toyota\",\"volkswagen\",\"ford\",\"chevrolet\",\"audi\",\"hyundai\",\"subaru\",\"nissan\",\"honda\",\"jeep\",\"pontiac\",\"land rover\",\"mercury\",\"lincoln\"]\n",
       "}]\n",
       "},\n",
       "\"labels\":{\n",
       "\"formats\":[{\n",
       "\"field\":\"..count..\",\n",
       "\"format\":\"d\"\n",
       "}],\n",
       "\"variables\":[\"..count..\"]\n",
       "},\n",
       "\"data\":{\n",
       "\"..count..\":[18.0,19.0,37.0,25.0,9.0,14.0,8.0,4.0,3.0,4.0,13.0,5.0,14.0,34.0,27.0],\n",
       "\"manufacturer_cat\":[\"audi\",\"chevrolet\",\"dodge\",\"ford\",\"honda\",\"hyundai\",\"jeep\",\"land rover\",\"lincoln\",\"mercury\",\"nissan\",\"pontiac\",\"subaru\",\"toyota\",\"volkswagen\"]\n",
       "}\n",
       "}],\n",
       "\"metainfo_list\":[]\n",
       "};\n",
       "           var plotContainer = document.getElementById(\"Z0AUs6\");\n",
       "           window.letsPlotCall(function() {{\n",
       "               LetsPlot.buildPlotFromProcessedSpecs(plotSpec, -1, -1, plotContainer);\n",
       "           }});\n",
       "       })();    \n",
       "   </script>"
      ],
      "text/plain": [
       "<lets_plot.plot.core.PlotSpec at 0x7fc810a26bb0>"
      ]
     },
     "execution_count": 7,
     "metadata": {},
     "output_type": "execute_result"
    }
   ],
   "source": [
    "ggplot(mpg_df) + \\\n",
    "    geom_bar(aes(x='manufacturer_cat'),\n",
    "             labels=layer_labels(['..count..']).format('..count..', 'd'),\n",
    "             tooltips='none') + \\\n",
    "    coord_flip()"
   ]
  },
  {
   "cell_type": "markdown",
   "id": "temporal-punishment",
   "metadata": {},
   "source": [
    "#### 3. Second Option: Annotate \"manufacturer\" as a `Categorical` Using `as_discrete(levels=..)` "
   ]
  },
  {
   "cell_type": "code",
   "execution_count": 8,
   "id": "durable-staff",
   "metadata": {},
   "outputs": [
    {
     "data": {
      "text/html": [
       "   <div id=\"jE8rsX\"></div>\n",
       "   <script type=\"text/javascript\" data-lets-plot-script=\"plot\">\n",
       "       (function() {\n",
       "           var plotSpec={\n",
       "\"data\":{\n",
       "},\n",
       "\"mapping\":{\n",
       "},\n",
       "\"data_meta\":{\n",
       "\"series_annotations\":[{\n",
       "\"column\":\"manufacturer_cat\",\n",
       "\"factor_levels\":[\"dodge\",\"toyota\",\"volkswagen\",\"ford\",\"chevrolet\",\"audi\",\"hyundai\",\"subaru\",\"nissan\",\"honda\",\"jeep\",\"pontiac\",\"land rover\",\"mercury\",\"lincoln\"]\n",
       "}]\n",
       "},\n",
       "\"coord\":{\n",
       "\"name\":\"flip\",\n",
       "\"flip\":true\n",
       "},\n",
       "\"kind\":\"plot\",\n",
       "\"scales\":[],\n",
       "\"layers\":[{\n",
       "\"geom\":\"bar\",\n",
       "\"mapping\":{\n",
       "\"x\":\"manufacturer\"\n",
       "},\n",
       "\"tooltips\":\"none\",\n",
       "\"data_meta\":{\n",
       "\"series_annotations\":[{\n",
       "\"column\":\"manufacturer\",\n",
       "\"factor_levels\":[\"dodge\",\"toyota\",\"volkswagen\",\"ford\",\"chevrolet\",\"audi\",\"hyundai\",\"subaru\",\"nissan\",\"honda\",\"jeep\",\"pontiac\",\"land rover\",\"mercury\",\"lincoln\"]\n",
       "},{\n",
       "\"column\":\"manufacturer_cat\",\n",
       "\"factor_levels\":[\"dodge\",\"toyota\",\"volkswagen\",\"ford\",\"chevrolet\",\"audi\",\"hyundai\",\"subaru\",\"nissan\",\"honda\",\"jeep\",\"pontiac\",\"land rover\",\"mercury\",\"lincoln\"]\n",
       "}]\n",
       "},\n",
       "\"labels\":{\n",
       "\"formats\":[{\n",
       "\"field\":\"..count..\",\n",
       "\"format\":\"d\"\n",
       "}],\n",
       "\"variables\":[\"..count..\"]\n",
       "},\n",
       "\"data\":{\n",
       "\"..count..\":[18.0,19.0,37.0,25.0,9.0,14.0,8.0,4.0,3.0,4.0,13.0,5.0,14.0,34.0,27.0],\n",
       "\"manufacturer\":[\"audi\",\"chevrolet\",\"dodge\",\"ford\",\"honda\",\"hyundai\",\"jeep\",\"land rover\",\"lincoln\",\"mercury\",\"nissan\",\"pontiac\",\"subaru\",\"toyota\",\"volkswagen\"]\n",
       "}\n",
       "}],\n",
       "\"metainfo_list\":[]\n",
       "};\n",
       "           var plotContainer = document.getElementById(\"jE8rsX\");\n",
       "           window.letsPlotCall(function() {{\n",
       "               LetsPlot.buildPlotFromProcessedSpecs(plotSpec, -1, -1, plotContainer);\n",
       "           }});\n",
       "       })();    \n",
       "   </script>"
      ],
      "text/plain": [
       "<lets_plot.plot.core.PlotSpec at 0x7fc7e0b0f280>"
      ]
     },
     "execution_count": 8,
     "metadata": {},
     "output_type": "execute_result"
    }
   ],
   "source": [
    "ggplot(mpg_df) + \\\n",
    "    geom_bar(aes(x=as_discrete('manufacturer', levels=brands_by_count)),\n",
    "             labels=layer_labels(['..count..']).format('..count..', 'd'),\n",
    "             tooltips='none') + \\\n",
    "    coord_flip()"
   ]
  },
  {
   "cell_type": "markdown",
   "id": "undefined-anthropology",
   "metadata": {},
   "source": [
    "#### 4. Faceted Plots Respect the Order of Categories in Facet Variable\n"
   ]
  },
  {
   "cell_type": "code",
   "execution_count": 9,
   "id": "familiar-nowhere",
   "metadata": {},
   "outputs": [
    {
     "data": {
      "text/html": [
       "   <div id=\"xF8Xwg\"></div>\n",
       "   <script type=\"text/javascript\" data-lets-plot-script=\"plot\">\n",
       "       (function() {\n",
       "           var plotSpec={\n",
       "\"data\":{\n",
       "},\n",
       "\"mapping\":{\n",
       "},\n",
       "\"data_meta\":{\n",
       "\"series_annotations\":[{\n",
       "\"column\":\"manufacturer_cat\",\n",
       "\"factor_levels\":[\"dodge\",\"toyota\",\"volkswagen\",\"ford\",\"chevrolet\",\"audi\",\"hyundai\",\"subaru\",\"nissan\",\"honda\",\"jeep\",\"pontiac\",\"land rover\",\"mercury\",\"lincoln\"]\n",
       "}]\n",
       "},\n",
       "\"facet\":{\n",
       "\"name\":\"wrap\",\n",
       "\"facets\":\"manufacturer_cat\",\n",
       "\"ncol\":5.0,\n",
       "\"order\":0.0,\n",
       "\"dir\":\"h\"\n",
       "},\n",
       "\"guides\":{\n",
       "\"size\":\"none\"\n",
       "},\n",
       "\"theme\":{\n",
       "\"name\":\"classic\",\n",
       "\"line\":\"blank\",\n",
       "\"axis\":\"blank\"\n",
       "},\n",
       "\"kind\":\"plot\",\n",
       "\"scales\":[{\n",
       "\"aesthetic\":\"size\",\n",
       "\"range\":[2.0,10.0]\n",
       "}],\n",
       "\"layers\":[{\n",
       "\"geom\":\"pie\",\n",
       "\"mapping\":{\n",
       "\"fill\":\"drv\",\n",
       "\"size\":\"..sum..\"\n",
       "},\n",
       "\"data_meta\":{\n",
       "\"series_annotations\":[{\n",
       "\"column\":\"drv\",\n",
       "\"factor_levels\":[\"f\",\"4\",\"r\"]\n",
       "},{\n",
       "\"column\":\"manufacturer_cat\",\n",
       "\"factor_levels\":[\"dodge\",\"toyota\",\"volkswagen\",\"ford\",\"chevrolet\",\"audi\",\"hyundai\",\"subaru\",\"nissan\",\"honda\",\"jeep\",\"pontiac\",\"land rover\",\"mercury\",\"lincoln\"]\n",
       "}]\n",
       "},\n",
       "\"data\":{\n",
       "\"..x..\":[0.0,0.0,0.0,0.0,0.0,0.0,0.0,0.0,0.0,0.0,0.0,0.0,0.0,0.0,0.0,0.0,0.0,0.0,0.0,0.0,0.0,0.0],\n",
       "\"..y..\":[0.0,0.0,0.0,0.0,0.0,0.0,0.0,0.0,0.0,0.0,0.0,0.0,0.0,0.0,0.0,0.0,0.0,0.0,0.0,0.0,0.0,0.0],\n",
       "\"..count..\":[7.0,11.0,5.0,4.0,10.0,11.0,26.0,13.0,12.0,9.0,14.0,8.0,4.0,3.0,4.0,9.0,4.0,5.0,14.0,19.0,15.0,27.0],\n",
       "\"drv\":[\"f\",\"4\",\"f\",\"4\",\"r\",\"f\",\"4\",\"4\",\"r\",\"f\",\"f\",\"4\",\"4\",\"r\",\"4\",\"f\",\"4\",\"f\",\"4\",\"f\",\"4\",\"f\"],\n",
       "\"manufacturer_cat\":[\"audi\",\"audi\",\"chevrolet\",\"chevrolet\",\"chevrolet\",\"dodge\",\"dodge\",\"ford\",\"ford\",\"honda\",\"hyundai\",\"jeep\",\"land rover\",\"lincoln\",\"mercury\",\"nissan\",\"nissan\",\"pontiac\",\"subaru\",\"toyota\",\"toyota\",\"volkswagen\"],\n",
       "\"..sum..\":[18.0,18.0,19.0,19.0,19.0,37.0,37.0,25.0,25.0,9.0,14.0,8.0,4.0,3.0,4.0,13.0,13.0,5.0,14.0,34.0,34.0,27.0]\n",
       "}\n",
       "}],\n",
       "\"metainfo_list\":[]\n",
       "};\n",
       "           var plotContainer = document.getElementById(\"xF8Xwg\");\n",
       "           window.letsPlotCall(function() {{\n",
       "               LetsPlot.buildPlotFromProcessedSpecs(plotSpec, -1, -1, plotContainer);\n",
       "           }});\n",
       "       })();    \n",
       "   </script>"
      ],
      "text/plain": [
       "<lets_plot.plot.core.PlotSpec at 0x7fc7e0b0b1f0>"
      ]
     },
     "execution_count": 9,
     "metadata": {},
     "output_type": "execute_result"
    }
   ],
   "source": [
    "ggplot(mpg_df) + \\\n",
    "    geom_pie(aes(fill='drv', size='..sum..')) + \\\n",
    "    facet_wrap(facets='manufacturer_cat', ncol=5, order=0) + \\\n",
    "    scale_size(range=[2, 10]) + \\\n",
    "    guides(size='none') + \\\n",
    "    theme_void()"
   ]
  }
 ],
 "metadata": {
  "kernelspec": {
   "display_name": "Python 3 (ipykernel)",
   "language": "python",
   "name": "python3"
  },
  "language_info": {
   "codemirror_mode": {
    "name": "ipython",
    "version": 3
   },
   "file_extension": ".py",
   "mimetype": "text/x-python",
   "name": "python",
   "nbconvert_exporter": "python",
   "pygments_lexer": "ipython3",
   "version": "3.8.18"
  }
 },
 "nbformat": 4,
 "nbformat_minor": 5
}
