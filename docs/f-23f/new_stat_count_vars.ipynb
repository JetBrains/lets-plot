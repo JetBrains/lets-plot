{
 "cells": [
  {
   "cell_type": "markdown",
   "id": "9bf88576-8343-4a6d-b2ae-eaa4a1c2cda7",
   "metadata": {},
   "source": [
    "# New Variables `..sumprop..`, `..sumpct..`<br>in the `count` and `count2d` Statistics\n",
    "\n",
    "Computed variables `..sumprop..` and `..sumpct..` take the value of the share of observations at a given location relative to the total number of observations.\n",
    "\n",
    "This is in contrast to computed variables `..prop..` and `..proppct..` which take the value of the share of observations belonging to a given group relative to the number of observations at a given location."
   ]
  },
  {
   "cell_type": "code",
   "execution_count": 1,
   "id": "84496fc2-1ee7-4346-8636-85e546852ae6",
   "metadata": {},
   "outputs": [],
   "source": [
    "import pandas as pd\n",
    "\n",
    "from lets_plot import *\n",
    "from lets_plot.mapping import as_discrete"
   ]
  },
  {
   "cell_type": "code",
   "execution_count": 2,
   "id": "a7c6c370-8540-4635-bfd4-56cd73894b66",
   "metadata": {},
   "outputs": [
    {
     "data": {
      "text/html": [
       "\n",
       "            <div id=\"HdGlpB\"></div>\n",
       "            <script type=\"text/javascript\" data-lets-plot-script=\"library\">\n",
       "                if(!window.letsPlotCallQueue) {\n",
       "                    window.letsPlotCallQueue = [];\n",
       "                }; \n",
       "                window.letsPlotCall = function(f) {\n",
       "                    window.letsPlotCallQueue.push(f);\n",
       "                };\n",
       "                (function() {\n",
       "                    var script = document.createElement(\"script\");\n",
       "                    script.type = \"text/javascript\";\n",
       "                    script.src = \"https://cdn.jsdelivr.net/gh/JetBrains/lets-plot@v4.2.0rc1/js-package/distr/lets-plot.min.js\";\n",
       "                    script.onload = function() {\n",
       "                        window.letsPlotCall = function(f) {f();};\n",
       "                        window.letsPlotCallQueue.forEach(function(f) {f();});\n",
       "                        window.letsPlotCallQueue = [];\n",
       "                        \n",
       "                    };\n",
       "                    script.onerror = function(event) {\n",
       "                        window.letsPlotCall = function(f) {};    // noop\n",
       "                        window.letsPlotCallQueue = [];\n",
       "                        var div = document.createElement(\"div\");\n",
       "                        div.style.color = 'darkred';\n",
       "                        div.textContent = 'Error loading Lets-Plot JS';\n",
       "                        document.getElementById(\"HdGlpB\").appendChild(div);\n",
       "                    };\n",
       "                    var e = document.getElementById(\"HdGlpB\");\n",
       "                    e.appendChild(script);\n",
       "                })()\n",
       "            </script>\n",
       "            "
      ]
     },
     "metadata": {},
     "output_type": "display_data"
    }
   ],
   "source": [
    "LetsPlot.setup_html()"
   ]
  },
  {
   "cell_type": "code",
   "execution_count": 3,
   "id": "03627ff5-011c-4e25-9911-7834fdfdcf8d",
   "metadata": {},
   "outputs": [],
   "source": [
    "data = {\n",
    "    'x': ['a', 'a', 'a', 'a', 'b', 'b'],\n",
    "    'group': ['A', 'A', 'A', 'B', 'A', 'B'],\n",
    "}"
   ]
  },
  {
   "cell_type": "code",
   "execution_count": 4,
   "id": "6299b559-be59-4a4b-bec2-6ac451a2ae0a",
   "metadata": {},
   "outputs": [],
   "source": [
    "tooltip_options = layer_tooltips([\"..sumprop..\", \"..sumpct..\", \"..prop..\", \"..proppct..\"])"
   ]
  },
  {
   "cell_type": "markdown",
   "id": "9d3b3b6a-973a-4a25-a219-5b651e173ea7",
   "metadata": {},
   "source": [
    "#### 1. Use New  `..sumprop..` and `..sumpct..` for Plots without Grouping \n",
    "\n",
    "> Note: compare vaues shown in the tooltip."
   ]
  },
  {
   "cell_type": "code",
   "execution_count": 5,
   "id": "0395117c-1e14-4e41-90d3-665f9a767e4b",
   "metadata": {},
   "outputs": [
    {
     "data": {
      "text/html": [
       "   <div id=\"N8CKQz\"></div>\n",
       "   <script type=\"text/javascript\" data-lets-plot-script=\"plot\">\n",
       "       (function() {\n",
       "           var plotSpec={\n",
       "\"data\":{\n",
       "},\n",
       "\"mapping\":{\n",
       "\"x\":\"x\"\n",
       "},\n",
       "\"data_meta\":{\n",
       "},\n",
       "\"kind\":\"plot\",\n",
       "\"scales\":[],\n",
       "\"layers\":[{\n",
       "\"geom\":\"bar\",\n",
       "\"mapping\":{\n",
       "},\n",
       "\"tooltips\":{\n",
       "\"formats\":[],\n",
       "\"variables\":[\"..sumprop..\",\"..sumpct..\",\"..prop..\",\"..proppct..\"]\n",
       "},\n",
       "\"data_meta\":{\n",
       "},\n",
       "\"labels\":{\n",
       "\"formats\":[],\n",
       "\"lines\":[\"@..sumprop.. (@..sumpct..)\"]\n",
       "},\n",
       "\"data\":{\n",
       "\"..count..\":[4.0,2.0],\n",
       "\"x\":[\"a\",\"b\"],\n",
       "\"..prop..\":[1.0,1.0],\n",
       "\"..proppct..\":[100.0,100.0],\n",
       "\"..sumprop..\":[0.6666666666666666,0.3333333333333333],\n",
       "\"..sumpct..\":[66.66666666666666,33.33333333333333]\n",
       "}\n",
       "}],\n",
       "\"metainfo_list\":[]\n",
       "};\n",
       "           var plotContainer = document.getElementById(\"N8CKQz\");\n",
       "           window.letsPlotCall(function() {{\n",
       "               LetsPlot.buildPlotFromProcessedSpecs(plotSpec, -1, -1, plotContainer);\n",
       "           }});\n",
       "       })();    \n",
       "   </script>"
      ],
      "text/plain": [
       "<lets_plot.plot.core.PlotSpec at 0x7f96c89191f0>"
      ]
     },
     "execution_count": 5,
     "metadata": {},
     "output_type": "execute_result"
    }
   ],
   "source": [
    "ggplot(data, aes('x')) + \\\n",
    "    geom_bar(tooltips=tooltip_options, labels=layer_labels().line('@..sumprop.. (@..sumpct..)'))"
   ]
  },
  {
   "cell_type": "markdown",
   "id": "4ebb42b5-ddea-4cde-b94d-a5f2dd391e29",
   "metadata": {},
   "source": [
    "#### 2. However \"..prop..\", \"..proppct..\" Better Suit for Grouped Plots \n",
    "\n",
    "> Note: again, compare vaues shown in the tooltip."
   ]
  },
  {
   "cell_type": "code",
   "execution_count": 6,
   "id": "7eafc2c6-068d-4808-8b18-002f1c57f83d",
   "metadata": {},
   "outputs": [
    {
     "data": {
      "text/html": [
       "   <div id=\"9LeHuP\"></div>\n",
       "   <script type=\"text/javascript\" data-lets-plot-script=\"plot\">\n",
       "       (function() {\n",
       "           var plotSpec={\n",
       "\"data\":{\n",
       "},\n",
       "\"mapping\":{\n",
       "\"x\":\"x\",\n",
       "\"fill\":\"group\"\n",
       "},\n",
       "\"data_meta\":{\n",
       "},\n",
       "\"kind\":\"plot\",\n",
       "\"scales\":[],\n",
       "\"layers\":[{\n",
       "\"geom\":\"bar\",\n",
       "\"mapping\":{\n",
       "},\n",
       "\"tooltips\":{\n",
       "\"formats\":[],\n",
       "\"variables\":[\"..sumprop..\",\"..sumpct..\",\"..prop..\",\"..proppct..\"]\n",
       "},\n",
       "\"data_meta\":{\n",
       "},\n",
       "\"labels\":{\n",
       "\"formats\":[],\n",
       "\"lines\":[\"@..prop.. (@..proppct..)\"]\n",
       "},\n",
       "\"data\":{\n",
       "\"..count..\":[3.0,1.0,1.0,1.0],\n",
       "\"x\":[\"a\",\"b\",\"a\",\"b\"],\n",
       "\"group\":[\"A\",\"A\",\"B\",\"B\"],\n",
       "\"..prop..\":[0.75,0.5,0.25,0.5],\n",
       "\"..proppct..\":[75.0,50.0,25.0,50.0],\n",
       "\"..sumprop..\":[0.6666666666666666,0.3333333333333333,0.6666666666666666,0.3333333333333333],\n",
       "\"..sumpct..\":[66.66666666666666,33.33333333333333,66.66666666666666,33.33333333333333]\n",
       "}\n",
       "}],\n",
       "\"metainfo_list\":[]\n",
       "};\n",
       "           var plotContainer = document.getElementById(\"9LeHuP\");\n",
       "           window.letsPlotCall(function() {{\n",
       "               LetsPlot.buildPlotFromProcessedSpecs(plotSpec, -1, -1, plotContainer);\n",
       "           }});\n",
       "       })();    \n",
       "   </script>"
      ],
      "text/plain": [
       "<lets_plot.plot.core.PlotSpec at 0x7f96a9873040>"
      ]
     },
     "execution_count": 6,
     "metadata": {},
     "output_type": "execute_result"
    }
   ],
   "source": [
    "ggplot(data, aes('x', fill='group')) + \\\n",
    "    geom_bar(tooltips=tooltip_options, labels=layer_labels().line('@..prop.. (@..proppct..)'))"
   ]
  },
  {
   "cell_type": "markdown",
   "id": "390bd049-9626-4713-96ef-0312bb0613db",
   "metadata": {},
   "source": [
    "#### 3. The `count2d` Stat Works Similarly"
   ]
  },
  {
   "cell_type": "code",
   "execution_count": 7,
   "id": "7a6abbf0-fb03-49b9-8c13-69d492bf0e12",
   "metadata": {},
   "outputs": [
    {
     "name": "stdout",
     "output_type": "stream",
     "text": [
      "(234, 12)\n"
     ]
    },
    {
     "data": {
      "text/html": [
       "<div>\n",
       "<style scoped>\n",
       "    .dataframe tbody tr th:only-of-type {\n",
       "        vertical-align: middle;\n",
       "    }\n",
       "\n",
       "    .dataframe tbody tr th {\n",
       "        vertical-align: top;\n",
       "    }\n",
       "\n",
       "    .dataframe thead th {\n",
       "        text-align: right;\n",
       "    }\n",
       "</style>\n",
       "<table border=\"1\" class=\"dataframe\">\n",
       "  <thead>\n",
       "    <tr style=\"text-align: right;\">\n",
       "      <th></th>\n",
       "      <th>Unnamed: 0</th>\n",
       "      <th>manufacturer</th>\n",
       "      <th>model</th>\n",
       "      <th>displ</th>\n",
       "      <th>year</th>\n",
       "      <th>cyl</th>\n",
       "      <th>trans</th>\n",
       "      <th>drv</th>\n",
       "      <th>cty</th>\n",
       "      <th>hwy</th>\n",
       "      <th>fl</th>\n",
       "      <th>class</th>\n",
       "    </tr>\n",
       "  </thead>\n",
       "  <tbody>\n",
       "    <tr>\n",
       "      <th>0</th>\n",
       "      <td>1</td>\n",
       "      <td>audi</td>\n",
       "      <td>a4</td>\n",
       "      <td>1.8</td>\n",
       "      <td>1999</td>\n",
       "      <td>4</td>\n",
       "      <td>auto(l5)</td>\n",
       "      <td>f</td>\n",
       "      <td>18</td>\n",
       "      <td>29</td>\n",
       "      <td>p</td>\n",
       "      <td>compact</td>\n",
       "    </tr>\n",
       "    <tr>\n",
       "      <th>1</th>\n",
       "      <td>2</td>\n",
       "      <td>audi</td>\n",
       "      <td>a4</td>\n",
       "      <td>1.8</td>\n",
       "      <td>1999</td>\n",
       "      <td>4</td>\n",
       "      <td>manual(m5)</td>\n",
       "      <td>f</td>\n",
       "      <td>21</td>\n",
       "      <td>29</td>\n",
       "      <td>p</td>\n",
       "      <td>compact</td>\n",
       "    </tr>\n",
       "    <tr>\n",
       "      <th>2</th>\n",
       "      <td>3</td>\n",
       "      <td>audi</td>\n",
       "      <td>a4</td>\n",
       "      <td>2.0</td>\n",
       "      <td>2008</td>\n",
       "      <td>4</td>\n",
       "      <td>manual(m6)</td>\n",
       "      <td>f</td>\n",
       "      <td>20</td>\n",
       "      <td>31</td>\n",
       "      <td>p</td>\n",
       "      <td>compact</td>\n",
       "    </tr>\n",
       "    <tr>\n",
       "      <th>3</th>\n",
       "      <td>4</td>\n",
       "      <td>audi</td>\n",
       "      <td>a4</td>\n",
       "      <td>2.0</td>\n",
       "      <td>2008</td>\n",
       "      <td>4</td>\n",
       "      <td>auto(av)</td>\n",
       "      <td>f</td>\n",
       "      <td>21</td>\n",
       "      <td>30</td>\n",
       "      <td>p</td>\n",
       "      <td>compact</td>\n",
       "    </tr>\n",
       "    <tr>\n",
       "      <th>4</th>\n",
       "      <td>5</td>\n",
       "      <td>audi</td>\n",
       "      <td>a4</td>\n",
       "      <td>2.8</td>\n",
       "      <td>1999</td>\n",
       "      <td>6</td>\n",
       "      <td>auto(l5)</td>\n",
       "      <td>f</td>\n",
       "      <td>16</td>\n",
       "      <td>26</td>\n",
       "      <td>p</td>\n",
       "      <td>compact</td>\n",
       "    </tr>\n",
       "  </tbody>\n",
       "</table>\n",
       "</div>"
      ],
      "text/plain": [
       "   Unnamed: 0 manufacturer model  displ  year  cyl       trans drv  cty  hwy  \\\n",
       "0           1         audi    a4    1.8  1999    4    auto(l5)   f   18   29   \n",
       "1           2         audi    a4    1.8  1999    4  manual(m5)   f   21   29   \n",
       "2           3         audi    a4    2.0  2008    4  manual(m6)   f   20   31   \n",
       "3           4         audi    a4    2.0  2008    4    auto(av)   f   21   30   \n",
       "4           5         audi    a4    2.8  1999    6    auto(l5)   f   16   26   \n",
       "\n",
       "  fl    class  \n",
       "0  p  compact  \n",
       "1  p  compact  \n",
       "2  p  compact  \n",
       "3  p  compact  \n",
       "4  p  compact  "
      ]
     },
     "execution_count": 7,
     "metadata": {},
     "output_type": "execute_result"
    }
   ],
   "source": [
    "df = pd.read_csv(\"https://raw.githubusercontent.com/JetBrains/lets-plot-docs/master/data/mpg.csv\")\n",
    "print(df.shape)\n",
    "df.head()"
   ]
  },
  {
   "cell_type": "code",
   "execution_count": 8,
   "id": "9e68462d-6f37-49e7-b744-8a5902d382ed",
   "metadata": {},
   "outputs": [
    {
     "data": {
      "text/html": [
       "   <div id=\"SxfmV8\"></div>\n",
       "   <script type=\"text/javascript\" data-lets-plot-script=\"plot\">\n",
       "       (function() {\n",
       "           var plotSpec={\n",
       "\"data\":{\n",
       "},\n",
       "\"mapping\":{\n",
       "\"x\":\"drv\",\n",
       "\"y\":\"year\"\n",
       "},\n",
       "\"data_meta\":{\n",
       "\"mapping_annotations\":[{\n",
       "\"aes\":\"y\",\n",
       "\"annotation\":\"as_discrete\",\n",
       "\"parameters\":{\n",
       "\"label\":\"year\"\n",
       "}\n",
       "}]\n",
       "},\n",
       "\"kind\":\"plot\",\n",
       "\"scales\":[{\n",
       "\"aesthetic\":\"size\",\n",
       "\"guide\":\"none\"\n",
       "}],\n",
       "\"layers\":[{\n",
       "\"geom\":\"pie\",\n",
       "\"mapping\":{\n",
       "\"fill\":\"class\",\n",
       "\"size\":\"..sum..\"\n",
       "},\n",
       "\"tooltips\":{\n",
       "\"formats\":[],\n",
       "\"variables\":[\"..sumprop..\",\"..sumpct..\",\"..prop..\",\"..proppct..\"]\n",
       "},\n",
       "\"data_meta\":{\n",
       "},\n",
       "\"data\":{\n",
       "\"..count..\":[21.0,14.0,4.0,8.0,1.0,2.0,19.0,19.0,6.0,5.0,27.0,24.0,2.0,3.0,6.0,5.0,17.0,16.0,4.0,5.0,11.0,11.0,4.0],\n",
       "\"drv\":[\"f\",\"f\",\"4\",\"4\",\"4\",\"4\",\"f\",\"f\",\"r\",\"r\",\"4\",\"4\",\"r\",\"r\",\"f\",\"f\",\"4\",\"4\",\"r\",\"r\",\"f\",\"f\",\"4\"],\n",
       "\"year\":[1999.0,2008.0,1999.0,2008.0,1999.0,2008.0,1999.0,2008.0,2008.0,1999.0,2008.0,1999.0,1999.0,2008.0,1999.0,2008.0,2008.0,1999.0,1999.0,2008.0,1999.0,2008.0,1999.0],\n",
       "\"class\":[\"compact\",\"compact\",\"compact\",\"compact\",\"midsize\",\"midsize\",\"midsize\",\"midsize\",\"suv\",\"suv\",\"suv\",\"suv\",\"2seater\",\"2seater\",\"minivan\",\"minivan\",\"pickup\",\"pickup\",\"subcompact\",\"subcompact\",\"subcompact\",\"subcompact\",\"subcompact\"],\n",
       "\"..sum..\":[57.0,49.0,49.0,54.0,49.0,54.0,57.0,49.0,14.0,11.0,54.0,49.0,11.0,14.0,57.0,49.0,54.0,49.0,11.0,14.0,57.0,49.0,49.0],\n",
       "\"..prop..\":[0.3684210526315789,0.2857142857142857,0.08163265306122448,0.14814814814814814,0.02040816326530612,0.037037037037037035,0.3333333333333333,0.3877551020408163,0.42857142857142855,0.45454545454545453,0.5,0.4897959183673469,0.18181818181818182,0.21428571428571427,0.10526315789473684,0.10204081632653061,0.3148148148148148,0.32653061224489793,0.36363636363636365,0.35714285714285715,0.19298245614035087,0.22448979591836735,0.08163265306122448],\n",
       "\"..proppct..\":[36.84210526315789,28.57142857142857,8.16326530612245,14.814814814814813,2.0408163265306123,3.7037037037037033,33.33333333333333,38.775510204081634,42.857142857142854,45.45454545454545,50.0,48.97959183673469,18.181818181818183,21.428571428571427,10.526315789473683,10.204081632653061,31.48148148148148,32.6530612244898,36.36363636363637,35.714285714285715,19.298245614035086,22.448979591836736,8.16326530612245],\n",
       "\"..sumprop..\":[0.24358974358974358,0.2094017094017094,0.2094017094017094,0.23076923076923078,0.2094017094017094,0.23076923076923078,0.24358974358974358,0.2094017094017094,0.05982905982905983,0.04700854700854701,0.23076923076923078,0.2094017094017094,0.04700854700854701,0.05982905982905983,0.24358974358974358,0.2094017094017094,0.23076923076923078,0.2094017094017094,0.04700854700854701,0.05982905982905983,0.24358974358974358,0.2094017094017094,0.2094017094017094],\n",
       "\"..sumpct..\":[24.358974358974358,20.94017094017094,20.94017094017094,23.076923076923077,20.94017094017094,23.076923076923077,24.358974358974358,20.94017094017094,5.982905982905983,4.700854700854701,23.076923076923077,20.94017094017094,4.700854700854701,5.982905982905983,24.358974358974358,20.94017094017094,23.076923076923077,20.94017094017094,4.700854700854701,5.982905982905983,24.358974358974358,20.94017094017094,20.94017094017094]\n",
       "}\n",
       "}],\n",
       "\"metainfo_list\":[]\n",
       "};\n",
       "           var plotContainer = document.getElementById(\"SxfmV8\");\n",
       "           window.letsPlotCall(function() {{\n",
       "               LetsPlot.buildPlotFromProcessedSpecs(plotSpec, -1, -1, plotContainer);\n",
       "           }});\n",
       "       })();    \n",
       "   </script>"
      ],
      "text/plain": [
       "<lets_plot.plot.core.PlotSpec at 0x7f9698ed7790>"
      ]
     },
     "execution_count": 8,
     "metadata": {},
     "output_type": "execute_result"
    }
   ],
   "source": [
    "ggplot(df, aes(\"drv\", as_discrete(\"year\"))) + \\\n",
    "    geom_pie(aes(fill=\"class\", size='..sum..'), tooltips=tooltip_options) + \\\n",
    "    scale_size(guide='none')"
   ]
  }
 ],
 "metadata": {
  "kernelspec": {
   "display_name": "Python 3 (ipykernel)",
   "language": "python",
   "name": "python3"
  },
  "language_info": {
   "codemirror_mode": {
    "name": "ipython",
    "version": 3
   },
   "file_extension": ".py",
   "mimetype": "text/x-python",
   "name": "python",
   "nbconvert_exporter": "python",
   "pygments_lexer": "ipython3",
   "version": "3.8.18"
  }
 },
 "nbformat": 4,
 "nbformat_minor": 5
}
