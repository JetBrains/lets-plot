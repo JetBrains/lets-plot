{
 "cells": [
  {
   "cell_type": "markdown",
   "metadata": {},
   "source": [
    "# COVID-19 statistics in China (except Hubei)\n",
    "Data comes from https://tinyurl.com/s6gsq5y"
   ]
  },
  {
   "cell_type": "code",
   "execution_count": 1,
   "metadata": {},
   "outputs": [],
   "source": [
    "import numpy as np\n",
    "import pandas as pd\n",
    "import geopandas as gpd\n",
    "from sklearn import cluster\n",
    "\n",
    "from ipywidgets import widgets\n",
    "from IPython.display import display\n",
    "\n",
    "from lets_plot import *"
   ]
  },
  {
   "cell_type": "code",
   "execution_count": 2,
   "metadata": {},
   "outputs": [
    {
     "ename": "NameError",
     "evalue": "name 'load_lets_plot_js' is not defined",
     "output_type": "error",
     "traceback": [
      "\u001b[1;31m---------------------------------------------------------------------------\u001b[0m",
      "\u001b[1;31mNameError\u001b[0m                                 Traceback (most recent call last)",
      "\u001b[1;32mC:\\Temp/ipykernel_6776/2399501846.py\u001b[0m in \u001b[0;36m<module>\u001b[1;34m\u001b[0m\n\u001b[1;32m----> 1\u001b[1;33m \u001b[0mload_lets_plot_js\u001b[0m\u001b[1;33m(\u001b[0m\u001b[1;33m)\u001b[0m\u001b[1;33m\u001b[0m\u001b[1;33m\u001b[0m\u001b[0m\n\u001b[0m",
      "\u001b[1;31mNameError\u001b[0m: name 'load_lets_plot_js' is not defined"
     ]
    }
   ],
   "source": [
    "load_lets_plot_js()"
   ]
  },
  {
   "cell_type": "code",
   "execution_count": null,
   "metadata": {},
   "outputs": [],
   "source": [
    "%matplotlib notebook"
   ]
  },
  {
   "cell_type": "code",
   "execution_count": null,
   "metadata": {},
   "outputs": [],
   "source": [
    "DATA_URL = 'https://docs.google.com/spreadsheets/d/1itaohdPiAeniCXNlntNztZ_oRvjh0HsGuJXUJWET008/export?format=csv&id=1itaohdPiAeniCXNlntNztZ_oRvjh0HsGuJXUJWET008&gid=0'\n",
    "MAX_CLUSTERS_COUNT = 20\n",
    "OUTCOMES = ['diseased', 'died', 'discharged', 'stable']"
   ]
  },
  {
   "cell_type": "code",
   "execution_count": null,
   "metadata": {},
   "outputs": [],
   "source": [
    "def player_widget(plots, *, fps=1):\n",
    "    interval = max(1, int(1000 / fps))\n",
    "    player = widgets.Play(min=0, max=len(plots) - 1, step=1, value=0, interval=interval)\n",
    "    slider = widgets.IntSlider(min=0, max=len(plots) - 1, step=1, value=0)\n",
    "    widgets.jslink((player, 'value'), (slider, 'value'))\n",
    "    widget = widgets.HBox([player, slider])\n",
    "    iout = widgets.interactive_output(lambda n, m: display(plots[n]), {'n': slider, 'm': player})\n",
    "    return display(widget, iout)"
   ]
  },
  {
   "cell_type": "code",
   "execution_count": null,
   "metadata": {},
   "outputs": [],
   "source": [
    "def find_best_clustering(shapely_points, *, max_clusters_count=1, clusters_limit_proportion=.02, \\\n",
    "                         attempts_count=1, method=cluster.KMeans):\n",
    "    points = shapely_points.apply(lambda p: [p.x, p.y]).to_list()\n",
    "    max_clusters_count = min(max_clusters_count, len(set([str(p) for p in points])))\n",
    "    if max_clusters_count < 1:\n",
    "        return None\n",
    "    for n in range(max_clusters_count, 0, -1):\n",
    "        clustering = method(n_clusters=n, n_jobs=attempts_count).fit(points)\n",
    "        clusters, counts = np.unique(clustering.labels_, return_counts=True)\n",
    "        if clusters_limit_proportion <= np.min(counts) / np.max(counts):\n",
    "            return clustering\n",
    "    assert(False)"
   ]
  },
  {
   "cell_type": "code",
   "execution_count": null,
   "metadata": {},
   "outputs": [],
   "source": [
    "def append_cluster_column(gdf, *, distinguished_columns=[], max_clusters_count=1, cluster_column_name='cluster'):\n",
    "    if any(distinguished_columns):\n",
    "        column = distinguished_columns[0]\n",
    "        return pd.concat([\n",
    "            append_cluster_column(gdf[gdf[column] == value].copy(), \\\n",
    "                                  distinguished_columns=distinguished_columns[1:], \\\n",
    "                                  max_clusters_count=max_clusters_count, \\\n",
    "                                  cluster_column_name=cluster_column_name)\n",
    "            for value in gdf[column].value_counts().keys()\n",
    "        ])\n",
    "    else:\n",
    "        gdf[cluster_column_name] = find_best_clustering(gdf.geometry, max_clusters_count=max_clusters_count).labels_\n",
    "        return gdf"
   ]
  },
  {
   "cell_type": "code",
   "execution_count": null,
   "metadata": {},
   "outputs": [],
   "source": [
    "def get_clusters_gdf(gdf, outcome, current_date):\n",
    "    gdf = gdf[gdf.outcome == outcome].copy()\n",
    "    actual_gdf = gdf[gdf.date_confirmation<=current_date]\n",
    "    if outcome in ['discharged', 'died']:\n",
    "        actual_gdf = actual_gdf[actual_gdf.date_death_or_discharge<=current_date]\n",
    "    \n",
    "    vc = actual_gdf.cluster.value_counts()\n",
    "    clusters, counts = vc.keys(), vc.values\n",
    "    geometry = [gdf[gdf.cluster == cluster].unary_union.centroid for cluster in clusters]\n",
    "    \n",
    "    return gpd.GeoDataFrame(dict(cluster=clusters, \\\n",
    "                                 count=counts, \\\n",
    "                                 outcome=[outcome]*len(clusters), \\\n",
    "                                 date=[current_date]*len(clusters), \\\n",
    "                                 geometry=geometry))"
   ]
  },
  {
   "cell_type": "code",
   "execution_count": null,
   "metadata": {},
   "outputs": [],
   "source": [
    "# Read the map polygon\n",
    "world = gpd.read_file(gpd.datasets.get_path('naturalearth_lowres'))\n",
    "china = world[world.name == 'China']"
   ]
  },
  {
   "cell_type": "code",
   "execution_count": null,
   "metadata": {},
   "outputs": [],
   "source": [
    "# Prepare dataframe\n",
    "columns = ['date_confirmation', 'outcome', 'date_death_or_discharge', 'country', 'latitude', 'longitude']\n",
    "except_hubei_data = pd.read_csv(DATA_URL)\n",
    "df = pd.DataFrame(except_hubei_data)[columns]"
   ]
  },
  {
   "cell_type": "code",
   "execution_count": null,
   "metadata": {},
   "outputs": [],
   "source": [
    "# Clean data\n",
    "df = df[~df.latitude.isna()]\n",
    "df = df[~df.longitude.isna()]\n",
    "df = df[~df.date_confirmation.isna()]\n",
    "df = df[df.country == 'China']\n",
    "df = df[~(((df.outcome=='discharged')|(df.outcome=='died'))&df.date_death_or_discharge.isna())]"
   ]
  },
  {
   "cell_type": "code",
   "execution_count": null,
   "metadata": {},
   "outputs": [],
   "source": [
    "# Fix data\n",
    "df.latitude = df.latitude.astype(float)\n",
    "df.longitude = df.longitude.astype(float)\n",
    "df.date_confirmation = pd.to_datetime(df.date_confirmation, dayfirst=True, errors='coerce')\\\n",
    "    .apply(lambda dt: dt.replace(year=2020))\n",
    "df.date_death_or_discharge = pd.to_datetime(df.date_death_or_discharge, dayfirst=True, errors='coerce')\\\n",
    "    .apply(lambda dt: dt.replace(year=2020))\n",
    "df.outcome = df.outcome.replace({'discharge': 'discharged'})\\\n",
    "    .apply(lambda outcome: outcome if outcome in OUTCOMES else 'diseased')"
   ]
  },
  {
   "cell_type": "code",
   "execution_count": null,
   "metadata": {},
   "outputs": [],
   "source": [
    "# Prepare geodataframe\n",
    "gdf = gpd.GeoDataFrame(df, geometry=gpd.points_from_xy(df.longitude, df.latitude))\n",
    "gdf = gdf[gdf.within(china.iloc[0].geometry)]"
   ]
  },
  {
   "cell_type": "code",
   "execution_count": null,
   "metadata": {},
   "outputs": [],
   "source": [
    "# Add clusters by geoposition\n",
    "gdf = append_cluster_column(gdf, distinguished_columns=['outcome'], max_clusters_count=MAX_CLUSTERS_COUNT)"
   ]
  },
  {
   "cell_type": "code",
   "execution_count": null,
   "metadata": {},
   "outputs": [],
   "source": [
    "# Prepare clusterized geodataframe\n",
    "clusters_gdf = pd.concat([\n",
    "    pd.concat([\n",
    "        get_clusters_gdf(gdf, outcome=outcome, current_date=current_date)\n",
    "        for current_date in gdf.date_confirmation.sort_values().unique()\n",
    "    ])\n",
    "    for outcome in OUTCOMES\n",
    "])"
   ]
  },
  {
   "cell_type": "code",
   "execution_count": null,
   "metadata": {},
   "outputs": [],
   "source": [
    "# Prepare list of plots that would be frames of the animation\n",
    "p = ggplot() + \\\n",
    "    geom_polygon(data=china, fill='#d6d6d6') + \\\n",
    "    theme(legend_position=(.15, .15), axis_title='blank', axis_text='blank', axis_ticks='blank', axis_line='blank') + \\\n",
    "    ggsize(600, 600)\n",
    "\n",
    "limit = clusters_gdf['count'].max()\n",
    "plots = []\n",
    "for current_date in gdf.date_confirmation.sort_values().unique():\n",
    "    current_clusters_gdf = clusters_gdf[clusters_gdf.date == current_date]\n",
    "    plots.append(\n",
    "        p + \\\n",
    "        geom_point(aes(size='count', color='outcome'), data=current_clusters_gdf) + \\\n",
    "        scale_size(name='', limits=[0, limit]) + \\\n",
    "        scale_color_manual(values=['#cf3c38', 'black', '#90c73e', '#4cc5db']) + \\\n",
    "        ggtitle('COVID-19 on ' + np.datetime_as_string(current_date, unit='D'))\n",
    "    )"
   ]
  },
  {
   "cell_type": "code",
   "execution_count": null,
   "metadata": {},
   "outputs": [],
   "source": [
    "player_widget(plots)"
   ]
  }
 ],
 "metadata": {
  "kernelspec": {
   "display_name": "Python 3 (ipykernel)",
   "language": "python",
   "name": "python3"
  },
  "language_info": {
   "codemirror_mode": {
    "name": "ipython",
    "version": 3
   },
   "file_extension": ".py",
   "mimetype": "text/x-python",
   "name": "python",
   "nbconvert_exporter": "python",
   "pygments_lexer": "ipython3",
   "version": "3.7.10"
  },
  "pycharm": {
   "stem_cell": {
    "cell_type": "raw",
    "metadata": {
     "collapsed": false
    },
    "source": []
   }
  },
  "widgets": {
   "application/vnd.jupyter.widget-state+json": {
    "state": {
     "03d62577de3d4fd7965b674926a04e76": {
      "model_module": "@jupyter-widgets/base",
      "model_module_version": "1.2.0",
      "model_name": "LayoutModel",
      "state": {}
     },
     "06babde1052840a7b779f8f34da28ae4": {
      "model_module": "@jupyter-widgets/base",
      "model_module_version": "1.2.0",
      "model_name": "LayoutModel",
      "state": {}
     },
     "07daf44749e6445786a59c3e94c9341b": {
      "model_module": "@jupyter-widgets/base",
      "model_module_version": "1.2.0",
      "model_name": "LayoutModel",
      "state": {}
     },
     "0ab2a42cbc8740dba1fa5d7122588ac3": {
      "model_module": "@jupyter-widgets/controls",
      "model_module_version": "1.5.0",
      "model_name": "PlayModel",
      "state": {
       "interval": 1000,
       "layout": "IPY_MODEL_e76b3bd38ee14206b750b9981b770199",
       "max": 38,
       "style": "IPY_MODEL_f3b9e292accf4e9287986fc17edb3676",
       "value": 38
      }
     },
     "0d323541d9924b1ebf17d1c2b5ec4d86": {
      "model_module": "@jupyter-widgets/base",
      "model_module_version": "1.2.0",
      "model_name": "LayoutModel",
      "state": {}
     },
     "1988bf23a64a441b89848ced0ca2a584": {
      "model_module": "@jupyter-widgets/base",
      "model_module_version": "1.2.0",
      "model_name": "LayoutModel",
      "state": {}
     },
     "1b6417b807f8477a9069570ffcf8208b": {
      "model_module": "@jupyter-widgets/controls",
      "model_module_version": "1.5.0",
      "model_name": "PlayModel",
      "state": {
       "interval": 1000,
       "layout": "IPY_MODEL_232bf4a0898f42e9acaeb4744cc19235",
       "max": 38,
       "style": "IPY_MODEL_9290093586c842fd882140f4eae9ce88",
       "value": 38
      }
     },
     "232bf4a0898f42e9acaeb4744cc19235": {
      "model_module": "@jupyter-widgets/base",
      "model_module_version": "1.2.0",
      "model_name": "LayoutModel",
      "state": {}
     },
     "3542778bda134f02b196fed5ee4ba236": {
      "model_module": "@jupyter-widgets/controls",
      "model_module_version": "1.5.0",
      "model_name": "IntSliderModel",
      "state": {
       "layout": "IPY_MODEL_03d62577de3d4fd7965b674926a04e76",
       "max": 38,
       "style": "IPY_MODEL_45f4d01d572642e1afbc9d0276429825",
       "value": 23
      }
     },
     "3da72335e55049c3b971a2d8f3e94c70": {
      "model_module": "@jupyter-widgets/base",
      "model_module_version": "1.2.0",
      "model_name": "LayoutModel",
      "state": {}
     },
     "4300314b81c144a0a831326fc957befc": {
      "model_module": "@jupyter-widgets/controls",
      "model_module_version": "1.5.0",
      "model_name": "LinkModel",
      "state": {
       "source": [
        "IPY_MODEL_d8125145d48a46d193d8bf39b5bcfa02",
        "value"
       ],
       "target": [
        "IPY_MODEL_3542778bda134f02b196fed5ee4ba236",
        "value"
       ]
      }
     },
     "45f4d01d572642e1afbc9d0276429825": {
      "model_module": "@jupyter-widgets/controls",
      "model_module_version": "1.5.0",
      "model_name": "SliderStyleModel",
      "state": {
       "description_width": ""
      }
     },
     "483ed026dde44c3b818bbc8b35d27659": {
      "model_module": "@jupyter-widgets/base",
      "model_module_version": "1.2.0",
      "model_name": "LayoutModel",
      "state": {}
     },
     "52f3fd119ede4ef69cac3af9365f25f6": {
      "model_module": "@jupyter-widgets/base",
      "model_module_version": "1.2.0",
      "model_name": "LayoutModel",
      "state": {}
     },
     "54811c02f756439693b4dab8457271b6": {
      "model_module": "@jupyter-widgets/controls",
      "model_module_version": "1.5.0",
      "model_name": "IntSliderModel",
      "state": {
       "layout": "IPY_MODEL_1988bf23a64a441b89848ced0ca2a584",
       "max": 38,
       "style": "IPY_MODEL_8d1e66461e734df0a63b1d448f9a0edf",
       "value": 16
      }
     },
     "55b57fa4b212464e97dbce0c688cb0d9": {
      "model_module": "@jupyter-widgets/base",
      "model_module_version": "1.2.0",
      "model_name": "LayoutModel",
      "state": {}
     },
     "615f053348b3433a93c903081a6b725c": {
      "model_module": "@jupyter-widgets/base",
      "model_module_version": "1.2.0",
      "model_name": "LayoutModel",
      "state": {}
     },
     "6275369d7021466886edc1d2337b818c": {
      "model_module": "@jupyter-widgets/controls",
      "model_module_version": "1.5.0",
      "model_name": "LinkModel",
      "state": {
       "source": [
        "IPY_MODEL_1b6417b807f8477a9069570ffcf8208b",
        "value"
       ],
       "target": [
        "IPY_MODEL_752d0c2721b24d7792ad9e93554b6cdc",
        "value"
       ]
      }
     },
     "6a4d9a0acba146a09f4ff03b1cd858ec": {
      "model_module": "@jupyter-widgets/controls",
      "model_module_version": "1.5.0",
      "model_name": "HBoxModel",
      "state": {
       "children": [
        "IPY_MODEL_e0a0579e8f474aa59c66cd5f1d084fc1",
        "IPY_MODEL_709b6d01737a48b6b53bd3c673ea9a23"
       ],
       "layout": "IPY_MODEL_06babde1052840a7b779f8f34da28ae4"
      }
     },
     "6c6e876da2e24a618237dd2f5f91923d": {
      "model_module": "@jupyter-widgets/base",
      "model_module_version": "1.2.0",
      "model_name": "LayoutModel",
      "state": {}
     },
     "709b6d01737a48b6b53bd3c673ea9a23": {
      "model_module": "@jupyter-widgets/controls",
      "model_module_version": "1.5.0",
      "model_name": "IntSliderModel",
      "state": {
       "layout": "IPY_MODEL_d1da66120ad244f1b7933bf3f1372942",
       "max": 38,
       "style": "IPY_MODEL_bcc675b4ef624247ae68f418b451d4a8",
       "value": 38
      }
     },
     "747edf0666ab4b6d9a4363d783755282": {
      "model_module": "@jupyter-widgets/controls",
      "model_module_version": "1.5.0",
      "model_name": "IntSliderModel",
      "state": {
       "layout": "IPY_MODEL_eab364485426408d8967a1018da1760d",
       "max": 38,
       "style": "IPY_MODEL_dce3a046b15e41a782c3564ce908df9e",
       "value": 38
      }
     },
     "752d0c2721b24d7792ad9e93554b6cdc": {
      "model_module": "@jupyter-widgets/controls",
      "model_module_version": "1.5.0",
      "model_name": "IntSliderModel",
      "state": {
       "layout": "IPY_MODEL_dbbd30b1fa3145b491e7ba22e299f40d",
       "max": 38,
       "style": "IPY_MODEL_8bc4688d1ad64d1e94f9cd9c5dc1876e",
       "value": 38
      }
     },
     "79d8bf641c984298bb1880441e7f8a9a": {
      "model_module": "@jupyter-widgets/controls",
      "model_module_version": "1.5.0",
      "model_name": "DescriptionStyleModel",
      "state": {
       "description_width": ""
      }
     },
     "81a7b4f2f4f34516b4265dd2cea74c72": {
      "model_module": "@jupyter-widgets/controls",
      "model_module_version": "1.5.0",
      "model_name": "HBoxModel",
      "state": {
       "children": [
        "IPY_MODEL_d8125145d48a46d193d8bf39b5bcfa02",
        "IPY_MODEL_3542778bda134f02b196fed5ee4ba236"
       ],
       "layout": "IPY_MODEL_9a3de8bd8daa4e01a2b8324373baa4b1"
      }
     },
     "81d76d09444946fda40b4216ce2a1e51": {
      "model_module": "@jupyter-widgets/controls",
      "model_module_version": "1.5.0",
      "model_name": "HBoxModel",
      "state": {
       "children": [
        "IPY_MODEL_1b6417b807f8477a9069570ffcf8208b",
        "IPY_MODEL_752d0c2721b24d7792ad9e93554b6cdc"
       ],
       "layout": "IPY_MODEL_483ed026dde44c3b818bbc8b35d27659"
      }
     },
     "8bc4688d1ad64d1e94f9cd9c5dc1876e": {
      "model_module": "@jupyter-widgets/controls",
      "model_module_version": "1.5.0",
      "model_name": "SliderStyleModel",
      "state": {
       "description_width": ""
      }
     },
     "8d1e66461e734df0a63b1d448f9a0edf": {
      "model_module": "@jupyter-widgets/controls",
      "model_module_version": "1.5.0",
      "model_name": "SliderStyleModel",
      "state": {
       "description_width": ""
      }
     },
     "90a2559e59fa4f4baa1936e074773dfa": {
      "model_module": "@jupyter-widgets/controls",
      "model_module_version": "1.5.0",
      "model_name": "LinkModel",
      "state": {
       "source": [
        "IPY_MODEL_e0a0579e8f474aa59c66cd5f1d084fc1",
        "value"
       ],
       "target": [
        "IPY_MODEL_709b6d01737a48b6b53bd3c673ea9a23",
        "value"
       ]
      }
     },
     "9290093586c842fd882140f4eae9ce88": {
      "model_module": "@jupyter-widgets/controls",
      "model_module_version": "1.5.0",
      "model_name": "DescriptionStyleModel",
      "state": {
       "description_width": ""
      }
     },
     "9a3de8bd8daa4e01a2b8324373baa4b1": {
      "model_module": "@jupyter-widgets/base",
      "model_module_version": "1.2.0",
      "model_name": "LayoutModel",
      "state": {}
     },
     "aba4e48ef7c540bc87a8632339338a6d": {
      "model_module": "@jupyter-widgets/output",
      "model_module_version": "1.0.0",
      "model_name": "OutputModel",
      "state": {
       "layout": "IPY_MODEL_55b57fa4b212464e97dbce0c688cb0d9",
       "outputs": [
        {
         "data": {
          "text/html": "   <div id=\"P2x54p\"></div>\n   <script type=\"text/javascript\">\n       (function() {\n           var plotSpec={\n'theme':{\n'axis_title':\"blank\",\n'axis_text':\"blank\",\n'axis_ticks':\"blank\",\n'axis_line':\"blank\",\n'legend_position':[0.15,0.15]\n},\n'ggsize':{\n'width':600,\n'height':600\n},\n'ggtitle':{\n'text':\"COVID-19 on 2020-02-27\"\n},\n'kind':\"plot\",\n'scales':[{\n'name':\"\",\n'aesthetic':\"size\"\n},{\n'aesthetic':\"color\",\n'values':[\"#f7fcb9\",\"#cb181d\",\"#00441b\",\"#00441b\"]\n},{\n'aesthetic':\"fill\",\n'values':[\"#41ab5d\",\"#fcbba1\",\"#f7fcb9\",\"#41ab5d\"]\n}],\n'layers':[{\n'geom':\"polygon\",\n'data':{\n'__key__':[\"0\"]\n},\n'data_meta':{\n'geodataframe':{\n'geometry':\"geometry\"\n}\n},\n'color':\"#41ab5d\",\n'fill':\"#41ab5d\",\n'map':{\n'key':[\"0\"],\n'__geometry__':[\"{\\\"type\\\": \\\"MultiPolygon\\\", \\\"coordinates\\\": [[[[109.47520958866365, 18.197700913968575], [108.65520796105616, 18.507681993071387], [108.62621748254044, 19.367887885001906], [109.11905561730804, 19.821038519769345], [110.21159874882281, 20.101253973872033], [110.78655073450221, 20.077534491450052], [111.01005130416458, 19.69592987719072], [110.57064660038677, 19.25587921800927], [110.33918786015147, 18.678395087147592], [109.47520958866365, 18.197700913968575]]], [[[80.2599902688853, 42.34999929459906], [80.1801501809943, 42.92006785742694], [80.86620649610126, 43.18036204688101], [79.96610639844141, 44.91751699480463], [81.9470707539181, 45.31702749285312], [82.45892581576906, 45.539649563166506], [83.18048383986047, 47.33003123635086], [85.16429039911324, 47.0009557155161], [85.72048383987067, 47.452969468773105], [85.7682328633083, 48.45575063739699], [86.59877648310336, 48.549181626980626], [87.35997033076265, 49.21498078062912], [87.75126427607671, 49.297197984405486], [88.01383222855173, 48.599462795600616], [88.85429772334676, 48.069081732772965], [90.28082563676392, 47.69354909930793], [90.97080936072501, 46.88814606382293], [90.58576826371828, 45.71971609148753], [90.9455395853343, 45.28607330991028], [92.13389082231822, 45.11507599545646], [93.4807336771413, 44.975472113619965], [94.68892866412533, 44.35233185482842], [95.30687544147153, 44.24133087826547], [95.76245486855669, 43.319449164394605], [96.34939578652781, 42.725635280928685], [97.45175744017801, 42.74888967546002], [99.51581749878004, 42.524691473961724], [100.84586551310827, 42.66380442969145], [101.83304039917994, 42.51487295182628], [103.31227827353482, 41.9074681666676], [104.52228193564899, 41.908346666016556], [104.96499393109347, 41.59740957291635], [106.12931562706169, 42.13432770442891], [107.74477257693795, 42.48151581478187], [109.24359581913146, 42.5194463160841], [110.41210330611528, 42.87123362891103], [111.12968224492023, 43.40683401140015], [111.82958784388137, 43.74311839453952], [111.66773725794323, 44.07317576758771], [111.34837690637946, 44.45744171811009], [111.8733061056003, 45.10207937273506], [112.43606245325881, 45.01164561622429], [113.46390669154417, 44.80889313412712], [114.46033165899607, 45.339816799493825], [115.98509647020009, 45.727235012386004], [116.71786828009886, 46.38820241961521], [117.42170128791419, 46.67273285581426], [118.87432579963873, 46.80541209572365], [119.66326989143876, 46.69267995867892], [119.7728239278975, 47.04805878355013], [118.86657433479495, 47.74706004494617], [118.06414269416672, 48.06673045510369], [117.29550744025741, 47.69770905210743], [116.30895267137323, 47.85341014260284], [115.74283735561579, 47.72654450132629], [115.48528201707306, 48.13538259540344], [116.19180219936757, 49.134598090199106], [116.67880089728612, 49.888531399121405], [117.8792444194264, 49.510983384796965], [119.2884607280258, 50.142882798862004], [119.27939000000003, 50.58292], [120.18208000000016, 51.64355000000012], [120.7382, 51.96411000000006], [120.72578901579197, 52.516226304730935], [120.17708865771681, 52.75388621684124], [121.00308475147017, 53.25140106873119], [122.24574791879283, 53.431725979213695], [123.57146999999998, 53.45880000000005], [125.06821129771038, 53.16104482686886], [125.94634891164617, 52.79279857035698], [126.56439904185697, 51.7842554795327], [126.93915652883766, 51.35389415140592], [127.28745568248485, 50.73979726826548], [127.65740000000028, 49.760270000000105], [129.39781782442043, 49.44060008401544], [130.58229332898242, 48.72968740497614], [130.9872600000001, 47.79013000000003], [132.50669000000005, 47.78896000000003], [133.37359581922794, 48.18344167743487], [135.02631147678665, 48.478229885443874], [134.50081, 47.57845000000009], [134.1123500000001, 47.212480000000085], [133.76964399631288, 46.116926988299014], [133.09712000000013, 45.14409000000006], [131.8834542176595, 45.32116160743652], [131.02519000000018, 44.96796000000006], [131.28855512911548, 44.11151968034828], [131.1446879416149, 42.92998973242689], [130.63386640840974, 42.90301463477053], [130.63999970690955, 42.39502427522179], [129.99426720593323, 42.985386867843786], [129.59666873587952, 42.42498179785456], [128.0522152039723, 41.99428457291795], [128.20843305879066, 41.46677155208249], [127.34378299368302, 41.50315176041597], [126.86908328664987, 41.81656932226619], [126.18204511932943, 41.10733612727637], [125.07994184784064, 40.56982371679245], [124.26562462778531, 39.928493353834156], [122.86757042856095, 39.63778758397622], [122.1313879741309, 39.170451768544666], [121.05455447803286, 38.897471014962846], [121.58599490772248, 39.36085358332407], [121.37675703337268, 39.75026133885949], [122.16859500538106, 40.422442531896024], [121.64035851449353, 40.94638987890333], [120.76862877816194, 40.59338816991754], [119.63960208544907, 39.898055935214245], [119.02346398323306, 39.252333075511146], [118.04274865119791, 39.2042739934797], [117.53270226447711, 38.73763580988408], [118.05969852098964, 38.06147553156106], [118.87814985562832, 37.89732534438593], [118.91163618375344, 37.44846385349871], [119.70280236214205, 37.15638865818505], [120.8234574728236, 37.87042776137801], [121.711258579598, 37.48112335870718], [122.35793745329849, 37.45448415786072], [122.5199947449658, 36.93061432550185], [121.10416385303307, 36.651329047180425], [120.63700890511453, 36.111439520811075], [119.66456180224606, 35.60979055433772], [119.1512081238586, 34.90985911716044], [120.22752485563373, 34.36033193616865], [120.62036909391655, 33.37672272392514], [121.22901411345023, 32.46031871187719], [121.90814578663003, 31.692174384074647], [121.89191938689038, 30.949351508095106], [121.26425744027328, 30.6762674016487], [121.50351932178467, 30.14291494396429], [122.0921138855891, 29.83252045340315], [121.93842817595306, 29.01802236583478], [121.68443851123851, 28.225512600206617], [121.12566124886649, 28.135673122667185], [120.39547326058232, 27.05320689544932], [119.5854968608395, 25.740780544532612], [118.65687137255452, 24.54739085540024], [117.28160647997088, 23.624501451099658], [115.89073530483512, 22.78287323657807], [114.76382734584624, 22.668074042241667], [114.15254682826564, 22.22376007739615], [113.80677981980074, 22.5483397486214], [113.24107791550159, 22.051367499270455], [111.84359215703248, 21.550493679281473], [110.78546552942407, 21.397143866455338], [110.44403934127168, 20.34103261970633], [109.88986128137361, 20.282457383703488], [109.62765506392466, 21.008227037026703], [109.86448815311832, 21.395050970947523], [108.5228129415244, 21.715212307211814], [108.05018029178294, 21.55237986906012], [107.04342003787264, 21.811898912029914], [106.56727339073532, 22.21820486092477], [106.72540327354847, 22.79426788989842], [105.81124718630522, 22.976892401617903], [105.32920942588663, 23.352063300056912], [104.47685835166448, 22.819150092046968], [103.50451460166056, 22.70375661873921], [102.7069922221001, 22.708795070887675], [102.17043582561358, 22.464753119389304], [101.65201785686152, 22.318198757409547], [101.80311974488293, 21.17436676684507], [101.27002566935997, 21.201651923095184], [101.18000532430754, 21.436572984294028], [101.15003299357825, 21.849984442629022], [100.41653771362738, 21.558839423096614], [99.98348921102149, 21.7429367131364], [99.24089887898725, 22.11831431730458], [99.5319922220874, 22.94903880461258], [98.89874922078278, 23.14272207284253], [98.66026248575577, 24.063286037689966], [97.60471967976198, 23.897404690033042], [97.72460900267914, 25.083637193293], [98.67183800658916, 25.918702500913525], [98.71209394734451, 26.743535874940267], [98.68269005737046, 27.50881216075062], [98.2462309102333, 27.74722138112918], [97.91198774616944, 28.335945136014345], [97.32711388549004, 28.26158274994634], [96.24883344928779, 28.411030992134442], [96.58659061074749, 28.83097951915434], [96.11767866413103, 29.452802028922466], [95.40480228066464, 29.03171662039213], [94.56599043170294, 29.277438055939985], [93.41334760943269, 28.640629380807226], [92.50311893104364, 27.89687632904645], [91.69665652869668, 27.771741848251665], [91.25885379431992, 28.040614325466294], [90.7305139505678, 28.064953925075756], [90.01582889197118, 28.296438503527217], [89.47581017452111, 28.042758897406397], [88.81424848832056, 27.299315904239364], [88.73032596227856, 28.086864732367516], [88.12044070836987, 27.876541652939594], [86.9545170430006, 27.974261786403517], [85.82331994013151, 28.203575954698707], [85.01163821812304, 28.642773952747344], [84.23457970575015, 28.839893703724698], [83.89899295444673, 29.320226141877658], [83.33711510613719, 29.463731594352197], [82.32751264845088, 30.115268052688137], [81.52580447787474, 30.42271698660863], [81.11125613802932, 30.183480943313402], [79.7213668151071, 30.88271474865473], [78.73889448437401, 31.515906073527063], [78.45844648632601, 32.61816437431273], [79.17612877799553, 32.48377981213771], [79.20889163606859, 32.994394639613716], [78.81108646028574, 33.50619802503242], [78.91226891471322, 34.32193634697579], [77.83745079947457, 35.494009507787766], [76.19284834178569, 35.89840342868783], [75.89689741405013, 36.666806138651836], [75.15802778514092, 37.13303091078912], [74.98000247589542, 37.419990139305895], [74.8299857929521, 37.9900070257014], [74.86481570831683, 38.3788463404816], [74.25751427602273, 38.60650686294345], [73.92885216664644, 38.50581533462274], [73.6753792662548, 39.4312368841056], [73.96001305531843, 39.660008449861735], [73.8222436868283, 39.893973497063186], [74.77686242055606, 40.36642527929163], [75.4678279967307, 40.56207225194867], [76.52636803579745, 40.42794607193512], [76.90448449087708, 41.06648590754965], [78.18719689322597, 41.18531586360481], [78.54366092317531, 41.58224254003869], [80.11943037305139, 42.12394074153825], [80.2599902688853, 42.34999929459906]]]]}\"]\n},\n'mapping':{\n'map_id':\"__key__\"\n}\n},{\n'geom':\"point\",\n'data':{\n'count':[1187.0,984.0,974.0,905.0,887.0,788.0,689.0,565.0,518.0,381.0,348.0,340.0,299.0,295.0,291.0,265.0,178.0,164.0,146.0,48.0,1.0,8.0,4.0,2.0,1.0,1.0,1.0,1.0,1.0,1.0,1.0,1.0,14.0,11.0,8.0,7.0,6.0,4.0,4.0,3.0,3.0,2.0,2.0,2.0,2.0,1.0,1.0,1.0,1.0,1.0,1.0,1.0],\n'outcome':[\"diseased\",\"diseased\",\"diseased\",\"diseased\",\"diseased\",\"diseased\",\"diseased\",\"diseased\",\"diseased\",\"diseased\",\"diseased\",\"diseased\",\"diseased\",\"diseased\",\"diseased\",\"diseased\",\"diseased\",\"diseased\",\"diseased\",\"diseased\",\"died\",\"discharged\",\"discharged\",\"discharged\",\"discharged\",\"discharged\",\"discharged\",\"discharged\",\"discharged\",\"discharged\",\"discharged\",\"discharged\",\"stable\",\"stable\",\"stable\",\"stable\",\"stable\",\"stable\",\"stable\",\"stable\",\"stable\",\"stable\",\"stable\",\"stable\",\"stable\",\"stable\",\"stable\",\"stable\",\"stable\",\"stable\",\"stable\",\"stable\"],\n'__key__':[\"0\",\"1\",\"2\",\"3\",\"4\",\"5\",\"6\",\"7\",\"8\",\"9\",\"10\",\"11\",\"12\",\"13\",\"14\",\"15\",\"16\",\"17\",\"18\",\"19\",\"20\",\"21\",\"22\",\"23\",\"24\",\"25\",\"26\",\"27\",\"28\",\"29\",\"30\",\"31\",\"32\",\"33\",\"34\",\"35\",\"36\",\"37\",\"38\",\"39\",\"40\",\"41\",\"42\",\"43\",\"44\",\"45\",\"46\",\"47\",\"48\",\"49\",\"50\",\"51\"]\n},\n'mapping':{\n'size':\"count\",\n'color':\"outcome\",\n'fill':\"outcome\",\n'map_id':\"__key__\"\n},\n'data_meta':{\n'geodataframe':{\n'geometry':\"geometry\"\n}\n},\n'shape':21,\n'map':{\n'key':[\"0\",\"1\",\"2\",\"3\",\"4\",\"5\",\"6\",\"7\",\"8\",\"9\",\"10\",\"11\",\"12\",\"13\",\"14\",\"15\",\"16\",\"17\",\"18\",\"19\",\"20\",\"21\",\"22\",\"23\",\"24\",\"25\",\"26\",\"27\",\"28\",\"29\",\"30\",\"31\",\"32\",\"33\",\"34\",\"35\",\"36\",\"37\",\"38\",\"39\",\"40\",\"41\",\"42\",\"43\",\"44\",\"45\",\"46\",\"47\",\"48\",\"49\",\"50\",\"51\"],\n'__geometry__':[\"{\\\"type\\\": \\\"Point\\\", \\\"coordinates\\\": [113.81420792222222, 22.78915285925926]}\",\"{\\\"type\\\": \\\"Point\\\", \\\"coordinates\\\": [120.486946875, 31.303609374999997]}\",\"{\\\"type\\\": \\\"Point\\\", \\\"coordinates\\\": [116.86697274411763, 32.62648904411765]}\",\"{\\\"type\\\": \\\"Point\\\", \\\"coordinates\\\": [112.288265, 27.935371500000002]}\",\"{\\\"type\\\": \\\"Point\\\", \\\"coordinates\\\": [113.17536388888888, 34.97670833333334]}\",\"{\\\"type\\\": \\\"Point\\\", \\\"coordinates\\\": [116.49745625000001, 28.878219999999995]}\",\"{\\\"type\\\": \\\"Point\\\", \\\"coordinates\\\": [119.48305115384613, 27.856539538461536]}\",\"{\\\"type\\\": \\\"Point\\\", \\\"coordinates\\\": [107.40088414761904, 29.74915742380952]}\",\"{\\\"type\\\": \\\"Point\\\", \\\"coordinates\\\": [116.45197187499998, 40.598155]}\",\"{\\\"type\\\": \\\"Point\\\", \\\"coordinates\\\": [118.09378421052634, 36.25492947368421]}\",\"{\\\"type\\\": \\\"Point\\\", \\\"coordinates\\\": [118.00105813953489, 25.44022930232558]}\",\"{\\\"type\\\": \\\"Point\\\", \\\"coordinates\\\": [123.91619643863636, 43.098268934090896]}\",\"{\\\"type\\\": \\\"Point\\\", \\\"coordinates\\\": [106.3462550516129, 35.509394419354834]}\",\"{\\\"type\\\": \\\"Point\\\", \\\"coordinates\\\": [102.59739692307693, 30.479478461538463]}\",\"{\\\"type\\\": \\\"Point\\\", \\\"coordinates\\\": [127.63926249999999, 46.773180625]}\",\"{\\\"type\\\": \\\"Point\\\", \\\"coordinates\\\": [109.2207375, 23.733724375]}\",\"{\\\"type\\\": \\\"Point\\\", \\\"coordinates\\\": [102.58649629629632, 25.257708148148144]}\",\"{\\\"type\\\": \\\"Point\\\", \\\"coordinates\\\": [110.95055625, 39.574100937499985]}\",\"{\\\"type\\\": \\\"Point\\\", \\\"coordinates\\\": [109.7382608894737, 19.314803768421047]}\",\"{\\\"type\\\": \\\"Point\\\", \\\"coordinates\\\": [86.59362999999999, 42.31725545454546]}\",\"{\\\"type\\\": \\\"Point\\\", \\\"coordinates\\\": [126.6487, 46.90084]}\",\"{\\\"type\\\": \\\"Point\\\", \\\"coordinates\\\": [101.4437, 36.82615]}\",\"{\\\"type\\\": \\\"Point\\\", \\\"coordinates\\\": [116.4151, 40.18535]}\",\"{\\\"type\\\": \\\"Point\\\", \\\"coordinates\\\": [100.9477, 21.93139]}\",\"{\\\"type\\\": \\\"Point\\\", \\\"coordinates\\\": [116.4172, 39.642379999999996]}\",\"{\\\"type\\\": \\\"Point\\\", \\\"coordinates\\\": [106.5993, 35.20198]}\",\"{\\\"type\\\": \\\"Point\\\", \\\"coordinates\\\": [104.4519, 35.12274]}\",\"{\\\"type\\\": \\\"Point\\\", \\\"coordinates\\\": [103.2668, 36.60351]}\",\"{\\\"type\\\": \\\"Point\\\", \\\"coordinates\\\": [107.9967, 21.88401]}\",\"{\\\"type\\\": \\\"Point\\\", \\\"coordinates\\\": [106.1453, 34.415]}\",\"{\\\"type\\\": \\\"Point\\\", \\\"coordinates\\\": [126.8481, 43.58859]}\",\"{\\\"type\\\": \\\"Point\\\", \\\"coordinates\\\": [109.8962, 31.11774]}\",\"{\\\"type\\\": \\\"Point\\\", \\\"coordinates\\\": [108.7872, 34.10727]}\",\"{\\\"type\\\": \\\"Point\\\", \\\"coordinates\\\": [118.9639, 33.357009999999995]}\",\"{\\\"type\\\": \\\"Point\\\", \\\"coordinates\\\": [119.6369, 31.62592]}\",\"{\\\"type\\\": \\\"Point\\\", \\\"coordinates\\\": [117.5145, 34.3568]}\",\"{\\\"type\\\": \\\"Point\\\", \\\"coordinates\\\": [120.35925, 31.453070000000004]}\",\"{\\\"type\\\": \\\"Point\\\", \\\"coordinates\\\": [106.74830000000001, 26.68831]}\",\"{\\\"type\\\": \\\"Point\\\", \\\"coordinates\\\": [119.1325, 34.534]}\",\"{\\\"type\\\": \\\"Point\\\", \\\"coordinates\\\": [109.44460000000001, 35.075779999999995]}\",\"{\\\"type\\\": \\\"Point\\\", \\\"coordinates\\\": [107.2001, 34.38244]}\",\"{\\\"type\\\": \\\"Point\\\", \\\"coordinates\\\": [121.0053, 32.1975]}\",\"{\\\"type\\\": \\\"Point\\\", \\\"coordinates\\\": [120.1736, 33.52337]}\",\"{\\\"type\\\": \\\"Point\\\", \\\"coordinates\\\": [114.18605794999999, 22.281635100000003]}\",\"{\\\"type\\\": \\\"Point\\\", \\\"coordinates\\\": [119.4729, 32.73976]}\",\"{\\\"type\\\": \\\"Point\\\", \\\"coordinates\\\": [108.9258, 32.761829999999996]}\",\"{\\\"type\\\": \\\"Point\\\", \\\"coordinates\\\": [109.9016, 33.6493]}\",\"{\\\"type\\\": \\\"Point\\\", \\\"coordinates\\\": [108.5408, 27.973740000000003]}\",\"{\\\"type\\\": \\\"Point\\\", \\\"coordinates\\\": [116.5956, 30.61122]}\",\"{\\\"type\\\": \\\"Point\\\", \\\"coordinates\\\": [107.1014, 33.0928]}\",\"{\\\"type\\\": \\\"Point\\\", \\\"coordinates\\\": [118.8424, 31.92997]}\",\"{\\\"type\\\": \\\"Point\\\", \\\"coordinates\\\": [109.2523, 26.92336]}\"]\n}\n}]\n};\n           var plotContainer = document.getElementById(\"P2x54p\");\n           window.letsPlotCall(function() {{\n               LetsPlot.buildPlotFromProcessedSpecs(plotSpec, -1, -1, plotContainer);\n           }});\n       })();    \n   </script>",
          "text/plain": "<lets_plot.plot.core.PlotSpec at 0x7efb69628748>"
         },
         "metadata": {},
         "output_type": "display_data"
        }
       ]
      }
     },
     "b03b0800c74741a4b221b472d210a5a3": {
      "model_module": "@jupyter-widgets/base",
      "model_module_version": "1.2.0",
      "model_name": "LayoutModel",
      "state": {}
     },
     "b4e0d03e634a483b9fd9d99ef9c4f55d": {
      "model_module": "@jupyter-widgets/output",
      "model_module_version": "1.0.0",
      "model_name": "OutputModel",
      "state": {
       "layout": "IPY_MODEL_615f053348b3433a93c903081a6b725c",
       "outputs": [
        {
         "data": {
          "text/html": "   <div id=\"r55uLy\"></div>\n   <script type=\"text/javascript\">\n       (function() {\n           var plotSpec={\n'mapping':{\n},\n'data_meta':{\n},\n'theme':{\n'axis_title':\"blank\",\n'axis_text':\"blank\",\n'axis_ticks':\"blank\",\n'axis_line':\"blank\",\n'legend_position':[0.15,0.15]\n},\n'ggsize':{\n'width':600,\n'height':600\n},\n'ggtitle':{\n'text':\"COVID-19 on 2020-02-27\"\n},\n'kind':\"plot\",\n'scales':[{\n'name':\"\",\n'aesthetic':\"size\",\n'limits':[0,1256]\n},{\n'aesthetic':\"color\",\n'values':[\"#cf3c38\",\"black\",\"#90c73e\",\"#4cc5db\"]\n}],\n'layers':[{\n'geom':\"polygon\",\n'data':{\n'__key__':[\"0\"]\n},\n'mapping':{\n'map_id':\"__key__\"\n},\n'data_meta':{\n'geodataframe':{\n'geometry':\"geometry\"\n}\n},\n'fill':\"#d6d6d6\",\n'map':{\n'key':[\"0\"],\n'__geometry__':[\"{\\\"type\\\": \\\"MultiPolygon\\\", \\\"coordinates\\\": [[[[109.47520958866365, 18.197700913968575], [108.65520796105616, 18.507681993071387], [108.62621748254044, 19.367887885001906], [109.11905561730804, 19.821038519769345], [110.21159874882281, 20.101253973872033], [110.78655073450221, 20.077534491450052], [111.01005130416458, 19.69592987719072], [110.57064660038677, 19.25587921800927], [110.33918786015147, 18.678395087147592], [109.47520958866365, 18.197700913968575]]], [[[80.2599902688853, 42.34999929459906], [80.1801501809943, 42.92006785742694], [80.86620649610126, 43.18036204688101], [79.96610639844141, 44.91751699480463], [81.9470707539181, 45.31702749285312], [82.45892581576906, 45.539649563166506], [83.18048383986047, 47.33003123635086], [85.16429039911324, 47.0009557155161], [85.72048383987067, 47.452969468773105], [85.7682328633083, 48.45575063739699], [86.59877648310336, 48.549181626980626], [87.35997033076265, 49.21498078062912], [87.75126427607671, 49.297197984405486], [88.01383222855173, 48.599462795600616], [88.85429772334676, 48.069081732772965], [90.28082563676392, 47.69354909930793], [90.97080936072501, 46.88814606382293], [90.58576826371828, 45.71971609148753], [90.9455395853343, 45.28607330991028], [92.13389082231822, 45.11507599545646], [93.4807336771413, 44.975472113619965], [94.68892866412533, 44.35233185482842], [95.30687544147153, 44.24133087826547], [95.76245486855669, 43.319449164394605], [96.34939578652781, 42.725635280928685], [97.45175744017801, 42.74888967546002], [99.51581749878004, 42.524691473961724], [100.84586551310827, 42.66380442969145], [101.83304039917994, 42.51487295182628], [103.31227827353482, 41.9074681666676], [104.52228193564899, 41.908346666016556], [104.96499393109347, 41.59740957291635], [106.12931562706169, 42.13432770442891], [107.74477257693795, 42.48151581478187], [109.24359581913146, 42.5194463160841], [110.41210330611528, 42.87123362891103], [111.12968224492023, 43.40683401140015], [111.82958784388137, 43.74311839453952], [111.66773725794323, 44.07317576758771], [111.34837690637946, 44.45744171811009], [111.8733061056003, 45.10207937273506], [112.43606245325881, 45.01164561622429], [113.46390669154417, 44.80889313412712], [114.46033165899607, 45.339816799493825], [115.98509647020009, 45.727235012386004], [116.71786828009886, 46.38820241961521], [117.42170128791419, 46.67273285581426], [118.87432579963873, 46.80541209572365], [119.66326989143876, 46.69267995867892], [119.7728239278975, 47.04805878355013], [118.86657433479495, 47.74706004494617], [118.06414269416672, 48.06673045510369], [117.29550744025741, 47.69770905210743], [116.30895267137323, 47.85341014260284], [115.74283735561579, 47.72654450132629], [115.48528201707306, 48.13538259540344], [116.19180219936757, 49.134598090199106], [116.67880089728612, 49.888531399121405], [117.8792444194264, 49.510983384796965], [119.2884607280258, 50.142882798862004], [119.27939000000003, 50.58292], [120.18208000000016, 51.64355000000012], [120.7382, 51.96411000000006], [120.72578901579197, 52.516226304730935], [120.17708865771681, 52.75388621684124], [121.00308475147017, 53.25140106873119], [122.24574791879283, 53.431725979213695], [123.57146999999998, 53.45880000000005], [125.06821129771038, 53.16104482686886], [125.94634891164617, 52.79279857035698], [126.56439904185697, 51.7842554795327], [126.93915652883766, 51.35389415140592], [127.28745568248485, 50.73979726826548], [127.65740000000028, 49.760270000000105], [129.39781782442043, 49.44060008401544], [130.58229332898242, 48.72968740497614], [130.9872600000001, 47.79013000000003], [132.50669000000005, 47.78896000000003], [133.37359581922794, 48.18344167743487], [135.02631147678665, 48.478229885443874], [134.50081, 47.57845000000009], [134.1123500000001, 47.212480000000085], [133.76964399631288, 46.116926988299014], [133.09712000000013, 45.14409000000006], [131.8834542176595, 45.32116160743652], [131.02519000000018, 44.96796000000006], [131.28855512911548, 44.11151968034828], [131.1446879416149, 42.92998973242689], [130.63386640840974, 42.90301463477053], [130.63999970690955, 42.39502427522179], [129.99426720593323, 42.985386867843786], [129.59666873587952, 42.42498179785456], [128.0522152039723, 41.99428457291795], [128.20843305879066, 41.46677155208249], [127.34378299368302, 41.50315176041597], [126.86908328664987, 41.81656932226619], [126.18204511932943, 41.10733612727637], [125.07994184784064, 40.56982371679245], [124.26562462778531, 39.928493353834156], [122.86757042856095, 39.63778758397622], [122.1313879741309, 39.170451768544666], [121.05455447803286, 38.897471014962846], [121.58599490772248, 39.36085358332407], [121.37675703337268, 39.75026133885949], [122.16859500538106, 40.422442531896024], [121.64035851449353, 40.94638987890333], [120.76862877816194, 40.59338816991754], [119.63960208544907, 39.898055935214245], [119.02346398323306, 39.252333075511146], [118.04274865119791, 39.2042739934797], [117.53270226447711, 38.73763580988408], [118.05969852098964, 38.06147553156106], [118.87814985562832, 37.89732534438593], [118.91163618375344, 37.44846385349871], [119.70280236214205, 37.15638865818505], [120.8234574728236, 37.87042776137801], [121.711258579598, 37.48112335870718], [122.35793745329849, 37.45448415786072], [122.5199947449658, 36.93061432550185], [121.10416385303307, 36.651329047180425], [120.63700890511453, 36.111439520811075], [119.66456180224606, 35.60979055433772], [119.1512081238586, 34.90985911716044], [120.22752485563373, 34.36033193616865], [120.62036909391655, 33.37672272392514], [121.22901411345023, 32.46031871187719], [121.90814578663003, 31.692174384074647], [121.89191938689038, 30.949351508095106], [121.26425744027328, 30.6762674016487], [121.50351932178467, 30.14291494396429], [122.0921138855891, 29.83252045340315], [121.93842817595306, 29.01802236583478], [121.68443851123851, 28.225512600206617], [121.12566124886649, 28.135673122667185], [120.39547326058232, 27.05320689544932], [119.5854968608395, 25.740780544532612], [118.65687137255452, 24.54739085540024], [117.28160647997088, 23.624501451099658], [115.89073530483512, 22.78287323657807], [114.76382734584624, 22.668074042241667], [114.15254682826564, 22.22376007739615], [113.80677981980074, 22.5483397486214], [113.24107791550159, 22.051367499270455], [111.84359215703248, 21.550493679281473], [110.78546552942407, 21.397143866455338], [110.44403934127168, 20.34103261970633], [109.88986128137361, 20.282457383703488], [109.62765506392466, 21.008227037026703], [109.86448815311832, 21.395050970947523], [108.5228129415244, 21.715212307211814], [108.05018029178294, 21.55237986906012], [107.04342003787264, 21.811898912029914], [106.56727339073532, 22.21820486092477], [106.72540327354847, 22.79426788989842], [105.81124718630522, 22.976892401617903], [105.32920942588663, 23.352063300056912], [104.47685835166448, 22.819150092046968], [103.50451460166056, 22.70375661873921], [102.7069922221001, 22.708795070887675], [102.17043582561358, 22.464753119389304], [101.65201785686152, 22.318198757409547], [101.80311974488293, 21.17436676684507], [101.27002566935997, 21.201651923095184], [101.18000532430754, 21.436572984294028], [101.15003299357825, 21.849984442629022], [100.41653771362738, 21.558839423096614], [99.98348921102149, 21.7429367131364], [99.24089887898725, 22.11831431730458], [99.5319922220874, 22.94903880461258], [98.89874922078278, 23.14272207284253], [98.66026248575577, 24.063286037689966], [97.60471967976198, 23.897404690033042], [97.72460900267914, 25.083637193293], [98.67183800658916, 25.918702500913525], [98.71209394734451, 26.743535874940267], [98.68269005737046, 27.50881216075062], [98.2462309102333, 27.74722138112918], [97.91198774616944, 28.335945136014345], [97.32711388549004, 28.26158274994634], [96.24883344928779, 28.411030992134442], [96.58659061074749, 28.83097951915434], [96.11767866413103, 29.452802028922466], [95.40480228066464, 29.03171662039213], [94.56599043170294, 29.277438055939985], [93.41334760943269, 28.640629380807226], [92.50311893104364, 27.89687632904645], [91.69665652869668, 27.771741848251665], [91.25885379431992, 28.040614325466294], [90.7305139505678, 28.064953925075756], [90.01582889197118, 28.296438503527217], [89.47581017452111, 28.042758897406397], [88.81424848832056, 27.299315904239364], [88.73032596227856, 28.086864732367516], [88.12044070836987, 27.876541652939594], [86.9545170430006, 27.974261786403517], [85.82331994013151, 28.203575954698707], [85.01163821812304, 28.642773952747344], [84.23457970575015, 28.839893703724698], [83.89899295444673, 29.320226141877658], [83.33711510613719, 29.463731594352197], [82.32751264845088, 30.115268052688137], [81.52580447787474, 30.42271698660863], [81.11125613802932, 30.183480943313402], [79.7213668151071, 30.88271474865473], [78.73889448437401, 31.515906073527063], [78.45844648632601, 32.61816437431273], [79.17612877799553, 32.48377981213771], [79.20889163606859, 32.994394639613716], [78.81108646028574, 33.50619802503242], [78.91226891471322, 34.32193634697579], [77.83745079947457, 35.494009507787766], [76.19284834178569, 35.89840342868783], [75.89689741405013, 36.666806138651836], [75.15802778514092, 37.13303091078912], [74.98000247589542, 37.419990139305895], [74.8299857929521, 37.9900070257014], [74.86481570831683, 38.3788463404816], [74.25751427602273, 38.60650686294345], [73.92885216664644, 38.50581533462274], [73.6753792662548, 39.4312368841056], [73.96001305531843, 39.660008449861735], [73.8222436868283, 39.893973497063186], [74.77686242055606, 40.36642527929163], [75.4678279967307, 40.56207225194867], [76.52636803579745, 40.42794607193512], [76.90448449087708, 41.06648590754965], [78.18719689322597, 41.18531586360481], [78.54366092317531, 41.58224254003869], [80.11943037305139, 42.12394074153825], [80.2599902688853, 42.34999929459906]]]]}\"]\n}\n},{\n'geom':\"point\",\n'data':{\n'count':[1256.0,953.0,937.0,882.0,795.0,779.0,690.0,622.0,552.0,520.0,455.0,370.0,351.0,292.0,289.0,203.0,178.0,123.0,105.0,48.0,1.0,8.0,4.0,2.0,1.0,1.0,1.0,1.0,1.0,1.0,1.0,1.0,14.0,11.0,8.0,7.0,6.0,4.0,4.0,3.0,3.0,2.0,2.0,2.0,2.0,1.0,1.0,1.0,1.0,1.0,1.0,1.0],\n'outcome':[\"diseased\",\"diseased\",\"diseased\",\"diseased\",\"diseased\",\"diseased\",\"diseased\",\"diseased\",\"diseased\",\"diseased\",\"diseased\",\"diseased\",\"diseased\",\"diseased\",\"diseased\",\"diseased\",\"diseased\",\"diseased\",\"diseased\",\"diseased\",\"died\",\"discharged\",\"discharged\",\"discharged\",\"discharged\",\"discharged\",\"discharged\",\"discharged\",\"discharged\",\"discharged\",\"discharged\",\"discharged\",\"stable\",\"stable\",\"stable\",\"stable\",\"stable\",\"stable\",\"stable\",\"stable\",\"stable\",\"stable\",\"stable\",\"stable\",\"stable\",\"stable\",\"stable\",\"stable\",\"stable\",\"stable\",\"stable\",\"stable\"],\n'__key__':[\"0\",\"1\",\"2\",\"3\",\"4\",\"5\",\"6\",\"7\",\"8\",\"9\",\"10\",\"11\",\"12\",\"13\",\"14\",\"15\",\"16\",\"17\",\"18\",\"19\",\"20\",\"21\",\"22\",\"23\",\"24\",\"25\",\"26\",\"27\",\"28\",\"29\",\"30\",\"31\",\"32\",\"33\",\"34\",\"35\",\"36\",\"37\",\"38\",\"39\",\"40\",\"41\",\"42\",\"43\",\"44\",\"45\",\"46\",\"47\",\"48\",\"49\",\"50\",\"51\"]\n},\n'mapping':{\n'size':\"count\",\n'color':\"outcome\",\n'map_id':\"__key__\"\n},\n'data_meta':{\n'geodataframe':{\n'geometry':\"geometry\"\n}\n},\n'map':{\n'key':[\"0\",\"1\",\"2\",\"3\",\"4\",\"5\",\"6\",\"7\",\"8\",\"9\",\"10\",\"11\",\"12\",\"13\",\"14\",\"15\",\"16\",\"17\",\"18\",\"19\",\"20\",\"21\",\"22\",\"23\",\"24\",\"25\",\"26\",\"27\",\"28\",\"29\",\"30\",\"31\",\"32\",\"33\",\"34\",\"35\",\"36\",\"37\",\"38\",\"39\",\"40\",\"41\",\"42\",\"43\",\"44\",\"45\",\"46\",\"47\",\"48\",\"49\",\"50\",\"51\"],\n'__geometry__':[\"{\\\"type\\\": \\\"Point\\\", \\\"coordinates\\\": [114.24006217647059, 23.043262858823535]}\",\"{\\\"type\\\": \\\"Point\\\", \\\"coordinates\\\": [118.83181284090911, 26.33203168181818]}\",\"{\\\"type\\\": \\\"Point\\\", \\\"coordinates\\\": [112.20379999999999, 27.812670476190473]}\",\"{\\\"type\\\": \\\"Point\\\", \\\"coordinates\\\": [120.78985555555556, 31.158398148148144]}\",\"{\\\"type\\\": \\\"Point\\\", \\\"coordinates\\\": [116.34216666666667, 27.481146666666667]}\",\"{\\\"type\\\": \\\"Point\\\", \\\"coordinates\\\": [112.96609047619044, 35.6778180952381]}\",\"{\\\"type\\\": \\\"Point\\\", \\\"coordinates\\\": [117.58890235483872, 31.844997661290325]}\",\"{\\\"type\\\": \\\"Point\\\", \\\"coordinates\\\": [115.59941428571429, 33.645244999999996]}\",\"{\\\"type\\\": \\\"Point\\\", \\\"coordinates\\\": [107.3006867, 29.391082128333334]}\",\"{\\\"type\\\": \\\"Point\\\", \\\"coordinates\\\": [116.3690294117647, 40.49713470588234]}\",\"{\\\"type\\\": \\\"Point\\\", \\\"coordinates\\\": [118.11704615384616, 36.18496384615385]}\",\"{\\\"type\\\": \\\"Point\\\", \\\"coordinates\\\": [109.51205990322582, 20.789500374193555]}\",\"{\\\"type\\\": \\\"Point\\\", \\\"coordinates\\\": [123.96997653333332, 43.11964651333332]}\",\"{\\\"type\\\": \\\"Point\\\", \\\"coordinates\\\": [127.63926249999999, 46.773180625]}\",\"{\\\"type\\\": \\\"Point\\\", \\\"coordinates\\\": [102.58337166666666, 30.15838833333334]}\",\"{\\\"type\\\": \\\"Point\\\", \\\"coordinates\\\": [108.61475443589748, 34.46329292307692]}\",\"{\\\"type\\\": \\\"Point\\\", \\\"coordinates\\\": [102.58649629629632, 25.257708148148144]}\",\"{\\\"type\\\": \\\"Point\\\", \\\"coordinates\\\": [104.1461351612903, 36.203147741935474]}\",\"{\\\"type\\\": \\\"Point\\\", \\\"coordinates\\\": [109.9892181818182, 40.41995727272727]}\",\"{\\\"type\\\": \\\"Point\\\", \\\"coordinates\\\": [86.59362999999999, 42.31725545454546]}\",\"{\\\"type\\\": \\\"Point\\\", \\\"coordinates\\\": [126.6487, 46.90084]}\",\"{\\\"type\\\": \\\"Point\\\", \\\"coordinates\\\": [101.4437, 36.82615]}\",\"{\\\"type\\\": \\\"Point\\\", \\\"coordinates\\\": [116.4151, 40.18535]}\",\"{\\\"type\\\": \\\"Point\\\", \\\"coordinates\\\": [100.9477, 21.93139]}\",\"{\\\"type\\\": \\\"Point\\\", \\\"coordinates\\\": [116.4172, 39.642379999999996]}\",\"{\\\"type\\\": \\\"Point\\\", \\\"coordinates\\\": [106.1453, 34.415]}\",\"{\\\"type\\\": \\\"Point\\\", \\\"coordinates\\\": [103.2668, 36.60351]}\",\"{\\\"type\\\": \\\"Point\\\", \\\"coordinates\\\": [104.4519, 35.12274]}\",\"{\\\"type\\\": \\\"Point\\\", \\\"coordinates\\\": [109.8962, 31.11774]}\",\"{\\\"type\\\": \\\"Point\\\", \\\"coordinates\\\": [126.8481, 43.58859]}\",\"{\\\"type\\\": \\\"Point\\\", \\\"coordinates\\\": [106.5993, 35.20198]}\",\"{\\\"type\\\": \\\"Point\\\", \\\"coordinates\\\": [107.9967, 21.88401]}\",\"{\\\"type\\\": \\\"Point\\\", \\\"coordinates\\\": [108.7872, 34.10727]}\",\"{\\\"type\\\": \\\"Point\\\", \\\"coordinates\\\": [118.9639, 33.357009999999995]}\",\"{\\\"type\\\": \\\"Point\\\", \\\"coordinates\\\": [119.6369, 31.62592]}\",\"{\\\"type\\\": \\\"Point\\\", \\\"coordinates\\\": [117.5145, 34.3568]}\",\"{\\\"type\\\": \\\"Point\\\", \\\"coordinates\\\": [120.35925, 31.453070000000004]}\",\"{\\\"type\\\": \\\"Point\\\", \\\"coordinates\\\": [119.1325, 34.534]}\",\"{\\\"type\\\": \\\"Point\\\", \\\"coordinates\\\": [106.74830000000001, 26.68831]}\",\"{\\\"type\\\": \\\"Point\\\", \\\"coordinates\\\": [109.44460000000001, 35.075779999999995]}\",\"{\\\"type\\\": \\\"Point\\\", \\\"coordinates\\\": [107.2001, 34.38244]}\",\"{\\\"type\\\": \\\"Point\\\", \\\"coordinates\\\": [119.4729, 32.73976]}\",\"{\\\"type\\\": \\\"Point\\\", \\\"coordinates\\\": [121.0053, 32.1975]}\",\"{\\\"type\\\": \\\"Point\\\", \\\"coordinates\\\": [120.1736, 33.52337]}\",\"{\\\"type\\\": \\\"Point\\\", \\\"coordinates\\\": [114.186058, 22.281635100000003]}\",\"{\\\"type\\\": \\\"Point\\\", \\\"coordinates\\\": [107.1014, 33.0928]}\",\"{\\\"type\\\": \\\"Point\\\", \\\"coordinates\\\": [109.9016, 33.6493]}\",\"{\\\"type\\\": \\\"Point\\\", \\\"coordinates\\\": [116.5956, 30.61122]}\",\"{\\\"type\\\": \\\"Point\\\", \\\"coordinates\\\": [108.5408, 27.973740000000003]}\",\"{\\\"type\\\": \\\"Point\\\", \\\"coordinates\\\": [109.2523, 26.92336]}\",\"{\\\"type\\\": \\\"Point\\\", \\\"coordinates\\\": [108.9258, 32.761829999999996]}\",\"{\\\"type\\\": \\\"Point\\\", \\\"coordinates\\\": [118.8424, 31.92997]}\"]\n}\n}]\n};\n           var plotContainer = document.getElementById(\"r55uLy\");\n           window.letsPlotCall(function() {{\n               LetsPlot.buildPlotFromProcessedSpecs(plotSpec, -1, -1, plotContainer);\n           }});\n       })();    \n   </script>",
          "text/plain": "<lets_plot.plot.core.PlotSpec at 0x7ffad31fd150>"
         },
         "metadata": {},
         "output_type": "display_data"
        }
       ]
      }
     },
     "b807750af1d141d59a04aed88f6a0552": {
      "model_module": "@jupyter-widgets/controls",
      "model_module_version": "1.5.0",
      "model_name": "LinkModel",
      "state": {
       "source": [
        "IPY_MODEL_0ab2a42cbc8740dba1fa5d7122588ac3",
        "value"
       ],
       "target": [
        "IPY_MODEL_747edf0666ab4b6d9a4363d783755282",
        "value"
       ]
      }
     },
     "bcc675b4ef624247ae68f418b451d4a8": {
      "model_module": "@jupyter-widgets/controls",
      "model_module_version": "1.5.0",
      "model_name": "SliderStyleModel",
      "state": {
       "description_width": ""
      }
     },
     "be804510102e43c3aa42aa685194d1cc": {
      "model_module": "@jupyter-widgets/base",
      "model_module_version": "1.2.0",
      "model_name": "LayoutModel",
      "state": {}
     },
     "bf7242a655874eb69b829c25effe0b9c": {
      "model_module": "@jupyter-widgets/output",
      "model_module_version": "1.0.0",
      "model_name": "OutputModel",
      "state": {
       "layout": "IPY_MODEL_0d323541d9924b1ebf17d1c2b5ec4d86",
       "outputs": [
        {
         "data": {
          "text/html": "   <div id=\"4lqxwz\"></div>\n   <script type=\"text/javascript\">\n       (function() {\n           var plotSpec={\n'mapping':{\n},\n'data_meta':{\n},\n'theme':{\n'axis_title':\"blank\",\n'axis_text':\"blank\",\n'axis_ticks':\"blank\",\n'axis_line':\"blank\",\n'legend_position':[0.15,0.15]\n},\n'ggsize':{\n'width':600,\n'height':600\n},\n'ggtitle':{\n'text':\"COVID-19 on 2020-02-04\"\n},\n'kind':\"plot\",\n'scales':[{\n'name':\"\",\n'aesthetic':\"size\",\n'limits':[0,1198]\n},{\n'aesthetic':\"color\",\n'values':[\"#cf3c38\",\"black\",\"#90c73e\",\"#4cc5db\"]\n}],\n'layers':[{\n'geom':\"polygon\",\n'data':{\n'__key__':[\"0\"]\n},\n'mapping':{\n'map_id':\"__key__\"\n},\n'data_meta':{\n'geodataframe':{\n'geometry':\"geometry\"\n}\n},\n'fill':\"#d6d6d6\",\n'map':{\n'key':[\"0\"],\n'__geometry__':[\"{\\\"type\\\": \\\"MultiPolygon\\\", \\\"coordinates\\\": [[[[109.47520958866365, 18.197700913968575], [108.65520796105616, 18.507681993071387], [108.62621748254044, 19.367887885001906], [109.11905561730804, 19.821038519769345], [110.21159874882281, 20.101253973872033], [110.78655073450221, 20.077534491450052], [111.01005130416458, 19.69592987719072], [110.57064660038677, 19.25587921800927], [110.33918786015147, 18.678395087147592], [109.47520958866365, 18.197700913968575]]], [[[80.2599902688853, 42.34999929459906], [80.1801501809943, 42.92006785742694], [80.86620649610126, 43.18036204688101], [79.96610639844141, 44.91751699480463], [81.9470707539181, 45.31702749285312], [82.45892581576906, 45.539649563166506], [83.18048383986047, 47.33003123635086], [85.16429039911324, 47.0009557155161], [85.72048383987067, 47.452969468773105], [85.7682328633083, 48.45575063739699], [86.59877648310336, 48.549181626980626], [87.35997033076265, 49.21498078062912], [87.75126427607671, 49.297197984405486], [88.01383222855173, 48.599462795600616], [88.85429772334676, 48.069081732772965], [90.28082563676392, 47.69354909930793], [90.97080936072501, 46.88814606382293], [90.58576826371828, 45.71971609148753], [90.9455395853343, 45.28607330991028], [92.13389082231822, 45.11507599545646], [93.4807336771413, 44.975472113619965], [94.68892866412533, 44.35233185482842], [95.30687544147153, 44.24133087826547], [95.76245486855669, 43.319449164394605], [96.34939578652781, 42.725635280928685], [97.45175744017801, 42.74888967546002], [99.51581749878004, 42.524691473961724], [100.84586551310827, 42.66380442969145], [101.83304039917994, 42.51487295182628], [103.31227827353482, 41.9074681666676], [104.52228193564899, 41.908346666016556], [104.96499393109347, 41.59740957291635], [106.12931562706169, 42.13432770442891], [107.74477257693795, 42.48151581478187], [109.24359581913146, 42.5194463160841], [110.41210330611528, 42.87123362891103], [111.12968224492023, 43.40683401140015], [111.82958784388137, 43.74311839453952], [111.66773725794323, 44.07317576758771], [111.34837690637946, 44.45744171811009], [111.8733061056003, 45.10207937273506], [112.43606245325881, 45.01164561622429], [113.46390669154417, 44.80889313412712], [114.46033165899607, 45.339816799493825], [115.98509647020009, 45.727235012386004], [116.71786828009886, 46.38820241961521], [117.42170128791419, 46.67273285581426], [118.87432579963873, 46.80541209572365], [119.66326989143876, 46.69267995867892], [119.7728239278975, 47.04805878355013], [118.86657433479495, 47.74706004494617], [118.06414269416672, 48.06673045510369], [117.29550744025741, 47.69770905210743], [116.30895267137323, 47.85341014260284], [115.74283735561579, 47.72654450132629], [115.48528201707306, 48.13538259540344], [116.19180219936757, 49.134598090199106], [116.67880089728612, 49.888531399121405], [117.8792444194264, 49.510983384796965], [119.2884607280258, 50.142882798862004], [119.27939000000003, 50.58292], [120.18208000000016, 51.64355000000012], [120.7382, 51.96411000000006], [120.72578901579197, 52.516226304730935], [120.17708865771681, 52.75388621684124], [121.00308475147017, 53.25140106873119], [122.24574791879283, 53.431725979213695], [123.57146999999998, 53.45880000000005], [125.06821129771038, 53.16104482686886], [125.94634891164617, 52.79279857035698], [126.56439904185697, 51.7842554795327], [126.93915652883766, 51.35389415140592], [127.28745568248485, 50.73979726826548], [127.65740000000028, 49.760270000000105], [129.39781782442043, 49.44060008401544], [130.58229332898242, 48.72968740497614], [130.9872600000001, 47.79013000000003], [132.50669000000005, 47.78896000000003], [133.37359581922794, 48.18344167743487], [135.02631147678665, 48.478229885443874], [134.50081, 47.57845000000009], [134.1123500000001, 47.212480000000085], [133.76964399631288, 46.116926988299014], [133.09712000000013, 45.14409000000006], [131.8834542176595, 45.32116160743652], [131.02519000000018, 44.96796000000006], [131.28855512911548, 44.11151968034828], [131.1446879416149, 42.92998973242689], [130.63386640840974, 42.90301463477053], [130.63999970690955, 42.39502427522179], [129.99426720593323, 42.985386867843786], [129.59666873587952, 42.42498179785456], [128.0522152039723, 41.99428457291795], [128.20843305879066, 41.46677155208249], [127.34378299368302, 41.50315176041597], [126.86908328664987, 41.81656932226619], [126.18204511932943, 41.10733612727637], [125.07994184784064, 40.56982371679245], [124.26562462778531, 39.928493353834156], [122.86757042856095, 39.63778758397622], [122.1313879741309, 39.170451768544666], [121.05455447803286, 38.897471014962846], [121.58599490772248, 39.36085358332407], [121.37675703337268, 39.75026133885949], [122.16859500538106, 40.422442531896024], [121.64035851449353, 40.94638987890333], [120.76862877816194, 40.59338816991754], [119.63960208544907, 39.898055935214245], [119.02346398323306, 39.252333075511146], [118.04274865119791, 39.2042739934797], [117.53270226447711, 38.73763580988408], [118.05969852098964, 38.06147553156106], [118.87814985562832, 37.89732534438593], [118.91163618375344, 37.44846385349871], [119.70280236214205, 37.15638865818505], [120.8234574728236, 37.87042776137801], [121.711258579598, 37.48112335870718], [122.35793745329849, 37.45448415786072], [122.5199947449658, 36.93061432550185], [121.10416385303307, 36.651329047180425], [120.63700890511453, 36.111439520811075], [119.66456180224606, 35.60979055433772], [119.1512081238586, 34.90985911716044], [120.22752485563373, 34.36033193616865], [120.62036909391655, 33.37672272392514], [121.22901411345023, 32.46031871187719], [121.90814578663003, 31.692174384074647], [121.89191938689038, 30.949351508095106], [121.26425744027328, 30.6762674016487], [121.50351932178467, 30.14291494396429], [122.0921138855891, 29.83252045340315], [121.93842817595306, 29.01802236583478], [121.68443851123851, 28.225512600206617], [121.12566124886649, 28.135673122667185], [120.39547326058232, 27.05320689544932], [119.5854968608395, 25.740780544532612], [118.65687137255452, 24.54739085540024], [117.28160647997088, 23.624501451099658], [115.89073530483512, 22.78287323657807], [114.76382734584624, 22.668074042241667], [114.15254682826564, 22.22376007739615], [113.80677981980074, 22.5483397486214], [113.24107791550159, 22.051367499270455], [111.84359215703248, 21.550493679281473], [110.78546552942407, 21.397143866455338], [110.44403934127168, 20.34103261970633], [109.88986128137361, 20.282457383703488], [109.62765506392466, 21.008227037026703], [109.86448815311832, 21.395050970947523], [108.5228129415244, 21.715212307211814], [108.05018029178294, 21.55237986906012], [107.04342003787264, 21.811898912029914], [106.56727339073532, 22.21820486092477], [106.72540327354847, 22.79426788989842], [105.81124718630522, 22.976892401617903], [105.32920942588663, 23.352063300056912], [104.47685835166448, 22.819150092046968], [103.50451460166056, 22.70375661873921], [102.7069922221001, 22.708795070887675], [102.17043582561358, 22.464753119389304], [101.65201785686152, 22.318198757409547], [101.80311974488293, 21.17436676684507], [101.27002566935997, 21.201651923095184], [101.18000532430754, 21.436572984294028], [101.15003299357825, 21.849984442629022], [100.41653771362738, 21.558839423096614], [99.98348921102149, 21.7429367131364], [99.24089887898725, 22.11831431730458], [99.5319922220874, 22.94903880461258], [98.89874922078278, 23.14272207284253], [98.66026248575577, 24.063286037689966], [97.60471967976198, 23.897404690033042], [97.72460900267914, 25.083637193293], [98.67183800658916, 25.918702500913525], [98.71209394734451, 26.743535874940267], [98.68269005737046, 27.50881216075062], [98.2462309102333, 27.74722138112918], [97.91198774616944, 28.335945136014345], [97.32711388549004, 28.26158274994634], [96.24883344928779, 28.411030992134442], [96.58659061074749, 28.83097951915434], [96.11767866413103, 29.452802028922466], [95.40480228066464, 29.03171662039213], [94.56599043170294, 29.277438055939985], [93.41334760943269, 28.640629380807226], [92.50311893104364, 27.89687632904645], [91.69665652869668, 27.771741848251665], [91.25885379431992, 28.040614325466294], [90.7305139505678, 28.064953925075756], [90.01582889197118, 28.296438503527217], [89.47581017452111, 28.042758897406397], [88.81424848832056, 27.299315904239364], [88.73032596227856, 28.086864732367516], [88.12044070836987, 27.876541652939594], [86.9545170430006, 27.974261786403517], [85.82331994013151, 28.203575954698707], [85.01163821812304, 28.642773952747344], [84.23457970575015, 28.839893703724698], [83.89899295444673, 29.320226141877658], [83.33711510613719, 29.463731594352197], [82.32751264845088, 30.115268052688137], [81.52580447787474, 30.42271698660863], [81.11125613802932, 30.183480943313402], [79.7213668151071, 30.88271474865473], [78.73889448437401, 31.515906073527063], [78.45844648632601, 32.61816437431273], [79.17612877799553, 32.48377981213771], [79.20889163606859, 32.994394639613716], [78.81108646028574, 33.50619802503242], [78.91226891471322, 34.32193634697579], [77.83745079947457, 35.494009507787766], [76.19284834178569, 35.89840342868783], [75.89689741405013, 36.666806138651836], [75.15802778514092, 37.13303091078912], [74.98000247589542, 37.419990139305895], [74.8299857929521, 37.9900070257014], [74.86481570831683, 38.3788463404816], [74.25751427602273, 38.60650686294345], [73.92885216664644, 38.50581533462274], [73.6753792662548, 39.4312368841056], [73.96001305531843, 39.660008449861735], [73.8222436868283, 39.893973497063186], [74.77686242055606, 40.36642527929163], [75.4678279967307, 40.56207225194867], [76.52636803579745, 40.42794607193512], [76.90448449087708, 41.06648590754965], [78.18719689322597, 41.18531586360481], [78.54366092317531, 41.58224254003869], [80.11943037305139, 42.12394074153825], [80.2599902688853, 42.34999929459906]]]]}\"]\n}\n},{\n'geom':\"point\",\n'data':{\n'count':[816.0,751.0,711.0,703.0,576.0,538.0,430.0,402.0,389.0,367.0,230.0,225.0,223.0,214.0,146.0,143.0,106.0,105.0,95.0,33.0,1.0,3.0,1.0,1.0,1.0,1.0,1.0,1.0,8.0,2.0,1.0,1.0,1.0],\n'outcome':[\"diseased\",\"diseased\",\"diseased\",\"diseased\",\"diseased\",\"diseased\",\"diseased\",\"diseased\",\"diseased\",\"diseased\",\"diseased\",\"diseased\",\"diseased\",\"diseased\",\"diseased\",\"diseased\",\"diseased\",\"diseased\",\"diseased\",\"diseased\",\"died\",\"discharged\",\"discharged\",\"discharged\",\"discharged\",\"discharged\",\"discharged\",\"discharged\",\"stable\",\"stable\",\"stable\",\"stable\",\"stable\"],\n'__key__':[\"0\",\"1\",\"2\",\"3\",\"4\",\"5\",\"6\",\"7\",\"8\",\"9\",\"10\",\"11\",\"12\",\"13\",\"14\",\"15\",\"16\",\"17\",\"18\",\"19\",\"20\",\"21\",\"22\",\"23\",\"24\",\"25\",\"26\",\"27\",\"28\",\"29\",\"30\",\"31\",\"32\"]\n},\n'mapping':{\n'size':\"count\",\n'color':\"outcome\",\n'map_id':\"__key__\"\n},\n'data_meta':{\n'geodataframe':{\n'geometry':\"geometry\"\n}\n},\n'map':{\n'key':[\"0\",\"1\",\"2\",\"3\",\"4\",\"5\",\"6\",\"7\",\"8\",\"9\",\"10\",\"11\",\"12\",\"13\",\"14\",\"15\",\"16\",\"17\",\"18\",\"19\",\"20\",\"21\",\"22\",\"23\",\"24\",\"25\",\"26\",\"27\",\"28\",\"29\",\"30\",\"31\",\"32\"],\n'__geometry__':[\"{\\\"type\\\": \\\"Point\\\", \\\"coordinates\\\": [113.80912806896552, 22.862274041379315]}\",\"{\\\"type\\\": \\\"Point\\\", \\\"coordinates\\\": [119.77303099999999, 28.32451493333333]}\",\"{\\\"type\\\": \\\"Point\\\", \\\"coordinates\\\": [113.75060857142859, 34.72511542857142]}\",\"{\\\"type\\\": \\\"Point\\\", \\\"coordinates\\\": [112.20379999999999, 27.812670476190473]}\",\"{\\\"type\\\": \\\"Point\\\", \\\"coordinates\\\": [120.51083214285715, 31.42177071428571]}\",\"{\\\"type\\\": \\\"Point\\\", \\\"coordinates\\\": [116.22865, 28.354369999999996]}\",\"{\\\"type\\\": \\\"Point\\\", \\\"coordinates\\\": [117.205783, 32.11517830645161]}\",\"{\\\"type\\\": \\\"Point\\\", \\\"coordinates\\\": [107.26650495081967, 29.353010781967207]}\",\"{\\\"type\\\": \\\"Point\\\", \\\"coordinates\\\": [116.4141382352941, 40.41273676470587]}\",\"{\\\"type\\\": \\\"Point\\\", \\\"coordinates\\\": [118.06484, 36.1621875]}\",\"{\\\"type\\\": \\\"Point\\\", \\\"coordinates\\\": [102.64861142857144, 29.81784928571429]}\",\"{\\\"type\\\": \\\"Point\\\", \\\"coordinates\\\": [109.51205990322582, 20.789500374193555]}\",\"{\\\"type\\\": \\\"Point\\\", \\\"coordinates\\\": [118.14767857142859, 25.50431071428571]}\",\"{\\\"type\\\": \\\"Point\\\", \\\"coordinates\\\": [123.96997653333332, 43.11964651333332]}\",\"{\\\"type\\\": \\\"Point\\\", \\\"coordinates\\\": [109.12000557500002, 34.45134785]}\",\"{\\\"type\\\": \\\"Point\\\", \\\"coordinates\\\": [127.63926249999999, 46.773180625]}\",\"{\\\"type\\\": \\\"Point\\\", \\\"coordinates\\\": [102.4391541666667, 24.972506666666664]}\",\"{\\\"type\\\": \\\"Point\\\", \\\"coordinates\\\": [111.23922758620691, 39.68693586206896]}\",\"{\\\"type\\\": \\\"Point\\\", \\\"coordinates\\\": [104.65844710526315, 36.37276368421051]}\",\"{\\\"type\\\": \\\"Point\\\", \\\"coordinates\\\": [86.59362999999999, 42.31725545454546]}\",\"{\\\"type\\\": \\\"Point\\\", \\\"coordinates\\\": [126.6487, 46.90084]}\",\"{\\\"type\\\": \\\"Point\\\", \\\"coordinates\\\": [116.4151, 40.18535]}\",\"{\\\"type\\\": \\\"Point\\\", \\\"coordinates\\\": [116.4172, 39.642379999999996]}\",\"{\\\"type\\\": \\\"Point\\\", \\\"coordinates\\\": [103.2668, 36.60351]}\",\"{\\\"type\\\": \\\"Point\\\", \\\"coordinates\\\": [104.4519, 35.12274]}\",\"{\\\"type\\\": \\\"Point\\\", \\\"coordinates\\\": [109.8962, 31.11774]}\",\"{\\\"type\\\": \\\"Point\\\", \\\"coordinates\\\": [107.9967, 21.88401]}\",\"{\\\"type\\\": \\\"Point\\\", \\\"coordinates\\\": [100.9477, 21.93139]}\",\"{\\\"type\\\": \\\"Point\\\", \\\"coordinates\\\": [108.7872, 34.10727]}\",\"{\\\"type\\\": \\\"Point\\\", \\\"coordinates\\\": [109.44460000000001, 35.075779999999995]}\",\"{\\\"type\\\": \\\"Point\\\", \\\"coordinates\\\": [108.9258, 32.761829999999996]}\",\"{\\\"type\\\": \\\"Point\\\", \\\"coordinates\\\": [107.2001, 34.38244]}\",\"{\\\"type\\\": \\\"Point\\\", \\\"coordinates\\\": [116.5956, 30.61122]}\"]\n}\n}]\n};\n           var plotContainer = document.getElementById(\"4lqxwz\");\n           window.letsPlotCall(function() {{\n               LetsPlot.buildPlotFromProcessedSpecs(plotSpec, -1, -1, plotContainer);\n           }});\n       })();    \n   </script>",
          "text/plain": "<lets_plot.plot.core.PlotSpec at 0x7ffad4746690>"
         },
         "metadata": {},
         "output_type": "display_data"
        }
       ]
      }
     },
     "c5d3c5d247454d808aac4a8e3f5a8ea0": {
      "model_module": "@jupyter-widgets/controls",
      "model_module_version": "1.5.0",
      "model_name": "LinkModel",
      "state": {
       "source": [
        "IPY_MODEL_fd9ce3a5f6b244a2aab6a0b4c3b5a2cf",
        "value"
       ],
       "target": [
        "IPY_MODEL_54811c02f756439693b4dab8457271b6",
        "value"
       ]
      }
     },
     "ce8dbb234f284b2ba744298948e64e23": {
      "model_module": "@jupyter-widgets/controls",
      "model_module_version": "1.5.0",
      "model_name": "DescriptionStyleModel",
      "state": {
       "description_width": ""
      }
     },
     "cfd475d8336f4fb5b5b3950c26d41ffb": {
      "model_module": "@jupyter-widgets/output",
      "model_module_version": "1.0.0",
      "model_name": "OutputModel",
      "state": {
       "layout": "IPY_MODEL_07daf44749e6445786a59c3e94c9341b",
       "outputs": [
        {
         "data": {
          "text/html": "   <div id=\"ZnVruQ\"></div>\n   <script type=\"text/javascript\">\n       (function() {\n           var plotSpec={\n'mapping':{\n},\n'data_meta':{\n},\n'theme':{\n'axis_title':\"blank\",\n'axis_text':\"blank\",\n'axis_ticks':\"blank\",\n'axis_line':\"blank\",\n'legend_position':[0.15,0.15]\n},\n'ggsize':{\n'width':600,\n'height':600\n},\n'ggtitle':{\n'text':\"COVID-19 on 2020-02-27\"\n},\n'kind':\"plot\",\n'scales':[{\n'name':\"\",\n'limits':[0,1308],\n'aesthetic':\"size\"\n},{\n'aesthetic':\"color\",\n'values':[\"#cf3c38\",\"black\",\"#90c73e\",\"#4cc5db\"]\n}],\n'layers':[{\n'geom':\"polygon\",\n'data':{\n'__key__':[\"0\"]\n},\n'mapping':{\n'map_id':\"__key__\"\n},\n'data_meta':{\n'geodataframe':{\n'geometry':\"geometry\"\n}\n},\n'fill':\"#d6d6d6\",\n'map':{\n'key':[\"0\"],\n'__geometry__':[\"{\\\"type\\\": \\\"MultiPolygon\\\", \\\"coordinates\\\": [[[[109.47520958866365, 18.197700913968575], [108.65520796105616, 18.507681993071387], [108.62621748254044, 19.367887885001906], [109.11905561730804, 19.821038519769345], [110.21159874882281, 20.101253973872033], [110.78655073450221, 20.077534491450052], [111.01005130416458, 19.69592987719072], [110.57064660038677, 19.25587921800927], [110.33918786015147, 18.678395087147592], [109.47520958866365, 18.197700913968575]]], [[[80.2599902688853, 42.34999929459906], [80.1801501809943, 42.92006785742694], [80.86620649610126, 43.18036204688101], [79.96610639844141, 44.91751699480463], [81.9470707539181, 45.31702749285312], [82.45892581576906, 45.539649563166506], [83.18048383986047, 47.33003123635086], [85.16429039911324, 47.0009557155161], [85.72048383987067, 47.452969468773105], [85.7682328633083, 48.45575063739699], [86.59877648310336, 48.549181626980626], [87.35997033076265, 49.21498078062912], [87.75126427607671, 49.297197984405486], [88.01383222855173, 48.599462795600616], [88.85429772334676, 48.069081732772965], [90.28082563676392, 47.69354909930793], [90.97080936072501, 46.88814606382293], [90.58576826371828, 45.71971609148753], [90.9455395853343, 45.28607330991028], [92.13389082231822, 45.11507599545646], [93.4807336771413, 44.975472113619965], [94.68892866412533, 44.35233185482842], [95.30687544147153, 44.24133087826547], [95.76245486855669, 43.319449164394605], [96.34939578652781, 42.725635280928685], [97.45175744017801, 42.74888967546002], [99.51581749878004, 42.524691473961724], [100.84586551310827, 42.66380442969145], [101.83304039917994, 42.51487295182628], [103.31227827353482, 41.9074681666676], [104.52228193564899, 41.908346666016556], [104.96499393109347, 41.59740957291635], [106.12931562706169, 42.13432770442891], [107.74477257693795, 42.48151581478187], [109.24359581913146, 42.5194463160841], [110.41210330611528, 42.87123362891103], [111.12968224492023, 43.40683401140015], [111.82958784388137, 43.74311839453952], [111.66773725794323, 44.07317576758771], [111.34837690637946, 44.45744171811009], [111.8733061056003, 45.10207937273506], [112.43606245325881, 45.01164561622429], [113.46390669154417, 44.80889313412712], [114.46033165899607, 45.339816799493825], [115.98509647020009, 45.727235012386004], [116.71786828009886, 46.38820241961521], [117.42170128791419, 46.67273285581426], [118.87432579963873, 46.80541209572365], [119.66326989143876, 46.69267995867892], [119.7728239278975, 47.04805878355013], [118.86657433479495, 47.74706004494617], [118.06414269416672, 48.06673045510369], [117.29550744025741, 47.69770905210743], [116.30895267137323, 47.85341014260284], [115.74283735561579, 47.72654450132629], [115.48528201707306, 48.13538259540344], [116.19180219936757, 49.134598090199106], [116.67880089728612, 49.888531399121405], [117.8792444194264, 49.510983384796965], [119.2884607280258, 50.142882798862004], [119.27939000000003, 50.58292], [120.18208000000016, 51.64355000000012], [120.7382, 51.96411000000006], [120.72578901579197, 52.516226304730935], [120.17708865771681, 52.75388621684124], [121.00308475147017, 53.25140106873119], [122.24574791879283, 53.431725979213695], [123.57146999999998, 53.45880000000005], [125.06821129771038, 53.16104482686886], [125.94634891164617, 52.79279857035698], [126.56439904185697, 51.7842554795327], [126.93915652883766, 51.35389415140592], [127.28745568248485, 50.73979726826548], [127.65740000000028, 49.760270000000105], [129.39781782442043, 49.44060008401544], [130.58229332898242, 48.72968740497614], [130.9872600000001, 47.79013000000003], [132.50669000000005, 47.78896000000003], [133.37359581922794, 48.18344167743487], [135.02631147678665, 48.478229885443874], [134.50081, 47.57845000000009], [134.1123500000001, 47.212480000000085], [133.76964399631288, 46.116926988299014], [133.09712000000013, 45.14409000000006], [131.8834542176595, 45.32116160743652], [131.02519000000018, 44.96796000000006], [131.28855512911548, 44.11151968034828], [131.1446879416149, 42.92998973242689], [130.63386640840974, 42.90301463477053], [130.63999970690955, 42.39502427522179], [129.99426720593323, 42.985386867843786], [129.59666873587952, 42.42498179785456], [128.0522152039723, 41.99428457291795], [128.20843305879066, 41.46677155208249], [127.34378299368302, 41.50315176041597], [126.86908328664987, 41.81656932226619], [126.18204511932943, 41.10733612727637], [125.07994184784064, 40.56982371679245], [124.26562462778531, 39.928493353834156], [122.86757042856095, 39.63778758397622], [122.1313879741309, 39.170451768544666], [121.05455447803286, 38.897471014962846], [121.58599490772248, 39.36085358332407], [121.37675703337268, 39.75026133885949], [122.16859500538106, 40.422442531896024], [121.64035851449353, 40.94638987890333], [120.76862877816194, 40.59338816991754], [119.63960208544907, 39.898055935214245], [119.02346398323306, 39.252333075511146], [118.04274865119791, 39.2042739934797], [117.53270226447711, 38.73763580988408], [118.05969852098964, 38.06147553156106], [118.87814985562832, 37.89732534438593], [118.91163618375344, 37.44846385349871], [119.70280236214205, 37.15638865818505], [120.8234574728236, 37.87042776137801], [121.711258579598, 37.48112335870718], [122.35793745329849, 37.45448415786072], [122.5199947449658, 36.93061432550185], [121.10416385303307, 36.651329047180425], [120.63700890511453, 36.111439520811075], [119.66456180224606, 35.60979055433772], [119.1512081238586, 34.90985911716044], [120.22752485563373, 34.36033193616865], [120.62036909391655, 33.37672272392514], [121.22901411345023, 32.46031871187719], [121.90814578663003, 31.692174384074647], [121.89191938689038, 30.949351508095106], [121.26425744027328, 30.6762674016487], [121.50351932178467, 30.14291494396429], [122.0921138855891, 29.83252045340315], [121.93842817595306, 29.01802236583478], [121.68443851123851, 28.225512600206617], [121.12566124886649, 28.135673122667185], [120.39547326058232, 27.05320689544932], [119.5854968608395, 25.740780544532612], [118.65687137255452, 24.54739085540024], [117.28160647997088, 23.624501451099658], [115.89073530483512, 22.78287323657807], [114.76382734584624, 22.668074042241667], [114.15254682826564, 22.22376007739615], [113.80677981980074, 22.5483397486214], [113.24107791550159, 22.051367499270455], [111.84359215703248, 21.550493679281473], [110.78546552942407, 21.397143866455338], [110.44403934127168, 20.34103261970633], [109.88986128137361, 20.282457383703488], [109.62765506392466, 21.008227037026703], [109.86448815311832, 21.395050970947523], [108.5228129415244, 21.715212307211814], [108.05018029178294, 21.55237986906012], [107.04342003787264, 21.811898912029914], [106.56727339073532, 22.21820486092477], [106.72540327354847, 22.79426788989842], [105.81124718630522, 22.976892401617903], [105.32920942588663, 23.352063300056912], [104.47685835166448, 22.819150092046968], [103.50451460166056, 22.70375661873921], [102.7069922221001, 22.708795070887675], [102.17043582561358, 22.464753119389304], [101.65201785686152, 22.318198757409547], [101.80311974488293, 21.17436676684507], [101.27002566935997, 21.201651923095184], [101.18000532430754, 21.436572984294028], [101.15003299357825, 21.849984442629022], [100.41653771362738, 21.558839423096614], [99.98348921102149, 21.7429367131364], [99.24089887898725, 22.11831431730458], [99.5319922220874, 22.94903880461258], [98.89874922078278, 23.14272207284253], [98.66026248575577, 24.063286037689966], [97.60471967976198, 23.897404690033042], [97.72460900267914, 25.083637193293], [98.67183800658916, 25.918702500913525], [98.71209394734451, 26.743535874940267], [98.68269005737046, 27.50881216075062], [98.2462309102333, 27.74722138112918], [97.91198774616944, 28.335945136014345], [97.32711388549004, 28.26158274994634], [96.24883344928779, 28.411030992134442], [96.58659061074749, 28.83097951915434], [96.11767866413103, 29.452802028922466], [95.40480228066464, 29.03171662039213], [94.56599043170294, 29.277438055939985], [93.41334760943269, 28.640629380807226], [92.50311893104364, 27.89687632904645], [91.69665652869668, 27.771741848251665], [91.25885379431992, 28.040614325466294], [90.7305139505678, 28.064953925075756], [90.01582889197118, 28.296438503527217], [89.47581017452111, 28.042758897406397], [88.81424848832056, 27.299315904239364], [88.73032596227856, 28.086864732367516], [88.12044070836987, 27.876541652939594], [86.9545170430006, 27.974261786403517], [85.82331994013151, 28.203575954698707], [85.01163821812304, 28.642773952747344], [84.23457970575015, 28.839893703724698], [83.89899295444673, 29.320226141877658], [83.33711510613719, 29.463731594352197], [82.32751264845088, 30.115268052688137], [81.52580447787474, 30.42271698660863], [81.11125613802932, 30.183480943313402], [79.7213668151071, 30.88271474865473], [78.73889448437401, 31.515906073527063], [78.45844648632601, 32.61816437431273], [79.17612877799553, 32.48377981213771], [79.20889163606859, 32.994394639613716], [78.81108646028574, 33.50619802503242], [78.91226891471322, 34.32193634697579], [77.83745079947457, 35.494009507787766], [76.19284834178569, 35.89840342868783], [75.89689741405013, 36.666806138651836], [75.15802778514092, 37.13303091078912], [74.98000247589542, 37.419990139305895], [74.8299857929521, 37.9900070257014], [74.86481570831683, 38.3788463404816], [74.25751427602273, 38.60650686294345], [73.92885216664644, 38.50581533462274], [73.6753792662548, 39.4312368841056], [73.96001305531843, 39.660008449861735], [73.8222436868283, 39.893973497063186], [74.77686242055606, 40.36642527929163], [75.4678279967307, 40.56207225194867], [76.52636803579745, 40.42794607193512], [76.90448449087708, 41.06648590754965], [78.18719689322597, 41.18531586360481], [78.54366092317531, 41.58224254003869], [80.11943037305139, 42.12394074153825], [80.2599902688853, 42.34999929459906]]]]}\"]\n}\n},{\n'geom':\"point\",\n'data':{\n'count':[1308.0,1074.0,939.0,908.0,882.0,788.0,743.0,564.0,544.0,403.0,370.0,351.0,292.0,289.0,239.0,237.0,178.0,136.0,107.0,48.0,1.0,8.0,4.0,2.0,1.0,1.0,1.0,1.0,1.0,1.0,1.0,1.0,14.0,11.0,8.0,7.0,6.0,4.0,4.0,3.0,3.0,2.0,2.0,2.0,2.0,1.0,1.0,1.0,1.0,1.0,1.0,1.0],\n'outcome':[\"diseased\",\"diseased\",\"diseased\",\"diseased\",\"diseased\",\"diseased\",\"diseased\",\"diseased\",\"diseased\",\"diseased\",\"diseased\",\"diseased\",\"diseased\",\"diseased\",\"diseased\",\"diseased\",\"diseased\",\"diseased\",\"diseased\",\"diseased\",\"died\",\"discharged\",\"discharged\",\"discharged\",\"discharged\",\"discharged\",\"discharged\",\"discharged\",\"discharged\",\"discharged\",\"discharged\",\"discharged\",\"stable\",\"stable\",\"stable\",\"stable\",\"stable\",\"stable\",\"stable\",\"stable\",\"stable\",\"stable\",\"stable\",\"stable\",\"stable\",\"stable\",\"stable\",\"stable\",\"stable\",\"stable\",\"stable\",\"stable\"],\n'__key__':[\"0\",\"1\",\"2\",\"3\",\"4\",\"5\",\"6\",\"7\",\"8\",\"9\",\"10\",\"11\",\"12\",\"13\",\"14\",\"15\",\"16\",\"17\",\"18\",\"19\",\"20\",\"21\",\"22\",\"23\",\"24\",\"25\",\"26\",\"27\",\"28\",\"29\",\"30\",\"31\",\"32\",\"33\",\"34\",\"35\",\"36\",\"37\",\"38\",\"39\",\"40\",\"41\",\"42\",\"43\",\"44\",\"45\",\"46\",\"47\",\"48\",\"49\",\"50\",\"51\"]\n},\n'mapping':{\n'size':\"count\",\n'color':\"outcome\",\n'map_id':\"__key__\"\n},\n'data_meta':{\n'geodataframe':{\n'geometry':\"geometry\"\n}\n},\n'map':{\n'key':[\"0\",\"1\",\"2\",\"3\",\"4\",\"5\",\"6\",\"7\",\"8\",\"9\",\"10\",\"11\",\"12\",\"13\",\"14\",\"15\",\"16\",\"17\",\"18\",\"19\",\"20\",\"21\",\"22\",\"23\",\"24\",\"25\",\"26\",\"27\",\"28\",\"29\",\"30\",\"31\",\"32\",\"33\",\"34\",\"35\",\"36\",\"37\",\"38\",\"39\",\"40\",\"41\",\"42\",\"43\",\"44\",\"45\",\"46\",\"47\",\"48\",\"49\",\"50\",\"51\"],\n'__geometry__':[\"{\\\"type\\\": \\\"Point\\\", \\\"coordinates\\\": [114.0126723125, 23.008085537500005]}\",\"{\\\"type\\\": \\\"Point\\\", \\\"coordinates\\\": [113.8508388888889, 34.7913625]}\",\"{\\\"type\\\": \\\"Point\\\", \\\"coordinates\\\": [112.06997272727271, 27.799674545454536]}\",\"{\\\"type\\\": \\\"Point\\\", \\\"coordinates\\\": [117.41527493939395, 32.323963257575755]}\",\"{\\\"type\\\": \\\"Point\\\", \\\"coordinates\\\": [120.78985555555556, 31.158398148148144]}\",\"{\\\"type\\\": \\\"Point\\\", \\\"coordinates\\\": [116.49745625000001, 28.878219999999995]}\",\"{\\\"type\\\": \\\"Point\\\", \\\"coordinates\\\": [119.47747208333332, 27.986089499999995]}\",\"{\\\"type\\\": \\\"Point\\\", \\\"coordinates\\\": [107.29335970967742, 29.58047641451613]}\",\"{\\\"type\\\": \\\"Point\\\", \\\"coordinates\\\": [116.09919210526316, 40.21698894736842]}\",\"{\\\"type\\\": \\\"Point\\\", \\\"coordinates\\\": [118.13290263157897, 36.23307342105263]}\",\"{\\\"type\\\": \\\"Point\\\", \\\"coordinates\\\": [109.51205990322582, 20.789500374193555]}\",\"{\\\"type\\\": \\\"Point\\\", \\\"coordinates\\\": [123.96997653333332, 43.11964651333332]}\",\"{\\\"type\\\": \\\"Point\\\", \\\"coordinates\\\": [127.63926249999999, 46.773180625]}\",\"{\\\"type\\\": \\\"Point\\\", \\\"coordinates\\\": [102.58337166666666, 30.15838833333334]}\",\"{\\\"type\\\": \\\"Point\\\", \\\"coordinates\\\": [109.49323774418606, 34.94035172093023]}\",\"{\\\"type\\\": \\\"Point\\\", \\\"coordinates\\\": [118.23840499999999, 25.591048500000003]}\",\"{\\\"type\\\": \\\"Point\\\", \\\"coordinates\\\": [102.58649629629632, 25.257708148148144]}\",\"{\\\"type\\\": \\\"Point\\\", \\\"coordinates\\\": [104.35049676470587, 36.0947738235294]}\",\"{\\\"type\\\": \\\"Point\\\", \\\"coordinates\\\": [110.13944782608696, 40.320984347826084]}\",\"{\\\"type\\\": \\\"Point\\\", \\\"coordinates\\\": [86.59362999999999, 42.31725545454546]}\",\"{\\\"type\\\": \\\"Point\\\", \\\"coordinates\\\": [126.6487, 46.90084]}\",\"{\\\"type\\\": \\\"Point\\\", \\\"coordinates\\\": [101.4437, 36.82615]}\",\"{\\\"type\\\": \\\"Point\\\", \\\"coordinates\\\": [116.4151, 40.18535]}\",\"{\\\"type\\\": \\\"Point\\\", \\\"coordinates\\\": [100.9477, 21.93139]}\",\"{\\\"type\\\": \\\"Point\\\", \\\"coordinates\\\": [116.4172, 39.642379999999996]}\",\"{\\\"type\\\": \\\"Point\\\", \\\"coordinates\\\": [106.5993, 35.20198]}\",\"{\\\"type\\\": \\\"Point\\\", \\\"coordinates\\\": [104.4519, 35.12274]}\",\"{\\\"type\\\": \\\"Point\\\", \\\"coordinates\\\": [103.2668, 36.60351]}\",\"{\\\"type\\\": \\\"Point\\\", \\\"coordinates\\\": [109.8962, 31.11774]}\",\"{\\\"type\\\": \\\"Point\\\", \\\"coordinates\\\": [107.9967, 21.88401]}\",\"{\\\"type\\\": \\\"Point\\\", \\\"coordinates\\\": [126.8481, 43.58859]}\",\"{\\\"type\\\": \\\"Point\\\", \\\"coordinates\\\": [106.1453, 34.415]}\",\"{\\\"type\\\": \\\"Point\\\", \\\"coordinates\\\": [108.7872, 34.10727]}\",\"{\\\"type\\\": \\\"Point\\\", \\\"coordinates\\\": [118.9639, 33.357009999999995]}\",\"{\\\"type\\\": \\\"Point\\\", \\\"coordinates\\\": [119.6369, 31.62592]}\",\"{\\\"type\\\": \\\"Point\\\", \\\"coordinates\\\": [117.5145, 34.3568]}\",\"{\\\"type\\\": \\\"Point\\\", \\\"coordinates\\\": [120.35925, 31.453070000000004]}\",\"{\\\"type\\\": \\\"Point\\\", \\\"coordinates\\\": [106.74830000000001, 26.68831]}\",\"{\\\"type\\\": \\\"Point\\\", \\\"coordinates\\\": [119.1325, 34.534]}\",\"{\\\"type\\\": \\\"Point\\\", \\\"coordinates\\\": [109.44460000000001, 35.075779999999995]}\",\"{\\\"type\\\": \\\"Point\\\", \\\"coordinates\\\": [107.2001, 34.38244]}\",\"{\\\"type\\\": \\\"Point\\\", \\\"coordinates\\\": [121.0053, 32.1975]}\",\"{\\\"type\\\": \\\"Point\\\", \\\"coordinates\\\": [120.1736, 33.52337]}\",\"{\\\"type\\\": \\\"Point\\\", \\\"coordinates\\\": [114.186058, 22.281635100000003]}\",\"{\\\"type\\\": \\\"Point\\\", \\\"coordinates\\\": [119.4729, 32.73976]}\",\"{\\\"type\\\": \\\"Point\\\", \\\"coordinates\\\": [108.9258, 32.761829999999996]}\",\"{\\\"type\\\": \\\"Point\\\", \\\"coordinates\\\": [116.5956, 30.61122]}\",\"{\\\"type\\\": \\\"Point\\\", \\\"coordinates\\\": [109.9016, 33.6493]}\",\"{\\\"type\\\": \\\"Point\\\", \\\"coordinates\\\": [107.1014, 33.0928]}\",\"{\\\"type\\\": \\\"Point\\\", \\\"coordinates\\\": [108.5408, 27.973740000000003]}\",\"{\\\"type\\\": \\\"Point\\\", \\\"coordinates\\\": [109.2523, 26.92336]}\",\"{\\\"type\\\": \\\"Point\\\", \\\"coordinates\\\": [118.8424, 31.92997]}\"]\n}\n}]\n};\n           var plotContainer = document.getElementById(\"ZnVruQ\");\n           window.letsPlotCall(function() {{\n               LetsPlot.buildPlotFromProcessedSpecs(plotSpec, -1, -1, plotContainer);\n           }});\n       })();    \n   </script>",
          "text/plain": "<lets_plot.plot.core.PlotSpec at 0x7fa0608a9e48>"
         },
         "metadata": {},
         "output_type": "display_data"
        }
       ]
      }
     },
     "d1da66120ad244f1b7933bf3f1372942": {
      "model_module": "@jupyter-widgets/base",
      "model_module_version": "1.2.0",
      "model_name": "LayoutModel",
      "state": {}
     },
     "d3316de7499e45e8a19e378c294187cf": {
      "model_module": "@jupyter-widgets/controls",
      "model_module_version": "1.5.0",
      "model_name": "DescriptionStyleModel",
      "state": {
       "description_width": ""
      }
     },
     "d8125145d48a46d193d8bf39b5bcfa02": {
      "model_module": "@jupyter-widgets/controls",
      "model_module_version": "1.5.0",
      "model_name": "PlayModel",
      "state": {
       "_playing": true,
       "interval": 1000,
       "layout": "IPY_MODEL_be804510102e43c3aa42aa685194d1cc",
       "max": 38,
       "style": "IPY_MODEL_79d8bf641c984298bb1880441e7f8a9a",
       "value": 23
      }
     },
     "dbbd30b1fa3145b491e7ba22e299f40d": {
      "model_module": "@jupyter-widgets/base",
      "model_module_version": "1.2.0",
      "model_name": "LayoutModel",
      "state": {}
     },
     "dce3a046b15e41a782c3564ce908df9e": {
      "model_module": "@jupyter-widgets/controls",
      "model_module_version": "1.5.0",
      "model_name": "SliderStyleModel",
      "state": {
       "description_width": ""
      }
     },
     "e0a0579e8f474aa59c66cd5f1d084fc1": {
      "model_module": "@jupyter-widgets/controls",
      "model_module_version": "1.5.0",
      "model_name": "PlayModel",
      "state": {
       "interval": 1000,
       "layout": "IPY_MODEL_e371f9cab5e7484790abd8044dcefb17",
       "max": 38,
       "style": "IPY_MODEL_ce8dbb234f284b2ba744298948e64e23",
       "value": 38
      }
     },
     "e371f9cab5e7484790abd8044dcefb17": {
      "model_module": "@jupyter-widgets/base",
      "model_module_version": "1.2.0",
      "model_name": "LayoutModel",
      "state": {}
     },
     "e76b3bd38ee14206b750b9981b770199": {
      "model_module": "@jupyter-widgets/base",
      "model_module_version": "1.2.0",
      "model_name": "LayoutModel",
      "state": {}
     },
     "eab364485426408d8967a1018da1760d": {
      "model_module": "@jupyter-widgets/base",
      "model_module_version": "1.2.0",
      "model_name": "LayoutModel",
      "state": {}
     },
     "efdbbda054b546b89155758159a51c2c": {
      "model_module": "@jupyter-widgets/output",
      "model_module_version": "1.0.0",
      "model_name": "OutputModel",
      "state": {
       "layout": "IPY_MODEL_3da72335e55049c3b971a2d8f3e94c70",
       "outputs": [
        {
         "data": {
          "text/html": "   <div id=\"NdmNdx\"></div>\n   <script type=\"text/javascript\">\n       (function() {\n           var plotSpec={\n'theme':{\n'axis_title':\"blank\",\n'axis_text':\"blank\",\n'axis_ticks':\"blank\",\n'axis_line':\"blank\",\n'legend_position':[0.15,0.15]\n},\n'ggsize':{\n'width':600,\n'height':600\n},\n'ggtitle':{\n'text':\"COVID-19 on 2020-02-11\"\n},\n'kind':\"plot\",\n'scales':[{\n'name':\"\",\n'aesthetic':\"size\"\n},{\n'aesthetic':\"color\",\n'values':[\"#f7fcb9\",\"#cb181d\",\"#00441b\",\"#00441b\"]\n},{\n'aesthetic':\"fill\",\n'values':[\"#41ab5d\",\"#fcbba1\",\"#f7fcb9\",\"#41ab5d\"]\n}],\n'layers':[{\n'geom':\"polygon\",\n'data':{\n'__key__':[\"0\"]\n},\n'data_meta':{\n'geodataframe':{\n'geometry':\"geometry\"\n}\n},\n'color':\"#41ab5d\",\n'fill':\"#41ab5d\",\n'map':{\n'key':[\"0\"],\n'__geometry__':[\"{\\\"type\\\": \\\"MultiPolygon\\\", \\\"coordinates\\\": [[[[109.47520958866365, 18.197700913968575], [108.65520796105616, 18.507681993071387], [108.62621748254044, 19.367887885001906], [109.11905561730804, 19.821038519769345], [110.21159874882281, 20.101253973872033], [110.78655073450221, 20.077534491450052], [111.01005130416458, 19.69592987719072], [110.57064660038677, 19.25587921800927], [110.33918786015147, 18.678395087147592], [109.47520958866365, 18.197700913968575]]], [[[80.2599902688853, 42.34999929459906], [80.1801501809943, 42.92006785742694], [80.86620649610126, 43.18036204688101], [79.96610639844141, 44.91751699480463], [81.9470707539181, 45.31702749285312], [82.45892581576906, 45.539649563166506], [83.18048383986047, 47.33003123635086], [85.16429039911324, 47.0009557155161], [85.72048383987067, 47.452969468773105], [85.7682328633083, 48.45575063739699], [86.59877648310336, 48.549181626980626], [87.35997033076265, 49.21498078062912], [87.75126427607671, 49.297197984405486], [88.01383222855173, 48.599462795600616], [88.85429772334676, 48.069081732772965], [90.28082563676392, 47.69354909930793], [90.97080936072501, 46.88814606382293], [90.58576826371828, 45.71971609148753], [90.9455395853343, 45.28607330991028], [92.13389082231822, 45.11507599545646], [93.4807336771413, 44.975472113619965], [94.68892866412533, 44.35233185482842], [95.30687544147153, 44.24133087826547], [95.76245486855669, 43.319449164394605], [96.34939578652781, 42.725635280928685], [97.45175744017801, 42.74888967546002], [99.51581749878004, 42.524691473961724], [100.84586551310827, 42.66380442969145], [101.83304039917994, 42.51487295182628], [103.31227827353482, 41.9074681666676], [104.52228193564899, 41.908346666016556], [104.96499393109347, 41.59740957291635], [106.12931562706169, 42.13432770442891], [107.74477257693795, 42.48151581478187], [109.24359581913146, 42.5194463160841], [110.41210330611528, 42.87123362891103], [111.12968224492023, 43.40683401140015], [111.82958784388137, 43.74311839453952], [111.66773725794323, 44.07317576758771], [111.34837690637946, 44.45744171811009], [111.8733061056003, 45.10207937273506], [112.43606245325881, 45.01164561622429], [113.46390669154417, 44.80889313412712], [114.46033165899607, 45.339816799493825], [115.98509647020009, 45.727235012386004], [116.71786828009886, 46.38820241961521], [117.42170128791419, 46.67273285581426], [118.87432579963873, 46.80541209572365], [119.66326989143876, 46.69267995867892], [119.7728239278975, 47.04805878355013], [118.86657433479495, 47.74706004494617], [118.06414269416672, 48.06673045510369], [117.29550744025741, 47.69770905210743], [116.30895267137323, 47.85341014260284], [115.74283735561579, 47.72654450132629], [115.48528201707306, 48.13538259540344], [116.19180219936757, 49.134598090199106], [116.67880089728612, 49.888531399121405], [117.8792444194264, 49.510983384796965], [119.2884607280258, 50.142882798862004], [119.27939000000003, 50.58292], [120.18208000000016, 51.64355000000012], [120.7382, 51.96411000000006], [120.72578901579197, 52.516226304730935], [120.17708865771681, 52.75388621684124], [121.00308475147017, 53.25140106873119], [122.24574791879283, 53.431725979213695], [123.57146999999998, 53.45880000000005], [125.06821129771038, 53.16104482686886], [125.94634891164617, 52.79279857035698], [126.56439904185697, 51.7842554795327], [126.93915652883766, 51.35389415140592], [127.28745568248485, 50.73979726826548], [127.65740000000028, 49.760270000000105], [129.39781782442043, 49.44060008401544], [130.58229332898242, 48.72968740497614], [130.9872600000001, 47.79013000000003], [132.50669000000005, 47.78896000000003], [133.37359581922794, 48.18344167743487], [135.02631147678665, 48.478229885443874], [134.50081, 47.57845000000009], [134.1123500000001, 47.212480000000085], [133.76964399631288, 46.116926988299014], [133.09712000000013, 45.14409000000006], [131.8834542176595, 45.32116160743652], [131.02519000000018, 44.96796000000006], [131.28855512911548, 44.11151968034828], [131.1446879416149, 42.92998973242689], [130.63386640840974, 42.90301463477053], [130.63999970690955, 42.39502427522179], [129.99426720593323, 42.985386867843786], [129.59666873587952, 42.42498179785456], [128.0522152039723, 41.99428457291795], [128.20843305879066, 41.46677155208249], [127.34378299368302, 41.50315176041597], [126.86908328664987, 41.81656932226619], [126.18204511932943, 41.10733612727637], [125.07994184784064, 40.56982371679245], [124.26562462778531, 39.928493353834156], [122.86757042856095, 39.63778758397622], [122.1313879741309, 39.170451768544666], [121.05455447803286, 38.897471014962846], [121.58599490772248, 39.36085358332407], [121.37675703337268, 39.75026133885949], [122.16859500538106, 40.422442531896024], [121.64035851449353, 40.94638987890333], [120.76862877816194, 40.59338816991754], [119.63960208544907, 39.898055935214245], [119.02346398323306, 39.252333075511146], [118.04274865119791, 39.2042739934797], [117.53270226447711, 38.73763580988408], [118.05969852098964, 38.06147553156106], [118.87814985562832, 37.89732534438593], [118.91163618375344, 37.44846385349871], [119.70280236214205, 37.15638865818505], [120.8234574728236, 37.87042776137801], [121.711258579598, 37.48112335870718], [122.35793745329849, 37.45448415786072], [122.5199947449658, 36.93061432550185], [121.10416385303307, 36.651329047180425], [120.63700890511453, 36.111439520811075], [119.66456180224606, 35.60979055433772], [119.1512081238586, 34.90985911716044], [120.22752485563373, 34.36033193616865], [120.62036909391655, 33.37672272392514], [121.22901411345023, 32.46031871187719], [121.90814578663003, 31.692174384074647], [121.89191938689038, 30.949351508095106], [121.26425744027328, 30.6762674016487], [121.50351932178467, 30.14291494396429], [122.0921138855891, 29.83252045340315], [121.93842817595306, 29.01802236583478], [121.68443851123851, 28.225512600206617], [121.12566124886649, 28.135673122667185], [120.39547326058232, 27.05320689544932], [119.5854968608395, 25.740780544532612], [118.65687137255452, 24.54739085540024], [117.28160647997088, 23.624501451099658], [115.89073530483512, 22.78287323657807], [114.76382734584624, 22.668074042241667], [114.15254682826564, 22.22376007739615], [113.80677981980074, 22.5483397486214], [113.24107791550159, 22.051367499270455], [111.84359215703248, 21.550493679281473], [110.78546552942407, 21.397143866455338], [110.44403934127168, 20.34103261970633], [109.88986128137361, 20.282457383703488], [109.62765506392466, 21.008227037026703], [109.86448815311832, 21.395050970947523], [108.5228129415244, 21.715212307211814], [108.05018029178294, 21.55237986906012], [107.04342003787264, 21.811898912029914], [106.56727339073532, 22.21820486092477], [106.72540327354847, 22.79426788989842], [105.81124718630522, 22.976892401617903], [105.32920942588663, 23.352063300056912], [104.47685835166448, 22.819150092046968], [103.50451460166056, 22.70375661873921], [102.7069922221001, 22.708795070887675], [102.17043582561358, 22.464753119389304], [101.65201785686152, 22.318198757409547], [101.80311974488293, 21.17436676684507], [101.27002566935997, 21.201651923095184], [101.18000532430754, 21.436572984294028], [101.15003299357825, 21.849984442629022], [100.41653771362738, 21.558839423096614], [99.98348921102149, 21.7429367131364], [99.24089887898725, 22.11831431730458], [99.5319922220874, 22.94903880461258], [98.89874922078278, 23.14272207284253], [98.66026248575577, 24.063286037689966], [97.60471967976198, 23.897404690033042], [97.72460900267914, 25.083637193293], [98.67183800658916, 25.918702500913525], [98.71209394734451, 26.743535874940267], [98.68269005737046, 27.50881216075062], [98.2462309102333, 27.74722138112918], [97.91198774616944, 28.335945136014345], [97.32711388549004, 28.26158274994634], [96.24883344928779, 28.411030992134442], [96.58659061074749, 28.83097951915434], [96.11767866413103, 29.452802028922466], [95.40480228066464, 29.03171662039213], [94.56599043170294, 29.277438055939985], [93.41334760943269, 28.640629380807226], [92.50311893104364, 27.89687632904645], [91.69665652869668, 27.771741848251665], [91.25885379431992, 28.040614325466294], [90.7305139505678, 28.064953925075756], [90.01582889197118, 28.296438503527217], [89.47581017452111, 28.042758897406397], [88.81424848832056, 27.299315904239364], [88.73032596227856, 28.086864732367516], [88.12044070836987, 27.876541652939594], [86.9545170430006, 27.974261786403517], [85.82331994013151, 28.203575954698707], [85.01163821812304, 28.642773952747344], [84.23457970575015, 28.839893703724698], [83.89899295444673, 29.320226141877658], [83.33711510613719, 29.463731594352197], [82.32751264845088, 30.115268052688137], [81.52580447787474, 30.42271698660863], [81.11125613802932, 30.183480943313402], [79.7213668151071, 30.88271474865473], [78.73889448437401, 31.515906073527063], [78.45844648632601, 32.61816437431273], [79.17612877799553, 32.48377981213771], [79.20889163606859, 32.994394639613716], [78.81108646028574, 33.50619802503242], [78.91226891471322, 34.32193634697579], [77.83745079947457, 35.494009507787766], [76.19284834178569, 35.89840342868783], [75.89689741405013, 36.666806138651836], [75.15802778514092, 37.13303091078912], [74.98000247589542, 37.419990139305895], [74.8299857929521, 37.9900070257014], [74.86481570831683, 38.3788463404816], [74.25751427602273, 38.60650686294345], [73.92885216664644, 38.50581533462274], [73.6753792662548, 39.4312368841056], [73.96001305531843, 39.660008449861735], [73.8222436868283, 39.893973497063186], [74.77686242055606, 40.36642527929163], [75.4678279967307, 40.56207225194867], [76.52636803579745, 40.42794607193512], [76.90448449087708, 41.06648590754965], [78.18719689322597, 41.18531586360481], [78.54366092317531, 41.58224254003869], [80.11943037305139, 42.12394074153825], [80.2599902688853, 42.34999929459906]]]]}\"]\n},\n'mapping':{\n'map_id':\"__key__\"\n}\n},{\n'geom':\"point\",\n'data':{\n'count':[1139.0,939.0,892.0,828.0,815.0,669.0,609.0,507.0,466.0,356.0,330.0,291.0,285.0,272.0,268.0,256.0,229.0,166.0,155.0,46.0,1.0,4.0,3.0,2.0,1.0,1.0,1.0,1.0,1.0,14.0,4.0,3.0,3.0,1.0,1.0,1.0,1.0,1.0,1.0],\n'outcome':[\"diseased\",\"diseased\",\"diseased\",\"diseased\",\"diseased\",\"diseased\",\"diseased\",\"diseased\",\"diseased\",\"diseased\",\"diseased\",\"diseased\",\"diseased\",\"diseased\",\"diseased\",\"diseased\",\"diseased\",\"diseased\",\"diseased\",\"diseased\",\"died\",\"discharged\",\"discharged\",\"discharged\",\"discharged\",\"discharged\",\"discharged\",\"discharged\",\"discharged\",\"stable\",\"stable\",\"stable\",\"stable\",\"stable\",\"stable\",\"stable\",\"stable\",\"stable\",\"stable\"],\n'__key__':[\"0\",\"1\",\"2\",\"3\",\"4\",\"5\",\"6\",\"7\",\"8\",\"9\",\"10\",\"11\",\"12\",\"13\",\"14\",\"15\",\"16\",\"17\",\"18\",\"19\",\"20\",\"21\",\"22\",\"23\",\"24\",\"25\",\"26\",\"27\",\"28\",\"29\",\"30\",\"31\",\"32\",\"33\",\"34\",\"35\",\"36\",\"37\",\"38\"]\n},\n'mapping':{\n'size':\"count\",\n'color':\"outcome\",\n'fill':\"outcome\",\n'map_id':\"__key__\"\n},\n'data_meta':{\n'geodataframe':{\n'geometry':\"geometry\"\n}\n},\n'shape':21,\n'map':{\n'key':[\"0\",\"1\",\"2\",\"3\",\"4\",\"5\",\"6\",\"7\",\"8\",\"9\",\"10\",\"11\",\"12\",\"13\",\"14\",\"15\",\"16\",\"17\",\"18\",\"19\",\"20\",\"21\",\"22\",\"23\",\"24\",\"25\",\"26\",\"27\",\"28\",\"29\",\"30\",\"31\",\"32\",\"33\",\"34\",\"35\",\"36\",\"37\",\"38\"],\n'__geometry__':[\"{\\\"type\\\": \\\"Point\\\", \\\"coordinates\\\": [113.95997786774193, 22.89242023225807]}\",\"{\\\"type\\\": \\\"Point\\\", \\\"coordinates\\\": [119.96330590909089, 28.991325818181817]}\",\"{\\\"type\\\": \\\"Point\\\", \\\"coordinates\\\": [113.05567368421055, 27.965855789473686]}\",\"{\\\"type\\\": \\\"Point\\\", \\\"coordinates\\\": [113.12387777777775, 34.979918333333345]}\",\"{\\\"type\\\": \\\"Point\\\", \\\"coordinates\\\": [116.811627290625, 32.662143671875]}\",\"{\\\"type\\\": \\\"Point\\\", \\\"coordinates\\\": [120.42099655172414, 31.59090344827586]}\",\"{\\\"type\\\": \\\"Point\\\", \\\"coordinates\\\": [116.72160666666669, 29.199048666666666]}\",\"{\\\"type\\\": \\\"Point\\\", \\\"coordinates\\\": [116.4141382352941, 40.41273676470587]}\",\"{\\\"type\\\": \\\"Point\\\", \\\"coordinates\\\": [107.30603335740741, 30.166472735185177]}\",\"{\\\"type\\\": \\\"Point\\\", \\\"coordinates\\\": [118.12869459459462, 36.21644594594594]}\",\"{\\\"type\\\": \\\"Point\\\", \\\"coordinates\\\": [123.91619643863636, 43.098268934090896]}\",\"{\\\"type\\\": \\\"Point\\\", \\\"coordinates\\\": [106.3462550516129, 35.509394419354834]}\",\"{\\\"type\\\": \\\"Point\\\", \\\"coordinates\\\": [108.93503000000001, 26.439867]}\",\"{\\\"type\\\": \\\"Point\\\", \\\"coordinates\\\": [109.65265988076924, 20.13658583076923]}\",\"{\\\"type\\\": \\\"Point\\\", \\\"coordinates\\\": [102.59739692307693, 30.479478461538463]}\",\"{\\\"type\\\": \\\"Point\\\", \\\"coordinates\\\": [118.35570666666666, 25.766816444444444]}\",\"{\\\"type\\\": \\\"Point\\\", \\\"coordinates\\\": [127.63926249999999, 46.773180625]}\",\"{\\\"type\\\": \\\"Point\\\", \\\"coordinates\\\": [102.71863214285716, 25.212383571428568]}\",\"{\\\"type\\\": \\\"Point\\\", \\\"coordinates\\\": [110.88567096774194, 39.64652903225805]}\",\"{\\\"type\\\": \\\"Point\\\", \\\"coordinates\\\": [86.59362999999999, 42.31725545454546]}\",\"{\\\"type\\\": \\\"Point\\\", \\\"coordinates\\\": [126.6487, 46.90084]}\",\"{\\\"type\\\": \\\"Point\\\", \\\"coordinates\\\": [101.4437, 36.82615]}\",\"{\\\"type\\\": \\\"Point\\\", \\\"coordinates\\\": [116.4151, 40.18535]}\",\"{\\\"type\\\": \\\"Point\\\", \\\"coordinates\\\": [100.9477, 21.93139]}\",\"{\\\"type\\\": \\\"Point\\\", \\\"coordinates\\\": [116.4172, 39.642379999999996]}\",\"{\\\"type\\\": \\\"Point\\\", \\\"coordinates\\\": [104.4519, 35.12274]}\",\"{\\\"type\\\": \\\"Point\\\", \\\"coordinates\\\": [107.9967, 21.88401]}\",\"{\\\"type\\\": \\\"Point\\\", \\\"coordinates\\\": [109.8962, 31.11774]}\",\"{\\\"type\\\": \\\"Point\\\", \\\"coordinates\\\": [103.2668, 36.60351]}\",\"{\\\"type\\\": \\\"Point\\\", \\\"coordinates\\\": [108.7872, 34.10727]}\",\"{\\\"type\\\": \\\"Point\\\", \\\"coordinates\\\": [106.74830000000001, 26.68831]}\",\"{\\\"type\\\": \\\"Point\\\", \\\"coordinates\\\": [109.44460000000001, 35.075779999999995]}\",\"{\\\"type\\\": \\\"Point\\\", \\\"coordinates\\\": [107.2001, 34.38244]}\",\"{\\\"type\\\": \\\"Point\\\", \\\"coordinates\\\": [109.9016, 33.6493]}\",\"{\\\"type\\\": \\\"Point\\\", \\\"coordinates\\\": [107.1014, 33.0928]}\",\"{\\\"type\\\": \\\"Point\\\", \\\"coordinates\\\": [108.5408, 27.973740000000003]}\",\"{\\\"type\\\": \\\"Point\\\", \\\"coordinates\\\": [108.9258, 32.761829999999996]}\",\"{\\\"type\\\": \\\"Point\\\", \\\"coordinates\\\": [109.2523, 26.92336]}\",\"{\\\"type\\\": \\\"Point\\\", \\\"coordinates\\\": [116.5956, 30.61122]}\"]\n}\n}]\n};\n           var plotContainer = document.getElementById(\"NdmNdx\");\n           window.letsPlotCall(function() {{\n               LetsPlot.buildPlotFromProcessedSpecs(plotSpec, -1, -1, plotContainer);\n           }});\n       })();    \n   </script>",
          "text/plain": "<lets_plot.plot.core.PlotSpec at 0x7f1754c9d240>"
         },
         "metadata": {},
         "output_type": "display_data"
        }
       ]
      }
     },
     "f3b9e292accf4e9287986fc17edb3676": {
      "model_module": "@jupyter-widgets/controls",
      "model_module_version": "1.5.0",
      "model_name": "DescriptionStyleModel",
      "state": {
       "description_width": ""
      }
     },
     "f5366755650548649a30d5be85bddc51": {
      "model_module": "@jupyter-widgets/controls",
      "model_module_version": "1.5.0",
      "model_name": "HBoxModel",
      "state": {
       "children": [
        "IPY_MODEL_fd9ce3a5f6b244a2aab6a0b4c3b5a2cf",
        "IPY_MODEL_54811c02f756439693b4dab8457271b6"
       ],
       "layout": "IPY_MODEL_b03b0800c74741a4b221b472d210a5a3"
      }
     },
     "fd9ce3a5f6b244a2aab6a0b4c3b5a2cf": {
      "model_module": "@jupyter-widgets/controls",
      "model_module_version": "1.5.0",
      "model_name": "PlayModel",
      "state": {
       "interval": 1000,
       "layout": "IPY_MODEL_52f3fd119ede4ef69cac3af9365f25f6",
       "max": 38,
       "style": "IPY_MODEL_d3316de7499e45e8a19e378c294187cf",
       "value": 16
      }
     },
     "ff02945c58294ac6b296ac7dbfde78a0": {
      "model_module": "@jupyter-widgets/controls",
      "model_module_version": "1.5.0",
      "model_name": "HBoxModel",
      "state": {
       "children": [
        "IPY_MODEL_0ab2a42cbc8740dba1fa5d7122588ac3",
        "IPY_MODEL_747edf0666ab4b6d9a4363d783755282"
       ],
       "layout": "IPY_MODEL_6c6e876da2e24a618237dd2f5f91923d"
      }
     }
    },
    "version_major": 2,
    "version_minor": 0
   }
  }
 },
 "nbformat": 4,
 "nbformat_minor": 2
}
