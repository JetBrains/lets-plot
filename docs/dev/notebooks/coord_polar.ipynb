{
 "cells": [
  {
   "cell_type": "code",
   "execution_count": null,
   "id": "d9dcefd7-0655-4e71-99e3-2e6c8bb8ff7a",
   "metadata": {},
   "outputs": [],
   "source": [
    "import numpy as np\n",
    "import pandas as pd\n",
    "\n",
    "from lets_plot import *\n",
    "from lets_plot.plot.coord import coord_polar"
   ]
  },
  {
   "cell_type": "code",
   "execution_count": null,
   "id": "583c0c27-38fe-4ecb-8339-cb71c411a9c6",
   "metadata": {},
   "outputs": [],
   "source": [
    "LetsPlot.setup_html()"
   ]
  },
  {
   "cell_type": "markdown",
   "id": "aab8e2af-11bb-4238-857b-3d1a36caead0",
   "metadata": {},
   "source": [
    "#### Set `theme_gray()` as default theme. It's hard read plots without it."
   ]
  },
  {
   "cell_type": "code",
   "execution_count": null,
   "id": "d8c9764b-7387-45f9-89cd-c0bc0d8d3b62",
   "metadata": {},
   "outputs": [],
   "source": [
    "LetsPlot.set_theme(theme_grey())\n",
    "\n",
    "labels_df = {\n",
    "    'x': [0, 1, 2, 3, 4, 5, 6, 7, 8],\n",
    "    'y': [0, 45, 90, 135, 180, 225, 270, 315, 360],\n",
    "    'r_y': [360, 315, 270, 225, 180, 135, 90, 45, 0],\n",
    "    'l': ['0', '45', '90', '135', '180', '225', '270', '315', '360'],\n",
    "    'g': ['1', '1', '1', '2', '2', '2', '3', '3', '3']\n",
    "}\n"
   ]
  },
  {
   "cell_type": "markdown",
   "id": "8735e2a4-69fe-4743-a332-1e0fb2d288ea",
   "metadata": {},
   "source": [
    "##### Utils"
   ]
  },
  {
   "cell_type": "code",
   "execution_count": null,
   "id": "fd539de7-611a-4925-b51a-970748e8c318",
   "metadata": {},
   "outputs": [],
   "source": [
    "def dump_plot(plot, display=False):\n",
    "    import json\n",
    "\n",
    "    try:\n",
    "        import clipboard\n",
    "    except:\n",
    "        clipboard = None\n",
    "        \n",
    "    from lets_plot._type_utils import standardize_dict\n",
    "    \n",
    "    plot_dict = standardize_dict(plot.as_dict())\n",
    "    plot_json = json.dumps(plot_dict, indent=2)\n",
    "    \n",
    "    if clipboard:\n",
    "        clipboard.copy('')\n",
    "        clipboard.copy(str(plot_json))\n",
    "    else:\n",
    "        if display is None:\n",
    "            display = True\n",
    "\n",
    "    return plot"
   ]
  },
  {
   "cell_type": "markdown",
   "id": "8b35bd2d-7d0f-4043-96fd-14de12139218",
   "metadata": {},
   "source": [
    "## `geom_label()`\n",
    "Regular scatter plot. Note axis and breaks."
   ]
  },
  {
   "cell_type": "code",
   "execution_count": null,
   "id": "6e40d184-3eb6-47b6-aefc-e288c24daaba",
   "metadata": {},
   "outputs": [],
   "source": [
    "p = ggplot(labels_df, aes(x='x', y='y', label='l')) + geom_label()\n",
    "\n",
    "gggrid([\n",
    "    p, \n",
    "    p + coord_polar() + ggtitle('coord_polar()'),\n",
    "    p + coord_polar(theta='y') + ggtitle('theta=y'),\n",
    "])"
   ]
  },
  {
   "cell_type": "markdown",
   "id": "72d0487a-2109-4af5-aa8e-7909bc9983ae",
   "metadata": {},
   "source": [
    "## `geom_path()`\n",
    "The transform resamples path data by converting straight segments into curves. The `flat` parameter controls this behaviour."
   ]
  },
  {
   "cell_type": "code",
   "execution_count": null,
   "id": "96f14457-ba1d-4e9e-86bf-40b206b7c719",
   "metadata": {},
   "outputs": [],
   "source": [
    "p = ggplot(labels_df, aes(x='x', y='y', color='y')) + scale_color_brewer(palette='GnBu')\n",
    "\n",
    "gggrid([\n",
    "    p + geom_path(size=3) + coord_polar() + ggtitle('coord_polar()'),\n",
    "    p + geom_path(size=3, flat=True) + coord_polar(theta=\"x\") + ggtitle('coord_polar(), flat=True'),\n",
    "], ncol=2)"
   ]
  },
  {
   "cell_type": "markdown",
   "id": "7694446c-90e8-4486-86e0-2e954e641ae9",
   "metadata": {},
   "source": [
    "## `geom_rect()`\n",
    "### Stacked rects are transformed into a pie chart"
   ]
  },
  {
   "cell_type": "code",
   "execution_count": null,
   "id": "9bb6db8c-255c-45d8-81db-7ee7a4967a5e",
   "metadata": {},
   "outputs": [],
   "source": [
    "p = ggplot() \\\n",
    "    + geom_rect(xmin=0, xmax=5, ymin=0, ymax=7, fill='red', size=0) \\\n",
    "    + geom_rect(xmin=0, xmax=5, ymin=7, ymax=11, fill='blue', size=0) \\\n",
    "    + geom_rect(xmin=0, xmax=5, ymin=11, ymax=14, fill='green', size=0) \n",
    "\n",
    "gggrid([\n",
    "    p,\n",
    "    p + coord_polar() + ggtitle('coord_polar()'),\n",
    "    p + coord_polar(theta='y') + ggtitle('coord_polar(theta=y)'),\n",
    "]).show()\n",
    "\n",
    "gggrid([\n",
    "    p + coord_polar(theta='y', direction=-1) + ggtitle('coord_polar(theta=y, dir=-1)'),\n",
    "    p + coord_polar(theta='y', direction=-1, start=3.14/2) + ggtitle('coord_polar(theta=y, dir=-1, start=PI/2)'),\n",
    "]).show()\n",
    "\n"
   ]
  },
  {
   "cell_type": "markdown",
   "id": "b4bf289b-6dc1-480a-ac3a-74c67f7753ee",
   "metadata": {},
   "source": [
    "### Dodged rects are transformed into something interesting"
   ]
  },
  {
   "cell_type": "code",
   "execution_count": null,
   "id": "cb9b984e-2d44-4f69-81af-3a2ca041486a",
   "metadata": {},
   "outputs": [],
   "source": [
    "p = ggplot() \\\n",
    "    + geom_rect(xmin=0, xmax=1, ymin=0, ymax=7, fill='red', size=0) \\\n",
    "    + geom_rect(xmin=1, xmax=2, ymin=0, ymax=4, fill='blue', size=0) \\\n",
    "    + geom_rect(xmin=2, xmax=3, ymin=0, ymax=3, fill='green', size=0) \\\n",
    "\n",
    "gggrid([\n",
    "    p, \n",
    "    p + coord_polar(theta='y') + ggtitle('coord_polar(theta=y)'),\n",
    "    p + coord_polar(theta='x') + ggtitle('coord_polar(theta=x)'),\n",
    "])"
   ]
  },
  {
   "cell_type": "markdown",
   "id": "a3ef9622-e954-4e13-afc9-ec3f88ed0095",
   "metadata": {},
   "source": [
    "## `geom_bar()` \n",
    "This works similarly to rects, but with the addition of tooltips."
   ]
  },
  {
   "cell_type": "code",
   "execution_count": null,
   "id": "30186743-624a-46a7-ab08-fd1514d43338",
   "metadata": {},
   "outputs": [],
   "source": [
    "from lets_plot.mapping import as_discrete\n",
    "bar_df = { 'foo': [1, 1, 1, 1, 1, 1, 1, 2, 2, 2, 2, 3, 3, 3] }\n",
    "p = ggplot(bar_df) + geom_bar(aes(fill=as_discrete('foo', order=1)), size=0)\n",
    "\n",
    "gggrid([\n",
    "    p,\n",
    "    p + coord_polar(theta='y') + ggtitle('position=stack, coord_polar(theta=y)'),\n",
    "    p + coord_polar(theta='x') + ggtitle('position=stack, coord_polar(theta=x)'),\n",
    "])"
   ]
  },
  {
   "cell_type": "code",
   "execution_count": null,
   "id": "9b2ffa58-b0b6-43d7-84fb-609787bed197",
   "metadata": {},
   "outputs": [],
   "source": [
    "p = ggplot(bar_df) + geom_bar(aes(fill=as_discrete('foo', order=1)), size=0, position='dodge')\n",
    "\n",
    "gggrid([\n",
    "    p,\n",
    "    p + coord_polar(theta='y') + ggtitle('position=dodge, coord_polar(theta=y)'),\n",
    "    p + coord_polar(theta='x') + ggtitle('position=dodge, coord_polar(theta=x)'),\n",
    "])"
   ]
  },
  {
   "cell_type": "markdown",
   "id": "80d6bfb1-7c22-4f67-86b0-72950226006d",
   "metadata": {},
   "source": [
    "# Params"
   ]
  },
  {
   "cell_type": "code",
   "execution_count": null,
   "id": "dbb23e44-e337-4f53-8edf-f4fcbcab20c5",
   "metadata": {},
   "outputs": [],
   "source": [
    "p = ggplot(labels_df, aes(x='x', y='y', color='y')) + scale_color_brewer(palette='GnBu')\n",
    "\n",
    "gggrid([\n",
    "    p + geom_path(size=3, show_legend=False) + coord_polar() + ggtitle('coord_polar()'),\n",
    "    p + geom_path(size=3, show_legend=False) + coord_polar(direction=-1) + ggtitle('coord_polar(direction=-1)'),\n",
    "]).show()\n",
    "\n",
    "gggrid([\n",
    "    p + geom_path(size=3, show_legend=False) + coord_polar(start=-3.14 / 2) + ggtitle('start=-PI/2'),\n",
    "    p + geom_path(size=3, show_legend=False) + coord_polar(start=3.14 / 2) + ggtitle('start=PI/2'),\n",
    "    p + geom_path(size=3, show_legend=False) + coord_polar(start=3.14 / 2, direction=-1) + ggtitle('start=PI/2, dir=-1'),\n",
    "]).show()\n"
   ]
  },
  {
   "cell_type": "markdown",
   "id": "efaa790c-32f4-40db-ac68-c72a91e7bf30",
   "metadata": {},
   "source": [
    "# Overview"
   ]
  },
  {
   "cell_type": "code",
   "execution_count": null,
   "id": "77870c6d-6eea-4a59-9ba1-0a7020045f23",
   "metadata": {},
   "outputs": [],
   "source": [
    "p = ggplot(labels_df, aes(x='x', y='y', label='l')) + geom_label()\n",
    "\n",
    "p_rect_stack = ggplot() \\\n",
    "    + geom_rect(xmin=0, xmax=5, ymin=0, ymax=7, fill='red', size=0) \\\n",
    "    + geom_rect(xmin=0, xmax=5, ymin=7, ymax=11, fill='blue', size=0) \\\n",
    "    + geom_rect(xmin=0, xmax=5, ymin=11, ymax=14, fill='green', size=0) \\\n",
    "\n",
    "\n",
    "p_rect_dodge = ggplot() \\\n",
    "    + geom_rect(xmin=0, xmax=1, ymin=0, ymax=7, fill='red', size=0) \\\n",
    "    + geom_rect(xmin=1, xmax=2, ymin=0, ymax=4, fill='blue', size=0) \\\n",
    "    + geom_rect(xmin=2, xmax=3, ymin=0, ymax=3, fill='green', size=0) \\\n",
    "\n",
    "gggrid([\n",
    "    p_rect_dodge, \n",
    "    p_rect_dodge + coord_polar(theta='y') + ggtitle('coord_polar(theta=y)'),\n",
    "    p_rect_dodge + coord_polar(theta='x') + ggtitle('coord_polar(theta=x)'),\n",
    "])\n",
    "\n",
    "from lets_plot.mapping import as_discrete\n",
    "bar_df = { 'foo': [1, 1, 1, 1, 1, 1, 1, 2, 2, 2, 2, 3, 3, 3] }\n",
    "p_bar_stack = ggplot(bar_df) + geom_bar(aes(fill=as_discrete('foo', order=1)), size=0)\n",
    "p_bar_dodge = ggplot(bar_df) + geom_bar(aes(fill=as_discrete('foo', order=1)), size=0, position='dodge')\n",
    "\n",
    "gggrid([\n",
    "    p + coord_polar() + ggtitle('coord_polar()'),\n",
    "    p + coord_polar(theta='y') + ggtitle('theta=y'),\n",
    "    None,\n",
    "    p_rect_stack + coord_polar(theta='y') + ggtitle('coord_polar(theta=y)'),\n",
    "    p_rect_stack + coord_polar(theta='y', direction=-1) + ggtitle('coord_polar(theta=y, dir=-1)'),\n",
    "    p_rect_stack + coord_polar(theta='x') + ggtitle('coord_polar(theta=x)'),\n",
    "    p_rect_dodge, \n",
    "    p_rect_dodge + coord_polar(theta='y') + ggtitle('coord_polar(theta=y)'),\n",
    "    p_rect_dodge + coord_polar(theta='x') + ggtitle('coord_polar(theta=x)'),\n",
    "    p_bar_stack,\n",
    "    p_bar_stack + coord_polar(theta='y') + ggtitle('position=stack, coord_polar(theta=y)'),\n",
    "    p_bar_stack + coord_polar(theta='x') + ggtitle('position=stack, coord_polar(theta=x)'),\n",
    "    p_bar_dodge,\n",
    "    p_bar_dodge + coord_polar(theta='y') + ggtitle('position=dodge, coord_polar(theta=y)'),\n",
    "    p_bar_dodge + coord_polar(theta='x') + ggtitle('position=dodge, coord_polar(theta=x)'),\n",
    "], ncol=3)"
   ]
  },
  {
   "cell_type": "markdown",
   "id": "6dca2b38-1afc-4230-bc71-5d4dd90ea508",
   "metadata": {},
   "source": [
    "# Issues"
   ]
  },
  {
   "cell_type": "code",
   "execution_count": null,
   "id": "08d9b87e-825e-4258-a2ba-09f023f92ec9",
   "metadata": {},
   "outputs": [],
   "source": [
    "from lets_plot import *\n",
    "LetsPlot.setup_html()\n",
    "data = {\n",
    "    'x': [1, 2, 3, 4, 5, 6, 7],\n",
    "    'y': [2, 3, 5, 3, 1, 6, 4],\n",
    "}\n",
    "p = ggplot(data, aes('x', 'y')) + geom_lollipop()\n",
    "\n",
    "gggrid([\n",
    "    p,\n",
    "    p + coord_polar(),\n",
    "])"
   ]
  },
  {
   "cell_type": "markdown",
   "id": "6897eca4-57f6-43f8-9ad3-337092a809a3",
   "metadata": {},
   "source": [
    "# Regressions"
   ]
  },
  {
   "cell_type": "markdown",
   "id": "2d63f55b-5f91-4ef7-854c-9db6d38edd6e",
   "metadata": {},
   "source": [
    "Make sure that axis and grid alignment is still working in all cases:\n",
    "- coord_flip\n",
    "- title\n",
    "- top/bottom/left/right\n",
    "- marginal\n",
    "- facet"
   ]
  },
  {
   "cell_type": "code",
   "execution_count": null,
   "id": "2de05a0a-e958-49de-9fb7-993ea8c66cee",
   "metadata": {},
   "outputs": [],
   "source": [
    "p = ggplot(labels_df, aes(x='x', y='y', color='y')) + geom_path(size=3) + scale_color_brewer(palette='GnBu') + theme_light()\n",
    "default = p + ggtitle('Default')\n",
    "both = p + scale_x_continuous(position='both') + scale_y_continuous(position='both') + ggtitle('Both')\n",
    "flip = p + coord_flip() + ggtitle('coord_flip()')\n",
    "flip_both = p + scale_x_continuous(position='both') + scale_y_continuous(position='both') + coord_flip() + ggtitle('both + coord_flip()')\n",
    "facet = p + facet_grid(x='g') + ggtitle('Facet')\n",
    "facet_both = both + facet_grid(x='g') + ggtitle('Facet Both')\n",
    "facet_flip = flip + facet_grid(x='g') + ggtitle('Facet Flip')\n",
    "facet_flip_both = flip_both + facet_grid(x='g') + ggtitle('Facet Flip Both')\n",
    "\n",
    "g = gggrid([\n",
    "    default,\n",
    "    both,\n",
    "    flip,\n",
    "    flip_both,\n",
    "    facet, \n",
    "    facet_both,\n",
    "    facet_flip,\n",
    "    facet_flip_both\n",
    "], ncol=2)\n",
    "\n",
    "g"
   ]
  },
  {
   "cell_type": "markdown",
   "id": "41ca7827-4f2d-49fa-80c1-2663666c9345",
   "metadata": {},
   "source": [
    "# Sandbox"
   ]
  },
  {
   "cell_type": "code",
   "execution_count": null,
   "id": "ef0e7037-76f6-4cdf-9e4d-5832120fc512",
   "metadata": {},
   "outputs": [],
   "source": [
    "mpg = pd.read_csv('https://raw.githubusercontent.com/JetBrains/lets-plot-docs/master/data/mpg.csv')\n",
    "mpg"
   ]
  },
  {
   "cell_type": "code",
   "execution_count": null,
   "id": "6fa7473d-ff22-4f50-af2f-8ecf0c4f3352",
   "metadata": {},
   "outputs": [],
   "source": [
    "ggplot(mpg) + geom_bar(aes(x='model', y='cty', fill='cty'), stat='identity', position='dodge') + scale_fill_gradient(low='red', high='white', limits=(5,40)) + theme_void()"
   ]
  },
  {
   "cell_type": "code",
   "execution_count": null,
   "id": "9fa509f9-1b45-4add-aeb6-d58cf9264805",
   "metadata": {},
   "outputs": [],
   "source": [
    "_ + coord_polar()"
   ]
  },
  {
   "cell_type": "code",
   "execution_count": null,
   "id": "fce166c8-fc99-4a4b-a1a8-d9cd099e1359",
   "metadata": {},
   "outputs": [],
   "source": [
    "dump_plot(_)"
   ]
  },
  {
   "cell_type": "code",
   "execution_count": null,
   "id": "abffaf6c-cdbd-4e94-9736-f9ae43b9ba25",
   "metadata": {},
   "outputs": [],
   "source": [
    "labels_df = {\n",
    "    'x': [0, 1, 2, 3, 4, 5, 6, 7, 8],\n",
    "    'y': [0, 45, 90, 135, 180, 225, 270, 315, 360],\n",
    "    'r_y': [360, 315, 270, 225, 180, 135, 90, 45, 0],\n",
    "    'l': ['0', '45', '90', '135', '180', '225', '270', '315', '360'],\n",
    "    'g': ['1', '1', '1', '2', '2', '2', '3', '3', '3']\n",
    "}\n",
    "\n",
    "p = ggplot(labels_df, aes(x='x', y='y', label='l')) + geom_point(alpha=0.3, color='red') + geom_text()\n",
    "gggrid([\n",
    "    p + coord_polar(theta='x'),\n",
    "    p + coord_polar(theta='y'),\n",
    "])"
   ]
  },
  {
   "cell_type": "code",
   "execution_count": null,
   "id": "9f9da15a-f76b-4e6f-9bed-c94403bb9675",
   "metadata": {},
   "outputs": [],
   "source": [
    "dump_plot(_)"
   ]
  },
  {
   "cell_type": "markdown",
   "id": "f57e8ca7-d6bd-4303-bc91-8fe64dd0ba36",
   "metadata": {},
   "source": [
    "# Axis and ticks"
   ]
  },
  {
   "cell_type": "code",
   "execution_count": null,
   "id": "c74887bd-1162-473e-85d5-dd79d8019be7",
   "metadata": {},
   "outputs": [],
   "source": [
    "from IPython.display import SVG, Image, HTML"
   ]
  },
  {
   "cell_type": "code",
   "execution_count": null,
   "id": "be26a1d5-684d-47b1-a899-adb7bf70b39d",
   "metadata": {},
   "outputs": [],
   "source": [
    "p = ggplot() \\\n",
    "    + geom_rect(xmin=-5, xmax=0, ymin=0, ymax=5, fill='red', size=0) \\\n",
    "    + geom_rect(xmin=-5, xmax=0, ymin=5, ymax=7.5, fill='green', size=0) \\\n",
    "    + theme_grey()\n",
    "p"
   ]
  },
  {
   "cell_type": "code",
   "execution_count": null,
   "id": "66c6860c-8844-4531-b370-6930effc4be2",
   "metadata": {},
   "outputs": [],
   "source": [
    "p + coord_polar(theta = \"x\")"
   ]
  },
  {
   "cell_type": "markdown",
   "id": "22eb4865-8b8e-4b4d-a3de-03312e1295d4",
   "metadata": {},
   "source": [
    "Expected (ggplot2):"
   ]
  },
  {
   "cell_type": "code",
   "execution_count": null,
   "id": "9a9e9337-5f07-4a07-90bc-a50a32521ddb",
   "metadata": {},
   "outputs": [],
   "source": [
    "display(Image(\"lets-plot-images/coord_polar_ggplot_theta_x.png\"))"
   ]
  },
  {
   "cell_type": "code",
   "execution_count": null,
   "id": "d624e62e-d2bd-4e91-b996-5eea8abc667d",
   "metadata": {},
   "outputs": [],
   "source": [
    "p = ggplot() \\\n",
    "    + geom_rect(xmin=-5, xmax=0, ymin=0, ymax=5, fill='red', size=0, alpha=0.1) \\\n",
    "    + geom_rect(xmin=-5, xmax=0, ymin=5, ymax=7.5, fill='green', size=0, alpha=0.1) \\\n",
    "    + theme_grey()\n",
    "\n",
    "p \\\n",
    "    + coord_polar(theta = \"x\")"
   ]
  },
  {
   "cell_type": "markdown",
   "id": "dc08a41c-ee16-4d7d-ae10-e58791b75f8c",
   "metadata": {},
   "source": [
    "Expected (ggplot2):"
   ]
  },
  {
   "cell_type": "code",
   "execution_count": null,
   "id": "b8ea1343-dcfb-43bb-99f2-edeb904a7a2e",
   "metadata": {},
   "outputs": [],
   "source": [
    "display(Image(\"lets-plot-images/coord_polar_ggplot_theta_y.png\"))"
   ]
  },
  {
   "cell_type": "code",
   "execution_count": null,
   "id": "da00873b-7681-4eda-afba-b64f1b612c31",
   "metadata": {},
   "outputs": [],
   "source": [
    "p + coord_polar(theta = \"y\", direction=-1)"
   ]
  },
  {
   "cell_type": "markdown",
   "id": "a2e8baa9-4d41-4f06-8e31-b351c7cb6813",
   "metadata": {},
   "source": [
    "### Current status:\n",
    "\n",
    "theta='x'\n",
    "1. ~~Too many vertical ticks~~\n",
    "2. ~~Vertical ticks should be aligned to left~~\n",
    "3. Outer horizontal axis line should not be added\n",
    "4. ~~Horizontal axis rendered over ticks~~\n",
    "5. ~~Padding required for horizontal ticks to not overlap with vertical ticks~~\n",
    "6. ~~Wrong default direction and start. Should be `theta = \"x\", direction=-1, start=3.14`~~\n",
    "7. With `theta = \"x\", direction=-1, start=3.14` ticks go from center to bottom, but should from center to top.\n",
    "\n",
    "theta='y'\n",
    "1. No vertical ticks\n",
    "2. No padding for horintal ticks\n",
    "3. Outer horizontal axis line should not be added"
   ]
  },
  {
   "cell_type": "code",
   "execution_count": null,
   "id": "b5ad9839-0a18-4b7d-9e10-6f79698252b7",
   "metadata": {},
   "outputs": [],
   "source": []
  }
 ],
 "metadata": {
  "kernelspec": {
   "display_name": "Python 3 (ipykernel)",
   "language": "python",
   "name": "python3"
  },
  "language_info": {
   "codemirror_mode": {
    "name": "ipython",
    "version": 3
   },
   "file_extension": ".py",
   "mimetype": "text/x-python",
   "name": "python",
   "nbconvert_exporter": "python",
   "pygments_lexer": "ipython3",
   "version": "3.8.15"
  }
 },
 "nbformat": 4,
 "nbformat_minor": 5
}
