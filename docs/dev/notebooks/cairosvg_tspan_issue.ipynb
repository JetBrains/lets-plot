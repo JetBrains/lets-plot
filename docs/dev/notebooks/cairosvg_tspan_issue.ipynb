{
 "cells": [
  {
   "cell_type": "code",
   "execution_count": 1,
   "id": "bab28f5d",
   "metadata": {},
   "outputs": [],
   "source": [
    "import cairosvg\n",
    "from IPython.display import SVG, Image, HTML"
   ]
  },
  {
   "cell_type": "code",
   "execution_count": 2,
   "id": "0e63bd9e",
   "metadata": {},
   "outputs": [],
   "source": [
    "def show(text_content, text_attributes=\"\"):\n",
    "    svg = f\"\"\"\n",
    "        <svg width=\"500\" height=\"80\" xmlns=\"http://www.w3.org/2000/svg\">\n",
    "        <rect x=\"0\" y=\"0\" width=\"500\" height=\"80\" fill=\"lightgrey\"/>\n",
    "        <circle cx=\"250\" cy=\"40\" r=\"5\" fill=\"green\"/>\n",
    "        <text x=\"250\" y=\"40\" font-size=\"32px\" {text_attributes}>{text_content}</text>\n",
    "        </svg>\n",
    "    \"\"\".format()\n",
    "    \n",
    "    print(\"cairosvg.svg2png(...)\")\n",
    "    cairosvg.svg2png(svg, write_to='test.png')\n",
    "    display(Image(\"test.png\"))\n",
    "\n",
    "    print(\"IPython.display(SVG(...))\")\n",
    "    display(SVG(svg))"
   ]
  },
  {
   "cell_type": "code",
   "execution_count": 3,
   "id": "d2a0a5a5",
   "metadata": {},
   "outputs": [
    {
     "name": "stdout",
     "output_type": "stream",
     "text": [
      "cairosvg.svg2png(...)\n"
     ]
    },
    {
     "data": {
      "image/png": "[encoded data removed]",
      "text/plain": [
       "<IPython.core.display.Image object>"
      ]
     },
     "metadata": {},
     "output_type": "display_data"
    },
    {
     "name": "stdout",
     "output_type": "stream",
     "text": [
      "IPython.display(SVG(...))\n"
     ]
    },
    {
     "data": {
      "image/svg+xml": [
       "<svg xmlns=\"http://www.w3.org/2000/svg\" width=\"500\" height=\"80\">\n",
       "        <rect x=\"0\" y=\"0\" width=\"500\" height=\"80\" fill=\"lightgrey\"/>\n",
       "        <circle cx=\"250\" cy=\"40\" r=\"5\" fill=\"green\"/>\n",
       "        <text x=\"250\" y=\"40\" font-size=\"32px\" text-anchor=\"middle\"><tspan>1.000·</tspan><tspan>10</tspan><tspan dy=\"-0.6em\" font-size=\"0.6em\">-12</tspan></text>\n",
       "        </svg>"
      ],
      "text/plain": [
       "<IPython.core.display.SVG object>"
      ]
     },
     "metadata": {},
     "output_type": "display_data"
    }
   ],
   "source": [
    "show(\n",
    "    text_content = \"\"\"<tspan>1.000·</tspan><tspan>10</tspan><tspan dy=\"-0.6em\" font-size=\"0.6em\">-12</tspan>\"\"\", \n",
    "    text_attributes='text-anchor=\"middle\"'\n",
    ")"
   ]
  },
  {
   "cell_type": "markdown",
   "id": "612703d5-f4dc-46eb-8eae-08abcd489139",
   "metadata": {},
   "source": [
    "### Doesn't work even with tspans that don't have any style"
   ]
  },
  {
   "cell_type": "code",
   "execution_count": 4,
   "id": "c6239b6a-8f5f-42a6-b457-fc587fc0a14e",
   "metadata": {},
   "outputs": [
    {
     "name": "stdout",
     "output_type": "stream",
     "text": [
      "cairosvg.svg2png(...)\n"
     ]
    },
    {
     "data": {
      "image/png": "[encoded data removed]",
      "text/plain": [
       "<IPython.core.display.Image object>"
      ]
     },
     "metadata": {},
     "output_type": "display_data"
    },
    {
     "name": "stdout",
     "output_type": "stream",
     "text": [
      "IPython.display(SVG(...))\n"
     ]
    },
    {
     "data": {
      "image/svg+xml": [
       "<svg xmlns=\"http://www.w3.org/2000/svg\" width=\"500\" height=\"80\">\n",
       "        <rect x=\"0\" y=\"0\" width=\"500\" height=\"80\" fill=\"lightgrey\"/>\n",
       "        <circle cx=\"250\" cy=\"40\" r=\"5\" fill=\"green\"/>\n",
       "        <text x=\"250\" y=\"40\" font-size=\"32px\" text-anchor=\"middle\"><tspan>one</tspan><tspan>TWO</tspan><tspan>three</tspan></text>\n",
       "        </svg>"
      ],
      "text/plain": [
       "<IPython.core.display.SVG object>"
      ]
     },
     "metadata": {},
     "output_type": "display_data"
    }
   ],
   "source": [
    "show(\n",
    "    text_content = \"\"\"<tspan>one</tspan><tspan>TWO</tspan><tspan>three</tspan>\"\"\", \n",
    "    text_attributes='text-anchor=\"middle\"'\n",
    ")"
   ]
  },
  {
   "cell_type": "markdown",
   "id": "4c7c1eb6-ef2b-4151-af62-cac401ce932c",
   "metadata": {},
   "source": [
    "### For single tspan text-anchor works as expected"
   ]
  },
  {
   "cell_type": "code",
   "execution_count": 5,
   "id": "3dcdaf44",
   "metadata": {},
   "outputs": [
    {
     "name": "stdout",
     "output_type": "stream",
     "text": [
      "cairosvg.svg2png(...)\n"
     ]
    },
    {
     "data": {
      "image/png": "[encoded data removed]",
      "text/plain": [
       "<IPython.core.display.Image object>"
      ]
     },
     "metadata": {},
     "output_type": "display_data"
    },
    {
     "name": "stdout",
     "output_type": "stream",
     "text": [
      "IPython.display(SVG(...))\n"
     ]
    },
    {
     "data": {
      "image/svg+xml": [
       "<svg xmlns=\"http://www.w3.org/2000/svg\" width=\"500\" height=\"80\">\n",
       "        <rect x=\"0\" y=\"0\" width=\"500\" height=\"80\" fill=\"lightgrey\"/>\n",
       "        <circle cx=\"250\" cy=\"40\" r=\"5\" fill=\"green\"/>\n",
       "        <text x=\"250\" y=\"40\" font-size=\"32px\" text-anchor=\"middle\"><tspan>oneTWOthree</tspan></text>\n",
       "        </svg>"
      ],
      "text/plain": [
       "<IPython.core.display.SVG object>"
      ]
     },
     "metadata": {},
     "output_type": "display_data"
    }
   ],
   "source": [
    "show(\n",
    "    text_content=\"\"\"<tspan>oneTWOthree</tspan>\"\"\", \n",
    "    text_attributes='text-anchor=\"middle\"'\n",
    ")"
   ]
  }
 ],
 "metadata": {
  "kernelspec": {
   "display_name": "Python 3 (ipykernel)",
   "language": "python",
   "name": "python3"
  },
  "language_info": {
   "codemirror_mode": {
    "name": "ipython",
    "version": 3
   },
   "file_extension": ".py",
   "mimetype": "text/x-python",
   "name": "python",
   "nbconvert_exporter": "python",
   "pygments_lexer": "ipython3",
   "version": "3.8.15"
  }
 },
 "nbformat": 4,
 "nbformat_minor": 5
}
