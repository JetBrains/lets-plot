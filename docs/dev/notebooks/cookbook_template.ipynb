{
 "cells": [
  {
   "cell_type": "markdown",
   "id": "335a9933",
   "metadata": {},
   "source": [
    "*Notebook name: geom_point.ipynb*"
   ]
  },
  {
   "cell_type": "markdown",
   "id": "2ac0e74d",
   "metadata": {},
   "source": [
    "# Plotting points\n",
    "geom_point() allows to show markers with different on a scatter plot"
   ]
  },
  {
   "cell_type": "markdown",
   "id": "957a3809",
   "metadata": {},
   "source": [
    "### Table of contents:\n",
    "1. [Default presentation](#1.-Default-presentation.)\n",
    "2. [Options](#2.-Options)  \n",
    " 2.1 [Shape](#2.1.-Shape.)\n",
    "3. [Usage with GeoDataFrame](#3.-Usage-with-GeoDataFrame)"
   ]
  },
  {
   "cell_type": "markdown",
   "id": "b8877904",
   "metadata": {},
   "source": [
    "#### 1. Default presentation.\n",
    "\n",
    "Only required params are data and aesthetics *x* and *y*. Default presentation:"
   ]
  },
  {
   "cell_type": "markdown",
   "id": "8e816608",
   "metadata": {},
   "source": [
    "#### 2. Options"
   ]
  },
  {
   "cell_type": "markdown",
   "id": "9e01a07b",
   "metadata": {},
   "source": [
    "##### 2.1. Shape."
   ]
  },
  {
   "cell_type": "markdown",
   "id": "11909c79",
   "metadata": {},
   "source": [
    "#### 3. Usage with GeoDataFrame\n",
    "Can be used to draw markers using GeoDataFrame. Utilizes only POINT and MULTI_POINT, ignores other."
   ]
  }
 ],
 "metadata": {
  "kernelspec": {
   "display_name": "Python 3 (ipykernel)",
   "language": "python",
   "name": "python3"
  },
  "language_info": {
   "codemirror_mode": {
    "name": "ipython",
    "version": 3
   },
   "file_extension": ".py",
   "mimetype": "text/x-python",
   "name": "python",
   "nbconvert_exporter": "python",
   "pygments_lexer": "ipython3",
   "version": "3.8.13"
  }
 },
 "nbformat": 4,
 "nbformat_minor": 5
}
