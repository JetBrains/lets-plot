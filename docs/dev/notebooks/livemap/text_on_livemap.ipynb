{
 "cells": [
  {
   "cell_type": "code",
   "execution_count": null,
   "metadata": {},
   "outputs": [],
   "source": [
    "from lets_plot import *"
   ]
  },
  {
   "cell_type": "code",
   "execution_count": null,
   "metadata": {},
   "outputs": [],
   "source": [
    "LetsPlot.setup_html()"
   ]
  },
  {
   "cell_type": "code",
   "execution_count": null,
   "metadata": {},
   "outputs": [],
   "source": [
    "arrows = {\n",
    "    'lon': [0, 0, 0, 0, 0, 0], \n",
    "    'lat': [0, 0, 0, 0, 0, 0],\n",
    "    'arrow': [\"--    0 -->\", \"--   60 -->\", \"--  120 -->\", \"--  180 -->\", \"-- -60 -->\", \"-- -120 -->\"],\n",
    "    'angle': [0, 60, 120, 180, -60, -120],\n",
    "    }"
   ]
  },
  {
   "cell_type": "code",
   "execution_count": null,
   "metadata": {},
   "outputs": [],
   "source": [
    "ggplot(arrows) \\\n",
    "    + geom_livemap() \\\n",
    "    + geom_text(aes(label = 'arrow', x = 'lon', y = 'lat', angle='angle'), \\\n",
    "                size = 10, \\\n",
    "                hjust = \"left\", \\\n",
    "                vjust = \"center\", \\\n",
    "                family='monospace'\\\n",
    "               )\n"
   ]
  }
 ],
 "metadata": {
  "kernelspec": {
   "display_name": "Python 3 (ipykernel)",
   "language": "python",
   "name": "python3"
  },
  "language_info": {
   "codemirror_mode": {
    "name": "ipython",
    "version": 3
   },
   "file_extension": ".py",
   "mimetype": "text/x-python",
   "name": "python",
   "nbconvert_exporter": "python",
   "pygments_lexer": "ipython3",
   "version": "3.7.10"
  }
 },
 "nbformat": 4,
 "nbformat_minor": 2
}
