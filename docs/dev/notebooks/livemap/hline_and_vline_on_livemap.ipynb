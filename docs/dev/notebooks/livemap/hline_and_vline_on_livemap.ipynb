{
 "cells": [
  {
   "cell_type": "code",
   "execution_count": null,
   "metadata": {},
   "outputs": [],
   "source": [
    "from lets_plot import *"
   ]
  },
  {
   "cell_type": "code",
   "execution_count": null,
   "metadata": {},
   "outputs": [],
   "source": [
    "LetsPlot.setup_html()"
   ]
  },
  {
   "cell_type": "code",
   "execution_count": null,
   "metadata": {},
   "outputs": [],
   "source": [
    "lats = [55, 45, 35, 25]\n",
    "longs = [-110, -100, -90, -80]\n",
    "\n",
    "p = ggplot() + geom_livemap() \n",
    "p += geom_hline(aes(yintercept=lats), color='red', linetype=2, size=0.5, alpha=0.9)\n",
    "p += geom_vline(aes(xintercept=longs), color='dark_green', linetype=4, size=0.7, alpha=0.8)\n",
    "p"
   ]
  }
 ],
 "metadata": {
  "kernelspec": {
   "display_name": "Python 3 (ipykernel)",
   "language": "python",
   "name": "python3"
  },
  "language_info": {
   "codemirror_mode": {
    "name": "ipython",
    "version": 3
   },
   "file_extension": ".py",
   "mimetype": "text/x-python",
   "name": "python",
   "nbconvert_exporter": "python",
   "pygments_lexer": "ipython3",
   "version": "3.7.10"
  }
 },
 "nbformat": 4,
 "nbformat_minor": 1
}
