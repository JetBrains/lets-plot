{
 "cells": [
  {
   "cell_type": "code",
   "execution_count": null,
   "id": "sorted-music",
   "metadata": {},
   "outputs": [],
   "source": [
    "from lets_plot import *\n",
    "from lets_plot.geo_data import *\n",
    "\n",
    "LetsPlot.setup_html()"
   ]
  },
  {
   "cell_type": "code",
   "execution_count": null,
   "id": "enclosed-cambridge",
   "metadata": {},
   "outputs": [],
   "source": [
    "import lets_plot\n",
    "lets_plot.__version__"
   ]
  },
  {
   "cell_type": "code",
   "execution_count": null,
   "id": "dietary-worcester",
   "metadata": {},
   "outputs": [],
   "source": [
    "city = geocode_cities(\"Boston\")"
   ]
  },
  {
   "cell_type": "code",
   "execution_count": null,
   "id": "duplicate-senate",
   "metadata": {},
   "outputs": [],
   "source": [
    "city.get_centroids()"
   ]
  },
  {
   "cell_type": "code",
   "execution_count": null,
   "id": "intensive-karma",
   "metadata": {},
   "outputs": [],
   "source": [
    "ggplot() + geom_tile(x=-71.08845, y=42.31104, tooltips=layer_tooltips().line(\"Some info\"))"
   ]
  },
  {
   "cell_type": "code",
   "execution_count": null,
   "id": "greenhouse-cooling",
   "metadata": {},
   "outputs": [],
   "source": [
    "(ggplot() + \n",
    " geom_tile(x=-71.08845, y=42.31104, tooltips=layer_tooltips().line(\"Some info\")) + \n",
    " geom_map(map=geocode_states(\"Massachusetts\")))"
   ]
  },
  {
   "cell_type": "code",
   "execution_count": null,
   "id": "loose-hayes",
   "metadata": {},
   "outputs": [],
   "source": [
    "(ggplot() + \n",
    " geom_livemap() +\n",
    " geom_tile(x=-71.08845, y=42.31104, tooltips=layer_tooltips().line(\"Some info\")))"
   ]
  },
  {
   "cell_type": "markdown",
   "id": "wound-producer",
   "metadata": {},
   "source": [
    "### issue: tooltip is not shown."
   ]
  },
  {
   "cell_type": "code",
   "execution_count": null,
   "id": "artificial-northeast",
   "metadata": {},
   "outputs": [],
   "source": [
    "(ggplot() + \n",
    " geom_livemap() +\n",
    " geom_tile(x=-71.08845, y=42.31104, tooltips=layer_tooltips().line(\"Some info\")) + \n",
    " geom_map(map=geocode_states(\"Massachusetts\")))"
   ]
  },
  {
   "cell_type": "code",
   "execution_count": null,
   "id": "capital-mercy",
   "metadata": {},
   "outputs": [],
   "source": []
  }
 ],
 "metadata": {
  "kernelspec": {
   "display_name": "Python 3 (ipykernel)",
   "language": "python",
   "name": "python3"
  },
  "language_info": {
   "codemirror_mode": {
    "name": "ipython",
    "version": 3
   },
   "file_extension": ".py",
   "mimetype": "text/x-python",
   "name": "python",
   "nbconvert_exporter": "python",
   "pygments_lexer": "ipython3",
   "version": "3.7.10"
  }
 },
 "nbformat": 4,
 "nbformat_minor": 5
}
