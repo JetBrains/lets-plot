{
 "cells": [
  {
   "cell_type": "code",
   "execution_count": null,
   "metadata": {},
   "outputs": [],
   "source": [
    "import geopandas as gpd\n",
    "from lets_plot import *\n",
    "\n",
    "LetsPlot.setup_html()"
   ]
  },
  {
   "cell_type": "code",
   "execution_count": null,
   "metadata": {},
   "outputs": [],
   "source": [
    "cities = gpd.read_file(gpd.datasets.get_path('naturalearth_cities'))\n",
    "world = gpd.read_file(gpd.datasets.get_path('naturalearth_lowres'))"
   ]
  },
  {
   "cell_type": "code",
   "execution_count": null,
   "metadata": {},
   "outputs": [],
   "source": [
    "south_am = world[world.continent == 'South America']\n",
    "south_am_bounds = south_am.geometry.total_bounds\n",
    "\n",
    "from shapely.geometry import box\n",
    "south_am_box = box(*south_am_bounds).buffer(4)\n",
    "\n",
    "south_am_limits = coord_map(xlim=south_am_box.bounds[0::2], ylim=south_am_box.bounds[1::2])\n"
   ]
  },
  {
   "cell_type": "code",
   "execution_count": null,
   "metadata": {},
   "outputs": [],
   "source": [
    "# Define the color of the tooltip\n",
    "(ggplot()\n",
    " + geom_map(map=south_am, fill=\"#e5f5e0\")\n",
    " + geom_point(data=cities, color='red', size=3, tooltips=layer_tooltips().line(\"@name\").color(\"black\"))\n",
    " + geom_text(aes(label='name'), data=cities, vjust=1, position=position_nudge(y=-.2))\n",
    " + geom_rect(map=gpd.GeoDataFrame({'geometry' : [south_am_box]}), alpha=0, color=\"#EFC623\", size=16)\n",
    " + south_am_limits\n",
    " + ggsize(450, 691)\n",
    " + theme(axis_line='blank', axis_text='blank', axis_ticks='blank', axis_title='blank')\n",
    ") "
   ]
  }
 ],
 "metadata": {
  "kernelspec": {
   "display_name": "Python 3 (ipykernel)",
   "language": "python",
   "name": "python3"
  },
  "language_info": {
   "codemirror_mode": {
    "name": "ipython",
    "version": 3
   },
   "file_extension": ".py",
   "mimetype": "text/x-python",
   "name": "python",
   "nbconvert_exporter": "python",
   "pygments_lexer": "ipython3",
   "version": "3.7.10"
  }
 },
 "nbformat": 4,
 "nbformat_minor": 4
}
