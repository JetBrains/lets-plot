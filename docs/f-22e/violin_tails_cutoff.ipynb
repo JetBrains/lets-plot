{
 "cells": [
  {
   "cell_type": "code",
   "execution_count": null,
   "id": "401e7c71",
   "metadata": {},
   "outputs": [],
   "source": [
    "import pandas as pd\n",
    "\n",
    "from lets_plot import *\n",
    "LetsPlot.setup_html()"
   ]
  },
  {
   "cell_type": "code",
   "execution_count": null,
   "id": "bb8e3393",
   "metadata": {},
   "outputs": [],
   "source": [
    "iris_df = pd.read_csv(\"https://raw.githubusercontent.com/JetBrains/lets-plot-docs/master/data/iris.csv\")\n",
    "print(iris_df.shape)\n",
    "iris_df.head()"
   ]
  },
  {
   "cell_type": "code",
   "execution_count": null,
   "id": "acf0abe5",
   "metadata": {},
   "outputs": [],
   "source": [
    "width, height = 400, 300\n",
    "bunch = GGBunch()\n",
    "bunch.add_plot(ggplot(iris_df, aes(\"species\", \"sepal_length\")) + \\\n",
    "    geom_violin(trim=True) + \\\n",
    "    ggtitle(\"trim=True (default)\"),\n",
    "    0, 0, width, height)\n",
    "bunch.add_plot(ggplot(iris_df, aes(\"species\", \"sepal_length\")) + \\\n",
    "    geom_violin(trim=False, tails_cutoff=1) + \\\n",
    "    ggtitle(\"trim=False, tails_cutoff=1\"),\n",
    "    width, 0, width, height)\n",
    "bunch.add_plot(ggplot(iris_df, aes(\"species\", \"sepal_length\")) + \\\n",
    "    geom_violin(trim=False, tails_cutoff=2) + \\\n",
    "    ggtitle(\"trim=False, tails_cutoff=2\"),\n",
    "    0, height, width, height)\n",
    "bunch.add_plot(ggplot(iris_df, aes(\"species\", \"sepal_length\")) + \\\n",
    "    geom_violin(trim=False, tails_cutoff=3) + \\\n",
    "    ggtitle(\"trim=False, tails_cutoff=3 (default)\"),\n",
    "    width, height, width, height)\n",
    "bunch.show()"
   ]
  }
 ],
 "metadata": {
  "kernelspec": {
   "display_name": "Python 3 (ipykernel)",
   "language": "python",
   "name": "python3"
  },
  "language_info": {
   "codemirror_mode": {
    "name": "ipython",
    "version": 3
   },
   "file_extension": ".py",
   "mimetype": "text/x-python",
   "name": "python",
   "nbconvert_exporter": "python",
   "pygments_lexer": "ipython3",
   "version": "3.8.13"
  }
 },
 "nbformat": 4,
 "nbformat_minor": 5
}
